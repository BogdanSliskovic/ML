{
 "cells": [
  {
   "cell_type": "code",
   "execution_count": 35,
   "id": "389a2c00-fa75-4b05-b117-3f7549d75c55",
   "metadata": {},
   "outputs": [],
   "source": [
    "import polars as pl\n",
    "import os\n",
    "import tensorflow as tf\n",
    "from tensorflow import keras\n",
    "from tensorflow.keras import layers\n",
    "from tensorflow.keras import layers, models, regularizers\n",
    "from tensorflow.keras.callbacks import EarlyStopping\n",
    "from sklearn.preprocessing import StandardScaler\n",
    "import numpy as np\n",
    "np.set_printoptions(suppress=True)\n",
    "import joblib\n",
    "import pandas"
   ]
  },
  {
   "cell_type": "markdown",
   "id": "bee46639-ec5d-4f04-a0da-2f32b33f8f24",
   "metadata": {},
   "source": [
    "files = {}\n",
    "for i in os.listdir('ml-32m'):\n",
    "    file_name, ekst = i.split('.')\n",
    "    if ekst == 'csv':\n",
    "        df = pl.read_csv(f'ml-32m\\\\{i}')\n",
    "        globals()[file_name] = df\n",
    "        files[file_name] = df\n",
    "        print(file_name, df.columns, sep = '\\n')\n",
    "        "
   ]
  },
  {
   "cell_type": "code",
   "execution_count": 38,
   "id": "983d37aa-c3e5-4ebb-b0f8-bee371b911d1",
   "metadata": {},
   "outputs": [],
   "source": [
    "ratings = pl.read_csv('ml-32m/ratings.csv')\n",
    "movies = pl.read_csv('ml-32m/movies.csv')"
   ]
  },
  {
   "cell_type": "code",
   "execution_count": 41,
   "id": "b4dd24e2-aa93-46a0-b89a-4193633098d3",
   "metadata": {},
   "outputs": [
    {
     "data": {
      "text/html": [
       "<div><style>\n",
       ".dataframe > thead > tr,\n",
       ".dataframe > tbody > tr {\n",
       "  text-align: right;\n",
       "  white-space: pre-wrap;\n",
       "}\n",
       "</style>\n",
       "<small>shape: (32_000_204, 3)</small><table border=\"1\" class=\"dataframe\"><thead><tr><th>userId</th><th>movieId</th><th>rating</th></tr><tr><td>i64</td><td>i64</td><td>f64</td></tr></thead><tbody><tr><td>1</td><td>17</td><td>4.0</td></tr><tr><td>1</td><td>25</td><td>1.0</td></tr><tr><td>1</td><td>29</td><td>2.0</td></tr><tr><td>1</td><td>30</td><td>5.0</td></tr><tr><td>1</td><td>32</td><td>5.0</td></tr><tr><td>&hellip;</td><td>&hellip;</td><td>&hellip;</td></tr><tr><td>200948</td><td>79702</td><td>4.5</td></tr><tr><td>200948</td><td>79796</td><td>1.0</td></tr><tr><td>200948</td><td>80350</td><td>0.5</td></tr><tr><td>200948</td><td>80463</td><td>3.5</td></tr><tr><td>200948</td><td>87304</td><td>4.5</td></tr></tbody></table></div>"
      ],
      "text/plain": [
       "shape: (32_000_204, 3)\n",
       "┌────────┬─────────┬────────┐\n",
       "│ userId ┆ movieId ┆ rating │\n",
       "│ ---    ┆ ---     ┆ ---    │\n",
       "│ i64    ┆ i64     ┆ f64    │\n",
       "╞════════╪═════════╪════════╡\n",
       "│ 1      ┆ 17      ┆ 4.0    │\n",
       "│ 1      ┆ 25      ┆ 1.0    │\n",
       "│ 1      ┆ 29      ┆ 2.0    │\n",
       "│ 1      ┆ 30      ┆ 5.0    │\n",
       "│ 1      ┆ 32      ┆ 5.0    │\n",
       "│ …      ┆ …       ┆ …      │\n",
       "│ 200948 ┆ 79702   ┆ 4.5    │\n",
       "│ 200948 ┆ 79796   ┆ 1.0    │\n",
       "│ 200948 ┆ 80350   ┆ 0.5    │\n",
       "│ 200948 ┆ 80463   ┆ 3.5    │\n",
       "│ 200948 ┆ 87304   ┆ 4.5    │\n",
       "└────────┴─────────┴────────┘"
      ]
     },
     "execution_count": 41,
     "metadata": {},
     "output_type": "execute_result"
    }
   ],
   "source": [
    "ratings"
   ]
  },
  {
   "cell_type": "code",
   "execution_count": 33,
   "id": "386eb15d-35fe-43cb-a17d-8e2f29568a9d",
   "metadata": {},
   "outputs": [
    {
     "data": {
      "text/html": [
       "<div>\n",
       "<style scoped>\n",
       "    .dataframe tbody tr th:only-of-type {\n",
       "        vertical-align: middle;\n",
       "    }\n",
       "\n",
       "    .dataframe tbody tr th {\n",
       "        vertical-align: top;\n",
       "    }\n",
       "\n",
       "    .dataframe thead th {\n",
       "        text-align: right;\n",
       "    }\n",
       "</style>\n",
       "<table border=\"1\" class=\"dataframe\">\n",
       "  <thead>\n",
       "    <tr style=\"text-align: right;\">\n",
       "      <th></th>\n",
       "      <th>userId</th>\n",
       "      <th>movieId</th>\n",
       "      <th>rating</th>\n",
       "    </tr>\n",
       "  </thead>\n",
       "  <tbody>\n",
       "    <tr>\n",
       "      <th>0</th>\n",
       "      <td>1</td>\n",
       "      <td>17</td>\n",
       "      <td>4.0</td>\n",
       "    </tr>\n",
       "    <tr>\n",
       "      <th>1</th>\n",
       "      <td>1</td>\n",
       "      <td>25</td>\n",
       "      <td>1.0</td>\n",
       "    </tr>\n",
       "    <tr>\n",
       "      <th>2</th>\n",
       "      <td>1</td>\n",
       "      <td>29</td>\n",
       "      <td>2.0</td>\n",
       "    </tr>\n",
       "    <tr>\n",
       "      <th>3</th>\n",
       "      <td>1</td>\n",
       "      <td>30</td>\n",
       "      <td>5.0</td>\n",
       "    </tr>\n",
       "    <tr>\n",
       "      <th>4</th>\n",
       "      <td>1</td>\n",
       "      <td>32</td>\n",
       "      <td>5.0</td>\n",
       "    </tr>\n",
       "    <tr>\n",
       "      <th>...</th>\n",
       "      <td>...</td>\n",
       "      <td>...</td>\n",
       "      <td>...</td>\n",
       "    </tr>\n",
       "    <tr>\n",
       "      <th>32000199</th>\n",
       "      <td>200948</td>\n",
       "      <td>79702</td>\n",
       "      <td>4.5</td>\n",
       "    </tr>\n",
       "    <tr>\n",
       "      <th>32000200</th>\n",
       "      <td>200948</td>\n",
       "      <td>79796</td>\n",
       "      <td>1.0</td>\n",
       "    </tr>\n",
       "    <tr>\n",
       "      <th>32000201</th>\n",
       "      <td>200948</td>\n",
       "      <td>80350</td>\n",
       "      <td>0.5</td>\n",
       "    </tr>\n",
       "    <tr>\n",
       "      <th>32000202</th>\n",
       "      <td>200948</td>\n",
       "      <td>80463</td>\n",
       "      <td>3.5</td>\n",
       "    </tr>\n",
       "    <tr>\n",
       "      <th>32000203</th>\n",
       "      <td>200948</td>\n",
       "      <td>87304</td>\n",
       "      <td>4.5</td>\n",
       "    </tr>\n",
       "  </tbody>\n",
       "</table>\n",
       "<p>32000204 rows × 3 columns</p>\n",
       "</div>"
      ],
      "text/plain": [
       "          userId  movieId  rating\n",
       "0              1       17     4.0\n",
       "1              1       25     1.0\n",
       "2              1       29     2.0\n",
       "3              1       30     5.0\n",
       "4              1       32     5.0\n",
       "...          ...      ...     ...\n",
       "32000199  200948    79702     4.5\n",
       "32000200  200948    79796     1.0\n",
       "32000201  200948    80350     0.5\n",
       "32000202  200948    80463     3.5\n",
       "32000203  200948    87304     4.5\n",
       "\n",
       "[32000204 rows x 3 columns]"
      ]
     },
     "execution_count": 33,
     "metadata": {},
     "output_type": "execute_result"
    }
   ],
   "source": [
    "ratings"
   ]
  },
  {
   "cell_type": "code",
   "execution_count": 6,
   "id": "5aea5ea1-d46f-4d5a-9f8a-f30dc04b068a",
   "metadata": {},
   "outputs": [],
   "source": [
    "ratings = ratings.lazy()\n",
    "movies = movies.lazy()"
   ]
  },
  {
   "cell_type": "markdown",
   "id": "409292a7-2aa9-481c-ae36-85fb501eba11",
   "metadata": {},
   "source": [
    "### IZDVAJAM SAMO FILMOVE KOJI IMAJU VISE OD 30 OCENA"
   ]
  },
  {
   "cell_type": "code",
   "execution_count": 23,
   "id": "3ca7d22f-e0f9-4285-a2a9-9922d0f3289f",
   "metadata": {},
   "outputs": [],
   "source": [
    "movies_for_sample = ratings.group_by('movieId').agg(pl.len().alias('#ratings_film')).filter(pl.col('#ratings_film') > 40)"
   ]
  },
  {
   "cell_type": "markdown",
   "id": "6e34e426-44f6-4049-8152-3fb66af0b2cc",
   "metadata": {},
   "source": [
    "### 10 FILMOVA SA NAJVISE OCENA "
   ]
  },
  {
   "cell_type": "code",
   "execution_count": 26,
   "id": "56766752-189a-4e30-a7d7-ddf8234bd81a",
   "metadata": {},
   "outputs": [
    {
     "data": {
      "text/html": [
       "<div><style>\n",
       ".dataframe > thead > tr,\n",
       ".dataframe > tbody > tr {\n",
       "  text-align: right;\n",
       "  white-space: pre-wrap;\n",
       "}\n",
       "</style>\n",
       "<small>shape: (10, 4)</small><table border=\"1\" class=\"dataframe\"><thead><tr><th>movieId</th><th>#ratings_film</th><th>title</th><th>genres</th></tr><tr><td>i64</td><td>u32</td><td>str</td><td>str</td></tr></thead><tbody><tr><td>318</td><td>102929</td><td>&quot;Shawshank Redemption, The (199…</td><td>&quot;Crime|Drama&quot;</td></tr><tr><td>356</td><td>100296</td><td>&quot;Forrest Gump (1994)&quot;</td><td>&quot;Comedy|Drama|Romance|War&quot;</td></tr><tr><td>296</td><td>98409</td><td>&quot;Pulp Fiction (1994)&quot;</td><td>&quot;Comedy|Crime|Drama|Thriller&quot;</td></tr><tr><td>2571</td><td>93808</td><td>&quot;Matrix, The (1999)&quot;</td><td>&quot;Action|Sci-Fi|Thriller&quot;</td></tr><tr><td>593</td><td>90330</td><td>&quot;Silence of the Lambs, The (199…</td><td>&quot;Crime|Horror|Thriller&quot;</td></tr><tr><td>260</td><td>85010</td><td>&quot;Star Wars: Episode IV - A New …</td><td>&quot;Action|Adventure|Sci-Fi&quot;</td></tr><tr><td>2959</td><td>77332</td><td>&quot;Fight Club (1999)&quot;</td><td>&quot;Action|Crime|Drama|Thriller&quot;</td></tr><tr><td>480</td><td>75233</td><td>&quot;Jurassic Park (1993)&quot;</td><td>&quot;Action|Adventure|Sci-Fi|Thrill…</td></tr><tr><td>527</td><td>73849</td><td>&quot;Schindler&#x27;s List (1993)&quot;</td><td>&quot;Drama|War&quot;</td></tr><tr><td>4993</td><td>73122</td><td>&quot;Lord of the Rings: The Fellows…</td><td>&quot;Adventure|Fantasy&quot;</td></tr></tbody></table></div>"
      ],
      "text/plain": [
       "shape: (10, 4)\n",
       "┌─────────┬───────────────┬─────────────────────────────────┬─────────────────────────────────┐\n",
       "│ movieId ┆ #ratings_film ┆ title                           ┆ genres                          │\n",
       "│ ---     ┆ ---           ┆ ---                             ┆ ---                             │\n",
       "│ i64     ┆ u32           ┆ str                             ┆ str                             │\n",
       "╞═════════╪═══════════════╪═════════════════════════════════╪═════════════════════════════════╡\n",
       "│ 318     ┆ 102929        ┆ Shawshank Redemption, The (199… ┆ Crime|Drama                     │\n",
       "│ 356     ┆ 100296        ┆ Forrest Gump (1994)             ┆ Comedy|Drama|Romance|War        │\n",
       "│ 296     ┆ 98409         ┆ Pulp Fiction (1994)             ┆ Comedy|Crime|Drama|Thriller     │\n",
       "│ 2571    ┆ 93808         ┆ Matrix, The (1999)              ┆ Action|Sci-Fi|Thriller          │\n",
       "│ 593     ┆ 90330         ┆ Silence of the Lambs, The (199… ┆ Crime|Horror|Thriller           │\n",
       "│ 260     ┆ 85010         ┆ Star Wars: Episode IV - A New … ┆ Action|Adventure|Sci-Fi         │\n",
       "│ 2959    ┆ 77332         ┆ Fight Club (1999)               ┆ Action|Crime|Drama|Thriller     │\n",
       "│ 480     ┆ 75233         ┆ Jurassic Park (1993)            ┆ Action|Adventure|Sci-Fi|Thrill… │\n",
       "│ 527     ┆ 73849         ┆ Schindler's List (1993)         ┆ Drama|War                       │\n",
       "│ 4993    ┆ 73122         ┆ Lord of the Rings: The Fellows… ┆ Adventure|Fantasy               │\n",
       "└─────────┴───────────────┴─────────────────────────────────┴─────────────────────────────────┘"
      ]
     },
     "execution_count": 26,
     "metadata": {},
     "output_type": "execute_result"
    }
   ],
   "source": [
    "movies_for_sample.join(movies, on = 'movieId', how = 'inner').sort('#ratings_film', descending= True).collect()[:10]"
   ]
  },
  {
   "cell_type": "code",
   "execution_count": 28,
   "id": "b5943b15-3adb-41f0-a8a5-d4a3b64d527f",
   "metadata": {},
   "outputs": [],
   "source": [
    "user = ratings.join(movies_for_sample, on = 'movieId', how = 'inner').sort(['movieId', 'userId'])"
   ]
  },
  {
   "cell_type": "markdown",
   "id": "8bc82ebc-c661-42e7-bcad-8fd9faeed197",
   "metadata": {},
   "source": [
    "### AKO SE NE SORTIRA SEED NE RADI!"
   ]
  },
  {
   "cell_type": "code",
   "execution_count": 36,
   "id": "2a2f7f60-1707-4ac8-9d83-17cc4f5012bb",
   "metadata": {},
   "outputs": [],
   "source": [
    "user_train = user.group_by('movieId').map_groups(lambda film: film.sample(40, seed = 42), schema = {'userId': pl.Int64,\n",
    "                                                                                                 'movieId': pl.Int64,\n",
    "                                                                                                 'rating': pl.Float64})"
   ]
  },
  {
   "cell_type": "code",
   "execution_count": 38,
   "id": "8caedf89-2a91-4de4-9b6f-e88d849dc016",
   "metadata": {},
   "outputs": [],
   "source": [
    "user_not_train = user.join(user_train.select(['userId', 'movieId']), on=['userId', 'movieId'], how='anti')"
   ]
  },
  {
   "cell_type": "markdown",
   "id": "cb518f34-d953-4978-9125-e4a584244d62",
   "metadata": {},
   "source": [
    "###  `user_not_train` ima 30 miliona redova, njega cu ostaviti u `.lazy`, a user_train vise nema potrebe da bude lazy"
   ]
  },
  {
   "cell_type": "code",
   "execution_count": 41,
   "id": "309aa8c1-526f-453e-a0b3-381937eea573",
   "metadata": {},
   "outputs": [
    {
     "name": "stdout",
     "output_type": "stream",
     "text": [
      "CPU times: total: 39.4 s\n",
      "Wall time: 11.6 s\n"
     ]
    }
   ],
   "source": [
    "%%time\n",
    "user_train = user_train.collect(engine= 'streaming')"
   ]
  },
  {
   "cell_type": "code",
   "execution_count": 43,
   "id": "4c8cb455-2109-4710-8c6c-55c460fe5946",
   "metadata": {},
   "outputs": [
    {
     "data": {
      "text/html": [
       "<div><style>\n",
       ".dataframe > thead > tr,\n",
       ".dataframe > tbody > tr {\n",
       "  text-align: right;\n",
       "  white-space: pre-wrap;\n",
       "}\n",
       "</style>\n",
       "<small>shape: (694_000, 4)</small><table border=\"1\" class=\"dataframe\"><thead><tr><th>userId</th><th>movieId</th><th>rating</th><th>#ratings_film</th></tr><tr><td>i64</td><td>i64</td><td>f64</td><td>u32</td></tr></thead><tbody><tr><td>31854</td><td>1</td><td>3.5</td><td>68997</td></tr><tr><td>61093</td><td>1</td><td>4.0</td><td>68997</td></tr><tr><td>59420</td><td>1</td><td>3.5</td><td>68997</td></tr><tr><td>146238</td><td>1</td><td>4.0</td><td>68997</td></tr><tr><td>63860</td><td>1</td><td>5.0</td><td>68997</td></tr><tr><td>&hellip;</td><td>&hellip;</td><td>&hellip;</td><td>&hellip;</td></tr><tr><td>134909</td><td>290573</td><td>2.0</td><td>46</td></tr><tr><td>175333</td><td>290573</td><td>4.0</td><td>46</td></tr><tr><td>165364</td><td>290573</td><td>5.0</td><td>46</td></tr><tr><td>85714</td><td>290573</td><td>3.5</td><td>46</td></tr><tr><td>171229</td><td>290573</td><td>2.5</td><td>46</td></tr></tbody></table></div>"
      ],
      "text/plain": [
       "shape: (694_000, 4)\n",
       "┌────────┬─────────┬────────┬───────────────┐\n",
       "│ userId ┆ movieId ┆ rating ┆ #ratings_film │\n",
       "│ ---    ┆ ---     ┆ ---    ┆ ---           │\n",
       "│ i64    ┆ i64     ┆ f64    ┆ u32           │\n",
       "╞════════╪═════════╪════════╪═══════════════╡\n",
       "│ 31854  ┆ 1       ┆ 3.5    ┆ 68997         │\n",
       "│ 61093  ┆ 1       ┆ 4.0    ┆ 68997         │\n",
       "│ 59420  ┆ 1       ┆ 3.5    ┆ 68997         │\n",
       "│ 146238 ┆ 1       ┆ 4.0    ┆ 68997         │\n",
       "│ 63860  ┆ 1       ┆ 5.0    ┆ 68997         │\n",
       "│ …      ┆ …       ┆ …      ┆ …             │\n",
       "│ 134909 ┆ 290573  ┆ 2.0    ┆ 46            │\n",
       "│ 175333 ┆ 290573  ┆ 4.0    ┆ 46            │\n",
       "│ 165364 ┆ 290573  ┆ 5.0    ┆ 46            │\n",
       "│ 85714  ┆ 290573  ┆ 3.5    ┆ 46            │\n",
       "│ 171229 ┆ 290573  ┆ 2.5    ┆ 46            │\n",
       "└────────┴─────────┴────────┴───────────────┘"
      ]
     },
     "execution_count": 43,
     "metadata": {},
     "output_type": "execute_result"
    }
   ],
   "source": [
    "user_train"
   ]
  },
  {
   "cell_type": "code",
   "execution_count": 45,
   "id": "5f7a12e1-0582-439f-ba97-1a5ef5662e9e",
   "metadata": {},
   "outputs": [
    {
     "data": {
      "text/html": [
       "<div><style>\n",
       ".dataframe > thead > tr,\n",
       ".dataframe > tbody > tr {\n",
       "  text-align: right;\n",
       "  white-space: pre-wrap;\n",
       "}\n",
       "</style>\n",
       "<small>shape: (92_503,)</small><table border=\"1\" class=\"dataframe\"><thead><tr><th>userId</th></tr><tr><td>i64</td></tr></thead><tbody><tr><td>1</td></tr><tr><td>10</td></tr><tr><td>14</td></tr><tr><td>16</td></tr><tr><td>18</td></tr><tr><td>&hellip;</td></tr><tr><td>200933</td></tr><tr><td>200936</td></tr><tr><td>200940</td></tr><tr><td>200943</td></tr><tr><td>200948</td></tr></tbody></table></div>"
      ],
      "text/plain": [
       "shape: (92_503,)\n",
       "Series: 'userId' [i64]\n",
       "[\n",
       "\t1\n",
       "\t10\n",
       "\t14\n",
       "\t16\n",
       "\t18\n",
       "\t…\n",
       "\t200933\n",
       "\t200936\n",
       "\t200940\n",
       "\t200943\n",
       "\t200948\n",
       "]"
      ]
     },
     "execution_count": 45,
     "metadata": {},
     "output_type": "execute_result"
    }
   ],
   "source": [
    "user_train['userId'].unique()"
   ]
  },
  {
   "cell_type": "code",
   "execution_count": 47,
   "id": "c3695ee2-c8ad-412a-aa78-db88721eeb25",
   "metadata": {},
   "outputs": [],
   "source": [
    "movies = movies.collect()"
   ]
  },
  {
   "cell_type": "code",
   "execution_count": 49,
   "id": "9aff8b3d-c1e5-4c5b-8207-205a56d09ce2",
   "metadata": {},
   "outputs": [],
   "source": [
    "movies = movies.with_columns(pl.col(\"genres\").str.split(\"|\"))"
   ]
  },
  {
   "cell_type": "code",
   "execution_count": 51,
   "id": "65732d54-5088-4b98-988d-e441d49fa685",
   "metadata": {},
   "outputs": [
    {
     "data": {
      "text/html": [
       "<div><style>\n",
       ".dataframe > thead > tr,\n",
       ".dataframe > tbody > tr {\n",
       "  text-align: right;\n",
       "  white-space: pre-wrap;\n",
       "}\n",
       "</style>\n",
       "<small>shape: (87_585, 3)</small><table border=\"1\" class=\"dataframe\"><thead><tr><th>movieId</th><th>title</th><th>genres</th></tr><tr><td>i64</td><td>str</td><td>list[str]</td></tr></thead><tbody><tr><td>1</td><td>&quot;Toy Story (1995)&quot;</td><td>[&quot;Adventure&quot;, &quot;Animation&quot;, … &quot;Fantasy&quot;]</td></tr><tr><td>2</td><td>&quot;Jumanji (1995)&quot;</td><td>[&quot;Adventure&quot;, &quot;Children&quot;, &quot;Fantasy&quot;]</td></tr><tr><td>3</td><td>&quot;Grumpier Old Men (1995)&quot;</td><td>[&quot;Comedy&quot;, &quot;Romance&quot;]</td></tr><tr><td>4</td><td>&quot;Waiting to Exhale (1995)&quot;</td><td>[&quot;Comedy&quot;, &quot;Drama&quot;, &quot;Romance&quot;]</td></tr><tr><td>5</td><td>&quot;Father of the Bride Part II (1…</td><td>[&quot;Comedy&quot;]</td></tr><tr><td>&hellip;</td><td>&hellip;</td><td>&hellip;</td></tr><tr><td>292731</td><td>&quot;The Monroy Affaire (2022)&quot;</td><td>[&quot;Drama&quot;]</td></tr><tr><td>292737</td><td>&quot;Shelter in Solitude (2023)&quot;</td><td>[&quot;Comedy&quot;, &quot;Drama&quot;]</td></tr><tr><td>292753</td><td>&quot;Orca (2023)&quot;</td><td>[&quot;Drama&quot;]</td></tr><tr><td>292755</td><td>&quot;The Angry Breed (1968)&quot;</td><td>[&quot;Drama&quot;]</td></tr><tr><td>292757</td><td>&quot;Race to the Summit (2023)&quot;</td><td>[&quot;Action&quot;, &quot;Adventure&quot;, &quot;Documentary&quot;]</td></tr></tbody></table></div>"
      ],
      "text/plain": [
       "shape: (87_585, 3)\n",
       "┌─────────┬─────────────────────────────────┬─────────────────────────────────┐\n",
       "│ movieId ┆ title                           ┆ genres                          │\n",
       "│ ---     ┆ ---                             ┆ ---                             │\n",
       "│ i64     ┆ str                             ┆ list[str]                       │\n",
       "╞═════════╪═════════════════════════════════╪═════════════════════════════════╡\n",
       "│ 1       ┆ Toy Story (1995)                ┆ [\"Adventure\", \"Animation\", … \"… │\n",
       "│ 2       ┆ Jumanji (1995)                  ┆ [\"Adventure\", \"Children\", \"Fan… │\n",
       "│ 3       ┆ Grumpier Old Men (1995)         ┆ [\"Comedy\", \"Romance\"]           │\n",
       "│ 4       ┆ Waiting to Exhale (1995)        ┆ [\"Comedy\", \"Drama\", \"Romance\"]  │\n",
       "│ 5       ┆ Father of the Bride Part II (1… ┆ [\"Comedy\"]                      │\n",
       "│ …       ┆ …                               ┆ …                               │\n",
       "│ 292731  ┆ The Monroy Affaire (2022)       ┆ [\"Drama\"]                       │\n",
       "│ 292737  ┆ Shelter in Solitude (2023)      ┆ [\"Comedy\", \"Drama\"]             │\n",
       "│ 292753  ┆ Orca (2023)                     ┆ [\"Drama\"]                       │\n",
       "│ 292755  ┆ The Angry Breed (1968)          ┆ [\"Drama\"]                       │\n",
       "│ 292757  ┆ Race to the Summit (2023)       ┆ [\"Action\", \"Adventure\", \"Docum… │\n",
       "└─────────┴─────────────────────────────────┴─────────────────────────────────┘"
      ]
     },
     "execution_count": 51,
     "metadata": {},
     "output_type": "execute_result"
    }
   ],
   "source": [
    "movies"
   ]
  },
  {
   "cell_type": "code",
   "execution_count": 53,
   "id": "6194e596-86ba-409f-822b-b047db3eb70b",
   "metadata": {},
   "outputs": [
    {
     "name": "stdout",
     "output_type": "stream",
     "text": [
      "['(no genres listed)', 'Action', 'Adventure', 'Animation', 'Children', 'Comedy', 'Crime', 'Documentary', 'Drama', 'Fantasy', 'Film-Noir', 'Horror', 'IMAX', 'Musical', 'Mystery', 'Romance', 'Sci-Fi', 'Thriller', 'War', 'Western']\n"
     ]
    }
   ],
   "source": [
    "unique_genres = sorted(set(g for genre_list in movies[\"genres\"] for g in genre_list))\n",
    "print(unique_genres)"
   ]
  },
  {
   "cell_type": "code",
   "execution_count": 54,
   "id": "dd156f6e-972c-47a7-9b95-67b05a0e1647",
   "metadata": {},
   "outputs": [
    {
     "data": {
      "text/html": [
       "<div><style>\n",
       ".dataframe > thead > tr,\n",
       ".dataframe > tbody > tr {\n",
       "  text-align: right;\n",
       "  white-space: pre-wrap;\n",
       "}\n",
       "</style>\n",
       "<small>shape: (87_585,)</small><table border=\"1\" class=\"dataframe\"><thead><tr><th>genres</th></tr><tr><td>list[str]</td></tr></thead><tbody><tr><td>[&quot;Adventure&quot;, &quot;Animation&quot;, … &quot;Fantasy&quot;]</td></tr><tr><td>[&quot;Adventure&quot;, &quot;Children&quot;, &quot;Fantasy&quot;]</td></tr><tr><td>[&quot;Comedy&quot;, &quot;Romance&quot;]</td></tr><tr><td>[&quot;Comedy&quot;, &quot;Drama&quot;, &quot;Romance&quot;]</td></tr><tr><td>[&quot;Comedy&quot;]</td></tr><tr><td>&hellip;</td></tr><tr><td>[&quot;Drama&quot;]</td></tr><tr><td>[&quot;Comedy&quot;, &quot;Drama&quot;]</td></tr><tr><td>[&quot;Drama&quot;]</td></tr><tr><td>[&quot;Drama&quot;]</td></tr><tr><td>[&quot;Action&quot;, &quot;Adventure&quot;, &quot;Documentary&quot;]</td></tr></tbody></table></div>"
      ],
      "text/plain": [
       "shape: (87_585,)\n",
       "Series: 'genres' [list[str]]\n",
       "[\n",
       "\t[\"Adventure\", \"Animation\", … \"Fantasy\"]\n",
       "\t[\"Adventure\", \"Children\", \"Fantasy\"]\n",
       "\t[\"Comedy\", \"Romance\"]\n",
       "\t[\"Comedy\", \"Drama\", \"Romance\"]\n",
       "\t[\"Comedy\"]\n",
       "\t…\n",
       "\t[\"Drama\"]\n",
       "\t[\"Comedy\", \"Drama\"]\n",
       "\t[\"Drama\"]\n",
       "\t[\"Drama\"]\n",
       "\t[\"Action\", \"Adventure\", \"Documentary\"]\n",
       "]"
      ]
     },
     "execution_count": 54,
     "metadata": {},
     "output_type": "execute_result"
    }
   ],
   "source": [
    "movies[\"genres\"]"
   ]
  },
  {
   "cell_type": "code",
   "execution_count": 56,
   "id": "3a1e4e0a-4219-406c-ae30-7878fef96f26",
   "metadata": {},
   "outputs": [],
   "source": [
    "for genre in unique_genres:\n",
    "    movies = movies.with_columns(pl.col(\"genres\").list.contains(genre).cast(pl.Int8).alias(genre))\n",
    "movies = movies.drop('genres')"
   ]
  },
  {
   "cell_type": "code",
   "execution_count": 59,
   "id": "e4b2f1b5-752b-49d1-ba8c-87a7093d3793",
   "metadata": {},
   "outputs": [
    {
     "data": {
      "text/html": [
       "<div><style>\n",
       ".dataframe > thead > tr,\n",
       ".dataframe > tbody > tr {\n",
       "  text-align: right;\n",
       "  white-space: pre-wrap;\n",
       "}\n",
       "</style>\n",
       "<small>shape: (87_585, 22)</small><table border=\"1\" class=\"dataframe\"><thead><tr><th>movieId</th><th>title</th><th>(no genres listed)</th><th>Action</th><th>Adventure</th><th>Animation</th><th>Children</th><th>Comedy</th><th>Crime</th><th>Documentary</th><th>Drama</th><th>Fantasy</th><th>Film-Noir</th><th>Horror</th><th>IMAX</th><th>Musical</th><th>Mystery</th><th>Romance</th><th>Sci-Fi</th><th>Thriller</th><th>War</th><th>Western</th></tr><tr><td>i64</td><td>str</td><td>i8</td><td>i8</td><td>i8</td><td>i8</td><td>i8</td><td>i8</td><td>i8</td><td>i8</td><td>i8</td><td>i8</td><td>i8</td><td>i8</td><td>i8</td><td>i8</td><td>i8</td><td>i8</td><td>i8</td><td>i8</td><td>i8</td><td>i8</td></tr></thead><tbody><tr><td>1</td><td>&quot;Toy Story (1995)&quot;</td><td>0</td><td>0</td><td>1</td><td>1</td><td>1</td><td>1</td><td>0</td><td>0</td><td>0</td><td>1</td><td>0</td><td>0</td><td>0</td><td>0</td><td>0</td><td>0</td><td>0</td><td>0</td><td>0</td><td>0</td></tr><tr><td>2</td><td>&quot;Jumanji (1995)&quot;</td><td>0</td><td>0</td><td>1</td><td>0</td><td>1</td><td>0</td><td>0</td><td>0</td><td>0</td><td>1</td><td>0</td><td>0</td><td>0</td><td>0</td><td>0</td><td>0</td><td>0</td><td>0</td><td>0</td><td>0</td></tr><tr><td>3</td><td>&quot;Grumpier Old Men (1995)&quot;</td><td>0</td><td>0</td><td>0</td><td>0</td><td>0</td><td>1</td><td>0</td><td>0</td><td>0</td><td>0</td><td>0</td><td>0</td><td>0</td><td>0</td><td>0</td><td>1</td><td>0</td><td>0</td><td>0</td><td>0</td></tr><tr><td>4</td><td>&quot;Waiting to Exhale (1995)&quot;</td><td>0</td><td>0</td><td>0</td><td>0</td><td>0</td><td>1</td><td>0</td><td>0</td><td>1</td><td>0</td><td>0</td><td>0</td><td>0</td><td>0</td><td>0</td><td>1</td><td>0</td><td>0</td><td>0</td><td>0</td></tr><tr><td>5</td><td>&quot;Father of the Bride Part II (1…</td><td>0</td><td>0</td><td>0</td><td>0</td><td>0</td><td>1</td><td>0</td><td>0</td><td>0</td><td>0</td><td>0</td><td>0</td><td>0</td><td>0</td><td>0</td><td>0</td><td>0</td><td>0</td><td>0</td><td>0</td></tr><tr><td>&hellip;</td><td>&hellip;</td><td>&hellip;</td><td>&hellip;</td><td>&hellip;</td><td>&hellip;</td><td>&hellip;</td><td>&hellip;</td><td>&hellip;</td><td>&hellip;</td><td>&hellip;</td><td>&hellip;</td><td>&hellip;</td><td>&hellip;</td><td>&hellip;</td><td>&hellip;</td><td>&hellip;</td><td>&hellip;</td><td>&hellip;</td><td>&hellip;</td><td>&hellip;</td><td>&hellip;</td></tr><tr><td>292731</td><td>&quot;The Monroy Affaire (2022)&quot;</td><td>0</td><td>0</td><td>0</td><td>0</td><td>0</td><td>0</td><td>0</td><td>0</td><td>1</td><td>0</td><td>0</td><td>0</td><td>0</td><td>0</td><td>0</td><td>0</td><td>0</td><td>0</td><td>0</td><td>0</td></tr><tr><td>292737</td><td>&quot;Shelter in Solitude (2023)&quot;</td><td>0</td><td>0</td><td>0</td><td>0</td><td>0</td><td>1</td><td>0</td><td>0</td><td>1</td><td>0</td><td>0</td><td>0</td><td>0</td><td>0</td><td>0</td><td>0</td><td>0</td><td>0</td><td>0</td><td>0</td></tr><tr><td>292753</td><td>&quot;Orca (2023)&quot;</td><td>0</td><td>0</td><td>0</td><td>0</td><td>0</td><td>0</td><td>0</td><td>0</td><td>1</td><td>0</td><td>0</td><td>0</td><td>0</td><td>0</td><td>0</td><td>0</td><td>0</td><td>0</td><td>0</td><td>0</td></tr><tr><td>292755</td><td>&quot;The Angry Breed (1968)&quot;</td><td>0</td><td>0</td><td>0</td><td>0</td><td>0</td><td>0</td><td>0</td><td>0</td><td>1</td><td>0</td><td>0</td><td>0</td><td>0</td><td>0</td><td>0</td><td>0</td><td>0</td><td>0</td><td>0</td><td>0</td></tr><tr><td>292757</td><td>&quot;Race to the Summit (2023)&quot;</td><td>0</td><td>1</td><td>1</td><td>0</td><td>0</td><td>0</td><td>0</td><td>1</td><td>0</td><td>0</td><td>0</td><td>0</td><td>0</td><td>0</td><td>0</td><td>0</td><td>0</td><td>0</td><td>0</td><td>0</td></tr></tbody></table></div>"
      ],
      "text/plain": [
       "shape: (87_585, 22)\n",
       "┌─────────┬─────────────────────────────────┬────────────────────┬────────┬───┬────────┬──────────┬─────┬─────────┐\n",
       "│ movieId ┆ title                           ┆ (no genres listed) ┆ Action ┆ … ┆ Sci-Fi ┆ Thriller ┆ War ┆ Western │\n",
       "│ ---     ┆ ---                             ┆ ---                ┆ ---    ┆   ┆ ---    ┆ ---      ┆ --- ┆ ---     │\n",
       "│ i64     ┆ str                             ┆ i8                 ┆ i8     ┆   ┆ i8     ┆ i8       ┆ i8  ┆ i8      │\n",
       "╞═════════╪═════════════════════════════════╪════════════════════╪════════╪═══╪════════╪══════════╪═════╪═════════╡\n",
       "│ 1       ┆ Toy Story (1995)                ┆ 0                  ┆ 0      ┆ … ┆ 0      ┆ 0        ┆ 0   ┆ 0       │\n",
       "│ 2       ┆ Jumanji (1995)                  ┆ 0                  ┆ 0      ┆ … ┆ 0      ┆ 0        ┆ 0   ┆ 0       │\n",
       "│ 3       ┆ Grumpier Old Men (1995)         ┆ 0                  ┆ 0      ┆ … ┆ 0      ┆ 0        ┆ 0   ┆ 0       │\n",
       "│ 4       ┆ Waiting to Exhale (1995)        ┆ 0                  ┆ 0      ┆ … ┆ 0      ┆ 0        ┆ 0   ┆ 0       │\n",
       "│ 5       ┆ Father of the Bride Part II (1… ┆ 0                  ┆ 0      ┆ … ┆ 0      ┆ 0        ┆ 0   ┆ 0       │\n",
       "│ …       ┆ …                               ┆ …                  ┆ …      ┆ … ┆ …      ┆ …        ┆ …   ┆ …       │\n",
       "│ 292731  ┆ The Monroy Affaire (2022)       ┆ 0                  ┆ 0      ┆ … ┆ 0      ┆ 0        ┆ 0   ┆ 0       │\n",
       "│ 292737  ┆ Shelter in Solitude (2023)      ┆ 0                  ┆ 0      ┆ … ┆ 0      ┆ 0        ┆ 0   ┆ 0       │\n",
       "│ 292753  ┆ Orca (2023)                     ┆ 0                  ┆ 0      ┆ … ┆ 0      ┆ 0        ┆ 0   ┆ 0       │\n",
       "│ 292755  ┆ The Angry Breed (1968)          ┆ 0                  ┆ 0      ┆ … ┆ 0      ┆ 0        ┆ 0   ┆ 0       │\n",
       "│ 292757  ┆ Race to the Summit (2023)       ┆ 0                  ┆ 1      ┆ … ┆ 0      ┆ 0        ┆ 0   ┆ 0       │\n",
       "└─────────┴─────────────────────────────────┴────────────────────┴────────┴───┴────────┴──────────┴─────┴─────────┘"
      ]
     },
     "execution_count": 59,
     "metadata": {},
     "output_type": "execute_result"
    }
   ],
   "source": [
    "movies"
   ]
  },
  {
   "cell_type": "code",
   "execution_count": 61,
   "id": "3ecfa29d-defc-4644-89a5-9b53f021b7f1",
   "metadata": {},
   "outputs": [],
   "source": [
    "movies = movies.with_columns(pl.col(\"title\").str.extract(r\"\\((\\d{4})\\)\", 1).cast(pl.Int16).alias(\"year\"))"
   ]
  },
  {
   "cell_type": "code",
   "execution_count": 63,
   "id": "d380deca-f075-4351-9f9a-f105cdf89f6d",
   "metadata": {},
   "outputs": [
    {
     "data": {
      "text/html": [
       "<div><style>\n",
       ".dataframe > thead > tr,\n",
       ".dataframe > tbody > tr {\n",
       "  text-align: right;\n",
       "  white-space: pre-wrap;\n",
       "}\n",
       "</style>\n",
       "<small>shape: (87_585, 23)</small><table border=\"1\" class=\"dataframe\"><thead><tr><th>movieId</th><th>title</th><th>(no genres listed)</th><th>Action</th><th>Adventure</th><th>Animation</th><th>Children</th><th>Comedy</th><th>Crime</th><th>Documentary</th><th>Drama</th><th>Fantasy</th><th>Film-Noir</th><th>Horror</th><th>IMAX</th><th>Musical</th><th>Mystery</th><th>Romance</th><th>Sci-Fi</th><th>Thriller</th><th>War</th><th>Western</th><th>year</th></tr><tr><td>i64</td><td>str</td><td>i8</td><td>i8</td><td>i8</td><td>i8</td><td>i8</td><td>i8</td><td>i8</td><td>i8</td><td>i8</td><td>i8</td><td>i8</td><td>i8</td><td>i8</td><td>i8</td><td>i8</td><td>i8</td><td>i8</td><td>i8</td><td>i8</td><td>i8</td><td>i16</td></tr></thead><tbody><tr><td>1</td><td>&quot;Toy Story (1995)&quot;</td><td>0</td><td>0</td><td>1</td><td>1</td><td>1</td><td>1</td><td>0</td><td>0</td><td>0</td><td>1</td><td>0</td><td>0</td><td>0</td><td>0</td><td>0</td><td>0</td><td>0</td><td>0</td><td>0</td><td>0</td><td>1995</td></tr><tr><td>2</td><td>&quot;Jumanji (1995)&quot;</td><td>0</td><td>0</td><td>1</td><td>0</td><td>1</td><td>0</td><td>0</td><td>0</td><td>0</td><td>1</td><td>0</td><td>0</td><td>0</td><td>0</td><td>0</td><td>0</td><td>0</td><td>0</td><td>0</td><td>0</td><td>1995</td></tr><tr><td>3</td><td>&quot;Grumpier Old Men (1995)&quot;</td><td>0</td><td>0</td><td>0</td><td>0</td><td>0</td><td>1</td><td>0</td><td>0</td><td>0</td><td>0</td><td>0</td><td>0</td><td>0</td><td>0</td><td>0</td><td>1</td><td>0</td><td>0</td><td>0</td><td>0</td><td>1995</td></tr><tr><td>4</td><td>&quot;Waiting to Exhale (1995)&quot;</td><td>0</td><td>0</td><td>0</td><td>0</td><td>0</td><td>1</td><td>0</td><td>0</td><td>1</td><td>0</td><td>0</td><td>0</td><td>0</td><td>0</td><td>0</td><td>1</td><td>0</td><td>0</td><td>0</td><td>0</td><td>1995</td></tr><tr><td>5</td><td>&quot;Father of the Bride Part II (1…</td><td>0</td><td>0</td><td>0</td><td>0</td><td>0</td><td>1</td><td>0</td><td>0</td><td>0</td><td>0</td><td>0</td><td>0</td><td>0</td><td>0</td><td>0</td><td>0</td><td>0</td><td>0</td><td>0</td><td>0</td><td>1995</td></tr><tr><td>&hellip;</td><td>&hellip;</td><td>&hellip;</td><td>&hellip;</td><td>&hellip;</td><td>&hellip;</td><td>&hellip;</td><td>&hellip;</td><td>&hellip;</td><td>&hellip;</td><td>&hellip;</td><td>&hellip;</td><td>&hellip;</td><td>&hellip;</td><td>&hellip;</td><td>&hellip;</td><td>&hellip;</td><td>&hellip;</td><td>&hellip;</td><td>&hellip;</td><td>&hellip;</td><td>&hellip;</td><td>&hellip;</td></tr><tr><td>292731</td><td>&quot;The Monroy Affaire (2022)&quot;</td><td>0</td><td>0</td><td>0</td><td>0</td><td>0</td><td>0</td><td>0</td><td>0</td><td>1</td><td>0</td><td>0</td><td>0</td><td>0</td><td>0</td><td>0</td><td>0</td><td>0</td><td>0</td><td>0</td><td>0</td><td>2022</td></tr><tr><td>292737</td><td>&quot;Shelter in Solitude (2023)&quot;</td><td>0</td><td>0</td><td>0</td><td>0</td><td>0</td><td>1</td><td>0</td><td>0</td><td>1</td><td>0</td><td>0</td><td>0</td><td>0</td><td>0</td><td>0</td><td>0</td><td>0</td><td>0</td><td>0</td><td>0</td><td>2023</td></tr><tr><td>292753</td><td>&quot;Orca (2023)&quot;</td><td>0</td><td>0</td><td>0</td><td>0</td><td>0</td><td>0</td><td>0</td><td>0</td><td>1</td><td>0</td><td>0</td><td>0</td><td>0</td><td>0</td><td>0</td><td>0</td><td>0</td><td>0</td><td>0</td><td>0</td><td>2023</td></tr><tr><td>292755</td><td>&quot;The Angry Breed (1968)&quot;</td><td>0</td><td>0</td><td>0</td><td>0</td><td>0</td><td>0</td><td>0</td><td>0</td><td>1</td><td>0</td><td>0</td><td>0</td><td>0</td><td>0</td><td>0</td><td>0</td><td>0</td><td>0</td><td>0</td><td>0</td><td>1968</td></tr><tr><td>292757</td><td>&quot;Race to the Summit (2023)&quot;</td><td>0</td><td>1</td><td>1</td><td>0</td><td>0</td><td>0</td><td>0</td><td>1</td><td>0</td><td>0</td><td>0</td><td>0</td><td>0</td><td>0</td><td>0</td><td>0</td><td>0</td><td>0</td><td>0</td><td>0</td><td>2023</td></tr></tbody></table></div>"
      ],
      "text/plain": [
       "shape: (87_585, 23)\n",
       "┌─────────┬─────────────────────────────────┬────────────────────┬────────┬───┬──────────┬─────┬─────────┬──────┐\n",
       "│ movieId ┆ title                           ┆ (no genres listed) ┆ Action ┆ … ┆ Thriller ┆ War ┆ Western ┆ year │\n",
       "│ ---     ┆ ---                             ┆ ---                ┆ ---    ┆   ┆ ---      ┆ --- ┆ ---     ┆ ---  │\n",
       "│ i64     ┆ str                             ┆ i8                 ┆ i8     ┆   ┆ i8       ┆ i8  ┆ i8      ┆ i16  │\n",
       "╞═════════╪═════════════════════════════════╪════════════════════╪════════╪═══╪══════════╪═════╪═════════╪══════╡\n",
       "│ 1       ┆ Toy Story (1995)                ┆ 0                  ┆ 0      ┆ … ┆ 0        ┆ 0   ┆ 0       ┆ 1995 │\n",
       "│ 2       ┆ Jumanji (1995)                  ┆ 0                  ┆ 0      ┆ … ┆ 0        ┆ 0   ┆ 0       ┆ 1995 │\n",
       "│ 3       ┆ Grumpier Old Men (1995)         ┆ 0                  ┆ 0      ┆ … ┆ 0        ┆ 0   ┆ 0       ┆ 1995 │\n",
       "│ 4       ┆ Waiting to Exhale (1995)        ┆ 0                  ┆ 0      ┆ … ┆ 0        ┆ 0   ┆ 0       ┆ 1995 │\n",
       "│ 5       ┆ Father of the Bride Part II (1… ┆ 0                  ┆ 0      ┆ … ┆ 0        ┆ 0   ┆ 0       ┆ 1995 │\n",
       "│ …       ┆ …                               ┆ …                  ┆ …      ┆ … ┆ …        ┆ …   ┆ …       ┆ …    │\n",
       "│ 292731  ┆ The Monroy Affaire (2022)       ┆ 0                  ┆ 0      ┆ … ┆ 0        ┆ 0   ┆ 0       ┆ 2022 │\n",
       "│ 292737  ┆ Shelter in Solitude (2023)      ┆ 0                  ┆ 0      ┆ … ┆ 0        ┆ 0   ┆ 0       ┆ 2023 │\n",
       "│ 292753  ┆ Orca (2023)                     ┆ 0                  ┆ 0      ┆ … ┆ 0        ┆ 0   ┆ 0       ┆ 2023 │\n",
       "│ 292755  ┆ The Angry Breed (1968)          ┆ 0                  ┆ 0      ┆ … ┆ 0        ┆ 0   ┆ 0       ┆ 1968 │\n",
       "│ 292757  ┆ Race to the Summit (2023)       ┆ 0                  ┆ 1      ┆ … ┆ 0        ┆ 0   ┆ 0       ┆ 2023 │\n",
       "└─────────┴─────────────────────────────────┴────────────────────┴────────┴───┴──────────┴─────┴─────────┴──────┘"
      ]
     },
     "execution_count": 63,
     "metadata": {},
     "output_type": "execute_result"
    }
   ],
   "source": [
    "movies"
   ]
  },
  {
   "cell_type": "code",
   "execution_count": 65,
   "id": "c22ba820-5c5d-4c37-9551-963dc54bfa2d",
   "metadata": {},
   "outputs": [],
   "source": [
    "movies =movies.select(['movieId', 'title', 'year', *unique_genres])"
   ]
  },
  {
   "cell_type": "code",
   "execution_count": 67,
   "id": "56f2beec-1fac-44f1-9313-5c73be81a810",
   "metadata": {},
   "outputs": [
    {
     "data": {
      "text/html": [
       "<div><style>\n",
       ".dataframe > thead > tr,\n",
       ".dataframe > tbody > tr {\n",
       "  text-align: right;\n",
       "  white-space: pre-wrap;\n",
       "}\n",
       "</style>\n",
       "<small>shape: (87_585, 23)</small><table border=\"1\" class=\"dataframe\"><thead><tr><th>movieId</th><th>title</th><th>year</th><th>(no genres listed)</th><th>Action</th><th>Adventure</th><th>Animation</th><th>Children</th><th>Comedy</th><th>Crime</th><th>Documentary</th><th>Drama</th><th>Fantasy</th><th>Film-Noir</th><th>Horror</th><th>IMAX</th><th>Musical</th><th>Mystery</th><th>Romance</th><th>Sci-Fi</th><th>Thriller</th><th>War</th><th>Western</th></tr><tr><td>i64</td><td>str</td><td>i16</td><td>i8</td><td>i8</td><td>i8</td><td>i8</td><td>i8</td><td>i8</td><td>i8</td><td>i8</td><td>i8</td><td>i8</td><td>i8</td><td>i8</td><td>i8</td><td>i8</td><td>i8</td><td>i8</td><td>i8</td><td>i8</td><td>i8</td><td>i8</td></tr></thead><tbody><tr><td>1</td><td>&quot;Toy Story (1995)&quot;</td><td>1995</td><td>0</td><td>0</td><td>1</td><td>1</td><td>1</td><td>1</td><td>0</td><td>0</td><td>0</td><td>1</td><td>0</td><td>0</td><td>0</td><td>0</td><td>0</td><td>0</td><td>0</td><td>0</td><td>0</td><td>0</td></tr><tr><td>2</td><td>&quot;Jumanji (1995)&quot;</td><td>1995</td><td>0</td><td>0</td><td>1</td><td>0</td><td>1</td><td>0</td><td>0</td><td>0</td><td>0</td><td>1</td><td>0</td><td>0</td><td>0</td><td>0</td><td>0</td><td>0</td><td>0</td><td>0</td><td>0</td><td>0</td></tr><tr><td>3</td><td>&quot;Grumpier Old Men (1995)&quot;</td><td>1995</td><td>0</td><td>0</td><td>0</td><td>0</td><td>0</td><td>1</td><td>0</td><td>0</td><td>0</td><td>0</td><td>0</td><td>0</td><td>0</td><td>0</td><td>0</td><td>1</td><td>0</td><td>0</td><td>0</td><td>0</td></tr><tr><td>4</td><td>&quot;Waiting to Exhale (1995)&quot;</td><td>1995</td><td>0</td><td>0</td><td>0</td><td>0</td><td>0</td><td>1</td><td>0</td><td>0</td><td>1</td><td>0</td><td>0</td><td>0</td><td>0</td><td>0</td><td>0</td><td>1</td><td>0</td><td>0</td><td>0</td><td>0</td></tr><tr><td>5</td><td>&quot;Father of the Bride Part II (1…</td><td>1995</td><td>0</td><td>0</td><td>0</td><td>0</td><td>0</td><td>1</td><td>0</td><td>0</td><td>0</td><td>0</td><td>0</td><td>0</td><td>0</td><td>0</td><td>0</td><td>0</td><td>0</td><td>0</td><td>0</td><td>0</td></tr><tr><td>&hellip;</td><td>&hellip;</td><td>&hellip;</td><td>&hellip;</td><td>&hellip;</td><td>&hellip;</td><td>&hellip;</td><td>&hellip;</td><td>&hellip;</td><td>&hellip;</td><td>&hellip;</td><td>&hellip;</td><td>&hellip;</td><td>&hellip;</td><td>&hellip;</td><td>&hellip;</td><td>&hellip;</td><td>&hellip;</td><td>&hellip;</td><td>&hellip;</td><td>&hellip;</td><td>&hellip;</td><td>&hellip;</td></tr><tr><td>292731</td><td>&quot;The Monroy Affaire (2022)&quot;</td><td>2022</td><td>0</td><td>0</td><td>0</td><td>0</td><td>0</td><td>0</td><td>0</td><td>0</td><td>1</td><td>0</td><td>0</td><td>0</td><td>0</td><td>0</td><td>0</td><td>0</td><td>0</td><td>0</td><td>0</td><td>0</td></tr><tr><td>292737</td><td>&quot;Shelter in Solitude (2023)&quot;</td><td>2023</td><td>0</td><td>0</td><td>0</td><td>0</td><td>0</td><td>1</td><td>0</td><td>0</td><td>1</td><td>0</td><td>0</td><td>0</td><td>0</td><td>0</td><td>0</td><td>0</td><td>0</td><td>0</td><td>0</td><td>0</td></tr><tr><td>292753</td><td>&quot;Orca (2023)&quot;</td><td>2023</td><td>0</td><td>0</td><td>0</td><td>0</td><td>0</td><td>0</td><td>0</td><td>0</td><td>1</td><td>0</td><td>0</td><td>0</td><td>0</td><td>0</td><td>0</td><td>0</td><td>0</td><td>0</td><td>0</td><td>0</td></tr><tr><td>292755</td><td>&quot;The Angry Breed (1968)&quot;</td><td>1968</td><td>0</td><td>0</td><td>0</td><td>0</td><td>0</td><td>0</td><td>0</td><td>0</td><td>1</td><td>0</td><td>0</td><td>0</td><td>0</td><td>0</td><td>0</td><td>0</td><td>0</td><td>0</td><td>0</td><td>0</td></tr><tr><td>292757</td><td>&quot;Race to the Summit (2023)&quot;</td><td>2023</td><td>0</td><td>1</td><td>1</td><td>0</td><td>0</td><td>0</td><td>0</td><td>1</td><td>0</td><td>0</td><td>0</td><td>0</td><td>0</td><td>0</td><td>0</td><td>0</td><td>0</td><td>0</td><td>0</td><td>0</td></tr></tbody></table></div>"
      ],
      "text/plain": [
       "shape: (87_585, 23)\n",
       "┌─────────┬─────────────────────────────────┬──────┬────────────────────┬───┬────────┬──────────┬─────┬─────────┐\n",
       "│ movieId ┆ title                           ┆ year ┆ (no genres listed) ┆ … ┆ Sci-Fi ┆ Thriller ┆ War ┆ Western │\n",
       "│ ---     ┆ ---                             ┆ ---  ┆ ---                ┆   ┆ ---    ┆ ---      ┆ --- ┆ ---     │\n",
       "│ i64     ┆ str                             ┆ i16  ┆ i8                 ┆   ┆ i8     ┆ i8       ┆ i8  ┆ i8      │\n",
       "╞═════════╪═════════════════════════════════╪══════╪════════════════════╪═══╪════════╪══════════╪═════╪═════════╡\n",
       "│ 1       ┆ Toy Story (1995)                ┆ 1995 ┆ 0                  ┆ … ┆ 0      ┆ 0        ┆ 0   ┆ 0       │\n",
       "│ 2       ┆ Jumanji (1995)                  ┆ 1995 ┆ 0                  ┆ … ┆ 0      ┆ 0        ┆ 0   ┆ 0       │\n",
       "│ 3       ┆ Grumpier Old Men (1995)         ┆ 1995 ┆ 0                  ┆ … ┆ 0      ┆ 0        ┆ 0   ┆ 0       │\n",
       "│ 4       ┆ Waiting to Exhale (1995)        ┆ 1995 ┆ 0                  ┆ … ┆ 0      ┆ 0        ┆ 0   ┆ 0       │\n",
       "│ 5       ┆ Father of the Bride Part II (1… ┆ 1995 ┆ 0                  ┆ … ┆ 0      ┆ 0        ┆ 0   ┆ 0       │\n",
       "│ …       ┆ …                               ┆ …    ┆ …                  ┆ … ┆ …      ┆ …        ┆ …   ┆ …       │\n",
       "│ 292731  ┆ The Monroy Affaire (2022)       ┆ 2022 ┆ 0                  ┆ … ┆ 0      ┆ 0        ┆ 0   ┆ 0       │\n",
       "│ 292737  ┆ Shelter in Solitude (2023)      ┆ 2023 ┆ 0                  ┆ … ┆ 0      ┆ 0        ┆ 0   ┆ 0       │\n",
       "│ 292753  ┆ Orca (2023)                     ┆ 2023 ┆ 0                  ┆ … ┆ 0      ┆ 0        ┆ 0   ┆ 0       │\n",
       "│ 292755  ┆ The Angry Breed (1968)          ┆ 1968 ┆ 0                  ┆ … ┆ 0      ┆ 0        ┆ 0   ┆ 0       │\n",
       "│ 292757  ┆ Race to the Summit (2023)       ┆ 2023 ┆ 0                  ┆ … ┆ 0      ┆ 0        ┆ 0   ┆ 0       │\n",
       "└─────────┴─────────────────────────────────┴──────┴────────────────────┴───┴────────┴──────────┴─────┴─────────┘"
      ]
     },
     "execution_count": 67,
     "metadata": {},
     "output_type": "execute_result"
    }
   ],
   "source": [
    "movies"
   ]
  },
  {
   "cell_type": "markdown",
   "id": "9ff38556-bf60-472a-a839-592ca90aa18e",
   "metadata": {},
   "source": [
    "### ISTI FORMAT TABELE KAO MOVIES"
   ]
  },
  {
   "cell_type": "code",
   "execution_count": 70,
   "id": "5f9db623-0229-4138-a988-5a2f4385b505",
   "metadata": {},
   "outputs": [],
   "source": [
    "user_zanr_train = user_train.join(movies, on='movieId', how='inner')"
   ]
  },
  {
   "cell_type": "code",
   "execution_count": 72,
   "id": "40f5d843-d225-4a38-9e45-57f0b8cf48c7",
   "metadata": {},
   "outputs": [
    {
     "data": {
      "text/html": [
       "<div><style>\n",
       ".dataframe > thead > tr,\n",
       ".dataframe > tbody > tr {\n",
       "  text-align: right;\n",
       "  white-space: pre-wrap;\n",
       "}\n",
       "</style>\n",
       "<small>shape: (694_000, 26)</small><table border=\"1\" class=\"dataframe\"><thead><tr><th>userId</th><th>movieId</th><th>rating</th><th>#ratings_film</th><th>title</th><th>year</th><th>(no genres listed)</th><th>Action</th><th>Adventure</th><th>Animation</th><th>Children</th><th>Comedy</th><th>Crime</th><th>Documentary</th><th>Drama</th><th>Fantasy</th><th>Film-Noir</th><th>Horror</th><th>IMAX</th><th>Musical</th><th>Mystery</th><th>Romance</th><th>Sci-Fi</th><th>Thriller</th><th>War</th><th>Western</th></tr><tr><td>i64</td><td>i64</td><td>f64</td><td>u32</td><td>str</td><td>i16</td><td>i8</td><td>i8</td><td>i8</td><td>i8</td><td>i8</td><td>i8</td><td>i8</td><td>i8</td><td>i8</td><td>i8</td><td>i8</td><td>i8</td><td>i8</td><td>i8</td><td>i8</td><td>i8</td><td>i8</td><td>i8</td><td>i8</td><td>i8</td></tr></thead><tbody><tr><td>31854</td><td>1</td><td>3.5</td><td>68997</td><td>&quot;Toy Story (1995)&quot;</td><td>1995</td><td>0</td><td>0</td><td>1</td><td>1</td><td>1</td><td>1</td><td>0</td><td>0</td><td>0</td><td>1</td><td>0</td><td>0</td><td>0</td><td>0</td><td>0</td><td>0</td><td>0</td><td>0</td><td>0</td><td>0</td></tr><tr><td>61093</td><td>1</td><td>4.0</td><td>68997</td><td>&quot;Toy Story (1995)&quot;</td><td>1995</td><td>0</td><td>0</td><td>1</td><td>1</td><td>1</td><td>1</td><td>0</td><td>0</td><td>0</td><td>1</td><td>0</td><td>0</td><td>0</td><td>0</td><td>0</td><td>0</td><td>0</td><td>0</td><td>0</td><td>0</td></tr><tr><td>59420</td><td>1</td><td>3.5</td><td>68997</td><td>&quot;Toy Story (1995)&quot;</td><td>1995</td><td>0</td><td>0</td><td>1</td><td>1</td><td>1</td><td>1</td><td>0</td><td>0</td><td>0</td><td>1</td><td>0</td><td>0</td><td>0</td><td>0</td><td>0</td><td>0</td><td>0</td><td>0</td><td>0</td><td>0</td></tr><tr><td>146238</td><td>1</td><td>4.0</td><td>68997</td><td>&quot;Toy Story (1995)&quot;</td><td>1995</td><td>0</td><td>0</td><td>1</td><td>1</td><td>1</td><td>1</td><td>0</td><td>0</td><td>0</td><td>1</td><td>0</td><td>0</td><td>0</td><td>0</td><td>0</td><td>0</td><td>0</td><td>0</td><td>0</td><td>0</td></tr><tr><td>63860</td><td>1</td><td>5.0</td><td>68997</td><td>&quot;Toy Story (1995)&quot;</td><td>1995</td><td>0</td><td>0</td><td>1</td><td>1</td><td>1</td><td>1</td><td>0</td><td>0</td><td>0</td><td>1</td><td>0</td><td>0</td><td>0</td><td>0</td><td>0</td><td>0</td><td>0</td><td>0</td><td>0</td><td>0</td></tr><tr><td>&hellip;</td><td>&hellip;</td><td>&hellip;</td><td>&hellip;</td><td>&hellip;</td><td>&hellip;</td><td>&hellip;</td><td>&hellip;</td><td>&hellip;</td><td>&hellip;</td><td>&hellip;</td><td>&hellip;</td><td>&hellip;</td><td>&hellip;</td><td>&hellip;</td><td>&hellip;</td><td>&hellip;</td><td>&hellip;</td><td>&hellip;</td><td>&hellip;</td><td>&hellip;</td><td>&hellip;</td><td>&hellip;</td><td>&hellip;</td><td>&hellip;</td><td>&hellip;</td></tr><tr><td>134909</td><td>290573</td><td>2.0</td><td>46</td><td>&quot;The Creator (2023)&quot;</td><td>2023</td><td>0</td><td>1</td><td>0</td><td>0</td><td>0</td><td>0</td><td>0</td><td>0</td><td>0</td><td>0</td><td>0</td><td>0</td><td>0</td><td>0</td><td>0</td><td>0</td><td>1</td><td>1</td><td>0</td><td>0</td></tr><tr><td>175333</td><td>290573</td><td>4.0</td><td>46</td><td>&quot;The Creator (2023)&quot;</td><td>2023</td><td>0</td><td>1</td><td>0</td><td>0</td><td>0</td><td>0</td><td>0</td><td>0</td><td>0</td><td>0</td><td>0</td><td>0</td><td>0</td><td>0</td><td>0</td><td>0</td><td>1</td><td>1</td><td>0</td><td>0</td></tr><tr><td>165364</td><td>290573</td><td>5.0</td><td>46</td><td>&quot;The Creator (2023)&quot;</td><td>2023</td><td>0</td><td>1</td><td>0</td><td>0</td><td>0</td><td>0</td><td>0</td><td>0</td><td>0</td><td>0</td><td>0</td><td>0</td><td>0</td><td>0</td><td>0</td><td>0</td><td>1</td><td>1</td><td>0</td><td>0</td></tr><tr><td>85714</td><td>290573</td><td>3.5</td><td>46</td><td>&quot;The Creator (2023)&quot;</td><td>2023</td><td>0</td><td>1</td><td>0</td><td>0</td><td>0</td><td>0</td><td>0</td><td>0</td><td>0</td><td>0</td><td>0</td><td>0</td><td>0</td><td>0</td><td>0</td><td>0</td><td>1</td><td>1</td><td>0</td><td>0</td></tr><tr><td>171229</td><td>290573</td><td>2.5</td><td>46</td><td>&quot;The Creator (2023)&quot;</td><td>2023</td><td>0</td><td>1</td><td>0</td><td>0</td><td>0</td><td>0</td><td>0</td><td>0</td><td>0</td><td>0</td><td>0</td><td>0</td><td>0</td><td>0</td><td>0</td><td>0</td><td>1</td><td>1</td><td>0</td><td>0</td></tr></tbody></table></div>"
      ],
      "text/plain": [
       "shape: (694_000, 26)\n",
       "┌────────┬─────────┬────────┬───────────────┬───┬────────┬──────────┬─────┬─────────┐\n",
       "│ userId ┆ movieId ┆ rating ┆ #ratings_film ┆ … ┆ Sci-Fi ┆ Thriller ┆ War ┆ Western │\n",
       "│ ---    ┆ ---     ┆ ---    ┆ ---           ┆   ┆ ---    ┆ ---      ┆ --- ┆ ---     │\n",
       "│ i64    ┆ i64     ┆ f64    ┆ u32           ┆   ┆ i8     ┆ i8       ┆ i8  ┆ i8      │\n",
       "╞════════╪═════════╪════════╪═══════════════╪═══╪════════╪══════════╪═════╪═════════╡\n",
       "│ 31854  ┆ 1       ┆ 3.5    ┆ 68997         ┆ … ┆ 0      ┆ 0        ┆ 0   ┆ 0       │\n",
       "│ 61093  ┆ 1       ┆ 4.0    ┆ 68997         ┆ … ┆ 0      ┆ 0        ┆ 0   ┆ 0       │\n",
       "│ 59420  ┆ 1       ┆ 3.5    ┆ 68997         ┆ … ┆ 0      ┆ 0        ┆ 0   ┆ 0       │\n",
       "│ 146238 ┆ 1       ┆ 4.0    ┆ 68997         ┆ … ┆ 0      ┆ 0        ┆ 0   ┆ 0       │\n",
       "│ 63860  ┆ 1       ┆ 5.0    ┆ 68997         ┆ … ┆ 0      ┆ 0        ┆ 0   ┆ 0       │\n",
       "│ …      ┆ …       ┆ …      ┆ …             ┆ … ┆ …      ┆ …        ┆ …   ┆ …       │\n",
       "│ 134909 ┆ 290573  ┆ 2.0    ┆ 46            ┆ … ┆ 1      ┆ 1        ┆ 0   ┆ 0       │\n",
       "│ 175333 ┆ 290573  ┆ 4.0    ┆ 46            ┆ … ┆ 1      ┆ 1        ┆ 0   ┆ 0       │\n",
       "│ 165364 ┆ 290573  ┆ 5.0    ┆ 46            ┆ … ┆ 1      ┆ 1        ┆ 0   ┆ 0       │\n",
       "│ 85714  ┆ 290573  ┆ 3.5    ┆ 46            ┆ … ┆ 1      ┆ 1        ┆ 0   ┆ 0       │\n",
       "│ 171229 ┆ 290573  ┆ 2.5    ┆ 46            ┆ … ┆ 1      ┆ 1        ┆ 0   ┆ 0       │\n",
       "└────────┴─────────┴────────┴───────────────┴───┴────────┴──────────┴─────┴─────────┘"
      ]
     },
     "execution_count": 72,
     "metadata": {},
     "output_type": "execute_result"
    }
   ],
   "source": [
    "user_zanr_train"
   ]
  },
  {
   "cell_type": "markdown",
   "id": "12859310-d8de-43fd-a855-fb208386516c",
   "metadata": {},
   "source": [
    "### PIVOT LONGER --> ZANROVE PREBACUJEM U JEDNU KOLONU"
   ]
  },
  {
   "cell_type": "code",
   "execution_count": 75,
   "id": "ebb4a1c2-1f61-460d-8eec-d4b83098a565",
   "metadata": {},
   "outputs": [],
   "source": [
    "user_longer = (user_zanr_train.unpivot(index=['userId', 'rating'],\n",
    "                                       on=unique_genres).filter(pl.col('value') == 1).rename({'variable': 'genre', 'value': 'is_genre'}))"
   ]
  },
  {
   "cell_type": "code",
   "execution_count": 76,
   "id": "9e4637ee-58c7-4375-9409-5058777a1407",
   "metadata": {},
   "outputs": [
    {
     "data": {
      "text/html": [
       "<div><style>\n",
       ".dataframe > thead > tr,\n",
       ".dataframe > tbody > tr {\n",
       "  text-align: right;\n",
       "  white-space: pre-wrap;\n",
       "}\n",
       "</style>\n",
       "<small>shape: (1_486_360, 4)</small><table border=\"1\" class=\"dataframe\"><thead><tr><th>userId</th><th>rating</th><th>genre</th><th>is_genre</th></tr><tr><td>i64</td><td>f64</td><td>str</td><td>i8</td></tr></thead><tbody><tr><td>29223</td><td>5.0</td><td>&quot;(no genres listed)&quot;</td><td>1</td></tr><tr><td>55955</td><td>2.5</td><td>&quot;(no genres listed)&quot;</td><td>1</td></tr><tr><td>55575</td><td>0.5</td><td>&quot;(no genres listed)&quot;</td><td>1</td></tr><tr><td>148749</td><td>4.0</td><td>&quot;(no genres listed)&quot;</td><td>1</td></tr><tr><td>108778</td><td>3.5</td><td>&quot;(no genres listed)&quot;</td><td>1</td></tr><tr><td>&hellip;</td><td>&hellip;</td><td>&hellip;</td><td>&hellip;</td></tr><tr><td>97750</td><td>1.5</td><td>&quot;Western&quot;</td><td>1</td></tr><tr><td>29022</td><td>2.0</td><td>&quot;Western&quot;</td><td>1</td></tr><tr><td>150126</td><td>1.5</td><td>&quot;Western&quot;</td><td>1</td></tr><tr><td>167916</td><td>2.5</td><td>&quot;Western&quot;</td><td>1</td></tr><tr><td>150900</td><td>3.0</td><td>&quot;Western&quot;</td><td>1</td></tr></tbody></table></div>"
      ],
      "text/plain": [
       "shape: (1_486_360, 4)\n",
       "┌────────┬────────┬────────────────────┬──────────┐\n",
       "│ userId ┆ rating ┆ genre              ┆ is_genre │\n",
       "│ ---    ┆ ---    ┆ ---                ┆ ---      │\n",
       "│ i64    ┆ f64    ┆ str                ┆ i8       │\n",
       "╞════════╪════════╪════════════════════╪══════════╡\n",
       "│ 29223  ┆ 5.0    ┆ (no genres listed) ┆ 1        │\n",
       "│ 55955  ┆ 2.5    ┆ (no genres listed) ┆ 1        │\n",
       "│ 55575  ┆ 0.5    ┆ (no genres listed) ┆ 1        │\n",
       "│ 148749 ┆ 4.0    ┆ (no genres listed) ┆ 1        │\n",
       "│ 108778 ┆ 3.5    ┆ (no genres listed) ┆ 1        │\n",
       "│ …      ┆ …      ┆ …                  ┆ …        │\n",
       "│ 97750  ┆ 1.5    ┆ Western            ┆ 1        │\n",
       "│ 29022  ┆ 2.0    ┆ Western            ┆ 1        │\n",
       "│ 150126 ┆ 1.5    ┆ Western            ┆ 1        │\n",
       "│ 167916 ┆ 2.5    ┆ Western            ┆ 1        │\n",
       "│ 150900 ┆ 3.0    ┆ Western            ┆ 1        │\n",
       "└────────┴────────┴────────────────────┴──────────┘"
      ]
     },
     "execution_count": 76,
     "metadata": {},
     "output_type": "execute_result"
    }
   ],
   "source": [
    "user_longer"
   ]
  },
  {
   "cell_type": "code",
   "execution_count": 79,
   "id": "a0c0f417-e2dd-457c-a0ad-3aa8f072f3d0",
   "metadata": {},
   "outputs": [
    {
     "data": {
      "text/html": [
       "<div><style>\n",
       ".dataframe > thead > tr,\n",
       ".dataframe > tbody > tr {\n",
       "  text-align: right;\n",
       "  white-space: pre-wrap;\n",
       "}\n",
       "</style>\n",
       "<small>shape: (478_842, 4)</small><table border=\"1\" class=\"dataframe\"><thead><tr><th>userId</th><th>genre</th><th>rating</th><th>is_genre</th></tr><tr><td>i64</td><td>str</td><td>f64</td><td>f64</td></tr></thead><tbody><tr><td>1</td><td>&quot;Thriller&quot;</td><td>2.0</td><td>1.0</td></tr><tr><td>1</td><td>&quot;Mystery&quot;</td><td>2.0</td><td>1.0</td></tr><tr><td>1</td><td>&quot;Drama&quot;</td><td>2.0</td><td>1.0</td></tr><tr><td>1</td><td>&quot;Crime&quot;</td><td>2.0</td><td>1.0</td></tr><tr><td>10</td><td>&quot;Horror&quot;</td><td>2.375</td><td>1.0</td></tr><tr><td>&hellip;</td><td>&hellip;</td><td>&hellip;</td><td>&hellip;</td></tr><tr><td>200943</td><td>&quot;Crime&quot;</td><td>0.5</td><td>1.0</td></tr><tr><td>200943</td><td>&quot;Drama&quot;</td><td>3.0</td><td>1.0</td></tr><tr><td>200943</td><td>&quot;Action&quot;</td><td>1.0</td><td>1.0</td></tr><tr><td>200943</td><td>&quot;Mystery&quot;</td><td>1.5</td><td>1.0</td></tr><tr><td>200948</td><td>&quot;Comedy&quot;</td><td>4.0</td><td>1.0</td></tr></tbody></table></div>"
      ],
      "text/plain": [
       "shape: (478_842, 4)\n",
       "┌────────┬──────────┬────────┬──────────┐\n",
       "│ userId ┆ genre    ┆ rating ┆ is_genre │\n",
       "│ ---    ┆ ---      ┆ ---    ┆ ---      │\n",
       "│ i64    ┆ str      ┆ f64    ┆ f64      │\n",
       "╞════════╪══════════╪════════╪══════════╡\n",
       "│ 1      ┆ Thriller ┆ 2.0    ┆ 1.0      │\n",
       "│ 1      ┆ Mystery  ┆ 2.0    ┆ 1.0      │\n",
       "│ 1      ┆ Drama    ┆ 2.0    ┆ 1.0      │\n",
       "│ 1      ┆ Crime    ┆ 2.0    ┆ 1.0      │\n",
       "│ 10     ┆ Horror   ┆ 2.375  ┆ 1.0      │\n",
       "│ …      ┆ …        ┆ …      ┆ …        │\n",
       "│ 200943 ┆ Crime    ┆ 0.5    ┆ 1.0      │\n",
       "│ 200943 ┆ Drama    ┆ 3.0    ┆ 1.0      │\n",
       "│ 200943 ┆ Action   ┆ 1.0    ┆ 1.0      │\n",
       "│ 200943 ┆ Mystery  ┆ 1.5    ┆ 1.0      │\n",
       "│ 200948 ┆ Comedy   ┆ 4.0    ┆ 1.0      │\n",
       "└────────┴──────────┴────────┴──────────┘"
      ]
     },
     "execution_count": 79,
     "metadata": {},
     "output_type": "execute_result"
    }
   ],
   "source": [
    "user_longer.group_by(['userId', 'genre']).mean().sort(by='userId')"
   ]
  },
  {
   "cell_type": "markdown",
   "id": "8d5e8976-aac6-4fe5-b735-60528571a472",
   "metadata": {},
   "source": [
    "### RACUNAM PROSEK ZA SVAKOG USERA ZA SVAKI ZANR I VRACAM U WIDE FORMAT"
   ]
  },
  {
   "cell_type": "code",
   "execution_count": 82,
   "id": "17b119a4-c72f-46b3-9845-e7c141368831",
   "metadata": {},
   "outputs": [],
   "source": [
    "user_feature = (user_longer.group_by(['userId', 'genre']).agg(pl.col('rating').mean().alias('avg_rating_genre'))\n",
    "                .pivot(index='userId', on='genre', values='avg_rating_genre').fill_null(0))"
   ]
  },
  {
   "cell_type": "code",
   "execution_count": 83,
   "id": "d97a0baf-148a-494f-9d07-072712cc98ea",
   "metadata": {},
   "outputs": [
    {
     "data": {
      "text/html": [
       "<div><style>\n",
       ".dataframe > thead > tr,\n",
       ".dataframe > tbody > tr {\n",
       "  text-align: right;\n",
       "  white-space: pre-wrap;\n",
       "}\n",
       "</style>\n",
       "<small>shape: (92_503, 21)</small><table border=\"1\" class=\"dataframe\"><thead><tr><th>userId</th><th>Horror</th><th>Romance</th><th>Thriller</th><th>Drama</th><th>Action</th><th>Musical</th><th>Sci-Fi</th><th>Comedy</th><th>Adventure</th><th>Animation</th><th>Crime</th><th>Fantasy</th><th>Film-Noir</th><th>IMAX</th><th>War</th><th>Documentary</th><th>Mystery</th><th>Western</th><th>Children</th><th>(no genres listed)</th></tr><tr><td>i64</td><td>f64</td><td>f64</td><td>f64</td><td>f64</td><td>f64</td><td>f64</td><td>f64</td><td>f64</td><td>f64</td><td>f64</td><td>f64</td><td>f64</td><td>f64</td><td>f64</td><td>f64</td><td>f64</td><td>f64</td><td>f64</td><td>f64</td><td>f64</td></tr></thead><tbody><tr><td>55660</td><td>2.5</td><td>3.5</td><td>2.5</td><td>3.416667</td><td>2.666667</td><td>4.0</td><td>0.0</td><td>2.625</td><td>3.0</td><td>0.0</td><td>0.0</td><td>2.5</td><td>0.0</td><td>0.0</td><td>0.0</td><td>0.0</td><td>3.25</td><td>0.0</td><td>3.5</td><td>0.0</td></tr><tr><td>19689</td><td>0.0</td><td>3.0</td><td>0.0</td><td>0.0</td><td>0.0</td><td>0.0</td><td>0.0</td><td>0.0</td><td>3.0</td><td>0.0</td><td>0.0</td><td>0.0</td><td>0.0</td><td>0.0</td><td>0.0</td><td>0.0</td><td>0.0</td><td>0.0</td><td>0.0</td><td>0.0</td></tr><tr><td>124901</td><td>5.0</td><td>0.0</td><td>5.0</td><td>0.0</td><td>0.0</td><td>0.0</td><td>0.0</td><td>0.0</td><td>0.0</td><td>0.0</td><td>0.0</td><td>0.0</td><td>0.0</td><td>0.0</td><td>0.0</td><td>0.0</td><td>0.0</td><td>0.0</td><td>0.0</td><td>0.0</td></tr><tr><td>38247</td><td>2.5</td><td>3.0</td><td>3.0</td><td>2.833333</td><td>3.0</td><td>0.0</td><td>3.0</td><td>2.75</td><td>3.0</td><td>0.0</td><td>3.0</td><td>0.0</td><td>0.0</td><td>0.0</td><td>0.0</td><td>0.0</td><td>0.0</td><td>3.5</td><td>0.0</td><td>0.0</td></tr><tr><td>25936</td><td>0.0</td><td>3.5</td><td>3.0</td><td>3.285714</td><td>3.75</td><td>0.0</td><td>4.0</td><td>2.5</td><td>3.75</td><td>0.0</td><td>0.0</td><td>0.0</td><td>0.0</td><td>0.0</td><td>2.5</td><td>0.0</td><td>0.0</td><td>0.0</td><td>0.0</td><td>0.0</td></tr><tr><td>&hellip;</td><td>&hellip;</td><td>&hellip;</td><td>&hellip;</td><td>&hellip;</td><td>&hellip;</td><td>&hellip;</td><td>&hellip;</td><td>&hellip;</td><td>&hellip;</td><td>&hellip;</td><td>&hellip;</td><td>&hellip;</td><td>&hellip;</td><td>&hellip;</td><td>&hellip;</td><td>&hellip;</td><td>&hellip;</td><td>&hellip;</td><td>&hellip;</td><td>&hellip;</td></tr><tr><td>151918</td><td>0.0</td><td>0.0</td><td>0.0</td><td>0.0</td><td>0.0</td><td>0.0</td><td>0.0</td><td>3.0</td><td>0.0</td><td>0.0</td><td>0.0</td><td>0.0</td><td>0.0</td><td>0.0</td><td>0.0</td><td>0.0</td><td>0.0</td><td>0.0</td><td>0.0</td><td>0.0</td></tr><tr><td>149758</td><td>0.0</td><td>0.0</td><td>4.5</td><td>0.0</td><td>0.0</td><td>0.0</td><td>0.0</td><td>0.0</td><td>0.0</td><td>0.0</td><td>0.0</td><td>0.0</td><td>0.0</td><td>0.0</td><td>0.0</td><td>0.0</td><td>0.0</td><td>0.0</td><td>0.0</td><td>0.0</td></tr><tr><td>180684</td><td>0.0</td><td>0.0</td><td>0.0</td><td>0.0</td><td>0.0</td><td>0.0</td><td>0.0</td><td>3.75</td><td>0.0</td><td>0.0</td><td>0.0</td><td>0.0</td><td>0.0</td><td>0.0</td><td>0.0</td><td>0.0</td><td>0.0</td><td>0.0</td><td>0.0</td><td>0.0</td></tr><tr><td>20308</td><td>0.0</td><td>0.0</td><td>0.0</td><td>0.0</td><td>0.0</td><td>0.0</td><td>0.0</td><td>0.0</td><td>0.0</td><td>0.0</td><td>0.0</td><td>0.0</td><td>0.0</td><td>0.0</td><td>0.0</td><td>3.5</td><td>0.0</td><td>0.0</td><td>0.0</td><td>0.0</td></tr><tr><td>188983</td><td>0.0</td><td>0.0</td><td>0.0</td><td>0.0</td><td>0.0</td><td>0.0</td><td>0.0</td><td>4.0</td><td>0.0</td><td>0.0</td><td>0.0</td><td>0.0</td><td>0.0</td><td>0.0</td><td>0.0</td><td>0.0</td><td>0.0</td><td>0.0</td><td>0.0</td><td>0.0</td></tr></tbody></table></div>"
      ],
      "text/plain": [
       "shape: (92_503, 21)\n",
       "┌────────┬────────┬─────────┬──────────┬───┬─────────┬─────────┬──────────┬────────────────────┐\n",
       "│ userId ┆ Horror ┆ Romance ┆ Thriller ┆ … ┆ Mystery ┆ Western ┆ Children ┆ (no genres listed) │\n",
       "│ ---    ┆ ---    ┆ ---     ┆ ---      ┆   ┆ ---     ┆ ---     ┆ ---      ┆ ---                │\n",
       "│ i64    ┆ f64    ┆ f64     ┆ f64      ┆   ┆ f64     ┆ f64     ┆ f64      ┆ f64                │\n",
       "╞════════╪════════╪═════════╪══════════╪═══╪═════════╪═════════╪══════════╪════════════════════╡\n",
       "│ 55660  ┆ 2.5    ┆ 3.5     ┆ 2.5      ┆ … ┆ 3.25    ┆ 0.0     ┆ 3.5      ┆ 0.0                │\n",
       "│ 19689  ┆ 0.0    ┆ 3.0     ┆ 0.0      ┆ … ┆ 0.0     ┆ 0.0     ┆ 0.0      ┆ 0.0                │\n",
       "│ 124901 ┆ 5.0    ┆ 0.0     ┆ 5.0      ┆ … ┆ 0.0     ┆ 0.0     ┆ 0.0      ┆ 0.0                │\n",
       "│ 38247  ┆ 2.5    ┆ 3.0     ┆ 3.0      ┆ … ┆ 0.0     ┆ 3.5     ┆ 0.0      ┆ 0.0                │\n",
       "│ 25936  ┆ 0.0    ┆ 3.5     ┆ 3.0      ┆ … ┆ 0.0     ┆ 0.0     ┆ 0.0      ┆ 0.0                │\n",
       "│ …      ┆ …      ┆ …       ┆ …        ┆ … ┆ …       ┆ …       ┆ …        ┆ …                  │\n",
       "│ 151918 ┆ 0.0    ┆ 0.0     ┆ 0.0      ┆ … ┆ 0.0     ┆ 0.0     ┆ 0.0      ┆ 0.0                │\n",
       "│ 149758 ┆ 0.0    ┆ 0.0     ┆ 4.5      ┆ … ┆ 0.0     ┆ 0.0     ┆ 0.0      ┆ 0.0                │\n",
       "│ 180684 ┆ 0.0    ┆ 0.0     ┆ 0.0      ┆ … ┆ 0.0     ┆ 0.0     ┆ 0.0      ┆ 0.0                │\n",
       "│ 20308  ┆ 0.0    ┆ 0.0     ┆ 0.0      ┆ … ┆ 0.0     ┆ 0.0     ┆ 0.0      ┆ 0.0                │\n",
       "│ 188983 ┆ 0.0    ┆ 0.0     ┆ 0.0      ┆ … ┆ 0.0     ┆ 0.0     ┆ 0.0      ┆ 0.0                │\n",
       "└────────┴────────┴─────────┴──────────┴───┴─────────┴─────────┴──────────┴────────────────────┘"
      ]
     },
     "execution_count": 83,
     "metadata": {},
     "output_type": "execute_result"
    }
   ],
   "source": [
    "user_feature"
   ]
  },
  {
   "cell_type": "code",
   "execution_count": 86,
   "id": "d74f852a-626a-447a-89c6-6d10141b2364",
   "metadata": {},
   "outputs": [
    {
     "data": {
      "text/plain": [
       "3.578606798618759"
      ]
     },
     "execution_count": 86,
     "metadata": {},
     "output_type": "execute_result"
    }
   ],
   "source": [
    "user_feature.filter(pl.col('Drama') > 0)['Drama'].mean()"
   ]
  },
  {
   "cell_type": "code",
   "execution_count": 88,
   "id": "0899a37d-a28a-4841-a44d-2ca7e03ca1d8",
   "metadata": {},
   "outputs": [],
   "source": [
    "movie_avg_rating = (user_train.group_by('movieId').agg(pl.col('rating').mean().alias('avg_rating')))"
   ]
  },
  {
   "cell_type": "code",
   "execution_count": 90,
   "id": "5ef53c6b-26f2-48f0-ad41-359811d46091",
   "metadata": {},
   "outputs": [
    {
     "data": {
      "text/html": [
       "<div><style>\n",
       ".dataframe > thead > tr,\n",
       ".dataframe > tbody > tr {\n",
       "  text-align: right;\n",
       "  white-space: pre-wrap;\n",
       "}\n",
       "</style>\n",
       "<small>shape: (17_350, 2)</small><table border=\"1\" class=\"dataframe\"><thead><tr><th>movieId</th><th>avg_rating</th></tr><tr><td>i64</td><td>f64</td></tr></thead><tbody><tr><td>104631</td><td>3.0875</td></tr><tr><td>227688</td><td>2.85</td></tr><tr><td>804</td><td>3.1125</td></tr><tr><td>26757</td><td>3.6375</td></tr><tr><td>3546</td><td>3.575</td></tr><tr><td>&hellip;</td><td>&hellip;</td></tr><tr><td>4841</td><td>3.2625</td></tr><tr><td>94752</td><td>3.825</td></tr><tr><td>43906</td><td>2.3125</td></tr><tr><td>81786</td><td>3.875</td></tr><tr><td>131453</td><td>2.8875</td></tr></tbody></table></div>"
      ],
      "text/plain": [
       "shape: (17_350, 2)\n",
       "┌─────────┬────────────┐\n",
       "│ movieId ┆ avg_rating │\n",
       "│ ---     ┆ ---        │\n",
       "│ i64     ┆ f64        │\n",
       "╞═════════╪════════════╡\n",
       "│ 104631  ┆ 3.0875     │\n",
       "│ 227688  ┆ 2.85       │\n",
       "│ 804     ┆ 3.1125     │\n",
       "│ 26757   ┆ 3.6375     │\n",
       "│ 3546    ┆ 3.575      │\n",
       "│ …       ┆ …          │\n",
       "│ 4841    ┆ 3.2625     │\n",
       "│ 94752   ┆ 3.825      │\n",
       "│ 43906   ┆ 2.3125     │\n",
       "│ 81786   ┆ 3.875      │\n",
       "│ 131453  ┆ 2.8875     │\n",
       "└─────────┴────────────┘"
      ]
     },
     "execution_count": 90,
     "metadata": {},
     "output_type": "execute_result"
    }
   ],
   "source": [
    "movie_avg_rating"
   ]
  },
  {
   "cell_type": "code",
   "execution_count": 92,
   "id": "ba8192c5-4aaa-469d-a7f8-0f4a173d535e",
   "metadata": {},
   "outputs": [
    {
     "data": {
      "text/html": [
       "<div><style>\n",
       ".dataframe > thead > tr,\n",
       ".dataframe > tbody > tr {\n",
       "  text-align: right;\n",
       "  white-space: pre-wrap;\n",
       "}\n",
       "</style>\n",
       "<small>shape: (1, 2)</small><table border=\"1\" class=\"dataframe\"><thead><tr><th>movieId</th><th>avg_rating</th></tr><tr><td>i64</td><td>f64</td></tr></thead><tbody><tr><td>290573</td><td>4.6125</td></tr></tbody></table></div>"
      ],
      "text/plain": [
       "shape: (1, 2)\n",
       "┌─────────┬────────────┐\n",
       "│ movieId ┆ avg_rating │\n",
       "│ ---     ┆ ---        │\n",
       "│ i64     ┆ f64        │\n",
       "╞═════════╪════════════╡\n",
       "│ 290573  ┆ 4.6125     │\n",
       "└─────────┴────────────┘"
      ]
     },
     "execution_count": 92,
     "metadata": {},
     "output_type": "execute_result"
    }
   ],
   "source": [
    "movie_avg_rating.max()"
   ]
  },
  {
   "cell_type": "code",
   "execution_count": 94,
   "id": "cce15d70-94ce-4aef-89ca-90c37853fad9",
   "metadata": {},
   "outputs": [
    {
     "data": {
      "text/html": [
       "<div><style>\n",
       ".dataframe > thead > tr,\n",
       ".dataframe > tbody > tr {\n",
       "  text-align: right;\n",
       "  white-space: pre-wrap;\n",
       "}\n",
       "</style>\n",
       "<small>shape: (87_585, 23)</small><table border=\"1\" class=\"dataframe\"><thead><tr><th>movieId</th><th>title</th><th>year</th><th>(no genres listed)</th><th>Action</th><th>Adventure</th><th>Animation</th><th>Children</th><th>Comedy</th><th>Crime</th><th>Documentary</th><th>Drama</th><th>Fantasy</th><th>Film-Noir</th><th>Horror</th><th>IMAX</th><th>Musical</th><th>Mystery</th><th>Romance</th><th>Sci-Fi</th><th>Thriller</th><th>War</th><th>Western</th></tr><tr><td>i64</td><td>str</td><td>i16</td><td>i8</td><td>i8</td><td>i8</td><td>i8</td><td>i8</td><td>i8</td><td>i8</td><td>i8</td><td>i8</td><td>i8</td><td>i8</td><td>i8</td><td>i8</td><td>i8</td><td>i8</td><td>i8</td><td>i8</td><td>i8</td><td>i8</td><td>i8</td></tr></thead><tbody><tr><td>1</td><td>&quot;Toy Story (1995)&quot;</td><td>1995</td><td>0</td><td>0</td><td>1</td><td>1</td><td>1</td><td>1</td><td>0</td><td>0</td><td>0</td><td>1</td><td>0</td><td>0</td><td>0</td><td>0</td><td>0</td><td>0</td><td>0</td><td>0</td><td>0</td><td>0</td></tr><tr><td>2</td><td>&quot;Jumanji (1995)&quot;</td><td>1995</td><td>0</td><td>0</td><td>1</td><td>0</td><td>1</td><td>0</td><td>0</td><td>0</td><td>0</td><td>1</td><td>0</td><td>0</td><td>0</td><td>0</td><td>0</td><td>0</td><td>0</td><td>0</td><td>0</td><td>0</td></tr><tr><td>3</td><td>&quot;Grumpier Old Men (1995)&quot;</td><td>1995</td><td>0</td><td>0</td><td>0</td><td>0</td><td>0</td><td>1</td><td>0</td><td>0</td><td>0</td><td>0</td><td>0</td><td>0</td><td>0</td><td>0</td><td>0</td><td>1</td><td>0</td><td>0</td><td>0</td><td>0</td></tr><tr><td>4</td><td>&quot;Waiting to Exhale (1995)&quot;</td><td>1995</td><td>0</td><td>0</td><td>0</td><td>0</td><td>0</td><td>1</td><td>0</td><td>0</td><td>1</td><td>0</td><td>0</td><td>0</td><td>0</td><td>0</td><td>0</td><td>1</td><td>0</td><td>0</td><td>0</td><td>0</td></tr><tr><td>5</td><td>&quot;Father of the Bride Part II (1…</td><td>1995</td><td>0</td><td>0</td><td>0</td><td>0</td><td>0</td><td>1</td><td>0</td><td>0</td><td>0</td><td>0</td><td>0</td><td>0</td><td>0</td><td>0</td><td>0</td><td>0</td><td>0</td><td>0</td><td>0</td><td>0</td></tr><tr><td>&hellip;</td><td>&hellip;</td><td>&hellip;</td><td>&hellip;</td><td>&hellip;</td><td>&hellip;</td><td>&hellip;</td><td>&hellip;</td><td>&hellip;</td><td>&hellip;</td><td>&hellip;</td><td>&hellip;</td><td>&hellip;</td><td>&hellip;</td><td>&hellip;</td><td>&hellip;</td><td>&hellip;</td><td>&hellip;</td><td>&hellip;</td><td>&hellip;</td><td>&hellip;</td><td>&hellip;</td><td>&hellip;</td></tr><tr><td>292731</td><td>&quot;The Monroy Affaire (2022)&quot;</td><td>2022</td><td>0</td><td>0</td><td>0</td><td>0</td><td>0</td><td>0</td><td>0</td><td>0</td><td>1</td><td>0</td><td>0</td><td>0</td><td>0</td><td>0</td><td>0</td><td>0</td><td>0</td><td>0</td><td>0</td><td>0</td></tr><tr><td>292737</td><td>&quot;Shelter in Solitude (2023)&quot;</td><td>2023</td><td>0</td><td>0</td><td>0</td><td>0</td><td>0</td><td>1</td><td>0</td><td>0</td><td>1</td><td>0</td><td>0</td><td>0</td><td>0</td><td>0</td><td>0</td><td>0</td><td>0</td><td>0</td><td>0</td><td>0</td></tr><tr><td>292753</td><td>&quot;Orca (2023)&quot;</td><td>2023</td><td>0</td><td>0</td><td>0</td><td>0</td><td>0</td><td>0</td><td>0</td><td>0</td><td>1</td><td>0</td><td>0</td><td>0</td><td>0</td><td>0</td><td>0</td><td>0</td><td>0</td><td>0</td><td>0</td><td>0</td></tr><tr><td>292755</td><td>&quot;The Angry Breed (1968)&quot;</td><td>1968</td><td>0</td><td>0</td><td>0</td><td>0</td><td>0</td><td>0</td><td>0</td><td>0</td><td>1</td><td>0</td><td>0</td><td>0</td><td>0</td><td>0</td><td>0</td><td>0</td><td>0</td><td>0</td><td>0</td><td>0</td></tr><tr><td>292757</td><td>&quot;Race to the Summit (2023)&quot;</td><td>2023</td><td>0</td><td>1</td><td>1</td><td>0</td><td>0</td><td>0</td><td>0</td><td>1</td><td>0</td><td>0</td><td>0</td><td>0</td><td>0</td><td>0</td><td>0</td><td>0</td><td>0</td><td>0</td><td>0</td><td>0</td></tr></tbody></table></div>"
      ],
      "text/plain": [
       "shape: (87_585, 23)\n",
       "┌─────────┬─────────────────────────────────┬──────┬────────────────────┬───┬────────┬──────────┬─────┬─────────┐\n",
       "│ movieId ┆ title                           ┆ year ┆ (no genres listed) ┆ … ┆ Sci-Fi ┆ Thriller ┆ War ┆ Western │\n",
       "│ ---     ┆ ---                             ┆ ---  ┆ ---                ┆   ┆ ---    ┆ ---      ┆ --- ┆ ---     │\n",
       "│ i64     ┆ str                             ┆ i16  ┆ i8                 ┆   ┆ i8     ┆ i8       ┆ i8  ┆ i8      │\n",
       "╞═════════╪═════════════════════════════════╪══════╪════════════════════╪═══╪════════╪══════════╪═════╪═════════╡\n",
       "│ 1       ┆ Toy Story (1995)                ┆ 1995 ┆ 0                  ┆ … ┆ 0      ┆ 0        ┆ 0   ┆ 0       │\n",
       "│ 2       ┆ Jumanji (1995)                  ┆ 1995 ┆ 0                  ┆ … ┆ 0      ┆ 0        ┆ 0   ┆ 0       │\n",
       "│ 3       ┆ Grumpier Old Men (1995)         ┆ 1995 ┆ 0                  ┆ … ┆ 0      ┆ 0        ┆ 0   ┆ 0       │\n",
       "│ 4       ┆ Waiting to Exhale (1995)        ┆ 1995 ┆ 0                  ┆ … ┆ 0      ┆ 0        ┆ 0   ┆ 0       │\n",
       "│ 5       ┆ Father of the Bride Part II (1… ┆ 1995 ┆ 0                  ┆ … ┆ 0      ┆ 0        ┆ 0   ┆ 0       │\n",
       "│ …       ┆ …                               ┆ …    ┆ …                  ┆ … ┆ …      ┆ …        ┆ …   ┆ …       │\n",
       "│ 292731  ┆ The Monroy Affaire (2022)       ┆ 2022 ┆ 0                  ┆ … ┆ 0      ┆ 0        ┆ 0   ┆ 0       │\n",
       "│ 292737  ┆ Shelter in Solitude (2023)      ┆ 2023 ┆ 0                  ┆ … ┆ 0      ┆ 0        ┆ 0   ┆ 0       │\n",
       "│ 292753  ┆ Orca (2023)                     ┆ 2023 ┆ 0                  ┆ … ┆ 0      ┆ 0        ┆ 0   ┆ 0       │\n",
       "│ 292755  ┆ The Angry Breed (1968)          ┆ 1968 ┆ 0                  ┆ … ┆ 0      ┆ 0        ┆ 0   ┆ 0       │\n",
       "│ 292757  ┆ Race to the Summit (2023)       ┆ 2023 ┆ 0                  ┆ … ┆ 0      ┆ 0        ┆ 0   ┆ 0       │\n",
       "└─────────┴─────────────────────────────────┴──────┴────────────────────┴───┴────────┴──────────┴─────┴─────────┘"
      ]
     },
     "execution_count": 94,
     "metadata": {},
     "output_type": "execute_result"
    }
   ],
   "source": [
    "movies"
   ]
  },
  {
   "cell_type": "code",
   "execution_count": 96,
   "id": "11b42777-8ee5-4805-8aec-1555ec5635ef",
   "metadata": {},
   "outputs": [],
   "source": [
    "movie_features = movies.join(movie_avg_rating, on='movieId', how='left').fill_null(0)"
   ]
  },
  {
   "cell_type": "code",
   "execution_count": 98,
   "id": "118aff69-a43b-437f-bd5e-9ec9b1056be7",
   "metadata": {},
   "outputs": [
    {
     "data": {
      "text/html": [
       "<div><style>\n",
       ".dataframe > thead > tr,\n",
       ".dataframe > tbody > tr {\n",
       "  text-align: right;\n",
       "  white-space: pre-wrap;\n",
       "}\n",
       "</style>\n",
       "<small>shape: (87_585, 24)</small><table border=\"1\" class=\"dataframe\"><thead><tr><th>movieId</th><th>title</th><th>year</th><th>(no genres listed)</th><th>Action</th><th>Adventure</th><th>Animation</th><th>Children</th><th>Comedy</th><th>Crime</th><th>Documentary</th><th>Drama</th><th>Fantasy</th><th>Film-Noir</th><th>Horror</th><th>IMAX</th><th>Musical</th><th>Mystery</th><th>Romance</th><th>Sci-Fi</th><th>Thriller</th><th>War</th><th>Western</th><th>avg_rating</th></tr><tr><td>i64</td><td>str</td><td>i16</td><td>i8</td><td>i8</td><td>i8</td><td>i8</td><td>i8</td><td>i8</td><td>i8</td><td>i8</td><td>i8</td><td>i8</td><td>i8</td><td>i8</td><td>i8</td><td>i8</td><td>i8</td><td>i8</td><td>i8</td><td>i8</td><td>i8</td><td>i8</td><td>f64</td></tr></thead><tbody><tr><td>1</td><td>&quot;Toy Story (1995)&quot;</td><td>1995</td><td>0</td><td>0</td><td>1</td><td>1</td><td>1</td><td>1</td><td>0</td><td>0</td><td>0</td><td>1</td><td>0</td><td>0</td><td>0</td><td>0</td><td>0</td><td>0</td><td>0</td><td>0</td><td>0</td><td>0</td><td>3.7875</td></tr><tr><td>2</td><td>&quot;Jumanji (1995)&quot;</td><td>1995</td><td>0</td><td>0</td><td>1</td><td>0</td><td>1</td><td>0</td><td>0</td><td>0</td><td>0</td><td>1</td><td>0</td><td>0</td><td>0</td><td>0</td><td>0</td><td>0</td><td>0</td><td>0</td><td>0</td><td>0</td><td>3.2125</td></tr><tr><td>3</td><td>&quot;Grumpier Old Men (1995)&quot;</td><td>1995</td><td>0</td><td>0</td><td>0</td><td>0</td><td>0</td><td>1</td><td>0</td><td>0</td><td>0</td><td>0</td><td>0</td><td>0</td><td>0</td><td>0</td><td>0</td><td>1</td><td>0</td><td>0</td><td>0</td><td>0</td><td>3.175</td></tr><tr><td>4</td><td>&quot;Waiting to Exhale (1995)&quot;</td><td>1995</td><td>0</td><td>0</td><td>0</td><td>0</td><td>0</td><td>1</td><td>0</td><td>0</td><td>1</td><td>0</td><td>0</td><td>0</td><td>0</td><td>0</td><td>0</td><td>1</td><td>0</td><td>0</td><td>0</td><td>0</td><td>2.8875</td></tr><tr><td>5</td><td>&quot;Father of the Bride Part II (1…</td><td>1995</td><td>0</td><td>0</td><td>0</td><td>0</td><td>0</td><td>1</td><td>0</td><td>0</td><td>0</td><td>0</td><td>0</td><td>0</td><td>0</td><td>0</td><td>0</td><td>0</td><td>0</td><td>0</td><td>0</td><td>0</td><td>3.0625</td></tr><tr><td>&hellip;</td><td>&hellip;</td><td>&hellip;</td><td>&hellip;</td><td>&hellip;</td><td>&hellip;</td><td>&hellip;</td><td>&hellip;</td><td>&hellip;</td><td>&hellip;</td><td>&hellip;</td><td>&hellip;</td><td>&hellip;</td><td>&hellip;</td><td>&hellip;</td><td>&hellip;</td><td>&hellip;</td><td>&hellip;</td><td>&hellip;</td><td>&hellip;</td><td>&hellip;</td><td>&hellip;</td><td>&hellip;</td><td>&hellip;</td></tr><tr><td>292731</td><td>&quot;The Monroy Affaire (2022)&quot;</td><td>2022</td><td>0</td><td>0</td><td>0</td><td>0</td><td>0</td><td>0</td><td>0</td><td>0</td><td>1</td><td>0</td><td>0</td><td>0</td><td>0</td><td>0</td><td>0</td><td>0</td><td>0</td><td>0</td><td>0</td><td>0</td><td>0.0</td></tr><tr><td>292737</td><td>&quot;Shelter in Solitude (2023)&quot;</td><td>2023</td><td>0</td><td>0</td><td>0</td><td>0</td><td>0</td><td>1</td><td>0</td><td>0</td><td>1</td><td>0</td><td>0</td><td>0</td><td>0</td><td>0</td><td>0</td><td>0</td><td>0</td><td>0</td><td>0</td><td>0</td><td>0.0</td></tr><tr><td>292753</td><td>&quot;Orca (2023)&quot;</td><td>2023</td><td>0</td><td>0</td><td>0</td><td>0</td><td>0</td><td>0</td><td>0</td><td>0</td><td>1</td><td>0</td><td>0</td><td>0</td><td>0</td><td>0</td><td>0</td><td>0</td><td>0</td><td>0</td><td>0</td><td>0</td><td>0.0</td></tr><tr><td>292755</td><td>&quot;The Angry Breed (1968)&quot;</td><td>1968</td><td>0</td><td>0</td><td>0</td><td>0</td><td>0</td><td>0</td><td>0</td><td>0</td><td>1</td><td>0</td><td>0</td><td>0</td><td>0</td><td>0</td><td>0</td><td>0</td><td>0</td><td>0</td><td>0</td><td>0</td><td>0.0</td></tr><tr><td>292757</td><td>&quot;Race to the Summit (2023)&quot;</td><td>2023</td><td>0</td><td>1</td><td>1</td><td>0</td><td>0</td><td>0</td><td>0</td><td>1</td><td>0</td><td>0</td><td>0</td><td>0</td><td>0</td><td>0</td><td>0</td><td>0</td><td>0</td><td>0</td><td>0</td><td>0</td><td>0.0</td></tr></tbody></table></div>"
      ],
      "text/plain": [
       "shape: (87_585, 24)\n",
       "┌─────────┬─────────────────────────────────┬──────┬────────────────────┬───┬──────────┬─────┬─────────┬────────────┐\n",
       "│ movieId ┆ title                           ┆ year ┆ (no genres listed) ┆ … ┆ Thriller ┆ War ┆ Western ┆ avg_rating │\n",
       "│ ---     ┆ ---                             ┆ ---  ┆ ---                ┆   ┆ ---      ┆ --- ┆ ---     ┆ ---        │\n",
       "│ i64     ┆ str                             ┆ i16  ┆ i8                 ┆   ┆ i8       ┆ i8  ┆ i8      ┆ f64        │\n",
       "╞═════════╪═════════════════════════════════╪══════╪════════════════════╪═══╪══════════╪═════╪═════════╪════════════╡\n",
       "│ 1       ┆ Toy Story (1995)                ┆ 1995 ┆ 0                  ┆ … ┆ 0        ┆ 0   ┆ 0       ┆ 3.7875     │\n",
       "│ 2       ┆ Jumanji (1995)                  ┆ 1995 ┆ 0                  ┆ … ┆ 0        ┆ 0   ┆ 0       ┆ 3.2125     │\n",
       "│ 3       ┆ Grumpier Old Men (1995)         ┆ 1995 ┆ 0                  ┆ … ┆ 0        ┆ 0   ┆ 0       ┆ 3.175      │\n",
       "│ 4       ┆ Waiting to Exhale (1995)        ┆ 1995 ┆ 0                  ┆ … ┆ 0        ┆ 0   ┆ 0       ┆ 2.8875     │\n",
       "│ 5       ┆ Father of the Bride Part II (1… ┆ 1995 ┆ 0                  ┆ … ┆ 0        ┆ 0   ┆ 0       ┆ 3.0625     │\n",
       "│ …       ┆ …                               ┆ …    ┆ …                  ┆ … ┆ …        ┆ …   ┆ …       ┆ …          │\n",
       "│ 292731  ┆ The Monroy Affaire (2022)       ┆ 2022 ┆ 0                  ┆ … ┆ 0        ┆ 0   ┆ 0       ┆ 0.0        │\n",
       "│ 292737  ┆ Shelter in Solitude (2023)      ┆ 2023 ┆ 0                  ┆ … ┆ 0        ┆ 0   ┆ 0       ┆ 0.0        │\n",
       "│ 292753  ┆ Orca (2023)                     ┆ 2023 ┆ 0                  ┆ … ┆ 0        ┆ 0   ┆ 0       ┆ 0.0        │\n",
       "│ 292755  ┆ The Angry Breed (1968)          ┆ 1968 ┆ 0                  ┆ … ┆ 0        ┆ 0   ┆ 0       ┆ 0.0        │\n",
       "│ 292757  ┆ Race to the Summit (2023)       ┆ 2023 ┆ 0                  ┆ … ┆ 0        ┆ 0   ┆ 0       ┆ 0.0        │\n",
       "└─────────┴─────────────────────────────────┴──────┴────────────────────┴───┴──────────┴─────┴─────────┴────────────┘"
      ]
     },
     "execution_count": 98,
     "metadata": {},
     "output_type": "execute_result"
    }
   ],
   "source": [
    "movie_features"
   ]
  },
  {
   "cell_type": "code",
   "execution_count": 100,
   "id": "92492ba2-9b0c-4d16-a11a-428299965a15",
   "metadata": {},
   "outputs": [
    {
     "data": {
      "text/html": [
       "<div><style>\n",
       ".dataframe > thead > tr,\n",
       ".dataframe > tbody > tr {\n",
       "  text-align: right;\n",
       "  white-space: pre-wrap;\n",
       "}\n",
       "</style>\n",
       "<small>shape: (92_503, 21)</small><table border=\"1\" class=\"dataframe\"><thead><tr><th>userId</th><th>Horror</th><th>Romance</th><th>Thriller</th><th>Drama</th><th>Action</th><th>Musical</th><th>Sci-Fi</th><th>Comedy</th><th>Adventure</th><th>Animation</th><th>Crime</th><th>Fantasy</th><th>Film-Noir</th><th>IMAX</th><th>War</th><th>Documentary</th><th>Mystery</th><th>Western</th><th>Children</th><th>(no genres listed)</th></tr><tr><td>i64</td><td>f64</td><td>f64</td><td>f64</td><td>f64</td><td>f64</td><td>f64</td><td>f64</td><td>f64</td><td>f64</td><td>f64</td><td>f64</td><td>f64</td><td>f64</td><td>f64</td><td>f64</td><td>f64</td><td>f64</td><td>f64</td><td>f64</td><td>f64</td></tr></thead><tbody><tr><td>55660</td><td>2.5</td><td>3.5</td><td>2.5</td><td>3.416667</td><td>2.666667</td><td>4.0</td><td>0.0</td><td>2.625</td><td>3.0</td><td>0.0</td><td>0.0</td><td>2.5</td><td>0.0</td><td>0.0</td><td>0.0</td><td>0.0</td><td>3.25</td><td>0.0</td><td>3.5</td><td>0.0</td></tr><tr><td>19689</td><td>0.0</td><td>3.0</td><td>0.0</td><td>0.0</td><td>0.0</td><td>0.0</td><td>0.0</td><td>0.0</td><td>3.0</td><td>0.0</td><td>0.0</td><td>0.0</td><td>0.0</td><td>0.0</td><td>0.0</td><td>0.0</td><td>0.0</td><td>0.0</td><td>0.0</td><td>0.0</td></tr><tr><td>124901</td><td>5.0</td><td>0.0</td><td>5.0</td><td>0.0</td><td>0.0</td><td>0.0</td><td>0.0</td><td>0.0</td><td>0.0</td><td>0.0</td><td>0.0</td><td>0.0</td><td>0.0</td><td>0.0</td><td>0.0</td><td>0.0</td><td>0.0</td><td>0.0</td><td>0.0</td><td>0.0</td></tr><tr><td>38247</td><td>2.5</td><td>3.0</td><td>3.0</td><td>2.833333</td><td>3.0</td><td>0.0</td><td>3.0</td><td>2.75</td><td>3.0</td><td>0.0</td><td>3.0</td><td>0.0</td><td>0.0</td><td>0.0</td><td>0.0</td><td>0.0</td><td>0.0</td><td>3.5</td><td>0.0</td><td>0.0</td></tr><tr><td>25936</td><td>0.0</td><td>3.5</td><td>3.0</td><td>3.285714</td><td>3.75</td><td>0.0</td><td>4.0</td><td>2.5</td><td>3.75</td><td>0.0</td><td>0.0</td><td>0.0</td><td>0.0</td><td>0.0</td><td>2.5</td><td>0.0</td><td>0.0</td><td>0.0</td><td>0.0</td><td>0.0</td></tr><tr><td>&hellip;</td><td>&hellip;</td><td>&hellip;</td><td>&hellip;</td><td>&hellip;</td><td>&hellip;</td><td>&hellip;</td><td>&hellip;</td><td>&hellip;</td><td>&hellip;</td><td>&hellip;</td><td>&hellip;</td><td>&hellip;</td><td>&hellip;</td><td>&hellip;</td><td>&hellip;</td><td>&hellip;</td><td>&hellip;</td><td>&hellip;</td><td>&hellip;</td><td>&hellip;</td></tr><tr><td>151918</td><td>0.0</td><td>0.0</td><td>0.0</td><td>0.0</td><td>0.0</td><td>0.0</td><td>0.0</td><td>3.0</td><td>0.0</td><td>0.0</td><td>0.0</td><td>0.0</td><td>0.0</td><td>0.0</td><td>0.0</td><td>0.0</td><td>0.0</td><td>0.0</td><td>0.0</td><td>0.0</td></tr><tr><td>149758</td><td>0.0</td><td>0.0</td><td>4.5</td><td>0.0</td><td>0.0</td><td>0.0</td><td>0.0</td><td>0.0</td><td>0.0</td><td>0.0</td><td>0.0</td><td>0.0</td><td>0.0</td><td>0.0</td><td>0.0</td><td>0.0</td><td>0.0</td><td>0.0</td><td>0.0</td><td>0.0</td></tr><tr><td>180684</td><td>0.0</td><td>0.0</td><td>0.0</td><td>0.0</td><td>0.0</td><td>0.0</td><td>0.0</td><td>3.75</td><td>0.0</td><td>0.0</td><td>0.0</td><td>0.0</td><td>0.0</td><td>0.0</td><td>0.0</td><td>0.0</td><td>0.0</td><td>0.0</td><td>0.0</td><td>0.0</td></tr><tr><td>20308</td><td>0.0</td><td>0.0</td><td>0.0</td><td>0.0</td><td>0.0</td><td>0.0</td><td>0.0</td><td>0.0</td><td>0.0</td><td>0.0</td><td>0.0</td><td>0.0</td><td>0.0</td><td>0.0</td><td>0.0</td><td>3.5</td><td>0.0</td><td>0.0</td><td>0.0</td><td>0.0</td></tr><tr><td>188983</td><td>0.0</td><td>0.0</td><td>0.0</td><td>0.0</td><td>0.0</td><td>0.0</td><td>0.0</td><td>4.0</td><td>0.0</td><td>0.0</td><td>0.0</td><td>0.0</td><td>0.0</td><td>0.0</td><td>0.0</td><td>0.0</td><td>0.0</td><td>0.0</td><td>0.0</td><td>0.0</td></tr></tbody></table></div>"
      ],
      "text/plain": [
       "shape: (92_503, 21)\n",
       "┌────────┬────────┬─────────┬──────────┬───┬─────────┬─────────┬──────────┬────────────────────┐\n",
       "│ userId ┆ Horror ┆ Romance ┆ Thriller ┆ … ┆ Mystery ┆ Western ┆ Children ┆ (no genres listed) │\n",
       "│ ---    ┆ ---    ┆ ---     ┆ ---      ┆   ┆ ---     ┆ ---     ┆ ---      ┆ ---                │\n",
       "│ i64    ┆ f64    ┆ f64     ┆ f64      ┆   ┆ f64     ┆ f64     ┆ f64      ┆ f64                │\n",
       "╞════════╪════════╪═════════╪══════════╪═══╪═════════╪═════════╪══════════╪════════════════════╡\n",
       "│ 55660  ┆ 2.5    ┆ 3.5     ┆ 2.5      ┆ … ┆ 3.25    ┆ 0.0     ┆ 3.5      ┆ 0.0                │\n",
       "│ 19689  ┆ 0.0    ┆ 3.0     ┆ 0.0      ┆ … ┆ 0.0     ┆ 0.0     ┆ 0.0      ┆ 0.0                │\n",
       "│ 124901 ┆ 5.0    ┆ 0.0     ┆ 5.0      ┆ … ┆ 0.0     ┆ 0.0     ┆ 0.0      ┆ 0.0                │\n",
       "│ 38247  ┆ 2.5    ┆ 3.0     ┆ 3.0      ┆ … ┆ 0.0     ┆ 3.5     ┆ 0.0      ┆ 0.0                │\n",
       "│ 25936  ┆ 0.0    ┆ 3.5     ┆ 3.0      ┆ … ┆ 0.0     ┆ 0.0     ┆ 0.0      ┆ 0.0                │\n",
       "│ …      ┆ …      ┆ …       ┆ …        ┆ … ┆ …       ┆ …       ┆ …        ┆ …                  │\n",
       "│ 151918 ┆ 0.0    ┆ 0.0     ┆ 0.0      ┆ … ┆ 0.0     ┆ 0.0     ┆ 0.0      ┆ 0.0                │\n",
       "│ 149758 ┆ 0.0    ┆ 0.0     ┆ 4.5      ┆ … ┆ 0.0     ┆ 0.0     ┆ 0.0      ┆ 0.0                │\n",
       "│ 180684 ┆ 0.0    ┆ 0.0     ┆ 0.0      ┆ … ┆ 0.0     ┆ 0.0     ┆ 0.0      ┆ 0.0                │\n",
       "│ 20308  ┆ 0.0    ┆ 0.0     ┆ 0.0      ┆ … ┆ 0.0     ┆ 0.0     ┆ 0.0      ┆ 0.0                │\n",
       "│ 188983 ┆ 0.0    ┆ 0.0     ┆ 0.0      ┆ … ┆ 0.0     ┆ 0.0     ┆ 0.0      ┆ 0.0                │\n",
       "└────────┴────────┴─────────┴──────────┴───┴─────────┴─────────┴──────────┴────────────────────┘"
      ]
     },
     "execution_count": 100,
     "metadata": {},
     "output_type": "execute_result"
    }
   ],
   "source": [
    "user_feature"
   ]
  },
  {
   "cell_type": "code",
   "execution_count": 102,
   "id": "960c5b27-f4ee-4625-acbf-5eda10492ffd",
   "metadata": {},
   "outputs": [
    {
     "data": {
      "text/html": [
       "<div><style>\n",
       ".dataframe > thead > tr,\n",
       ".dataframe > tbody > tr {\n",
       "  text-align: right;\n",
       "  white-space: pre-wrap;\n",
       "}\n",
       "</style>\n",
       "<small>shape: (1, 3)</small><table border=\"1\" class=\"dataframe\"><thead><tr><th>movieId</th><th>title</th><th>avg_rating</th></tr><tr><td>i64</td><td>str</td><td>f64</td></tr></thead><tbody><tr><td>170705</td><td>&quot;Band of Brothers (2001)&quot;</td><td>4.6125</td></tr></tbody></table></div>"
      ],
      "text/plain": [
       "shape: (1, 3)\n",
       "┌─────────┬─────────────────────────┬────────────┐\n",
       "│ movieId ┆ title                   ┆ avg_rating │\n",
       "│ ---     ┆ ---                     ┆ ---        │\n",
       "│ i64     ┆ str                     ┆ f64        │\n",
       "╞═════════╪═════════════════════════╪════════════╡\n",
       "│ 170705  ┆ Band of Brothers (2001) ┆ 4.6125     │\n",
       "└─────────┴─────────────────────────┴────────────┘"
      ]
     },
     "execution_count": 102,
     "metadata": {},
     "output_type": "execute_result"
    }
   ],
   "source": [
    "movie_features.sort('avg_rating')[-1]['movieId','title', 'avg_rating']"
   ]
  },
  {
   "cell_type": "code",
   "execution_count": 104,
   "id": "a80d91d1-6005-4c25-b520-c098f5294e26",
   "metadata": {},
   "outputs": [
    {
     "data": {
      "text/plain": [
       "4.5"
      ]
     },
     "execution_count": 104,
     "metadata": {},
     "output_type": "execute_result"
    }
   ],
   "source": [
    "user_train.filter(pl.col('movieId') == 858)['rating'].mean()"
   ]
  },
  {
   "cell_type": "code",
   "execution_count": 106,
   "id": "599298da-2128-44b8-9b64-cc83d9c10dff",
   "metadata": {},
   "outputs": [],
   "source": [
    "movie_features = movie_features.select(['movieId', 'title','year','avg_rating', *unique_genres])"
   ]
  },
  {
   "cell_type": "code",
   "execution_count": 108,
   "id": "4de62e46-766f-4e72-a8d1-da61e8b5b7c1",
   "metadata": {},
   "outputs": [
    {
     "data": {
      "text/html": [
       "<div><style>\n",
       ".dataframe > thead > tr,\n",
       ".dataframe > tbody > tr {\n",
       "  text-align: right;\n",
       "  white-space: pre-wrap;\n",
       "}\n",
       "</style>\n",
       "<small>shape: (87_585, 24)</small><table border=\"1\" class=\"dataframe\"><thead><tr><th>movieId</th><th>title</th><th>year</th><th>avg_rating</th><th>(no genres listed)</th><th>Action</th><th>Adventure</th><th>Animation</th><th>Children</th><th>Comedy</th><th>Crime</th><th>Documentary</th><th>Drama</th><th>Fantasy</th><th>Film-Noir</th><th>Horror</th><th>IMAX</th><th>Musical</th><th>Mystery</th><th>Romance</th><th>Sci-Fi</th><th>Thriller</th><th>War</th><th>Western</th></tr><tr><td>i64</td><td>str</td><td>i16</td><td>f64</td><td>i8</td><td>i8</td><td>i8</td><td>i8</td><td>i8</td><td>i8</td><td>i8</td><td>i8</td><td>i8</td><td>i8</td><td>i8</td><td>i8</td><td>i8</td><td>i8</td><td>i8</td><td>i8</td><td>i8</td><td>i8</td><td>i8</td><td>i8</td></tr></thead><tbody><tr><td>1</td><td>&quot;Toy Story (1995)&quot;</td><td>1995</td><td>3.7875</td><td>0</td><td>0</td><td>1</td><td>1</td><td>1</td><td>1</td><td>0</td><td>0</td><td>0</td><td>1</td><td>0</td><td>0</td><td>0</td><td>0</td><td>0</td><td>0</td><td>0</td><td>0</td><td>0</td><td>0</td></tr><tr><td>2</td><td>&quot;Jumanji (1995)&quot;</td><td>1995</td><td>3.2125</td><td>0</td><td>0</td><td>1</td><td>0</td><td>1</td><td>0</td><td>0</td><td>0</td><td>0</td><td>1</td><td>0</td><td>0</td><td>0</td><td>0</td><td>0</td><td>0</td><td>0</td><td>0</td><td>0</td><td>0</td></tr><tr><td>3</td><td>&quot;Grumpier Old Men (1995)&quot;</td><td>1995</td><td>3.175</td><td>0</td><td>0</td><td>0</td><td>0</td><td>0</td><td>1</td><td>0</td><td>0</td><td>0</td><td>0</td><td>0</td><td>0</td><td>0</td><td>0</td><td>0</td><td>1</td><td>0</td><td>0</td><td>0</td><td>0</td></tr><tr><td>4</td><td>&quot;Waiting to Exhale (1995)&quot;</td><td>1995</td><td>2.8875</td><td>0</td><td>0</td><td>0</td><td>0</td><td>0</td><td>1</td><td>0</td><td>0</td><td>1</td><td>0</td><td>0</td><td>0</td><td>0</td><td>0</td><td>0</td><td>1</td><td>0</td><td>0</td><td>0</td><td>0</td></tr><tr><td>5</td><td>&quot;Father of the Bride Part II (1…</td><td>1995</td><td>3.0625</td><td>0</td><td>0</td><td>0</td><td>0</td><td>0</td><td>1</td><td>0</td><td>0</td><td>0</td><td>0</td><td>0</td><td>0</td><td>0</td><td>0</td><td>0</td><td>0</td><td>0</td><td>0</td><td>0</td><td>0</td></tr><tr><td>&hellip;</td><td>&hellip;</td><td>&hellip;</td><td>&hellip;</td><td>&hellip;</td><td>&hellip;</td><td>&hellip;</td><td>&hellip;</td><td>&hellip;</td><td>&hellip;</td><td>&hellip;</td><td>&hellip;</td><td>&hellip;</td><td>&hellip;</td><td>&hellip;</td><td>&hellip;</td><td>&hellip;</td><td>&hellip;</td><td>&hellip;</td><td>&hellip;</td><td>&hellip;</td><td>&hellip;</td><td>&hellip;</td><td>&hellip;</td></tr><tr><td>292731</td><td>&quot;The Monroy Affaire (2022)&quot;</td><td>2022</td><td>0.0</td><td>0</td><td>0</td><td>0</td><td>0</td><td>0</td><td>0</td><td>0</td><td>0</td><td>1</td><td>0</td><td>0</td><td>0</td><td>0</td><td>0</td><td>0</td><td>0</td><td>0</td><td>0</td><td>0</td><td>0</td></tr><tr><td>292737</td><td>&quot;Shelter in Solitude (2023)&quot;</td><td>2023</td><td>0.0</td><td>0</td><td>0</td><td>0</td><td>0</td><td>0</td><td>1</td><td>0</td><td>0</td><td>1</td><td>0</td><td>0</td><td>0</td><td>0</td><td>0</td><td>0</td><td>0</td><td>0</td><td>0</td><td>0</td><td>0</td></tr><tr><td>292753</td><td>&quot;Orca (2023)&quot;</td><td>2023</td><td>0.0</td><td>0</td><td>0</td><td>0</td><td>0</td><td>0</td><td>0</td><td>0</td><td>0</td><td>1</td><td>0</td><td>0</td><td>0</td><td>0</td><td>0</td><td>0</td><td>0</td><td>0</td><td>0</td><td>0</td><td>0</td></tr><tr><td>292755</td><td>&quot;The Angry Breed (1968)&quot;</td><td>1968</td><td>0.0</td><td>0</td><td>0</td><td>0</td><td>0</td><td>0</td><td>0</td><td>0</td><td>0</td><td>1</td><td>0</td><td>0</td><td>0</td><td>0</td><td>0</td><td>0</td><td>0</td><td>0</td><td>0</td><td>0</td><td>0</td></tr><tr><td>292757</td><td>&quot;Race to the Summit (2023)&quot;</td><td>2023</td><td>0.0</td><td>0</td><td>1</td><td>1</td><td>0</td><td>0</td><td>0</td><td>0</td><td>1</td><td>0</td><td>0</td><td>0</td><td>0</td><td>0</td><td>0</td><td>0</td><td>0</td><td>0</td><td>0</td><td>0</td><td>0</td></tr></tbody></table></div>"
      ],
      "text/plain": [
       "shape: (87_585, 24)\n",
       "┌─────────┬─────────────────────────────────┬──────┬────────────┬───┬────────┬──────────┬─────┬─────────┐\n",
       "│ movieId ┆ title                           ┆ year ┆ avg_rating ┆ … ┆ Sci-Fi ┆ Thriller ┆ War ┆ Western │\n",
       "│ ---     ┆ ---                             ┆ ---  ┆ ---        ┆   ┆ ---    ┆ ---      ┆ --- ┆ ---     │\n",
       "│ i64     ┆ str                             ┆ i16  ┆ f64        ┆   ┆ i8     ┆ i8       ┆ i8  ┆ i8      │\n",
       "╞═════════╪═════════════════════════════════╪══════╪════════════╪═══╪════════╪══════════╪═════╪═════════╡\n",
       "│ 1       ┆ Toy Story (1995)                ┆ 1995 ┆ 3.7875     ┆ … ┆ 0      ┆ 0        ┆ 0   ┆ 0       │\n",
       "│ 2       ┆ Jumanji (1995)                  ┆ 1995 ┆ 3.2125     ┆ … ┆ 0      ┆ 0        ┆ 0   ┆ 0       │\n",
       "│ 3       ┆ Grumpier Old Men (1995)         ┆ 1995 ┆ 3.175      ┆ … ┆ 0      ┆ 0        ┆ 0   ┆ 0       │\n",
       "│ 4       ┆ Waiting to Exhale (1995)        ┆ 1995 ┆ 2.8875     ┆ … ┆ 0      ┆ 0        ┆ 0   ┆ 0       │\n",
       "│ 5       ┆ Father of the Bride Part II (1… ┆ 1995 ┆ 3.0625     ┆ … ┆ 0      ┆ 0        ┆ 0   ┆ 0       │\n",
       "│ …       ┆ …                               ┆ …    ┆ …          ┆ … ┆ …      ┆ …        ┆ …   ┆ …       │\n",
       "│ 292731  ┆ The Monroy Affaire (2022)       ┆ 2022 ┆ 0.0        ┆ … ┆ 0      ┆ 0        ┆ 0   ┆ 0       │\n",
       "│ 292737  ┆ Shelter in Solitude (2023)      ┆ 2023 ┆ 0.0        ┆ … ┆ 0      ┆ 0        ┆ 0   ┆ 0       │\n",
       "│ 292753  ┆ Orca (2023)                     ┆ 2023 ┆ 0.0        ┆ … ┆ 0      ┆ 0        ┆ 0   ┆ 0       │\n",
       "│ 292755  ┆ The Angry Breed (1968)          ┆ 1968 ┆ 0.0        ┆ … ┆ 0      ┆ 0        ┆ 0   ┆ 0       │\n",
       "│ 292757  ┆ Race to the Summit (2023)       ┆ 2023 ┆ 0.0        ┆ … ┆ 0      ┆ 0        ┆ 0   ┆ 0       │\n",
       "└─────────┴─────────────────────────────────┴──────┴────────────┴───┴────────┴──────────┴─────┴─────────┘"
      ]
     },
     "execution_count": 108,
     "metadata": {},
     "output_type": "execute_result"
    }
   ],
   "source": [
    "movie_features"
   ]
  },
  {
   "cell_type": "code",
   "execution_count": 110,
   "id": "17541570-3baf-4ba7-80a3-b1209e71dda5",
   "metadata": {},
   "outputs": [
    {
     "data": {
      "text/html": [
       "<div><style>\n",
       ".dataframe > thead > tr,\n",
       ".dataframe > tbody > tr {\n",
       "  text-align: right;\n",
       "  white-space: pre-wrap;\n",
       "}\n",
       "</style>\n",
       "<small>shape: (92_503, 21)</small><table border=\"1\" class=\"dataframe\"><thead><tr><th>userId</th><th>Horror</th><th>Romance</th><th>Thriller</th><th>Drama</th><th>Action</th><th>Musical</th><th>Sci-Fi</th><th>Comedy</th><th>Adventure</th><th>Animation</th><th>Crime</th><th>Fantasy</th><th>Film-Noir</th><th>IMAX</th><th>War</th><th>Documentary</th><th>Mystery</th><th>Western</th><th>Children</th><th>(no genres listed)</th></tr><tr><td>i64</td><td>f64</td><td>f64</td><td>f64</td><td>f64</td><td>f64</td><td>f64</td><td>f64</td><td>f64</td><td>f64</td><td>f64</td><td>f64</td><td>f64</td><td>f64</td><td>f64</td><td>f64</td><td>f64</td><td>f64</td><td>f64</td><td>f64</td><td>f64</td></tr></thead><tbody><tr><td>55660</td><td>2.5</td><td>3.5</td><td>2.5</td><td>3.416667</td><td>2.666667</td><td>4.0</td><td>0.0</td><td>2.625</td><td>3.0</td><td>0.0</td><td>0.0</td><td>2.5</td><td>0.0</td><td>0.0</td><td>0.0</td><td>0.0</td><td>3.25</td><td>0.0</td><td>3.5</td><td>0.0</td></tr><tr><td>19689</td><td>0.0</td><td>3.0</td><td>0.0</td><td>0.0</td><td>0.0</td><td>0.0</td><td>0.0</td><td>0.0</td><td>3.0</td><td>0.0</td><td>0.0</td><td>0.0</td><td>0.0</td><td>0.0</td><td>0.0</td><td>0.0</td><td>0.0</td><td>0.0</td><td>0.0</td><td>0.0</td></tr><tr><td>124901</td><td>5.0</td><td>0.0</td><td>5.0</td><td>0.0</td><td>0.0</td><td>0.0</td><td>0.0</td><td>0.0</td><td>0.0</td><td>0.0</td><td>0.0</td><td>0.0</td><td>0.0</td><td>0.0</td><td>0.0</td><td>0.0</td><td>0.0</td><td>0.0</td><td>0.0</td><td>0.0</td></tr><tr><td>38247</td><td>2.5</td><td>3.0</td><td>3.0</td><td>2.833333</td><td>3.0</td><td>0.0</td><td>3.0</td><td>2.75</td><td>3.0</td><td>0.0</td><td>3.0</td><td>0.0</td><td>0.0</td><td>0.0</td><td>0.0</td><td>0.0</td><td>0.0</td><td>3.5</td><td>0.0</td><td>0.0</td></tr><tr><td>25936</td><td>0.0</td><td>3.5</td><td>3.0</td><td>3.285714</td><td>3.75</td><td>0.0</td><td>4.0</td><td>2.5</td><td>3.75</td><td>0.0</td><td>0.0</td><td>0.0</td><td>0.0</td><td>0.0</td><td>2.5</td><td>0.0</td><td>0.0</td><td>0.0</td><td>0.0</td><td>0.0</td></tr><tr><td>&hellip;</td><td>&hellip;</td><td>&hellip;</td><td>&hellip;</td><td>&hellip;</td><td>&hellip;</td><td>&hellip;</td><td>&hellip;</td><td>&hellip;</td><td>&hellip;</td><td>&hellip;</td><td>&hellip;</td><td>&hellip;</td><td>&hellip;</td><td>&hellip;</td><td>&hellip;</td><td>&hellip;</td><td>&hellip;</td><td>&hellip;</td><td>&hellip;</td><td>&hellip;</td></tr><tr><td>151918</td><td>0.0</td><td>0.0</td><td>0.0</td><td>0.0</td><td>0.0</td><td>0.0</td><td>0.0</td><td>3.0</td><td>0.0</td><td>0.0</td><td>0.0</td><td>0.0</td><td>0.0</td><td>0.0</td><td>0.0</td><td>0.0</td><td>0.0</td><td>0.0</td><td>0.0</td><td>0.0</td></tr><tr><td>149758</td><td>0.0</td><td>0.0</td><td>4.5</td><td>0.0</td><td>0.0</td><td>0.0</td><td>0.0</td><td>0.0</td><td>0.0</td><td>0.0</td><td>0.0</td><td>0.0</td><td>0.0</td><td>0.0</td><td>0.0</td><td>0.0</td><td>0.0</td><td>0.0</td><td>0.0</td><td>0.0</td></tr><tr><td>180684</td><td>0.0</td><td>0.0</td><td>0.0</td><td>0.0</td><td>0.0</td><td>0.0</td><td>0.0</td><td>3.75</td><td>0.0</td><td>0.0</td><td>0.0</td><td>0.0</td><td>0.0</td><td>0.0</td><td>0.0</td><td>0.0</td><td>0.0</td><td>0.0</td><td>0.0</td><td>0.0</td></tr><tr><td>20308</td><td>0.0</td><td>0.0</td><td>0.0</td><td>0.0</td><td>0.0</td><td>0.0</td><td>0.0</td><td>0.0</td><td>0.0</td><td>0.0</td><td>0.0</td><td>0.0</td><td>0.0</td><td>0.0</td><td>0.0</td><td>3.5</td><td>0.0</td><td>0.0</td><td>0.0</td><td>0.0</td></tr><tr><td>188983</td><td>0.0</td><td>0.0</td><td>0.0</td><td>0.0</td><td>0.0</td><td>0.0</td><td>0.0</td><td>4.0</td><td>0.0</td><td>0.0</td><td>0.0</td><td>0.0</td><td>0.0</td><td>0.0</td><td>0.0</td><td>0.0</td><td>0.0</td><td>0.0</td><td>0.0</td><td>0.0</td></tr></tbody></table></div>"
      ],
      "text/plain": [
       "shape: (92_503, 21)\n",
       "┌────────┬────────┬─────────┬──────────┬───┬─────────┬─────────┬──────────┬────────────────────┐\n",
       "│ userId ┆ Horror ┆ Romance ┆ Thriller ┆ … ┆ Mystery ┆ Western ┆ Children ┆ (no genres listed) │\n",
       "│ ---    ┆ ---    ┆ ---     ┆ ---      ┆   ┆ ---     ┆ ---     ┆ ---      ┆ ---                │\n",
       "│ i64    ┆ f64    ┆ f64     ┆ f64      ┆   ┆ f64     ┆ f64     ┆ f64      ┆ f64                │\n",
       "╞════════╪════════╪═════════╪══════════╪═══╪═════════╪═════════╪══════════╪════════════════════╡\n",
       "│ 55660  ┆ 2.5    ┆ 3.5     ┆ 2.5      ┆ … ┆ 3.25    ┆ 0.0     ┆ 3.5      ┆ 0.0                │\n",
       "│ 19689  ┆ 0.0    ┆ 3.0     ┆ 0.0      ┆ … ┆ 0.0     ┆ 0.0     ┆ 0.0      ┆ 0.0                │\n",
       "│ 124901 ┆ 5.0    ┆ 0.0     ┆ 5.0      ┆ … ┆ 0.0     ┆ 0.0     ┆ 0.0      ┆ 0.0                │\n",
       "│ 38247  ┆ 2.5    ┆ 3.0     ┆ 3.0      ┆ … ┆ 0.0     ┆ 3.5     ┆ 0.0      ┆ 0.0                │\n",
       "│ 25936  ┆ 0.0    ┆ 3.5     ┆ 3.0      ┆ … ┆ 0.0     ┆ 0.0     ┆ 0.0      ┆ 0.0                │\n",
       "│ …      ┆ …      ┆ …       ┆ …        ┆ … ┆ …       ┆ …       ┆ …        ┆ …                  │\n",
       "│ 151918 ┆ 0.0    ┆ 0.0     ┆ 0.0      ┆ … ┆ 0.0     ┆ 0.0     ┆ 0.0      ┆ 0.0                │\n",
       "│ 149758 ┆ 0.0    ┆ 0.0     ┆ 4.5      ┆ … ┆ 0.0     ┆ 0.0     ┆ 0.0      ┆ 0.0                │\n",
       "│ 180684 ┆ 0.0    ┆ 0.0     ┆ 0.0      ┆ … ┆ 0.0     ┆ 0.0     ┆ 0.0      ┆ 0.0                │\n",
       "│ 20308  ┆ 0.0    ┆ 0.0     ┆ 0.0      ┆ … ┆ 0.0     ┆ 0.0     ┆ 0.0      ┆ 0.0                │\n",
       "│ 188983 ┆ 0.0    ┆ 0.0     ┆ 0.0      ┆ … ┆ 0.0     ┆ 0.0     ┆ 0.0      ┆ 0.0                │\n",
       "└────────┴────────┴─────────┴──────────┴───┴─────────┴─────────┴──────────┴────────────────────┘"
      ]
     },
     "execution_count": 110,
     "metadata": {},
     "output_type": "execute_result"
    }
   ],
   "source": [
    "user_feature"
   ]
  },
  {
   "cell_type": "code",
   "execution_count": 112,
   "id": "12ee2cfb-be0f-45e0-b08d-2052988ae488",
   "metadata": {},
   "outputs": [
    {
     "name": "stdout",
     "output_type": "stream",
     "text": [
      "['userId', 'Horror', 'Romance', 'Thriller', 'Drama', 'Action', 'Musical', 'Sci-Fi', 'Comedy', 'Adventure', 'Animation', 'Crime', 'Fantasy', 'Film-Noir', 'IMAX', 'War', 'Documentary', 'Mystery', 'Western', 'Children', '(no genres listed)']\n",
      "['movieId', 'title', 'year', 'avg_rating', '(no genres listed)', 'Action', 'Adventure', 'Animation', 'Children', 'Comedy', 'Crime', 'Documentary', 'Drama', 'Fantasy', 'Film-Noir', 'Horror', 'IMAX', 'Musical', 'Mystery', 'Romance', 'Sci-Fi', 'Thriller', 'War', 'Western']\n"
     ]
    }
   ],
   "source": [
    "print(user_feature.columns, movie_features.columns, sep = '\\n')"
   ]
  },
  {
   "cell_type": "code",
   "execution_count": 114,
   "id": "d6aeaca2-dc9b-48f0-99f4-ecc50801407a",
   "metadata": {},
   "outputs": [
    {
     "data": {
      "text/plain": [
       "{'avg_rating', 'movieId', 'title', 'year'}"
      ]
     },
     "execution_count": 114,
     "metadata": {},
     "output_type": "execute_result"
    }
   ],
   "source": [
    "set(movie_features.columns) - set(user_feature.columns)"
   ]
  },
  {
   "cell_type": "code",
   "execution_count": 116,
   "id": "892347b2-5700-44a7-8ec8-9585de2f121a",
   "metadata": {},
   "outputs": [
    {
     "data": {
      "text/plain": [
       "{'userId'}"
      ]
     },
     "execution_count": 116,
     "metadata": {},
     "output_type": "execute_result"
    }
   ],
   "source": [
    "set(user_feature.columns) - set(movie_features.columns)"
   ]
  },
  {
   "cell_type": "code",
   "execution_count": 118,
   "id": "af61e733-52c9-409e-b25f-52b2c50e2300",
   "metadata": {},
   "outputs": [
    {
     "data": {
      "text/plain": [
       "['userId',\n",
       " 'Horror',\n",
       " 'Romance',\n",
       " 'Thriller',\n",
       " 'Drama',\n",
       " 'Action',\n",
       " 'Musical',\n",
       " 'Sci-Fi',\n",
       " 'Comedy',\n",
       " 'Adventure',\n",
       " 'Animation',\n",
       " 'Crime',\n",
       " 'Fantasy',\n",
       " 'Film-Noir',\n",
       " 'IMAX',\n",
       " 'War',\n",
       " 'Documentary',\n",
       " 'Mystery',\n",
       " 'Western',\n",
       " 'Children',\n",
       " '(no genres listed)']"
      ]
     },
     "execution_count": 118,
     "metadata": {},
     "output_type": "execute_result"
    }
   ],
   "source": [
    "user_feature.columns"
   ]
  },
  {
   "cell_type": "code",
   "execution_count": 120,
   "id": "14ab786a-6504-4901-9639-487d1d936a5a",
   "metadata": {},
   "outputs": [],
   "source": [
    "df = user_train.join(user_feature, on=\"userId\", how=\"inner\").join(movie_features, on=\"movieId\", how=\"inner\")"
   ]
  },
  {
   "cell_type": "code",
   "execution_count": 122,
   "id": "6f364ffd-7df3-42eb-aed3-99fe2fd0b61f",
   "metadata": {},
   "outputs": [
    {
     "data": {
      "text/html": [
       "<div><style>\n",
       ".dataframe > thead > tr,\n",
       ".dataframe > tbody > tr {\n",
       "  text-align: right;\n",
       "  white-space: pre-wrap;\n",
       "}\n",
       "</style>\n",
       "<small>shape: (694_000, 47)</small><table border=\"1\" class=\"dataframe\"><thead><tr><th>userId</th><th>movieId</th><th>rating</th><th>#ratings_film</th><th>Horror</th><th>Romance</th><th>Thriller</th><th>Drama</th><th>Action</th><th>Musical</th><th>Sci-Fi</th><th>Comedy</th><th>Adventure</th><th>Animation</th><th>Crime</th><th>Fantasy</th><th>Film-Noir</th><th>IMAX</th><th>War</th><th>Documentary</th><th>Mystery</th><th>Western</th><th>Children</th><th>(no genres listed)</th><th>title</th><th>year</th><th>avg_rating</th><th>(no genres listed)_right</th><th>Action_right</th><th>Adventure_right</th><th>Animation_right</th><th>Children_right</th><th>Comedy_right</th><th>Crime_right</th><th>Documentary_right</th><th>Drama_right</th><th>Fantasy_right</th><th>Film-Noir_right</th><th>Horror_right</th><th>IMAX_right</th><th>Musical_right</th><th>Mystery_right</th><th>Romance_right</th><th>Sci-Fi_right</th><th>Thriller_right</th><th>War_right</th><th>Western_right</th></tr><tr><td>i64</td><td>i64</td><td>f64</td><td>u32</td><td>f64</td><td>f64</td><td>f64</td><td>f64</td><td>f64</td><td>f64</td><td>f64</td><td>f64</td><td>f64</td><td>f64</td><td>f64</td><td>f64</td><td>f64</td><td>f64</td><td>f64</td><td>f64</td><td>f64</td><td>f64</td><td>f64</td><td>f64</td><td>str</td><td>i16</td><td>f64</td><td>i8</td><td>i8</td><td>i8</td><td>i8</td><td>i8</td><td>i8</td><td>i8</td><td>i8</td><td>i8</td><td>i8</td><td>i8</td><td>i8</td><td>i8</td><td>i8</td><td>i8</td><td>i8</td><td>i8</td><td>i8</td><td>i8</td><td>i8</td></tr></thead><tbody><tr><td>31854</td><td>1</td><td>3.5</td><td>68997</td><td>3.0</td><td>2.833333</td><td>3.5</td><td>4.5</td><td>3.346154</td><td>0.0</td><td>3.6</td><td>2.583333</td><td>3.142857</td><td>3.0</td><td>2.833333</td><td>3.083333</td><td>0.0</td><td>0.0</td><td>4.5</td><td>0.0</td><td>4.25</td><td>0.0</td><td>2.083333</td><td>0.0</td><td>&quot;Toy Story (1995)&quot;</td><td>1995</td><td>3.7875</td><td>0</td><td>0</td><td>1</td><td>1</td><td>1</td><td>1</td><td>0</td><td>0</td><td>0</td><td>1</td><td>0</td><td>0</td><td>0</td><td>0</td><td>0</td><td>0</td><td>0</td><td>0</td><td>0</td><td>0</td></tr><tr><td>61093</td><td>1</td><td>4.0</td><td>68997</td><td>4.0</td><td>3.357143</td><td>3.444444</td><td>3.55</td><td>3.125</td><td>0.0</td><td>3.0</td><td>3.26</td><td>3.05</td><td>2.75</td><td>3.875</td><td>3.3</td><td>0.0</td><td>0.0</td><td>3.5</td><td>0.0</td><td>3.666667</td><td>0.0</td><td>2.944444</td><td>3.5</td><td>&quot;Toy Story (1995)&quot;</td><td>1995</td><td>3.7875</td><td>0</td><td>0</td><td>1</td><td>1</td><td>1</td><td>1</td><td>0</td><td>0</td><td>0</td><td>1</td><td>0</td><td>0</td><td>0</td><td>0</td><td>0</td><td>0</td><td>0</td><td>0</td><td>0</td><td>0</td></tr><tr><td>59420</td><td>1</td><td>3.5</td><td>68997</td><td>0.0</td><td>0.0</td><td>0.0</td><td>0.0</td><td>0.0</td><td>0.0</td><td>0.0</td><td>3.75</td><td>3.5</td><td>3.5</td><td>0.0</td><td>3.5</td><td>0.0</td><td>0.0</td><td>0.0</td><td>0.0</td><td>0.0</td><td>0.0</td><td>3.5</td><td>0.0</td><td>&quot;Toy Story (1995)&quot;</td><td>1995</td><td>3.7875</td><td>0</td><td>0</td><td>1</td><td>1</td><td>1</td><td>1</td><td>0</td><td>0</td><td>0</td><td>1</td><td>0</td><td>0</td><td>0</td><td>0</td><td>0</td><td>0</td><td>0</td><td>0</td><td>0</td><td>0</td></tr><tr><td>146238</td><td>1</td><td>4.0</td><td>68997</td><td>0.0</td><td>0.0</td><td>4.5</td><td>4.5</td><td>0.0</td><td>0.0</td><td>4.5</td><td>4.0</td><td>4.0</td><td>4.0</td><td>0.0</td><td>4.0</td><td>0.0</td><td>0.0</td><td>0.0</td><td>0.0</td><td>0.0</td><td>0.0</td><td>4.0</td><td>0.0</td><td>&quot;Toy Story (1995)&quot;</td><td>1995</td><td>3.7875</td><td>0</td><td>0</td><td>1</td><td>1</td><td>1</td><td>1</td><td>0</td><td>0</td><td>0</td><td>1</td><td>0</td><td>0</td><td>0</td><td>0</td><td>0</td><td>0</td><td>0</td><td>0</td><td>0</td><td>0</td></tr><tr><td>63860</td><td>1</td><td>5.0</td><td>68997</td><td>0.0</td><td>0.0</td><td>0.0</td><td>3.75</td><td>0.0</td><td>0.0</td><td>0.0</td><td>5.0</td><td>4.166667</td><td>4.5</td><td>0.0</td><td>5.0</td><td>0.0</td><td>0.0</td><td>0.0</td><td>0.0</td><td>0.0</td><td>0.0</td><td>5.0</td><td>0.0</td><td>&quot;Toy Story (1995)&quot;</td><td>1995</td><td>3.7875</td><td>0</td><td>0</td><td>1</td><td>1</td><td>1</td><td>1</td><td>0</td><td>0</td><td>0</td><td>1</td><td>0</td><td>0</td><td>0</td><td>0</td><td>0</td><td>0</td><td>0</td><td>0</td><td>0</td><td>0</td></tr><tr><td>&hellip;</td><td>&hellip;</td><td>&hellip;</td><td>&hellip;</td><td>&hellip;</td><td>&hellip;</td><td>&hellip;</td><td>&hellip;</td><td>&hellip;</td><td>&hellip;</td><td>&hellip;</td><td>&hellip;</td><td>&hellip;</td><td>&hellip;</td><td>&hellip;</td><td>&hellip;</td><td>&hellip;</td><td>&hellip;</td><td>&hellip;</td><td>&hellip;</td><td>&hellip;</td><td>&hellip;</td><td>&hellip;</td><td>&hellip;</td><td>&hellip;</td><td>&hellip;</td><td>&hellip;</td><td>&hellip;</td><td>&hellip;</td><td>&hellip;</td><td>&hellip;</td><td>&hellip;</td><td>&hellip;</td><td>&hellip;</td><td>&hellip;</td><td>&hellip;</td><td>&hellip;</td><td>&hellip;</td><td>&hellip;</td><td>&hellip;</td><td>&hellip;</td><td>&hellip;</td><td>&hellip;</td><td>&hellip;</td><td>&hellip;</td><td>&hellip;</td><td>&hellip;</td></tr><tr><td>134909</td><td>290573</td><td>2.0</td><td>46</td><td>4.0</td><td>0.0</td><td>2.0</td><td>4.166667</td><td>2.857143</td><td>3.5</td><td>2.166667</td><td>3.1</td><td>3.5</td><td>3.875</td><td>2.75</td><td>3.666667</td><td>0.0</td><td>0.0</td><td>0.0</td><td>3.75</td><td>0.0</td><td>3.5</td><td>3.666667</td><td>0.0</td><td>&quot;The Creator (2023)&quot;</td><td>2023</td><td>3.2875</td><td>0</td><td>1</td><td>0</td><td>0</td><td>0</td><td>0</td><td>0</td><td>0</td><td>0</td><td>0</td><td>0</td><td>0</td><td>0</td><td>0</td><td>0</td><td>0</td><td>1</td><td>1</td><td>0</td><td>0</td></tr><tr><td>175333</td><td>290573</td><td>4.0</td><td>46</td><td>3.642857</td><td>3.78125</td><td>3.683333</td><td>3.731481</td><td>3.607143</td><td>3.5</td><td>3.6875</td><td>3.71875</td><td>3.777778</td><td>4.25</td><td>3.615385</td><td>3.166667</td><td>3.884615</td><td>4.0</td><td>3.791667</td><td>4.333333</td><td>3.642857</td><td>3.583333</td><td>3.5</td><td>0.0</td><td>&quot;The Creator (2023)&quot;</td><td>2023</td><td>3.2875</td><td>0</td><td>1</td><td>0</td><td>0</td><td>0</td><td>0</td><td>0</td><td>0</td><td>0</td><td>0</td><td>0</td><td>0</td><td>0</td><td>0</td><td>0</td><td>0</td><td>1</td><td>1</td><td>0</td><td>0</td></tr><tr><td>165364</td><td>290573</td><td>5.0</td><td>46</td><td>2.394737</td><td>2.5</td><td>2.878378</td><td>2.488095</td><td>3.241379</td><td>0.0</td><td>3.035714</td><td>2.220588</td><td>2.769231</td><td>1.863636</td><td>2.857143</td><td>2.384615</td><td>0.0</td><td>0.0</td><td>0.0</td><td>1.642857</td><td>3.0</td><td>3.0</td><td>1.5</td><td>1.333333</td><td>&quot;The Creator (2023)&quot;</td><td>2023</td><td>3.2875</td><td>0</td><td>1</td><td>0</td><td>0</td><td>0</td><td>0</td><td>0</td><td>0</td><td>0</td><td>0</td><td>0</td><td>0</td><td>0</td><td>0</td><td>0</td><td>0</td><td>1</td><td>1</td><td>0</td><td>0</td></tr><tr><td>85714</td><td>290573</td><td>3.5</td><td>46</td><td>2.959459</td><td>3.613636</td><td>3.1875</td><td>3.526316</td><td>3.2</td><td>0.0</td><td>3.272727</td><td>3.315217</td><td>3.225</td><td>3.444444</td><td>3.328947</td><td>3.25</td><td>3.5</td><td>3.0</td><td>3.5</td><td>3.342105</td><td>3.166667</td><td>0.0</td><td>3.0</td><td>3.416667</td><td>&quot;The Creator (2023)&quot;</td><td>2023</td><td>3.2875</td><td>0</td><td>1</td><td>0</td><td>0</td><td>0</td><td>0</td><td>0</td><td>0</td><td>0</td><td>0</td><td>0</td><td>0</td><td>0</td><td>0</td><td>0</td><td>0</td><td>1</td><td>1</td><td>0</td><td>0</td></tr><tr><td>171229</td><td>290573</td><td>2.5</td><td>46</td><td>2.5</td><td>3.055556</td><td>3.25</td><td>3.527778</td><td>3.416667</td><td>0.0</td><td>3.166667</td><td>2.941176</td><td>3.166667</td><td>3.5</td><td>3.0</td><td>2.166667</td><td>0.0</td><td>3.5</td><td>3.833333</td><td>3.666667</td><td>3.75</td><td>0.0</td><td>1.0</td><td>3.25</td><td>&quot;The Creator (2023)&quot;</td><td>2023</td><td>3.2875</td><td>0</td><td>1</td><td>0</td><td>0</td><td>0</td><td>0</td><td>0</td><td>0</td><td>0</td><td>0</td><td>0</td><td>0</td><td>0</td><td>0</td><td>0</td><td>0</td><td>1</td><td>1</td><td>0</td><td>0</td></tr></tbody></table></div>"
      ],
      "text/plain": [
       "shape: (694_000, 47)\n",
       "┌────────┬─────────┬────────┬───────────────┬───┬──────────────┬────────────────┬───────────┬───────────────┐\n",
       "│ userId ┆ movieId ┆ rating ┆ #ratings_film ┆ … ┆ Sci-Fi_right ┆ Thriller_right ┆ War_right ┆ Western_right │\n",
       "│ ---    ┆ ---     ┆ ---    ┆ ---           ┆   ┆ ---          ┆ ---            ┆ ---       ┆ ---           │\n",
       "│ i64    ┆ i64     ┆ f64    ┆ u32           ┆   ┆ i8           ┆ i8             ┆ i8        ┆ i8            │\n",
       "╞════════╪═════════╪════════╪═══════════════╪═══╪══════════════╪════════════════╪═══════════╪═══════════════╡\n",
       "│ 31854  ┆ 1       ┆ 3.5    ┆ 68997         ┆ … ┆ 0            ┆ 0              ┆ 0         ┆ 0             │\n",
       "│ 61093  ┆ 1       ┆ 4.0    ┆ 68997         ┆ … ┆ 0            ┆ 0              ┆ 0         ┆ 0             │\n",
       "│ 59420  ┆ 1       ┆ 3.5    ┆ 68997         ┆ … ┆ 0            ┆ 0              ┆ 0         ┆ 0             │\n",
       "│ 146238 ┆ 1       ┆ 4.0    ┆ 68997         ┆ … ┆ 0            ┆ 0              ┆ 0         ┆ 0             │\n",
       "│ 63860  ┆ 1       ┆ 5.0    ┆ 68997         ┆ … ┆ 0            ┆ 0              ┆ 0         ┆ 0             │\n",
       "│ …      ┆ …       ┆ …      ┆ …             ┆ … ┆ …            ┆ …              ┆ …         ┆ …             │\n",
       "│ 134909 ┆ 290573  ┆ 2.0    ┆ 46            ┆ … ┆ 1            ┆ 1              ┆ 0         ┆ 0             │\n",
       "│ 175333 ┆ 290573  ┆ 4.0    ┆ 46            ┆ … ┆ 1            ┆ 1              ┆ 0         ┆ 0             │\n",
       "│ 165364 ┆ 290573  ┆ 5.0    ┆ 46            ┆ … ┆ 1            ┆ 1              ┆ 0         ┆ 0             │\n",
       "│ 85714  ┆ 290573  ┆ 3.5    ┆ 46            ┆ … ┆ 1            ┆ 1              ┆ 0         ┆ 0             │\n",
       "│ 171229 ┆ 290573  ┆ 2.5    ┆ 46            ┆ … ┆ 1            ┆ 1              ┆ 0         ┆ 0             │\n",
       "└────────┴─────────┴────────┴───────────────┴───┴──────────────┴────────────────┴───────────┴───────────────┘"
      ]
     },
     "execution_count": 122,
     "metadata": {},
     "output_type": "execute_result"
    }
   ],
   "source": [
    "df"
   ]
  },
  {
   "cell_type": "code",
   "execution_count": null,
   "id": "86c57a18-5b20-4ae4-bdb2-e63d87c34bb2",
   "metadata": {},
   "outputs": [],
   "source": [
    "x_user = df[:, 0].to_numpy()   # userId\n",
    "x_movie = df[:, 1].to_numpy()  # movieId\n",
    "y = df[:, 2].to_numpy() \n"
   ]
  },
  {
   "cell_type": "markdown",
   "id": "bffa0687-d44e-46e6-823b-eb76fba8a88b",
   "metadata": {},
   "source": [
    "### COLABORATIVE FILTERING"
   ]
  },
  {
   "cell_type": "code",
   "execution_count": null,
   "id": "2aa8ae00-f03a-495a-b5a9-4744430bde78",
   "metadata": {},
   "outputs": [],
   "source": [
    "x_user = df[:, 0].to_numpy()   # userId\n",
    "x_movie = df[:, 1].to_numpy()  # movieId\n",
    "y = df[:, 2].to_numpy() \n",
    "\n",
    "num_users = int(x_user.max()) + 1\n",
    "num_movies = int(x_movie.max()) + 1\n",
    "embedding_size = 32 \n",
    "\n",
    "user_input = keras.Input(shape=(1,), name='user')\n",
    "movie_input = keras.Input(shape=(1,), name='movie')\n",
    "\n",
    "# Embedding slojevi\n",
    "user_embedding = layers.Embedding(input_dim=num_users, output_dim=embedding_size)(user_input)\n",
    "movie_embedding = layers.Embedding(input_dim=num_movies, output_dim=embedding_size)(movie_input)\n",
    "\n",
    "# Smanji dimenziju (da dobijemo vektore dimenzije (batch, embedding_size))\n",
    "user_vec = layers.Flatten()(user_embedding)\n",
    "movie_vec = layers.Flatten()(movie_embedding)\n",
    "\n",
    "# Dot product korisničkog i filmskog vektora\n",
    "dot_user_movie = layers.Dot(axes=1)([user_vec, movie_vec])\n",
    "\n",
    "model = keras.Model(inputs=[user_input, movie_input], outputs=dot_user_movie)\n",
    "\n",
    "# Compile\n",
    "model.compile(optimizer='adam', loss='mse')"
   ]
  },
  {
   "cell_type": "code",
   "execution_count": 230,
   "id": "5105e6b4-d145-4255-8a74-0c51ab43aa3c",
   "metadata": {},
   "outputs": [
    {
     "data": {
      "text/plain": [
       "<KerasTensor shape=(None, 32), dtype=float32, sparse=False, ragged=False, name=keras_tensor_2>"
      ]
     },
     "execution_count": 230,
     "metadata": {},
     "output_type": "execute_result"
    }
   ],
   "source": [
    "\n"
   ]
  },
  {
   "cell_type": "code",
   "execution_count": 144,
   "id": "033ab581-6943-47df-a430-a43eeac176ba",
   "metadata": {},
   "outputs": [
    {
     "name": "stdout",
     "output_type": "stream",
     "text": [
      "CPU times: total: 42.3 s\n",
      "Wall time: 12.2 s\n"
     ]
    }
   ],
   "source": [
    "%%time\n",
    "user_not_train_df = user_not_train.collect()\n",
    "\n",
    "dev_set = user_not_train_df.sample(n=200_000, seed=42)\n",
    "test_set = user_not_train_df.sample(n=200_000, seed=42)"
   ]
  },
  {
   "cell_type": "code",
   "execution_count": 164,
   "id": "1ff6743f-5fd4-4e27-8690-3065b02bb859",
   "metadata": {},
   "outputs": [],
   "source": [
    "x_user_dev = dev_set[:,0]\n",
    "x_movie_dev = dev_set[:,1]\n",
    "y_dev = dev_set[:,2]"
   ]
  },
  {
   "cell_type": "code",
   "execution_count": 170,
   "id": "66361f3e-42f3-4ff0-87ba-73ee56267560",
   "metadata": {},
   "outputs": [
    {
     "name": "stdout",
     "output_type": "stream",
     "text": [
      "Epoch 1/10\n",
      "\u001b[1m569/569\u001b[0m \u001b[32m━━━━━━━━━━━━━━━━━━━━\u001b[0m\u001b[37m\u001b[0m \u001b[1m74s\u001b[0m 128ms/step - loss: 11.7375 - val_loss: 13.7469\n",
      "Epoch 2/10\n",
      "\u001b[1m569/569\u001b[0m \u001b[32m━━━━━━━━━━━━━━━━━━━━\u001b[0m\u001b[37m\u001b[0m \u001b[1m71s\u001b[0m 124ms/step - loss: 11.2185 - val_loss: 13.0190\n",
      "Epoch 3/10\n",
      "\u001b[1m569/569\u001b[0m \u001b[32m━━━━━━━━━━━━━━━━━━━━\u001b[0m\u001b[37m\u001b[0m \u001b[1m71s\u001b[0m 124ms/step - loss: 7.3458 - val_loss: 10.8120\n",
      "Epoch 4/10\n",
      "\u001b[1m569/569\u001b[0m \u001b[32m━━━━━━━━━━━━━━━━━━━━\u001b[0m\u001b[37m\u001b[0m \u001b[1m71s\u001b[0m 124ms/step - loss: 4.1376 - val_loss: 8.7983\n",
      "Epoch 5/10\n",
      "\u001b[1m569/569\u001b[0m \u001b[32m━━━━━━━━━━━━━━━━━━━━\u001b[0m\u001b[37m\u001b[0m \u001b[1m71s\u001b[0m 124ms/step - loss: 2.5962 - val_loss: 7.4342\n",
      "Epoch 6/10\n",
      "\u001b[1m569/569\u001b[0m \u001b[32m━━━━━━━━━━━━━━━━━━━━\u001b[0m\u001b[37m\u001b[0m \u001b[1m71s\u001b[0m 124ms/step - loss: 1.7764 - val_loss: 6.5892\n",
      "Epoch 7/10\n",
      "\u001b[1m569/569\u001b[0m \u001b[32m━━━━━━━━━━━━━━━━━━━━\u001b[0m\u001b[37m\u001b[0m \u001b[1m71s\u001b[0m 124ms/step - loss: 1.2891 - val_loss: 6.0802\n",
      "Epoch 8/10\n",
      "\u001b[1m569/569\u001b[0m \u001b[32m━━━━━━━━━━━━━━━━━━━━\u001b[0m\u001b[37m\u001b[0m \u001b[1m71s\u001b[0m 124ms/step - loss: 0.9784 - val_loss: 5.7751\n",
      "Epoch 9/10\n",
      "\u001b[1m569/569\u001b[0m \u001b[32m━━━━━━━━━━━━━━━━━━━━\u001b[0m\u001b[37m\u001b[0m \u001b[1m73s\u001b[0m 129ms/step - loss: 0.7823 - val_loss: 5.5943\n",
      "Epoch 10/10\n",
      "\u001b[1m569/569\u001b[0m \u001b[32m━━━━━━━━━━━━━━━━━━━━\u001b[0m\u001b[37m\u001b[0m \u001b[1m73s\u001b[0m 128ms/step - loss: 0.6388 - val_loss: 5.4923\n"
     ]
    },
    {
     "data": {
      "text/plain": [
       "<keras.src.callbacks.history.History at 0x1fa6e84c690>"
      ]
     },
     "execution_count": 170,
     "metadata": {},
     "output_type": "execute_result"
    }
   ],
   "source": [
    "model.fit(x= [x_user, x_movie], y = y,epochs=10, batch_size=1024, validation_data=([x_user_dev, x_movie_dev], y_dev), verbose=1)"
   ]
  },
  {
   "cell_type": "code",
   "execution_count": 190,
   "id": "90184a0c-2d7c-4b03-9842-82f7daea86fa",
   "metadata": {},
   "outputs": [
    {
     "name": "stdout",
     "output_type": "stream",
     "text": [
      "Epoch 1/50\n",
      "\u001b[1m569/569\u001b[0m \u001b[32m━━━━━━━━━━━━━━━━━━━━\u001b[0m\u001b[37m\u001b[0m \u001b[1m71s\u001b[0m 124ms/step - loss: 0.5335 - val_loss: 5.4391\n",
      "Epoch 2/50\n",
      "\u001b[1m569/569\u001b[0m \u001b[32m━━━━━━━━━━━━━━━━━━━━\u001b[0m\u001b[37m\u001b[0m \u001b[1m72s\u001b[0m 126ms/step - loss: 0.4542 - val_loss: 5.4170\n",
      "Epoch 3/50\n",
      "\u001b[1m569/569\u001b[0m \u001b[32m━━━━━━━━━━━━━━━━━━━━\u001b[0m\u001b[37m\u001b[0m \u001b[1m72s\u001b[0m 127ms/step - loss: 0.3948 - val_loss: 5.4131\n",
      "Epoch 4/50\n",
      "\u001b[1m569/569\u001b[0m \u001b[32m━━━━━━━━━━━━━━━━━━━━\u001b[0m\u001b[37m\u001b[0m \u001b[1m72s\u001b[0m 127ms/step - loss: 0.3448 - val_loss: 5.4206\n",
      "Epoch 5/50\n",
      "\u001b[1m569/569\u001b[0m \u001b[32m━━━━━━━━━━━━━━━━━━━━\u001b[0m\u001b[37m\u001b[0m \u001b[1m72s\u001b[0m 127ms/step - loss: 0.3049 - val_loss: 5.4320\n",
      "Epoch 6/50\n",
      "\u001b[1m569/569\u001b[0m \u001b[32m━━━━━━━━━━━━━━━━━━━━\u001b[0m\u001b[37m\u001b[0m \u001b[1m71s\u001b[0m 125ms/step - loss: 0.2689 - val_loss: 5.4483\n"
     ]
    }
   ],
   "source": [
    "from tensorflow.keras.callbacks import EarlyStopping\n",
    "\n",
    "early_stop = EarlyStopping(\n",
    "    monitor='val_loss',\n",
    "    patience=3, \n",
    "    restore_best_weights=True\n",
    ")\n",
    "\n",
    "history = model.fit(\n",
    "    x=[x_user, x_movie],\n",
    "    y=y,\n",
    "    epochs=50,  # možeš više, nećeš brinuti o overfittingu\n",
    "    batch_size=1024,\n",
    "    validation_data=([x_user_dev, x_movie_dev], y_dev),\n",
    "    callbacks=[early_stop],\n",
    "    verbose=1\n",
    ")"
   ]
  },
  {
   "cell_type": "code",
   "execution_count": 198,
   "id": "d8b8f0f5-c6f9-4a9b-84be-a7a72bdc0d25",
   "metadata": {},
   "outputs": [
    {
     "data": {
      "text/plain": [
       "\u001b[31mSignature:\u001b[39m history.on_epoch_begin(epoch, logs=\u001b[38;5;28;01mNone\u001b[39;00m)\n",
       "\u001b[31mDocstring:\u001b[39m\n",
       "Called at the start of an epoch.\n",
       "\n",
       "Subclasses should override for any actions to run. This function should\n",
       "only be called during TRAIN mode.\n",
       "\n",
       "Args:\n",
       "    epoch: Integer, index of epoch.\n",
       "    logs: Dict. Currently no data is passed to this argument for this\n",
       "      method but that may change in the future.\n",
       "\u001b[31mFile:\u001b[39m      c:\\users\\jelena\\desktop\\freestyle\\github\\venv\\lib\\site-packages\\keras\\src\\callbacks\\callback.py\n",
       "\u001b[31mType:\u001b[39m      method"
      ]
     },
     "metadata": {},
     "output_type": "display_data"
    }
   ],
   "source": [
    "history.on_epoch_begin?"
   ]
  },
  {
   "cell_type": "code",
   "execution_count": 200,
   "id": "427a7a9b-a6d4-42ed-b2b0-7b13b0107a5f",
   "metadata": {},
   "outputs": [
    {
     "data": {
      "image/png": "[encoded data removed]",
      "text/plain": [
       "<Figure size 640x480 with 1 Axes>"
      ]
     },
     "metadata": {},
     "output_type": "display_data"
    }
   ],
   "source": [
    "import matplotlib.pyplot as plt\n",
    "\n",
    "plt.plot(history.history['loss'], label='train loss')\n",
    "plt.plot(history.history['val_loss'], label='val loss')\n",
    "plt.xlabel('Epoch')\n",
    "plt.ylabel('Loss')\n",
    "plt.legend()\n",
    "plt.show()"
   ]
  },
  {
   "cell_type": "code",
   "execution_count": 212,
   "id": "d79c439a-b0e2-448f-84c7-466b21dc26d3",
   "metadata": {},
   "outputs": [
    {
     "name": "stdout",
     "output_type": "stream",
     "text": [
      "Epoch 1/50\n",
      "\u001b[1m569/569\u001b[0m \u001b[32m━━━━━━━━━━━━━━━━━━━━\u001b[0m\u001b[37m\u001b[0m \u001b[1m71s\u001b[0m 125ms/step - loss: 0.3270 - val_loss: 5.4265\n",
      "Epoch 2/50\n",
      "\u001b[1m569/569\u001b[0m \u001b[32m━━━━━━━━━━━━━━━━━━━━\u001b[0m\u001b[37m\u001b[0m \u001b[1m71s\u001b[0m 124ms/step - loss: 0.2846 - val_loss: 5.4396\n",
      "Epoch 3/50\n",
      "\u001b[1m569/569\u001b[0m \u001b[32m━━━━━━━━━━━━━━━━━━━━\u001b[0m\u001b[37m\u001b[0m \u001b[1m71s\u001b[0m 124ms/step - loss: 0.2508 - val_loss: 5.4581\n",
      "Epoch 4/50\n",
      "\u001b[1m569/569\u001b[0m \u001b[32m━━━━━━━━━━━━━━━━━━━━\u001b[0m\u001b[37m\u001b[0m \u001b[1m71s\u001b[0m 125ms/step - loss: 0.2240 - val_loss: 5.4716\n"
     ]
    }
   ],
   "source": [
    "from tensorflow.keras.callbacks import EarlyStopping\n",
    "\n",
    "early_stop = EarlyStopping(\n",
    "    monitor='val_loss',\n",
    "    patience=3, \n",
    "    restore_best_weights=True\n",
    ")\n",
    "\n",
    "history = model.fit(\n",
    "    x=[x_user, x_movie],\n",
    "    y=y,\n",
    "    epochs=50,  # možeš više, nećeš brinuti o overfittingu\n",
    "    batch_size=1024,\n",
    "    validation_data=([x_user_dev, x_movie_dev], y_dev),\n",
    "    callbacks=[early_stop],\n",
    "    verbose=1\n",
    ")"
   ]
  },
  {
   "cell_type": "markdown",
   "id": "6e2e9ff6-8a31-471d-b2af-9246348a58e1",
   "metadata": {},
   "source": [
    "### NN COLABORATIVE FILTER"
   ]
  },
  {
   "cell_type": "code",
   "execution_count": 461,
   "id": "1544781c-3c95-40b1-b69b-478141ee321b",
   "metadata": {},
   "outputs": [],
   "source": [
    "y = df.select(pl.col('rating')).to_numpy()\n",
    "X_user = df.select(unique_genres)\n",
    "X_movie = df.select(pl.all().exclude(['movieId','title', *user_feature.columns,'rating']))"
   ]
  },
  {
   "cell_type": "code",
   "execution_count": 463,
   "id": "0adf0555-9ac5-4b13-9729-ed6ce51b7dd6",
   "metadata": {},
   "outputs": [
    {
     "data": {
      "text/html": [
       "<div><style>\n",
       ".dataframe > thead > tr,\n",
       ".dataframe > tbody > tr {\n",
       "  text-align: right;\n",
       "  white-space: pre-wrap;\n",
       "}\n",
       "</style>\n",
       "<small>shape: (694_000, 23)</small><table border=\"1\" class=\"dataframe\"><thead><tr><th>#ratings_film</th><th>year</th><th>avg_rating</th><th>(no genres listed)_right</th><th>Action_right</th><th>Adventure_right</th><th>Animation_right</th><th>Children_right</th><th>Comedy_right</th><th>Crime_right</th><th>Documentary_right</th><th>Drama_right</th><th>Fantasy_right</th><th>Film-Noir_right</th><th>Horror_right</th><th>IMAX_right</th><th>Musical_right</th><th>Mystery_right</th><th>Romance_right</th><th>Sci-Fi_right</th><th>Thriller_right</th><th>War_right</th><th>Western_right</th></tr><tr><td>u32</td><td>i16</td><td>f64</td><td>i8</td><td>i8</td><td>i8</td><td>i8</td><td>i8</td><td>i8</td><td>i8</td><td>i8</td><td>i8</td><td>i8</td><td>i8</td><td>i8</td><td>i8</td><td>i8</td><td>i8</td><td>i8</td><td>i8</td><td>i8</td><td>i8</td><td>i8</td></tr></thead><tbody><tr><td>68997</td><td>1995</td><td>3.7875</td><td>0</td><td>0</td><td>1</td><td>1</td><td>1</td><td>1</td><td>0</td><td>0</td><td>0</td><td>1</td><td>0</td><td>0</td><td>0</td><td>0</td><td>0</td><td>0</td><td>0</td><td>0</td><td>0</td><td>0</td></tr><tr><td>68997</td><td>1995</td><td>3.7875</td><td>0</td><td>0</td><td>1</td><td>1</td><td>1</td><td>1</td><td>0</td><td>0</td><td>0</td><td>1</td><td>0</td><td>0</td><td>0</td><td>0</td><td>0</td><td>0</td><td>0</td><td>0</td><td>0</td><td>0</td></tr><tr><td>68997</td><td>1995</td><td>3.7875</td><td>0</td><td>0</td><td>1</td><td>1</td><td>1</td><td>1</td><td>0</td><td>0</td><td>0</td><td>1</td><td>0</td><td>0</td><td>0</td><td>0</td><td>0</td><td>0</td><td>0</td><td>0</td><td>0</td><td>0</td></tr><tr><td>68997</td><td>1995</td><td>3.7875</td><td>0</td><td>0</td><td>1</td><td>1</td><td>1</td><td>1</td><td>0</td><td>0</td><td>0</td><td>1</td><td>0</td><td>0</td><td>0</td><td>0</td><td>0</td><td>0</td><td>0</td><td>0</td><td>0</td><td>0</td></tr><tr><td>68997</td><td>1995</td><td>3.7875</td><td>0</td><td>0</td><td>1</td><td>1</td><td>1</td><td>1</td><td>0</td><td>0</td><td>0</td><td>1</td><td>0</td><td>0</td><td>0</td><td>0</td><td>0</td><td>0</td><td>0</td><td>0</td><td>0</td><td>0</td></tr><tr><td>&hellip;</td><td>&hellip;</td><td>&hellip;</td><td>&hellip;</td><td>&hellip;</td><td>&hellip;</td><td>&hellip;</td><td>&hellip;</td><td>&hellip;</td><td>&hellip;</td><td>&hellip;</td><td>&hellip;</td><td>&hellip;</td><td>&hellip;</td><td>&hellip;</td><td>&hellip;</td><td>&hellip;</td><td>&hellip;</td><td>&hellip;</td><td>&hellip;</td><td>&hellip;</td><td>&hellip;</td><td>&hellip;</td></tr><tr><td>46</td><td>2023</td><td>3.2875</td><td>0</td><td>1</td><td>0</td><td>0</td><td>0</td><td>0</td><td>0</td><td>0</td><td>0</td><td>0</td><td>0</td><td>0</td><td>0</td><td>0</td><td>0</td><td>0</td><td>1</td><td>1</td><td>0</td><td>0</td></tr><tr><td>46</td><td>2023</td><td>3.2875</td><td>0</td><td>1</td><td>0</td><td>0</td><td>0</td><td>0</td><td>0</td><td>0</td><td>0</td><td>0</td><td>0</td><td>0</td><td>0</td><td>0</td><td>0</td><td>0</td><td>1</td><td>1</td><td>0</td><td>0</td></tr><tr><td>46</td><td>2023</td><td>3.2875</td><td>0</td><td>1</td><td>0</td><td>0</td><td>0</td><td>0</td><td>0</td><td>0</td><td>0</td><td>0</td><td>0</td><td>0</td><td>0</td><td>0</td><td>0</td><td>0</td><td>1</td><td>1</td><td>0</td><td>0</td></tr><tr><td>46</td><td>2023</td><td>3.2875</td><td>0</td><td>1</td><td>0</td><td>0</td><td>0</td><td>0</td><td>0</td><td>0</td><td>0</td><td>0</td><td>0</td><td>0</td><td>0</td><td>0</td><td>0</td><td>0</td><td>1</td><td>1</td><td>0</td><td>0</td></tr><tr><td>46</td><td>2023</td><td>3.2875</td><td>0</td><td>1</td><td>0</td><td>0</td><td>0</td><td>0</td><td>0</td><td>0</td><td>0</td><td>0</td><td>0</td><td>0</td><td>0</td><td>0</td><td>0</td><td>0</td><td>1</td><td>1</td><td>0</td><td>0</td></tr></tbody></table></div>"
      ],
      "text/plain": [
       "shape: (694_000, 23)\n",
       "┌───────────────┬──────┬────────────┬───────────────┬───┬──────────────┬────────────────┬───────────┬───────────────┐\n",
       "│ #ratings_film ┆ year ┆ avg_rating ┆ (no genres    ┆ … ┆ Sci-Fi_right ┆ Thriller_right ┆ War_right ┆ Western_right │\n",
       "│ ---           ┆ ---  ┆ ---        ┆ listed)_right ┆   ┆ ---          ┆ ---            ┆ ---       ┆ ---           │\n",
       "│ u32           ┆ i16  ┆ f64        ┆ ---           ┆   ┆ i8           ┆ i8             ┆ i8        ┆ i8            │\n",
       "│               ┆      ┆            ┆ i8            ┆   ┆              ┆                ┆           ┆               │\n",
       "╞═══════════════╪══════╪════════════╪═══════════════╪═══╪══════════════╪════════════════╪═══════════╪═══════════════╡\n",
       "│ 68997         ┆ 1995 ┆ 3.7875     ┆ 0             ┆ … ┆ 0            ┆ 0              ┆ 0         ┆ 0             │\n",
       "│ 68997         ┆ 1995 ┆ 3.7875     ┆ 0             ┆ … ┆ 0            ┆ 0              ┆ 0         ┆ 0             │\n",
       "│ 68997         ┆ 1995 ┆ 3.7875     ┆ 0             ┆ … ┆ 0            ┆ 0              ┆ 0         ┆ 0             │\n",
       "│ 68997         ┆ 1995 ┆ 3.7875     ┆ 0             ┆ … ┆ 0            ┆ 0              ┆ 0         ┆ 0             │\n",
       "│ 68997         ┆ 1995 ┆ 3.7875     ┆ 0             ┆ … ┆ 0            ┆ 0              ┆ 0         ┆ 0             │\n",
       "│ …             ┆ …    ┆ …          ┆ …             ┆ … ┆ …            ┆ …              ┆ …         ┆ …             │\n",
       "│ 46            ┆ 2023 ┆ 3.2875     ┆ 0             ┆ … ┆ 1            ┆ 1              ┆ 0         ┆ 0             │\n",
       "│ 46            ┆ 2023 ┆ 3.2875     ┆ 0             ┆ … ┆ 1            ┆ 1              ┆ 0         ┆ 0             │\n",
       "│ 46            ┆ 2023 ┆ 3.2875     ┆ 0             ┆ … ┆ 1            ┆ 1              ┆ 0         ┆ 0             │\n",
       "│ 46            ┆ 2023 ┆ 3.2875     ┆ 0             ┆ … ┆ 1            ┆ 1              ┆ 0         ┆ 0             │\n",
       "│ 46            ┆ 2023 ┆ 3.2875     ┆ 0             ┆ … ┆ 1            ┆ 1              ┆ 0         ┆ 0             │\n",
       "└───────────────┴──────┴────────────┴───────────────┴───┴──────────────┴────────────────┴───────────┴───────────────┘"
      ]
     },
     "execution_count": 463,
     "metadata": {},
     "output_type": "execute_result"
    }
   ],
   "source": [
    "X_movie"
   ]
  },
  {
   "cell_type": "code",
   "execution_count": 465,
   "id": "0e22359c-4892-4e22-b4a9-a60c2ead8a62",
   "metadata": {},
   "outputs": [],
   "source": [
    "SS_movie = StandardScaler()\n",
    "SS_user = StandardScaler()"
   ]
  },
  {
   "cell_type": "code",
   "execution_count": 467,
   "id": "3961e9c4-e0cc-4bc6-ad76-ecd79b721702",
   "metadata": {},
   "outputs": [],
   "source": [
    "movie_num = SS_movie.fit_transform(X_movie[:,:3])\n",
    "movie_cat = X_movie.select(pl.all().exclude(['#ratings_film', 'year', 'avg_rating'])).to_numpy()\n",
    "X_movie_numpy = np.column_stack([movie_num,movie_cat])"
   ]
  },
  {
   "cell_type": "code",
   "execution_count": 469,
   "id": "ce76be30-9149-4bc7-9698-3e2720cbbdc2",
   "metadata": {},
   "outputs": [],
   "source": [
    "X_user_numpy = SS_user.fit_transform(X_user)"
   ]
  },
  {
   "cell_type": "code",
   "execution_count": 470,
   "id": "2e6ff9ad-62ae-4e54-84c0-db0f2a7aa40c",
   "metadata": {},
   "outputs": [
    {
     "data": {
      "text/plain": [
       "((694000, 20), (694000, 23), (694000, 1))"
      ]
     },
     "execution_count": 470,
     "metadata": {},
     "output_type": "execute_result"
    }
   ],
   "source": [
    "X_user.shape, X_movie.shape, y.shape"
   ]
  },
  {
   "cell_type": "code",
   "execution_count": 487,
   "id": "8f7db0e8-8147-4f8c-93e9-f5651b6e154c",
   "metadata": {},
   "outputs": [
    {
     "data": {
      "text/html": [
       "<pre style=\"white-space:pre;overflow-x:auto;line-height:normal;font-family:Menlo,'DejaVu Sans Mono',consolas,'Courier New',monospace\"><span style=\"font-weight: bold\">Model: \"functional_9\"</span>\n",
       "</pre>\n"
      ],
      "text/plain": [
       "\u001b[1mModel: \"functional_9\"\u001b[0m\n"
      ]
     },
     "metadata": {},
     "output_type": "display_data"
    },
    {
     "data": {
      "text/html": [
       "<pre style=\"white-space:pre;overflow-x:auto;line-height:normal;font-family:Menlo,'DejaVu Sans Mono',consolas,'Courier New',monospace\">┏━━━━━━━━━━━━━━━━━━━━━━━━━━━━━━━┳━━━━━━━━━━━━━━━━━━━━━━━━━━━┳━━━━━━━━━━━━━━━━━┳━━━━━━━━━━━━━━━━━━━━━━━━━━━━┓\n",
       "┃<span style=\"font-weight: bold\"> Layer (type)                  </span>┃<span style=\"font-weight: bold\"> Output Shape              </span>┃<span style=\"font-weight: bold\">         Param # </span>┃<span style=\"font-weight: bold\"> Connected to               </span>┃\n",
       "┡━━━━━━━━━━━━━━━━━━━━━━━━━━━━━━━╇━━━━━━━━━━━━━━━━━━━━━━━━━━━╇━━━━━━━━━━━━━━━━━╇━━━━━━━━━━━━━━━━━━━━━━━━━━━━┩\n",
       "│ user_input (<span style=\"color: #0087ff; text-decoration-color: #0087ff\">InputLayer</span>)       │ (<span style=\"color: #00d7ff; text-decoration-color: #00d7ff\">None</span>, <span style=\"color: #00af00; text-decoration-color: #00af00\">20</span>)                │               <span style=\"color: #00af00; text-decoration-color: #00af00\">0</span> │ -                          │\n",
       "├───────────────────────────────┼───────────────────────────┼─────────────────┼────────────────────────────┤\n",
       "│ movie_input (<span style=\"color: #0087ff; text-decoration-color: #0087ff\">InputLayer</span>)      │ (<span style=\"color: #00d7ff; text-decoration-color: #00d7ff\">None</span>, <span style=\"color: #00af00; text-decoration-color: #00af00\">23</span>)                │               <span style=\"color: #00af00; text-decoration-color: #00af00\">0</span> │ -                          │\n",
       "├───────────────────────────────┼───────────────────────────┼─────────────────┼────────────────────────────┤\n",
       "│ dense_42 (<span style=\"color: #0087ff; text-decoration-color: #0087ff\">Dense</span>)              │ (<span style=\"color: #00d7ff; text-decoration-color: #00d7ff\">None</span>, <span style=\"color: #00af00; text-decoration-color: #00af00\">128</span>)               │           <span style=\"color: #00af00; text-decoration-color: #00af00\">2,688</span> │ user_input[<span style=\"color: #00af00; text-decoration-color: #00af00\">0</span>][<span style=\"color: #00af00; text-decoration-color: #00af00\">0</span>]           │\n",
       "├───────────────────────────────┼───────────────────────────┼─────────────────┼────────────────────────────┤\n",
       "│ dense_45 (<span style=\"color: #0087ff; text-decoration-color: #0087ff\">Dense</span>)              │ (<span style=\"color: #00d7ff; text-decoration-color: #00d7ff\">None</span>, <span style=\"color: #00af00; text-decoration-color: #00af00\">128</span>)               │           <span style=\"color: #00af00; text-decoration-color: #00af00\">3,072</span> │ movie_input[<span style=\"color: #00af00; text-decoration-color: #00af00\">0</span>][<span style=\"color: #00af00; text-decoration-color: #00af00\">0</span>]          │\n",
       "├───────────────────────────────┼───────────────────────────┼─────────────────┼────────────────────────────┤\n",
       "│ dropout_42 (<span style=\"color: #0087ff; text-decoration-color: #0087ff\">Dropout</span>)          │ (<span style=\"color: #00d7ff; text-decoration-color: #00d7ff\">None</span>, <span style=\"color: #00af00; text-decoration-color: #00af00\">128</span>)               │               <span style=\"color: #00af00; text-decoration-color: #00af00\">0</span> │ dense_42[<span style=\"color: #00af00; text-decoration-color: #00af00\">0</span>][<span style=\"color: #00af00; text-decoration-color: #00af00\">0</span>]             │\n",
       "├───────────────────────────────┼───────────────────────────┼─────────────────┼────────────────────────────┤\n",
       "│ dropout_45 (<span style=\"color: #0087ff; text-decoration-color: #0087ff\">Dropout</span>)          │ (<span style=\"color: #00d7ff; text-decoration-color: #00d7ff\">None</span>, <span style=\"color: #00af00; text-decoration-color: #00af00\">128</span>)               │               <span style=\"color: #00af00; text-decoration-color: #00af00\">0</span> │ dense_45[<span style=\"color: #00af00; text-decoration-color: #00af00\">0</span>][<span style=\"color: #00af00; text-decoration-color: #00af00\">0</span>]             │\n",
       "├───────────────────────────────┼───────────────────────────┼─────────────────┼────────────────────────────┤\n",
       "│ dense_43 (<span style=\"color: #0087ff; text-decoration-color: #0087ff\">Dense</span>)              │ (<span style=\"color: #00d7ff; text-decoration-color: #00d7ff\">None</span>, <span style=\"color: #00af00; text-decoration-color: #00af00\">64</span>)                │           <span style=\"color: #00af00; text-decoration-color: #00af00\">8,256</span> │ dropout_42[<span style=\"color: #00af00; text-decoration-color: #00af00\">0</span>][<span style=\"color: #00af00; text-decoration-color: #00af00\">0</span>]           │\n",
       "├───────────────────────────────┼───────────────────────────┼─────────────────┼────────────────────────────┤\n",
       "│ dense_46 (<span style=\"color: #0087ff; text-decoration-color: #0087ff\">Dense</span>)              │ (<span style=\"color: #00d7ff; text-decoration-color: #00d7ff\">None</span>, <span style=\"color: #00af00; text-decoration-color: #00af00\">64</span>)                │           <span style=\"color: #00af00; text-decoration-color: #00af00\">8,256</span> │ dropout_45[<span style=\"color: #00af00; text-decoration-color: #00af00\">0</span>][<span style=\"color: #00af00; text-decoration-color: #00af00\">0</span>]           │\n",
       "├───────────────────────────────┼───────────────────────────┼─────────────────┼────────────────────────────┤\n",
       "│ dropout_43 (<span style=\"color: #0087ff; text-decoration-color: #0087ff\">Dropout</span>)          │ (<span style=\"color: #00d7ff; text-decoration-color: #00d7ff\">None</span>, <span style=\"color: #00af00; text-decoration-color: #00af00\">64</span>)                │               <span style=\"color: #00af00; text-decoration-color: #00af00\">0</span> │ dense_43[<span style=\"color: #00af00; text-decoration-color: #00af00\">0</span>][<span style=\"color: #00af00; text-decoration-color: #00af00\">0</span>]             │\n",
       "├───────────────────────────────┼───────────────────────────┼─────────────────┼────────────────────────────┤\n",
       "│ dropout_46 (<span style=\"color: #0087ff; text-decoration-color: #0087ff\">Dropout</span>)          │ (<span style=\"color: #00d7ff; text-decoration-color: #00d7ff\">None</span>, <span style=\"color: #00af00; text-decoration-color: #00af00\">64</span>)                │               <span style=\"color: #00af00; text-decoration-color: #00af00\">0</span> │ dense_46[<span style=\"color: #00af00; text-decoration-color: #00af00\">0</span>][<span style=\"color: #00af00; text-decoration-color: #00af00\">0</span>]             │\n",
       "├───────────────────────────────┼───────────────────────────┼─────────────────┼────────────────────────────┤\n",
       "│ dense_44 (<span style=\"color: #0087ff; text-decoration-color: #0087ff\">Dense</span>)              │ (<span style=\"color: #00d7ff; text-decoration-color: #00d7ff\">None</span>, <span style=\"color: #00af00; text-decoration-color: #00af00\">32</span>)                │           <span style=\"color: #00af00; text-decoration-color: #00af00\">2,080</span> │ dropout_43[<span style=\"color: #00af00; text-decoration-color: #00af00\">0</span>][<span style=\"color: #00af00; text-decoration-color: #00af00\">0</span>]           │\n",
       "├───────────────────────────────┼───────────────────────────┼─────────────────┼────────────────────────────┤\n",
       "│ dense_47 (<span style=\"color: #0087ff; text-decoration-color: #0087ff\">Dense</span>)              │ (<span style=\"color: #00d7ff; text-decoration-color: #00d7ff\">None</span>, <span style=\"color: #00af00; text-decoration-color: #00af00\">32</span>)                │           <span style=\"color: #00af00; text-decoration-color: #00af00\">2,080</span> │ dropout_46[<span style=\"color: #00af00; text-decoration-color: #00af00\">0</span>][<span style=\"color: #00af00; text-decoration-color: #00af00\">0</span>]           │\n",
       "├───────────────────────────────┼───────────────────────────┼─────────────────┼────────────────────────────┤\n",
       "│ dropout_44 (<span style=\"color: #0087ff; text-decoration-color: #0087ff\">Dropout</span>)          │ (<span style=\"color: #00d7ff; text-decoration-color: #00d7ff\">None</span>, <span style=\"color: #00af00; text-decoration-color: #00af00\">32</span>)                │               <span style=\"color: #00af00; text-decoration-color: #00af00\">0</span> │ dense_44[<span style=\"color: #00af00; text-decoration-color: #00af00\">0</span>][<span style=\"color: #00af00; text-decoration-color: #00af00\">0</span>]             │\n",
       "├───────────────────────────────┼───────────────────────────┼─────────────────┼────────────────────────────┤\n",
       "│ dropout_47 (<span style=\"color: #0087ff; text-decoration-color: #0087ff\">Dropout</span>)          │ (<span style=\"color: #00d7ff; text-decoration-color: #00d7ff\">None</span>, <span style=\"color: #00af00; text-decoration-color: #00af00\">32</span>)                │               <span style=\"color: #00af00; text-decoration-color: #00af00\">0</span> │ dense_47[<span style=\"color: #00af00; text-decoration-color: #00af00\">0</span>][<span style=\"color: #00af00; text-decoration-color: #00af00\">0</span>]             │\n",
       "├───────────────────────────────┼───────────────────────────┼─────────────────┼────────────────────────────┤\n",
       "│ user_embedding (<span style=\"color: #0087ff; text-decoration-color: #0087ff\">Dense</span>)        │ (<span style=\"color: #00d7ff; text-decoration-color: #00d7ff\">None</span>, <span style=\"color: #00af00; text-decoration-color: #00af00\">32</span>)                │           <span style=\"color: #00af00; text-decoration-color: #00af00\">1,056</span> │ dropout_44[<span style=\"color: #00af00; text-decoration-color: #00af00\">0</span>][<span style=\"color: #00af00; text-decoration-color: #00af00\">0</span>]           │\n",
       "├───────────────────────────────┼───────────────────────────┼─────────────────┼────────────────────────────┤\n",
       "│ movie_embedding (<span style=\"color: #0087ff; text-decoration-color: #0087ff\">Dense</span>)       │ (<span style=\"color: #00d7ff; text-decoration-color: #00d7ff\">None</span>, <span style=\"color: #00af00; text-decoration-color: #00af00\">32</span>)                │           <span style=\"color: #00af00; text-decoration-color: #00af00\">1,056</span> │ dropout_47[<span style=\"color: #00af00; text-decoration-color: #00af00\">0</span>][<span style=\"color: #00af00; text-decoration-color: #00af00\">0</span>]           │\n",
       "├───────────────────────────────┼───────────────────────────┼─────────────────┼────────────────────────────┤\n",
       "│ dot_product (<span style=\"color: #0087ff; text-decoration-color: #0087ff\">Dot</span>)             │ (<span style=\"color: #00d7ff; text-decoration-color: #00d7ff\">None</span>, <span style=\"color: #00af00; text-decoration-color: #00af00\">1</span>)                 │               <span style=\"color: #00af00; text-decoration-color: #00af00\">0</span> │ user_embedding[<span style=\"color: #00af00; text-decoration-color: #00af00\">0</span>][<span style=\"color: #00af00; text-decoration-color: #00af00\">0</span>],      │\n",
       "│                               │                           │                 │ movie_embedding[<span style=\"color: #00af00; text-decoration-color: #00af00\">0</span>][<span style=\"color: #00af00; text-decoration-color: #00af00\">0</span>]      │\n",
       "└───────────────────────────────┴───────────────────────────┴─────────────────┴────────────────────────────┘\n",
       "</pre>\n"
      ],
      "text/plain": [
       "┏━━━━━━━━━━━━━━━━━━━━━━━━━━━━━━━┳━━━━━━━━━━━━━━━━━━━━━━━━━━━┳━━━━━━━━━━━━━━━━━┳━━━━━━━━━━━━━━━━━━━━━━━━━━━━┓\n",
       "┃\u001b[1m \u001b[0m\u001b[1mLayer (type)                 \u001b[0m\u001b[1m \u001b[0m┃\u001b[1m \u001b[0m\u001b[1mOutput Shape             \u001b[0m\u001b[1m \u001b[0m┃\u001b[1m \u001b[0m\u001b[1m        Param #\u001b[0m\u001b[1m \u001b[0m┃\u001b[1m \u001b[0m\u001b[1mConnected to              \u001b[0m\u001b[1m \u001b[0m┃\n",
       "┡━━━━━━━━━━━━━━━━━━━━━━━━━━━━━━━╇━━━━━━━━━━━━━━━━━━━━━━━━━━━╇━━━━━━━━━━━━━━━━━╇━━━━━━━━━━━━━━━━━━━━━━━━━━━━┩\n",
       "│ user_input (\u001b[38;5;33mInputLayer\u001b[0m)       │ (\u001b[38;5;45mNone\u001b[0m, \u001b[38;5;34m20\u001b[0m)                │               \u001b[38;5;34m0\u001b[0m │ -                          │\n",
       "├───────────────────────────────┼───────────────────────────┼─────────────────┼────────────────────────────┤\n",
       "│ movie_input (\u001b[38;5;33mInputLayer\u001b[0m)      │ (\u001b[38;5;45mNone\u001b[0m, \u001b[38;5;34m23\u001b[0m)                │               \u001b[38;5;34m0\u001b[0m │ -                          │\n",
       "├───────────────────────────────┼───────────────────────────┼─────────────────┼────────────────────────────┤\n",
       "│ dense_42 (\u001b[38;5;33mDense\u001b[0m)              │ (\u001b[38;5;45mNone\u001b[0m, \u001b[38;5;34m128\u001b[0m)               │           \u001b[38;5;34m2,688\u001b[0m │ user_input[\u001b[38;5;34m0\u001b[0m][\u001b[38;5;34m0\u001b[0m]           │\n",
       "├───────────────────────────────┼───────────────────────────┼─────────────────┼────────────────────────────┤\n",
       "│ dense_45 (\u001b[38;5;33mDense\u001b[0m)              │ (\u001b[38;5;45mNone\u001b[0m, \u001b[38;5;34m128\u001b[0m)               │           \u001b[38;5;34m3,072\u001b[0m │ movie_input[\u001b[38;5;34m0\u001b[0m][\u001b[38;5;34m0\u001b[0m]          │\n",
       "├───────────────────────────────┼───────────────────────────┼─────────────────┼────────────────────────────┤\n",
       "│ dropout_42 (\u001b[38;5;33mDropout\u001b[0m)          │ (\u001b[38;5;45mNone\u001b[0m, \u001b[38;5;34m128\u001b[0m)               │               \u001b[38;5;34m0\u001b[0m │ dense_42[\u001b[38;5;34m0\u001b[0m][\u001b[38;5;34m0\u001b[0m]             │\n",
       "├───────────────────────────────┼───────────────────────────┼─────────────────┼────────────────────────────┤\n",
       "│ dropout_45 (\u001b[38;5;33mDropout\u001b[0m)          │ (\u001b[38;5;45mNone\u001b[0m, \u001b[38;5;34m128\u001b[0m)               │               \u001b[38;5;34m0\u001b[0m │ dense_45[\u001b[38;5;34m0\u001b[0m][\u001b[38;5;34m0\u001b[0m]             │\n",
       "├───────────────────────────────┼───────────────────────────┼─────────────────┼────────────────────────────┤\n",
       "│ dense_43 (\u001b[38;5;33mDense\u001b[0m)              │ (\u001b[38;5;45mNone\u001b[0m, \u001b[38;5;34m64\u001b[0m)                │           \u001b[38;5;34m8,256\u001b[0m │ dropout_42[\u001b[38;5;34m0\u001b[0m][\u001b[38;5;34m0\u001b[0m]           │\n",
       "├───────────────────────────────┼───────────────────────────┼─────────────────┼────────────────────────────┤\n",
       "│ dense_46 (\u001b[38;5;33mDense\u001b[0m)              │ (\u001b[38;5;45mNone\u001b[0m, \u001b[38;5;34m64\u001b[0m)                │           \u001b[38;5;34m8,256\u001b[0m │ dropout_45[\u001b[38;5;34m0\u001b[0m][\u001b[38;5;34m0\u001b[0m]           │\n",
       "├───────────────────────────────┼───────────────────────────┼─────────────────┼────────────────────────────┤\n",
       "│ dropout_43 (\u001b[38;5;33mDropout\u001b[0m)          │ (\u001b[38;5;45mNone\u001b[0m, \u001b[38;5;34m64\u001b[0m)                │               \u001b[38;5;34m0\u001b[0m │ dense_43[\u001b[38;5;34m0\u001b[0m][\u001b[38;5;34m0\u001b[0m]             │\n",
       "├───────────────────────────────┼───────────────────────────┼─────────────────┼────────────────────────────┤\n",
       "│ dropout_46 (\u001b[38;5;33mDropout\u001b[0m)          │ (\u001b[38;5;45mNone\u001b[0m, \u001b[38;5;34m64\u001b[0m)                │               \u001b[38;5;34m0\u001b[0m │ dense_46[\u001b[38;5;34m0\u001b[0m][\u001b[38;5;34m0\u001b[0m]             │\n",
       "├───────────────────────────────┼───────────────────────────┼─────────────────┼────────────────────────────┤\n",
       "│ dense_44 (\u001b[38;5;33mDense\u001b[0m)              │ (\u001b[38;5;45mNone\u001b[0m, \u001b[38;5;34m32\u001b[0m)                │           \u001b[38;5;34m2,080\u001b[0m │ dropout_43[\u001b[38;5;34m0\u001b[0m][\u001b[38;5;34m0\u001b[0m]           │\n",
       "├───────────────────────────────┼───────────────────────────┼─────────────────┼────────────────────────────┤\n",
       "│ dense_47 (\u001b[38;5;33mDense\u001b[0m)              │ (\u001b[38;5;45mNone\u001b[0m, \u001b[38;5;34m32\u001b[0m)                │           \u001b[38;5;34m2,080\u001b[0m │ dropout_46[\u001b[38;5;34m0\u001b[0m][\u001b[38;5;34m0\u001b[0m]           │\n",
       "├───────────────────────────────┼───────────────────────────┼─────────────────┼────────────────────────────┤\n",
       "│ dropout_44 (\u001b[38;5;33mDropout\u001b[0m)          │ (\u001b[38;5;45mNone\u001b[0m, \u001b[38;5;34m32\u001b[0m)                │               \u001b[38;5;34m0\u001b[0m │ dense_44[\u001b[38;5;34m0\u001b[0m][\u001b[38;5;34m0\u001b[0m]             │\n",
       "├───────────────────────────────┼───────────────────────────┼─────────────────┼────────────────────────────┤\n",
       "│ dropout_47 (\u001b[38;5;33mDropout\u001b[0m)          │ (\u001b[38;5;45mNone\u001b[0m, \u001b[38;5;34m32\u001b[0m)                │               \u001b[38;5;34m0\u001b[0m │ dense_47[\u001b[38;5;34m0\u001b[0m][\u001b[38;5;34m0\u001b[0m]             │\n",
       "├───────────────────────────────┼───────────────────────────┼─────────────────┼────────────────────────────┤\n",
       "│ user_embedding (\u001b[38;5;33mDense\u001b[0m)        │ (\u001b[38;5;45mNone\u001b[0m, \u001b[38;5;34m32\u001b[0m)                │           \u001b[38;5;34m1,056\u001b[0m │ dropout_44[\u001b[38;5;34m0\u001b[0m][\u001b[38;5;34m0\u001b[0m]           │\n",
       "├───────────────────────────────┼───────────────────────────┼─────────────────┼────────────────────────────┤\n",
       "│ movie_embedding (\u001b[38;5;33mDense\u001b[0m)       │ (\u001b[38;5;45mNone\u001b[0m, \u001b[38;5;34m32\u001b[0m)                │           \u001b[38;5;34m1,056\u001b[0m │ dropout_47[\u001b[38;5;34m0\u001b[0m][\u001b[38;5;34m0\u001b[0m]           │\n",
       "├───────────────────────────────┼───────────────────────────┼─────────────────┼────────────────────────────┤\n",
       "│ dot_product (\u001b[38;5;33mDot\u001b[0m)             │ (\u001b[38;5;45mNone\u001b[0m, \u001b[38;5;34m1\u001b[0m)                 │               \u001b[38;5;34m0\u001b[0m │ user_embedding[\u001b[38;5;34m0\u001b[0m][\u001b[38;5;34m0\u001b[0m],      │\n",
       "│                               │                           │                 │ movie_embedding[\u001b[38;5;34m0\u001b[0m][\u001b[38;5;34m0\u001b[0m]      │\n",
       "└───────────────────────────────┴───────────────────────────┴─────────────────┴────────────────────────────┘\n"
      ]
     },
     "metadata": {},
     "output_type": "display_data"
    },
    {
     "data": {
      "text/html": [
       "<pre style=\"white-space:pre;overflow-x:auto;line-height:normal;font-family:Menlo,'DejaVu Sans Mono',consolas,'Courier New',monospace\"><span style=\"font-weight: bold\"> Total params: </span><span style=\"color: #00af00; text-decoration-color: #00af00\">28,544</span> (111.50 KB)\n",
       "</pre>\n"
      ],
      "text/plain": [
       "\u001b[1m Total params: \u001b[0m\u001b[38;5;34m28,544\u001b[0m (111.50 KB)\n"
      ]
     },
     "metadata": {},
     "output_type": "display_data"
    },
    {
     "data": {
      "text/html": [
       "<pre style=\"white-space:pre;overflow-x:auto;line-height:normal;font-family:Menlo,'DejaVu Sans Mono',consolas,'Courier New',monospace\"><span style=\"font-weight: bold\"> Trainable params: </span><span style=\"color: #00af00; text-decoration-color: #00af00\">28,544</span> (111.50 KB)\n",
       "</pre>\n"
      ],
      "text/plain": [
       "\u001b[1m Trainable params: \u001b[0m\u001b[38;5;34m28,544\u001b[0m (111.50 KB)\n"
      ]
     },
     "metadata": {},
     "output_type": "display_data"
    },
    {
     "data": {
      "text/html": [
       "<pre style=\"white-space:pre;overflow-x:auto;line-height:normal;font-family:Menlo,'DejaVu Sans Mono',consolas,'Courier New',monospace\"><span style=\"font-weight: bold\"> Non-trainable params: </span><span style=\"color: #00af00; text-decoration-color: #00af00\">0</span> (0.00 B)\n",
       "</pre>\n"
      ],
      "text/plain": [
       "\u001b[1m Non-trainable params: \u001b[0m\u001b[38;5;34m0\u001b[0m (0.00 B)\n"
      ]
     },
     "metadata": {},
     "output_type": "display_data"
    }
   ],
   "source": [
    "num_user_features = X_user_numpy.shape[1]   \n",
    "num_movie_features = X_movie_numpy.shape[1]\n",
    "drop = 0.2\n",
    "# ---------------- USER TOWER ----------------\n",
    "user_input = layers.Input(shape=(num_user_features,), name='user_input')\n",
    "\n",
    "x = layers.Dense(128, activation='relu', kernel_regularizer=regularizers.l2(0.001))(user_input)\n",
    "x = layers.Dropout(drop)(x)\n",
    "x = layers.Dense(64, activation='relu', kernel_regularizer=regularizers.l2(0.001))(x)\n",
    "x = layers.Dropout(drop)(x)\n",
    "x = layers.Dense(32, activation='relu', kernel_regularizer=regularizers.l2(0.001))(x)\n",
    "x = layers.Dropout(drop)(x)\n",
    "\n",
    "user_embedding = layers.Dense(32, activation='linear', name='user_embedding')(x)\n",
    "\n",
    "# ---------------- MOVIE TOWER ----------------\n",
    "movie_input = layers.Input(shape=(num_movie_features,), name='movie_input')\n",
    "\n",
    "x2= layers.Dense(128, activation='relu', kernel_regularizer=regularizers.l2(0.001))(movie_input)\n",
    "x2 = layers.Dropout(drop)(x2)\n",
    "x2 = layers.Dense(64, activation='relu', kernel_regularizer=regularizers.l2(0.001))(x2)\n",
    "x2 = layers.Dropout(drop)(x2)\n",
    "x2 = layers.Dense(32, activation='relu', kernel_regularizer=regularizers.l2(0.001))(x2)\n",
    "x2 = layers.Dropout(drop)(x2)\n",
    "\n",
    "movie_embedding = layers.Dense(32, activation='linear', name='movie_embedding')(x2)\n",
    "\n",
    "# ---------------- FINAL MODEL ----------------\n",
    "dot_product = layers.Dot(axes=1, name='dot_product')([user_embedding, movie_embedding])\n",
    "\n",
    "model = models.Model(inputs=[user_input, movie_input], outputs=dot_product)\n",
    "\n",
    "# Compile model\n",
    "model.compile(optimizer='adam', loss='mse')\n",
    "\n",
    "# Pregled modela\n",
    "model.summary()"
   ]
  },
  {
   "cell_type": "code",
   "execution_count": 489,
   "id": "0dc32933-3bdc-41a7-a6e9-cdc691adc6d4",
   "metadata": {},
   "outputs": [
    {
     "name": "stdout",
     "output_type": "stream",
     "text": [
      "Epoch 1/150\n",
      "\u001b[1m17350/17350\u001b[0m \u001b[32m━━━━━━━━━━━━━━━━━━━━\u001b[0m\u001b[37m\u001b[0m \u001b[1m57s\u001b[0m 3ms/step - loss: 1.0784 - val_loss: 0.7256 - learning_rate: 0.0010\n",
      "Epoch 2/150\n",
      "\u001b[1m17350/17350\u001b[0m \u001b[32m━━━━━━━━━━━━━━━━━━━━\u001b[0m\u001b[37m\u001b[0m \u001b[1m49s\u001b[0m 3ms/step - loss: 0.6943 - val_loss: 0.7137 - learning_rate: 0.0010\n",
      "Epoch 3/150\n",
      "\u001b[1m17350/17350\u001b[0m \u001b[32m━━━━━━━━━━━━━━━━━━━━\u001b[0m\u001b[37m\u001b[0m \u001b[1m44s\u001b[0m 3ms/step - loss: 0.6865 - val_loss: 0.7107 - learning_rate: 0.0010\n",
      "Epoch 4/150\n",
      "\u001b[1m17350/17350\u001b[0m \u001b[32m━━━━━━━━━━━━━━━━━━━━\u001b[0m\u001b[37m\u001b[0m \u001b[1m44s\u001b[0m 3ms/step - loss: 0.6842 - val_loss: 0.7044 - learning_rate: 0.0010\n",
      "Epoch 5/150\n",
      "\u001b[1m17350/17350\u001b[0m \u001b[32m━━━━━━━━━━━━━━━━━━━━\u001b[0m\u001b[37m\u001b[0m \u001b[1m44s\u001b[0m 3ms/step - loss: 0.6862 - val_loss: 0.6948 - learning_rate: 0.0010\n",
      "Epoch 6/150\n",
      "\u001b[1m17350/17350\u001b[0m \u001b[32m━━━━━━━━━━━━━━━━━━━━\u001b[0m\u001b[37m\u001b[0m \u001b[1m44s\u001b[0m 3ms/step - loss: 0.6821 - val_loss: 0.6984 - learning_rate: 0.0010\n",
      "Epoch 7/150\n",
      "\u001b[1m17350/17350\u001b[0m \u001b[32m━━━━━━━━━━━━━━━━━━━━\u001b[0m\u001b[37m\u001b[0m \u001b[1m44s\u001b[0m 3ms/step - loss: 0.6841 - val_loss: 0.7228 - learning_rate: 0.0010\n",
      "Epoch 8/150\n",
      "\u001b[1m17350/17350\u001b[0m \u001b[32m━━━━━━━━━━━━━━━━━━━━\u001b[0m\u001b[37m\u001b[0m \u001b[1m0s\u001b[0m 2ms/step - loss: 0.6793\n",
      "Epoch 8: ReduceLROnPlateau reducing learning rate to 0.0005000000237487257.\n",
      "\u001b[1m17350/17350\u001b[0m \u001b[32m━━━━━━━━━━━━━━━━━━━━\u001b[0m\u001b[37m\u001b[0m \u001b[1m44s\u001b[0m 3ms/step - loss: 0.6793 - val_loss: 0.7197 - learning_rate: 0.0010\n",
      "Epoch 9/150\n",
      "\u001b[1m17350/17350\u001b[0m \u001b[32m━━━━━━━━━━━━━━━━━━━━\u001b[0m\u001b[37m\u001b[0m \u001b[1m44s\u001b[0m 3ms/step - loss: 0.6629 - val_loss: 0.6902 - learning_rate: 5.0000e-04\n",
      "Epoch 10/150\n",
      "\u001b[1m17350/17350\u001b[0m \u001b[32m━━━━━━━━━━━━━━━━━━━━\u001b[0m\u001b[37m\u001b[0m \u001b[1m44s\u001b[0m 3ms/step - loss: 0.6570 - val_loss: 0.6943 - learning_rate: 5.0000e-04\n",
      "Epoch 11/150\n",
      "\u001b[1m17350/17350\u001b[0m \u001b[32m━━━━━━━━━━━━━━━━━━━━\u001b[0m\u001b[37m\u001b[0m \u001b[1m44s\u001b[0m 3ms/step - loss: 0.6568 - val_loss: 0.6670 - learning_rate: 5.0000e-04\n",
      "Epoch 12/150\n",
      "\u001b[1m17350/17350\u001b[0m \u001b[32m━━━━━━━━━━━━━━━━━━━━\u001b[0m\u001b[37m\u001b[0m \u001b[1m44s\u001b[0m 3ms/step - loss: 0.6555 - val_loss: 0.6833 - learning_rate: 5.0000e-04\n",
      "Epoch 13/150\n",
      "\u001b[1m17350/17350\u001b[0m \u001b[32m━━━━━━━━━━━━━━━━━━━━\u001b[0m\u001b[37m\u001b[0m \u001b[1m44s\u001b[0m 3ms/step - loss: 0.6519 - val_loss: 0.6793 - learning_rate: 5.0000e-04\n",
      "Epoch 14/150\n",
      "\u001b[1m17332/17350\u001b[0m \u001b[32m━━━━━━━━━━━━━━━━━━━\u001b[0m\u001b[37m━\u001b[0m \u001b[1m0s\u001b[0m 2ms/step - loss: 0.6526\n",
      "Epoch 14: ReduceLROnPlateau reducing learning rate to 0.0002500000118743628.\n",
      "\u001b[1m17350/17350\u001b[0m \u001b[32m━━━━━━━━━━━━━━━━━━━━\u001b[0m\u001b[37m\u001b[0m \u001b[1m44s\u001b[0m 3ms/step - loss: 0.6526 - val_loss: 0.6979 - learning_rate: 5.0000e-04\n",
      "Epoch 15/150\n",
      "\u001b[1m17350/17350\u001b[0m \u001b[32m━━━━━━━━━━━━━━━━━━━━\u001b[0m\u001b[37m\u001b[0m \u001b[1m50s\u001b[0m 3ms/step - loss: 0.6408 - val_loss: 0.6682 - learning_rate: 2.5000e-04\n",
      "Epoch 16/150\n",
      "\u001b[1m17350/17350\u001b[0m \u001b[32m━━━━━━━━━━━━━━━━━━━━\u001b[0m\u001b[37m\u001b[0m \u001b[1m53s\u001b[0m 3ms/step - loss: 0.6347 - val_loss: 0.6685 - learning_rate: 2.5000e-04\n"
     ]
    }
   ],
   "source": [
    "from tensorflow.keras.callbacks import EarlyStopping, ReduceLROnPlateau\n",
    "\n",
    "# EarlyStopping - prekida kad 5 epoha za redom nema poboljšanja\n",
    "early_stopping = EarlyStopping(\n",
    "    monitor='val_loss',\n",
    "    patience=5,\n",
    "    restore_best_weights=True\n",
    ")\n",
    "\n",
    "# ReduceLROnPlateau - smanjuje learning rate ako validacija stagnira\n",
    "reduce_lr = ReduceLROnPlateau(\n",
    "    monitor='val_loss',\n",
    "    factor=0.5,  # smanji lr za 50%\n",
    "    patience=3, # ako 3 epohe zaredom nema poboljšanja\n",
    "    verbose=1\n",
    ")\n",
    "\n",
    "# Treniraj model\n",
    "history = model.fit(\n",
    "    [X_user_numpy, X_movie_numpy],\n",
    "    y,\n",
    "    epochs=150,\n",
    "    batch_size=32,\n",
    "    validation_split=0.2,\n",
    "    callbacks=[early_stopping, reduce_lr],\n",
    "    verbose=1\n",
    ")"
   ]
  },
  {
   "cell_type": "code",
   "execution_count": null,
   "id": "5ad09d71-0432-410e-9e6e-e4bb13711f4b",
   "metadata": {},
   "outputs": [],
   "source": []
  },
  {
   "cell_type": "code",
   "execution_count": 497,
   "id": "ec8ce03d-98c3-4bb5-b144-9d02776c1236",
   "metadata": {},
   "outputs": [
    {
     "data": {
      "text/html": [
       "<pre style=\"white-space:pre;overflow-x:auto;line-height:normal;font-family:Menlo,'DejaVu Sans Mono',consolas,'Courier New',monospace\"><span style=\"font-weight: bold\">Model: \"functional_13\"</span>\n",
       "</pre>\n"
      ],
      "text/plain": [
       "\u001b[1mModel: \"functional_13\"\u001b[0m\n"
      ]
     },
     "metadata": {},
     "output_type": "display_data"
    },
    {
     "data": {
      "text/html": [
       "<pre style=\"white-space:pre;overflow-x:auto;line-height:normal;font-family:Menlo,'DejaVu Sans Mono',consolas,'Courier New',monospace\">┏━━━━━━━━━━━━━━━━━━━━━━━━━━━━━━━┳━━━━━━━━━━━━━━━━━━━━━━━━━━━┳━━━━━━━━━━━━━━━━━┳━━━━━━━━━━━━━━━━━━━━━━━━━━━━┓\n",
       "┃<span style=\"font-weight: bold\"> Layer (type)                  </span>┃<span style=\"font-weight: bold\"> Output Shape              </span>┃<span style=\"font-weight: bold\">         Param # </span>┃<span style=\"font-weight: bold\"> Connected to               </span>┃\n",
       "┡━━━━━━━━━━━━━━━━━━━━━━━━━━━━━━━╇━━━━━━━━━━━━━━━━━━━━━━━━━━━╇━━━━━━━━━━━━━━━━━╇━━━━━━━━━━━━━━━━━━━━━━━━━━━━┩\n",
       "│ user_input (<span style=\"color: #0087ff; text-decoration-color: #0087ff\">InputLayer</span>)       │ (<span style=\"color: #00d7ff; text-decoration-color: #00d7ff\">None</span>, <span style=\"color: #00af00; text-decoration-color: #00af00\">20</span>)                │               <span style=\"color: #00af00; text-decoration-color: #00af00\">0</span> │ -                          │\n",
       "├───────────────────────────────┼───────────────────────────┼─────────────────┼────────────────────────────┤\n",
       "│ movie_input (<span style=\"color: #0087ff; text-decoration-color: #0087ff\">InputLayer</span>)      │ (<span style=\"color: #00d7ff; text-decoration-color: #00d7ff\">None</span>, <span style=\"color: #00af00; text-decoration-color: #00af00\">23</span>)                │               <span style=\"color: #00af00; text-decoration-color: #00af00\">0</span> │ -                          │\n",
       "├───────────────────────────────┼───────────────────────────┼─────────────────┼────────────────────────────┤\n",
       "│ dense_72 (<span style=\"color: #0087ff; text-decoration-color: #0087ff\">Dense</span>)              │ (<span style=\"color: #00d7ff; text-decoration-color: #00d7ff\">None</span>, <span style=\"color: #00af00; text-decoration-color: #00af00\">256</span>)               │           <span style=\"color: #00af00; text-decoration-color: #00af00\">5,376</span> │ user_input[<span style=\"color: #00af00; text-decoration-color: #00af00\">0</span>][<span style=\"color: #00af00; text-decoration-color: #00af00\">0</span>]           │\n",
       "├───────────────────────────────┼───────────────────────────┼─────────────────┼────────────────────────────┤\n",
       "│ dense_76 (<span style=\"color: #0087ff; text-decoration-color: #0087ff\">Dense</span>)              │ (<span style=\"color: #00d7ff; text-decoration-color: #00d7ff\">None</span>, <span style=\"color: #00af00; text-decoration-color: #00af00\">128</span>)               │           <span style=\"color: #00af00; text-decoration-color: #00af00\">3,072</span> │ movie_input[<span style=\"color: #00af00; text-decoration-color: #00af00\">0</span>][<span style=\"color: #00af00; text-decoration-color: #00af00\">0</span>]          │\n",
       "├───────────────────────────────┼───────────────────────────┼─────────────────┼────────────────────────────┤\n",
       "│ dropout_72 (<span style=\"color: #0087ff; text-decoration-color: #0087ff\">Dropout</span>)          │ (<span style=\"color: #00d7ff; text-decoration-color: #00d7ff\">None</span>, <span style=\"color: #00af00; text-decoration-color: #00af00\">256</span>)               │               <span style=\"color: #00af00; text-decoration-color: #00af00\">0</span> │ dense_72[<span style=\"color: #00af00; text-decoration-color: #00af00\">0</span>][<span style=\"color: #00af00; text-decoration-color: #00af00\">0</span>]             │\n",
       "├───────────────────────────────┼───────────────────────────┼─────────────────┼────────────────────────────┤\n",
       "│ dropout_76 (<span style=\"color: #0087ff; text-decoration-color: #0087ff\">Dropout</span>)          │ (<span style=\"color: #00d7ff; text-decoration-color: #00d7ff\">None</span>, <span style=\"color: #00af00; text-decoration-color: #00af00\">128</span>)               │               <span style=\"color: #00af00; text-decoration-color: #00af00\">0</span> │ dense_76[<span style=\"color: #00af00; text-decoration-color: #00af00\">0</span>][<span style=\"color: #00af00; text-decoration-color: #00af00\">0</span>]             │\n",
       "├───────────────────────────────┼───────────────────────────┼─────────────────┼────────────────────────────┤\n",
       "│ dense_73 (<span style=\"color: #0087ff; text-decoration-color: #0087ff\">Dense</span>)              │ (<span style=\"color: #00d7ff; text-decoration-color: #00d7ff\">None</span>, <span style=\"color: #00af00; text-decoration-color: #00af00\">128</span>)               │          <span style=\"color: #00af00; text-decoration-color: #00af00\">32,896</span> │ dropout_72[<span style=\"color: #00af00; text-decoration-color: #00af00\">0</span>][<span style=\"color: #00af00; text-decoration-color: #00af00\">0</span>]           │\n",
       "├───────────────────────────────┼───────────────────────────┼─────────────────┼────────────────────────────┤\n",
       "│ dense_77 (<span style=\"color: #0087ff; text-decoration-color: #0087ff\">Dense</span>)              │ (<span style=\"color: #00d7ff; text-decoration-color: #00d7ff\">None</span>, <span style=\"color: #00af00; text-decoration-color: #00af00\">128</span>)               │          <span style=\"color: #00af00; text-decoration-color: #00af00\">16,512</span> │ dropout_76[<span style=\"color: #00af00; text-decoration-color: #00af00\">0</span>][<span style=\"color: #00af00; text-decoration-color: #00af00\">0</span>]           │\n",
       "├───────────────────────────────┼───────────────────────────┼─────────────────┼────────────────────────────┤\n",
       "│ dropout_73 (<span style=\"color: #0087ff; text-decoration-color: #0087ff\">Dropout</span>)          │ (<span style=\"color: #00d7ff; text-decoration-color: #00d7ff\">None</span>, <span style=\"color: #00af00; text-decoration-color: #00af00\">128</span>)               │               <span style=\"color: #00af00; text-decoration-color: #00af00\">0</span> │ dense_73[<span style=\"color: #00af00; text-decoration-color: #00af00\">0</span>][<span style=\"color: #00af00; text-decoration-color: #00af00\">0</span>]             │\n",
       "├───────────────────────────────┼───────────────────────────┼─────────────────┼────────────────────────────┤\n",
       "│ dropout_77 (<span style=\"color: #0087ff; text-decoration-color: #0087ff\">Dropout</span>)          │ (<span style=\"color: #00d7ff; text-decoration-color: #00d7ff\">None</span>, <span style=\"color: #00af00; text-decoration-color: #00af00\">128</span>)               │               <span style=\"color: #00af00; text-decoration-color: #00af00\">0</span> │ dense_77[<span style=\"color: #00af00; text-decoration-color: #00af00\">0</span>][<span style=\"color: #00af00; text-decoration-color: #00af00\">0</span>]             │\n",
       "├───────────────────────────────┼───────────────────────────┼─────────────────┼────────────────────────────┤\n",
       "│ dense_74 (<span style=\"color: #0087ff; text-decoration-color: #0087ff\">Dense</span>)              │ (<span style=\"color: #00d7ff; text-decoration-color: #00d7ff\">None</span>, <span style=\"color: #00af00; text-decoration-color: #00af00\">64</span>)                │           <span style=\"color: #00af00; text-decoration-color: #00af00\">8,256</span> │ dropout_73[<span style=\"color: #00af00; text-decoration-color: #00af00\">0</span>][<span style=\"color: #00af00; text-decoration-color: #00af00\">0</span>]           │\n",
       "├───────────────────────────────┼───────────────────────────┼─────────────────┼────────────────────────────┤\n",
       "│ dense_78 (<span style=\"color: #0087ff; text-decoration-color: #0087ff\">Dense</span>)              │ (<span style=\"color: #00d7ff; text-decoration-color: #00d7ff\">None</span>, <span style=\"color: #00af00; text-decoration-color: #00af00\">64</span>)                │           <span style=\"color: #00af00; text-decoration-color: #00af00\">8,256</span> │ dropout_77[<span style=\"color: #00af00; text-decoration-color: #00af00\">0</span>][<span style=\"color: #00af00; text-decoration-color: #00af00\">0</span>]           │\n",
       "├───────────────────────────────┼───────────────────────────┼─────────────────┼────────────────────────────┤\n",
       "│ dropout_74 (<span style=\"color: #0087ff; text-decoration-color: #0087ff\">Dropout</span>)          │ (<span style=\"color: #00d7ff; text-decoration-color: #00d7ff\">None</span>, <span style=\"color: #00af00; text-decoration-color: #00af00\">64</span>)                │               <span style=\"color: #00af00; text-decoration-color: #00af00\">0</span> │ dense_74[<span style=\"color: #00af00; text-decoration-color: #00af00\">0</span>][<span style=\"color: #00af00; text-decoration-color: #00af00\">0</span>]             │\n",
       "├───────────────────────────────┼───────────────────────────┼─────────────────┼────────────────────────────┤\n",
       "│ dropout_78 (<span style=\"color: #0087ff; text-decoration-color: #0087ff\">Dropout</span>)          │ (<span style=\"color: #00d7ff; text-decoration-color: #00d7ff\">None</span>, <span style=\"color: #00af00; text-decoration-color: #00af00\">64</span>)                │               <span style=\"color: #00af00; text-decoration-color: #00af00\">0</span> │ dense_78[<span style=\"color: #00af00; text-decoration-color: #00af00\">0</span>][<span style=\"color: #00af00; text-decoration-color: #00af00\">0</span>]             │\n",
       "├───────────────────────────────┼───────────────────────────┼─────────────────┼────────────────────────────┤\n",
       "│ dense_75 (<span style=\"color: #0087ff; text-decoration-color: #0087ff\">Dense</span>)              │ (<span style=\"color: #00d7ff; text-decoration-color: #00d7ff\">None</span>, <span style=\"color: #00af00; text-decoration-color: #00af00\">32</span>)                │           <span style=\"color: #00af00; text-decoration-color: #00af00\">2,080</span> │ dropout_74[<span style=\"color: #00af00; text-decoration-color: #00af00\">0</span>][<span style=\"color: #00af00; text-decoration-color: #00af00\">0</span>]           │\n",
       "├───────────────────────────────┼───────────────────────────┼─────────────────┼────────────────────────────┤\n",
       "│ dense_79 (<span style=\"color: #0087ff; text-decoration-color: #0087ff\">Dense</span>)              │ (<span style=\"color: #00d7ff; text-decoration-color: #00d7ff\">None</span>, <span style=\"color: #00af00; text-decoration-color: #00af00\">32</span>)                │           <span style=\"color: #00af00; text-decoration-color: #00af00\">2,080</span> │ dropout_78[<span style=\"color: #00af00; text-decoration-color: #00af00\">0</span>][<span style=\"color: #00af00; text-decoration-color: #00af00\">0</span>]           │\n",
       "├───────────────────────────────┼───────────────────────────┼─────────────────┼────────────────────────────┤\n",
       "│ dropout_75 (<span style=\"color: #0087ff; text-decoration-color: #0087ff\">Dropout</span>)          │ (<span style=\"color: #00d7ff; text-decoration-color: #00d7ff\">None</span>, <span style=\"color: #00af00; text-decoration-color: #00af00\">32</span>)                │               <span style=\"color: #00af00; text-decoration-color: #00af00\">0</span> │ dense_75[<span style=\"color: #00af00; text-decoration-color: #00af00\">0</span>][<span style=\"color: #00af00; text-decoration-color: #00af00\">0</span>]             │\n",
       "├───────────────────────────────┼───────────────────────────┼─────────────────┼────────────────────────────┤\n",
       "│ dropout_79 (<span style=\"color: #0087ff; text-decoration-color: #0087ff\">Dropout</span>)          │ (<span style=\"color: #00d7ff; text-decoration-color: #00d7ff\">None</span>, <span style=\"color: #00af00; text-decoration-color: #00af00\">32</span>)                │               <span style=\"color: #00af00; text-decoration-color: #00af00\">0</span> │ dense_79[<span style=\"color: #00af00; text-decoration-color: #00af00\">0</span>][<span style=\"color: #00af00; text-decoration-color: #00af00\">0</span>]             │\n",
       "├───────────────────────────────┼───────────────────────────┼─────────────────┼────────────────────────────┤\n",
       "│ user_embedding (<span style=\"color: #0087ff; text-decoration-color: #0087ff\">Dense</span>)        │ (<span style=\"color: #00d7ff; text-decoration-color: #00d7ff\">None</span>, <span style=\"color: #00af00; text-decoration-color: #00af00\">20</span>)                │             <span style=\"color: #00af00; text-decoration-color: #00af00\">660</span> │ dropout_75[<span style=\"color: #00af00; text-decoration-color: #00af00\">0</span>][<span style=\"color: #00af00; text-decoration-color: #00af00\">0</span>]           │\n",
       "├───────────────────────────────┼───────────────────────────┼─────────────────┼────────────────────────────┤\n",
       "│ movie_embedding (<span style=\"color: #0087ff; text-decoration-color: #0087ff\">Dense</span>)       │ (<span style=\"color: #00d7ff; text-decoration-color: #00d7ff\">None</span>, <span style=\"color: #00af00; text-decoration-color: #00af00\">20</span>)                │             <span style=\"color: #00af00; text-decoration-color: #00af00\">660</span> │ dropout_79[<span style=\"color: #00af00; text-decoration-color: #00af00\">0</span>][<span style=\"color: #00af00; text-decoration-color: #00af00\">0</span>]           │\n",
       "├───────────────────────────────┼───────────────────────────┼─────────────────┼────────────────────────────┤\n",
       "│ dot_product (<span style=\"color: #0087ff; text-decoration-color: #0087ff\">Dot</span>)             │ (<span style=\"color: #00d7ff; text-decoration-color: #00d7ff\">None</span>, <span style=\"color: #00af00; text-decoration-color: #00af00\">1</span>)                 │               <span style=\"color: #00af00; text-decoration-color: #00af00\">0</span> │ user_embedding[<span style=\"color: #00af00; text-decoration-color: #00af00\">0</span>][<span style=\"color: #00af00; text-decoration-color: #00af00\">0</span>],      │\n",
       "│                               │                           │                 │ movie_embedding[<span style=\"color: #00af00; text-decoration-color: #00af00\">0</span>][<span style=\"color: #00af00; text-decoration-color: #00af00\">0</span>]      │\n",
       "└───────────────────────────────┴───────────────────────────┴─────────────────┴────────────────────────────┘\n",
       "</pre>\n"
      ],
      "text/plain": [
       "┏━━━━━━━━━━━━━━━━━━━━━━━━━━━━━━━┳━━━━━━━━━━━━━━━━━━━━━━━━━━━┳━━━━━━━━━━━━━━━━━┳━━━━━━━━━━━━━━━━━━━━━━━━━━━━┓\n",
       "┃\u001b[1m \u001b[0m\u001b[1mLayer (type)                 \u001b[0m\u001b[1m \u001b[0m┃\u001b[1m \u001b[0m\u001b[1mOutput Shape             \u001b[0m\u001b[1m \u001b[0m┃\u001b[1m \u001b[0m\u001b[1m        Param #\u001b[0m\u001b[1m \u001b[0m┃\u001b[1m \u001b[0m\u001b[1mConnected to              \u001b[0m\u001b[1m \u001b[0m┃\n",
       "┡━━━━━━━━━━━━━━━━━━━━━━━━━━━━━━━╇━━━━━━━━━━━━━━━━━━━━━━━━━━━╇━━━━━━━━━━━━━━━━━╇━━━━━━━━━━━━━━━━━━━━━━━━━━━━┩\n",
       "│ user_input (\u001b[38;5;33mInputLayer\u001b[0m)       │ (\u001b[38;5;45mNone\u001b[0m, \u001b[38;5;34m20\u001b[0m)                │               \u001b[38;5;34m0\u001b[0m │ -                          │\n",
       "├───────────────────────────────┼───────────────────────────┼─────────────────┼────────────────────────────┤\n",
       "│ movie_input (\u001b[38;5;33mInputLayer\u001b[0m)      │ (\u001b[38;5;45mNone\u001b[0m, \u001b[38;5;34m23\u001b[0m)                │               \u001b[38;5;34m0\u001b[0m │ -                          │\n",
       "├───────────────────────────────┼───────────────────────────┼─────────────────┼────────────────────────────┤\n",
       "│ dense_72 (\u001b[38;5;33mDense\u001b[0m)              │ (\u001b[38;5;45mNone\u001b[0m, \u001b[38;5;34m256\u001b[0m)               │           \u001b[38;5;34m5,376\u001b[0m │ user_input[\u001b[38;5;34m0\u001b[0m][\u001b[38;5;34m0\u001b[0m]           │\n",
       "├───────────────────────────────┼───────────────────────────┼─────────────────┼────────────────────────────┤\n",
       "│ dense_76 (\u001b[38;5;33mDense\u001b[0m)              │ (\u001b[38;5;45mNone\u001b[0m, \u001b[38;5;34m128\u001b[0m)               │           \u001b[38;5;34m3,072\u001b[0m │ movie_input[\u001b[38;5;34m0\u001b[0m][\u001b[38;5;34m0\u001b[0m]          │\n",
       "├───────────────────────────────┼───────────────────────────┼─────────────────┼────────────────────────────┤\n",
       "│ dropout_72 (\u001b[38;5;33mDropout\u001b[0m)          │ (\u001b[38;5;45mNone\u001b[0m, \u001b[38;5;34m256\u001b[0m)               │               \u001b[38;5;34m0\u001b[0m │ dense_72[\u001b[38;5;34m0\u001b[0m][\u001b[38;5;34m0\u001b[0m]             │\n",
       "├───────────────────────────────┼───────────────────────────┼─────────────────┼────────────────────────────┤\n",
       "│ dropout_76 (\u001b[38;5;33mDropout\u001b[0m)          │ (\u001b[38;5;45mNone\u001b[0m, \u001b[38;5;34m128\u001b[0m)               │               \u001b[38;5;34m0\u001b[0m │ dense_76[\u001b[38;5;34m0\u001b[0m][\u001b[38;5;34m0\u001b[0m]             │\n",
       "├───────────────────────────────┼───────────────────────────┼─────────────────┼────────────────────────────┤\n",
       "│ dense_73 (\u001b[38;5;33mDense\u001b[0m)              │ (\u001b[38;5;45mNone\u001b[0m, \u001b[38;5;34m128\u001b[0m)               │          \u001b[38;5;34m32,896\u001b[0m │ dropout_72[\u001b[38;5;34m0\u001b[0m][\u001b[38;5;34m0\u001b[0m]           │\n",
       "├───────────────────────────────┼───────────────────────────┼─────────────────┼────────────────────────────┤\n",
       "│ dense_77 (\u001b[38;5;33mDense\u001b[0m)              │ (\u001b[38;5;45mNone\u001b[0m, \u001b[38;5;34m128\u001b[0m)               │          \u001b[38;5;34m16,512\u001b[0m │ dropout_76[\u001b[38;5;34m0\u001b[0m][\u001b[38;5;34m0\u001b[0m]           │\n",
       "├───────────────────────────────┼───────────────────────────┼─────────────────┼────────────────────────────┤\n",
       "│ dropout_73 (\u001b[38;5;33mDropout\u001b[0m)          │ (\u001b[38;5;45mNone\u001b[0m, \u001b[38;5;34m128\u001b[0m)               │               \u001b[38;5;34m0\u001b[0m │ dense_73[\u001b[38;5;34m0\u001b[0m][\u001b[38;5;34m0\u001b[0m]             │\n",
       "├───────────────────────────────┼───────────────────────────┼─────────────────┼────────────────────────────┤\n",
       "│ dropout_77 (\u001b[38;5;33mDropout\u001b[0m)          │ (\u001b[38;5;45mNone\u001b[0m, \u001b[38;5;34m128\u001b[0m)               │               \u001b[38;5;34m0\u001b[0m │ dense_77[\u001b[38;5;34m0\u001b[0m][\u001b[38;5;34m0\u001b[0m]             │\n",
       "├───────────────────────────────┼───────────────────────────┼─────────────────┼────────────────────────────┤\n",
       "│ dense_74 (\u001b[38;5;33mDense\u001b[0m)              │ (\u001b[38;5;45mNone\u001b[0m, \u001b[38;5;34m64\u001b[0m)                │           \u001b[38;5;34m8,256\u001b[0m │ dropout_73[\u001b[38;5;34m0\u001b[0m][\u001b[38;5;34m0\u001b[0m]           │\n",
       "├───────────────────────────────┼───────────────────────────┼─────────────────┼────────────────────────────┤\n",
       "│ dense_78 (\u001b[38;5;33mDense\u001b[0m)              │ (\u001b[38;5;45mNone\u001b[0m, \u001b[38;5;34m64\u001b[0m)                │           \u001b[38;5;34m8,256\u001b[0m │ dropout_77[\u001b[38;5;34m0\u001b[0m][\u001b[38;5;34m0\u001b[0m]           │\n",
       "├───────────────────────────────┼───────────────────────────┼─────────────────┼────────────────────────────┤\n",
       "│ dropout_74 (\u001b[38;5;33mDropout\u001b[0m)          │ (\u001b[38;5;45mNone\u001b[0m, \u001b[38;5;34m64\u001b[0m)                │               \u001b[38;5;34m0\u001b[0m │ dense_74[\u001b[38;5;34m0\u001b[0m][\u001b[38;5;34m0\u001b[0m]             │\n",
       "├───────────────────────────────┼───────────────────────────┼─────────────────┼────────────────────────────┤\n",
       "│ dropout_78 (\u001b[38;5;33mDropout\u001b[0m)          │ (\u001b[38;5;45mNone\u001b[0m, \u001b[38;5;34m64\u001b[0m)                │               \u001b[38;5;34m0\u001b[0m │ dense_78[\u001b[38;5;34m0\u001b[0m][\u001b[38;5;34m0\u001b[0m]             │\n",
       "├───────────────────────────────┼───────────────────────────┼─────────────────┼────────────────────────────┤\n",
       "│ dense_75 (\u001b[38;5;33mDense\u001b[0m)              │ (\u001b[38;5;45mNone\u001b[0m, \u001b[38;5;34m32\u001b[0m)                │           \u001b[38;5;34m2,080\u001b[0m │ dropout_74[\u001b[38;5;34m0\u001b[0m][\u001b[38;5;34m0\u001b[0m]           │\n",
       "├───────────────────────────────┼───────────────────────────┼─────────────────┼────────────────────────────┤\n",
       "│ dense_79 (\u001b[38;5;33mDense\u001b[0m)              │ (\u001b[38;5;45mNone\u001b[0m, \u001b[38;5;34m32\u001b[0m)                │           \u001b[38;5;34m2,080\u001b[0m │ dropout_78[\u001b[38;5;34m0\u001b[0m][\u001b[38;5;34m0\u001b[0m]           │\n",
       "├───────────────────────────────┼───────────────────────────┼─────────────────┼────────────────────────────┤\n",
       "│ dropout_75 (\u001b[38;5;33mDropout\u001b[0m)          │ (\u001b[38;5;45mNone\u001b[0m, \u001b[38;5;34m32\u001b[0m)                │               \u001b[38;5;34m0\u001b[0m │ dense_75[\u001b[38;5;34m0\u001b[0m][\u001b[38;5;34m0\u001b[0m]             │\n",
       "├───────────────────────────────┼───────────────────────────┼─────────────────┼────────────────────────────┤\n",
       "│ dropout_79 (\u001b[38;5;33mDropout\u001b[0m)          │ (\u001b[38;5;45mNone\u001b[0m, \u001b[38;5;34m32\u001b[0m)                │               \u001b[38;5;34m0\u001b[0m │ dense_79[\u001b[38;5;34m0\u001b[0m][\u001b[38;5;34m0\u001b[0m]             │\n",
       "├───────────────────────────────┼───────────────────────────┼─────────────────┼────────────────────────────┤\n",
       "│ user_embedding (\u001b[38;5;33mDense\u001b[0m)        │ (\u001b[38;5;45mNone\u001b[0m, \u001b[38;5;34m20\u001b[0m)                │             \u001b[38;5;34m660\u001b[0m │ dropout_75[\u001b[38;5;34m0\u001b[0m][\u001b[38;5;34m0\u001b[0m]           │\n",
       "├───────────────────────────────┼───────────────────────────┼─────────────────┼────────────────────────────┤\n",
       "│ movie_embedding (\u001b[38;5;33mDense\u001b[0m)       │ (\u001b[38;5;45mNone\u001b[0m, \u001b[38;5;34m20\u001b[0m)                │             \u001b[38;5;34m660\u001b[0m │ dropout_79[\u001b[38;5;34m0\u001b[0m][\u001b[38;5;34m0\u001b[0m]           │\n",
       "├───────────────────────────────┼───────────────────────────┼─────────────────┼────────────────────────────┤\n",
       "│ dot_product (\u001b[38;5;33mDot\u001b[0m)             │ (\u001b[38;5;45mNone\u001b[0m, \u001b[38;5;34m1\u001b[0m)                 │               \u001b[38;5;34m0\u001b[0m │ user_embedding[\u001b[38;5;34m0\u001b[0m][\u001b[38;5;34m0\u001b[0m],      │\n",
       "│                               │                           │                 │ movie_embedding[\u001b[38;5;34m0\u001b[0m][\u001b[38;5;34m0\u001b[0m]      │\n",
       "└───────────────────────────────┴───────────────────────────┴─────────────────┴────────────────────────────┘\n"
      ]
     },
     "metadata": {},
     "output_type": "display_data"
    },
    {
     "data": {
      "text/html": [
       "<pre style=\"white-space:pre;overflow-x:auto;line-height:normal;font-family:Menlo,'DejaVu Sans Mono',consolas,'Courier New',monospace\"><span style=\"font-weight: bold\"> Total params: </span><span style=\"color: #00af00; text-decoration-color: #00af00\">79,848</span> (311.91 KB)\n",
       "</pre>\n"
      ],
      "text/plain": [
       "\u001b[1m Total params: \u001b[0m\u001b[38;5;34m79,848\u001b[0m (311.91 KB)\n"
      ]
     },
     "metadata": {},
     "output_type": "display_data"
    },
    {
     "data": {
      "text/html": [
       "<pre style=\"white-space:pre;overflow-x:auto;line-height:normal;font-family:Menlo,'DejaVu Sans Mono',consolas,'Courier New',monospace\"><span style=\"font-weight: bold\"> Trainable params: </span><span style=\"color: #00af00; text-decoration-color: #00af00\">79,848</span> (311.91 KB)\n",
       "</pre>\n"
      ],
      "text/plain": [
       "\u001b[1m Trainable params: \u001b[0m\u001b[38;5;34m79,848\u001b[0m (311.91 KB)\n"
      ]
     },
     "metadata": {},
     "output_type": "display_data"
    },
    {
     "data": {
      "text/html": [
       "<pre style=\"white-space:pre;overflow-x:auto;line-height:normal;font-family:Menlo,'DejaVu Sans Mono',consolas,'Courier New',monospace\"><span style=\"font-weight: bold\"> Non-trainable params: </span><span style=\"color: #00af00; text-decoration-color: #00af00\">0</span> (0.00 B)\n",
       "</pre>\n"
      ],
      "text/plain": [
       "\u001b[1m Non-trainable params: \u001b[0m\u001b[38;5;34m0\u001b[0m (0.00 B)\n"
      ]
     },
     "metadata": {},
     "output_type": "display_data"
    }
   ],
   "source": [
    "\n",
    "# ---------------- USER TOWER ----------------\n",
    "user_input = layers.Input(shape=(num_user_features,), name='user_input')\n",
    "\n",
    "x = layers.Dense(256, activation='relu', kernel_regularizer=regularizers.l2(0.001))(user_input)\n",
    "x = layers.Dropout(drop)(x)\n",
    "x = layers.Dense(128, activation='relu', kernel_regularizer=regularizers.l2(0.001))(x)\n",
    "x = layers.Dropout(drop)(x)\n",
    "x = layers.Dense(64, activation='relu', kernel_regularizer=regularizers.l2(0.001))(x)\n",
    "x = layers.Dropout(drop)(x)\n",
    "x = layers.Dense(32, activation='relu', kernel_regularizer=regularizers.l2(0.001))(x)\n",
    "x = layers.Dropout(drop)(x)\n",
    "\n",
    "user_embedding = layers.Dense(20, activation='linear', name='user_embedding')(x)\n",
    "\n",
    "# ---------------- MOVIE TOWER ----------------\n",
    "movie_input = layers.Input(shape=(num_movie_features,), name='movie_input')\n",
    "x2= layers.Dense(128, activation='relu', kernel_regularizer=regularizers.l2(0.001))(movie_input)\n",
    "x2 = layers.Dropout(drop)(x2)\n",
    "x2= layers.Dense(128, activation='relu', kernel_regularizer=regularizers.l2(0.001))(x2)\n",
    "x2 = layers.Dropout(drop)(x2)\n",
    "x2 = layers.Dense(64, activation='relu', kernel_regularizer=regularizers.l2(0.001))(x2)\n",
    "x2 = layers.Dropout(drop)(x2)\n",
    "x2 = layers.Dense(32, activation='relu', kernel_regularizer=regularizers.l2(0.001))(x2)\n",
    "x2 = layers.Dropout(drop)(x2)\n",
    "\n",
    "movie_embedding = layers.Dense(20, activation='linear', name='movie_embedding')(x2)\n",
    "\n",
    "# ---------------- FINAL MODEL ----------------\n",
    "dot_product = layers.Dot(axes=1, name='dot_product')([user_embedding, movie_embedding])\n",
    "\n",
    "model2 = models.Model(inputs=[user_input, movie_input], outputs=dot_product)\n",
    "\n",
    "# Compile model\n",
    "model2.compile(optimizer='adam', loss='mse', metrics=['mae', 'mse'])\n",
    "\n",
    "# Pregled modela\n",
    "model2.summary()"
   ]
  },
  {
   "cell_type": "code",
   "execution_count": 501,
   "id": "887f91f0-37c5-494b-a1bd-8e906ba6f739",
   "metadata": {},
   "outputs": [
    {
     "name": "stdout",
     "output_type": "stream",
     "text": [
      "Epoch 1/150\n",
      "\u001b[1m17350/17350\u001b[0m \u001b[32m━━━━━━━━━━━━━━━━━━━━\u001b[0m\u001b[37m\u001b[0m \u001b[1m66s\u001b[0m 3ms/step - loss: 1.1770 - mae: 0.7306 - mse: 0.9303 - val_loss: 0.7600 - val_mae: 0.6452 - val_mse: 0.7224 - learning_rate: 0.0010\n",
      "Epoch 2/150\n",
      "\u001b[1m17350/17350\u001b[0m \u001b[32m━━━━━━━━━━━━━━━━━━━━\u001b[0m\u001b[37m\u001b[0m \u001b[1m57s\u001b[0m 3ms/step - loss: 0.7478 - mae: 0.6421 - mse: 0.7112 - val_loss: 0.7506 - val_mae: 0.6349 - val_mse: 0.7165 - learning_rate: 0.0010\n",
      "Epoch 3/150\n",
      "\u001b[1m17350/17350\u001b[0m \u001b[32m━━━━━━━━━━━━━━━━━━━━\u001b[0m\u001b[37m\u001b[0m \u001b[1m60s\u001b[0m 3ms/step - loss: 0.7400 - mae: 0.6388 - mse: 0.7050 - val_loss: 0.7631 - val_mae: 0.6280 - val_mse: 0.7278 - learning_rate: 0.0010\n",
      "Epoch 4/150\n",
      "\u001b[1m17350/17350\u001b[0m \u001b[32m━━━━━━━━━━━━━━━━━━━━\u001b[0m\u001b[37m\u001b[0m \u001b[1m57s\u001b[0m 3ms/step - loss: 0.7363 - mae: 0.6373 - mse: 0.7021 - val_loss: 0.7445 - val_mae: 0.6256 - val_mse: 0.7109 - learning_rate: 0.0010\n",
      "Epoch 5/150\n",
      "\u001b[1m17350/17350\u001b[0m \u001b[32m━━━━━━━━━━━━━━━━━━━━\u001b[0m\u001b[37m\u001b[0m \u001b[1m57s\u001b[0m 3ms/step - loss: 0.7359 - mae: 0.6370 - mse: 0.7022 - val_loss: 0.7338 - val_mae: 0.6264 - val_mse: 0.7000 - learning_rate: 0.0010\n",
      "Epoch 6/150\n",
      "\u001b[1m17350/17350\u001b[0m \u001b[32m━━━━━━━━━━━━━━━━━━━━\u001b[0m\u001b[37m\u001b[0m \u001b[1m56s\u001b[0m 3ms/step - loss: 0.7352 - mae: 0.6371 - mse: 0.7015 - val_loss: 0.7751 - val_mae: 0.6585 - val_mse: 0.7417 - learning_rate: 0.0010\n",
      "Epoch 7/150\n",
      "\u001b[1m17350/17350\u001b[0m \u001b[32m━━━━━━━━━━━━━━━━━━━━\u001b[0m\u001b[37m\u001b[0m \u001b[1m54s\u001b[0m 3ms/step - loss: 0.7372 - mae: 0.6376 - mse: 0.7037 - val_loss: 0.7405 - val_mae: 0.6288 - val_mse: 0.7073 - learning_rate: 0.0010\n",
      "Epoch 8/150\n",
      "\u001b[1m17348/17350\u001b[0m \u001b[32m━━━━━━━━━━━━━━━━━━━\u001b[0m\u001b[37m━\u001b[0m \u001b[1m0s\u001b[0m 3ms/step - loss: 0.7356 - mae: 0.6373 - mse: 0.7025\n",
      "Epoch 8: ReduceLROnPlateau reducing learning rate to 0.0003333333491658171.\n",
      "\u001b[1m17350/17350\u001b[0m \u001b[32m━━━━━━━━━━━━━━━━━━━━\u001b[0m\u001b[37m\u001b[0m \u001b[1m55s\u001b[0m 3ms/step - loss: 0.7356 - mae: 0.6373 - mse: 0.7025 - val_loss: 0.7458 - val_mae: 0.6292 - val_mse: 0.7128 - learning_rate: 0.0010\n",
      "Epoch 9/150\n",
      "\u001b[1m17350/17350\u001b[0m \u001b[32m━━━━━━━━━━━━━━━━━━━━\u001b[0m\u001b[37m\u001b[0m \u001b[1m56s\u001b[0m 3ms/step - loss: 0.7139 - mae: 0.6263 - mse: 0.6837 - val_loss: 0.7221 - val_mae: 0.6190 - val_mse: 0.6949 - learning_rate: 3.3333e-04\n",
      "Epoch 10/150\n",
      "\u001b[1m17350/17350\u001b[0m \u001b[32m━━━━━━━━━━━━━━━━━━━━\u001b[0m\u001b[37m\u001b[0m \u001b[1m55s\u001b[0m 3ms/step - loss: 0.7081 - mae: 0.6252 - mse: 0.6814 - val_loss: 0.7199 - val_mae: 0.6254 - val_mse: 0.6948 - learning_rate: 3.3333e-04\n",
      "Epoch 11/150\n",
      "\u001b[1m17350/17350\u001b[0m \u001b[32m━━━━━━━━━━━━━━━━━━━━\u001b[0m\u001b[37m\u001b[0m \u001b[1m56s\u001b[0m 3ms/step - loss: 0.7025 - mae: 0.6224 - mse: 0.6773 - val_loss: 0.7179 - val_mae: 0.6132 - val_mse: 0.6932 - learning_rate: 3.3333e-04\n",
      "Epoch 12/150\n",
      "\u001b[1m17350/17350\u001b[0m \u001b[32m━━━━━━━━━━━━━━━━━━━━\u001b[0m\u001b[37m\u001b[0m \u001b[1m56s\u001b[0m 3ms/step - loss: 0.7027 - mae: 0.6231 - mse: 0.6781 - val_loss: 0.7135 - val_mae: 0.6220 - val_mse: 0.6894 - learning_rate: 3.3333e-04\n",
      "Epoch 13/150\n",
      "\u001b[1m17350/17350\u001b[0m \u001b[32m━━━━━━━━━━━━━━━━━━━━\u001b[0m\u001b[37m\u001b[0m \u001b[1m56s\u001b[0m 3ms/step - loss: 0.7016 - mae: 0.6234 - mse: 0.6776 - val_loss: 0.7236 - val_mae: 0.6337 - val_mse: 0.7001 - learning_rate: 3.3333e-04\n",
      "Epoch 14/150\n",
      "\u001b[1m17350/17350\u001b[0m \u001b[32m━━━━━━━━━━━━━━━━━━━━\u001b[0m\u001b[37m\u001b[0m \u001b[1m56s\u001b[0m 3ms/step - loss: 0.6985 - mae: 0.6217 - mse: 0.6750 - val_loss: 0.7114 - val_mae: 0.6218 - val_mse: 0.6880 - learning_rate: 3.3333e-04\n",
      "Epoch 15/150\n",
      "\u001b[1m17350/17350\u001b[0m \u001b[32m━━━━━━━━━━━━━━━━━━━━\u001b[0m\u001b[37m\u001b[0m \u001b[1m56s\u001b[0m 3ms/step - loss: 0.7027 - mae: 0.6239 - mse: 0.6792 - val_loss: 0.7179 - val_mae: 0.6222 - val_mse: 0.6947 - learning_rate: 3.3333e-04\n",
      "Epoch 16/150\n",
      "\u001b[1m17350/17350\u001b[0m \u001b[32m━━━━━━━━━━━━━━━━━━━━\u001b[0m\u001b[37m\u001b[0m \u001b[1m59s\u001b[0m 3ms/step - loss: 0.7019 - mae: 0.6232 - mse: 0.6788 - val_loss: 0.7251 - val_mae: 0.6298 - val_mse: 0.7026 - learning_rate: 3.3333e-04\n",
      "Epoch 17/150\n",
      "\u001b[1m17335/17350\u001b[0m \u001b[32m━━━━━━━━━━━━━━━━━━━\u001b[0m\u001b[37m━\u001b[0m \u001b[1m0s\u001b[0m 3ms/step - loss: 0.6986 - mae: 0.6222 - mse: 0.6757\n",
      "Epoch 17: ReduceLROnPlateau reducing learning rate to 0.00011111111962236464.\n",
      "\u001b[1m17350/17350\u001b[0m \u001b[32m━━━━━━━━━━━━━━━━━━━━\u001b[0m\u001b[37m\u001b[0m \u001b[1m60s\u001b[0m 3ms/step - loss: 0.6986 - mae: 0.6222 - mse: 0.6757 - val_loss: 0.7150 - val_mae: 0.6238 - val_mse: 0.6921 - learning_rate: 3.3333e-04\n",
      "Epoch 18/150\n",
      "\u001b[1m17350/17350\u001b[0m \u001b[32m━━━━━━━━━━━━━━━━━━━━\u001b[0m\u001b[37m\u001b[0m \u001b[1m54s\u001b[0m 3ms/step - loss: 0.6933 - mae: 0.6188 - mse: 0.6708 - val_loss: 0.7090 - val_mae: 0.6203 - val_mse: 0.6875 - learning_rate: 1.1111e-04\n",
      "Epoch 19/150\n",
      "\u001b[1m17350/17350\u001b[0m \u001b[32m━━━━━━━━━━━━━━━━━━━━\u001b[0m\u001b[37m\u001b[0m \u001b[1m54s\u001b[0m 3ms/step - loss: 0.6877 - mae: 0.6161 - mse: 0.6664 - val_loss: 0.7112 - val_mae: 0.6173 - val_mse: 0.6903 - learning_rate: 1.1111e-04\n",
      "Epoch 20/150\n",
      "\u001b[1m17350/17350\u001b[0m \u001b[32m━━━━━━━━━━━━━━━━━━━━\u001b[0m\u001b[37m\u001b[0m \u001b[1m60s\u001b[0m 3ms/step - loss: 0.6846 - mae: 0.6158 - mse: 0.6638 - val_loss: 0.7067 - val_mae: 0.6122 - val_mse: 0.6863 - learning_rate: 1.1111e-04\n",
      "Epoch 21/150\n",
      "\u001b[1m17350/17350\u001b[0m \u001b[32m━━━━━━━━━━━━━━━━━━━━\u001b[0m\u001b[37m\u001b[0m \u001b[1m57s\u001b[0m 3ms/step - loss: 0.6857 - mae: 0.6157 - mse: 0.6653 - val_loss: 0.7078 - val_mae: 0.6138 - val_mse: 0.6875 - learning_rate: 1.1111e-04\n",
      "Epoch 22/150\n",
      "\u001b[1m17350/17350\u001b[0m \u001b[32m━━━━━━━━━━━━━━━━━━━━\u001b[0m\u001b[37m\u001b[0m \u001b[1m55s\u001b[0m 3ms/step - loss: 0.6870 - mae: 0.6163 - mse: 0.6668 - val_loss: 0.7017 - val_mae: 0.6191 - val_mse: 0.6818 - learning_rate: 1.1111e-04\n",
      "Epoch 23/150\n",
      "\u001b[1m17350/17350\u001b[0m \u001b[32m━━━━━━━━━━━━━━━━━━━━\u001b[0m\u001b[37m\u001b[0m \u001b[1m58s\u001b[0m 3ms/step - loss: 0.6856 - mae: 0.6164 - mse: 0.6657 - val_loss: 0.7081 - val_mae: 0.6139 - val_mse: 0.6884 - learning_rate: 1.1111e-04\n",
      "Epoch 24/150\n",
      "\u001b[1m17350/17350\u001b[0m \u001b[32m━━━━━━━━━━━━━━━━━━━━\u001b[0m\u001b[37m\u001b[0m \u001b[1m57s\u001b[0m 3ms/step - loss: 0.6856 - mae: 0.6161 - mse: 0.6659 - val_loss: 0.7036 - val_mae: 0.6104 - val_mse: 0.6842 - learning_rate: 1.1111e-04\n",
      "Epoch 25/150\n",
      "\u001b[1m17350/17350\u001b[0m \u001b[32m━━━━━━━━━━━━━━━━━━━━\u001b[0m\u001b[37m\u001b[0m \u001b[1m0s\u001b[0m 3ms/step - loss: 0.6857 - mae: 0.6158 - mse: 0.6663\n",
      "Epoch 25: ReduceLROnPlateau reducing learning rate to 3.703703987412155e-05.\n",
      "\u001b[1m17350/17350\u001b[0m \u001b[32m━━━━━━━━━━━━━━━━━━━━\u001b[0m\u001b[37m\u001b[0m \u001b[1m55s\u001b[0m 3ms/step - loss: 0.6857 - mae: 0.6158 - mse: 0.6663 - val_loss: 0.7036 - val_mae: 0.6173 - val_mse: 0.6844 - learning_rate: 1.1111e-04\n",
      "Epoch 26/150\n",
      "\u001b[1m17350/17350\u001b[0m \u001b[32m━━━━━━━━━━━━━━━━━━━━\u001b[0m\u001b[37m\u001b[0m \u001b[1m55s\u001b[0m 3ms/step - loss: 0.6817 - mae: 0.6140 - mse: 0.6626 - val_loss: 0.6994 - val_mae: 0.6093 - val_mse: 0.6805 - learning_rate: 3.7037e-05\n",
      "Epoch 27/150\n",
      "\u001b[1m17350/17350\u001b[0m \u001b[32m━━━━━━━━━━━━━━━━━━━━\u001b[0m\u001b[37m\u001b[0m \u001b[1m55s\u001b[0m 3ms/step - loss: 0.6796 - mae: 0.6131 - mse: 0.6608 - val_loss: 0.6985 - val_mae: 0.6123 - val_mse: 0.6798 - learning_rate: 3.7037e-05\n",
      "Epoch 28/150\n",
      "\u001b[1m17350/17350\u001b[0m \u001b[32m━━━━━━━━━━━━━━━━━━━━\u001b[0m\u001b[37m\u001b[0m \u001b[1m55s\u001b[0m 3ms/step - loss: 0.6803 - mae: 0.6131 - mse: 0.6616 - val_loss: 0.7012 - val_mae: 0.6087 - val_mse: 0.6825 - learning_rate: 3.7037e-05\n",
      "Epoch 29/150\n",
      "\u001b[1m17350/17350\u001b[0m \u001b[32m━━━━━━━━━━━━━━━━━━━━\u001b[0m\u001b[37m\u001b[0m \u001b[1m134s\u001b[0m 8ms/step - loss: 0.6809 - mae: 0.6136 - mse: 0.6623 - val_loss: 0.6999 - val_mae: 0.6086 - val_mse: 0.6814 - learning_rate: 3.7037e-05\n",
      "Epoch 30/150\n",
      "\u001b[1m 6446/17350\u001b[0m \u001b[32m━━━━━━━\u001b[0m\u001b[37m━━━━━━━━━━━━━\u001b[0m \u001b[1m27s\u001b[0m 3ms/step - loss: 0.6785 - mae: 0.6138 - mse: 0.6599"
     ]
    },
    {
     "ename": "KeyboardInterrupt",
     "evalue": "",
     "output_type": "error",
     "traceback": [
      "\u001b[31m---------------------------------------------------------------------------\u001b[39m",
      "\u001b[31mKeyboardInterrupt\u001b[39m                         Traceback (most recent call last)",
      "\u001b[36mCell\u001b[39m\u001b[36m \u001b[39m\u001b[32mIn[501]\u001b[39m\u001b[32m, line 5\u001b[39m\n\u001b[32m      1\u001b[39m early_stopping = EarlyStopping(monitor=\u001b[33m'\u001b[39m\u001b[33mval_loss\u001b[39m\u001b[33m'\u001b[39m, patience=\u001b[32m5\u001b[39m, restore_best_weights=\u001b[38;5;28;01mTrue\u001b[39;00m)\n\u001b[32m      3\u001b[39m reduce_lr = ReduceLROnPlateau(monitor=\u001b[33m'\u001b[39m\u001b[33mval_loss\u001b[39m\u001b[33m'\u001b[39m, factor=\u001b[32m1\u001b[39m/\u001b[32m3\u001b[39m, patience=\u001b[32m3\u001b[39m, verbose=\u001b[32m1\u001b[39m)\n\u001b[32m----> \u001b[39m\u001b[32m5\u001b[39m history = \u001b[43mmodel2\u001b[49m\u001b[43m.\u001b[49m\u001b[43mfit\u001b[49m\u001b[43m(\u001b[49m\u001b[43m[\u001b[49m\u001b[43mX_user_numpy\u001b[49m\u001b[43m,\u001b[49m\u001b[43m \u001b[49m\u001b[43mX_movie_numpy\u001b[49m\u001b[43m]\u001b[49m\u001b[43m,\u001b[49m\u001b[43m \u001b[49m\u001b[43my\u001b[49m\u001b[43m,\u001b[49m\u001b[43m \u001b[49m\u001b[43mepochs\u001b[49m\u001b[43m=\u001b[49m\u001b[32;43m150\u001b[39;49m\u001b[43m,\u001b[49m\u001b[43m \u001b[49m\u001b[43mbatch_size\u001b[49m\u001b[43m=\u001b[49m\u001b[32;43m32\u001b[39;49m\u001b[43m,\u001b[49m\u001b[43m \u001b[49m\u001b[43mvalidation_split\u001b[49m\u001b[43m=\u001b[49m\u001b[32;43m0.2\u001b[39;49m\u001b[43m,\u001b[49m\n\u001b[32m      6\u001b[39m \u001b[43m                    \u001b[49m\u001b[43mcallbacks\u001b[49m\u001b[43m=\u001b[49m\u001b[43m[\u001b[49m\u001b[43mearly_stopping\u001b[49m\u001b[43m,\u001b[49m\u001b[43m \u001b[49m\u001b[43mreduce_lr\u001b[49m\u001b[43m]\u001b[49m\u001b[43m,\u001b[49m\u001b[43m \u001b[49m\u001b[43mverbose\u001b[49m\u001b[43m=\u001b[49m\u001b[32;43m1\u001b[39;49m\u001b[43m)\u001b[49m\n",
      "\u001b[36mFile \u001b[39m\u001b[32m~\\Desktop\\Freestyle\\GitHub\\venv\\Lib\\site-packages\\keras\\src\\utils\\traceback_utils.py:117\u001b[39m, in \u001b[36mfilter_traceback.<locals>.error_handler\u001b[39m\u001b[34m(*args, **kwargs)\u001b[39m\n\u001b[32m    115\u001b[39m filtered_tb = \u001b[38;5;28;01mNone\u001b[39;00m\n\u001b[32m    116\u001b[39m \u001b[38;5;28;01mtry\u001b[39;00m:\n\u001b[32m--> \u001b[39m\u001b[32m117\u001b[39m     \u001b[38;5;28;01mreturn\u001b[39;00m \u001b[43mfn\u001b[49m\u001b[43m(\u001b[49m\u001b[43m*\u001b[49m\u001b[43margs\u001b[49m\u001b[43m,\u001b[49m\u001b[43m \u001b[49m\u001b[43m*\u001b[49m\u001b[43m*\u001b[49m\u001b[43mkwargs\u001b[49m\u001b[43m)\u001b[49m\n\u001b[32m    118\u001b[39m \u001b[38;5;28;01mexcept\u001b[39;00m \u001b[38;5;167;01mException\u001b[39;00m \u001b[38;5;28;01mas\u001b[39;00m e:\n\u001b[32m    119\u001b[39m     filtered_tb = _process_traceback_frames(e.__traceback__)\n",
      "\u001b[36mFile \u001b[39m\u001b[32m~\\Desktop\\Freestyle\\GitHub\\venv\\Lib\\site-packages\\keras\\src\\backend\\tensorflow\\trainer.py:371\u001b[39m, in \u001b[36mTensorFlowTrainer.fit\u001b[39m\u001b[34m(self, x, y, batch_size, epochs, verbose, callbacks, validation_split, validation_data, shuffle, class_weight, sample_weight, initial_epoch, steps_per_epoch, validation_steps, validation_batch_size, validation_freq)\u001b[39m\n\u001b[32m    369\u001b[39m \u001b[38;5;28;01mfor\u001b[39;00m step, iterator \u001b[38;5;129;01min\u001b[39;00m epoch_iterator:\n\u001b[32m    370\u001b[39m     callbacks.on_train_batch_begin(step)\n\u001b[32m--> \u001b[39m\u001b[32m371\u001b[39m     logs = \u001b[38;5;28;43mself\u001b[39;49m\u001b[43m.\u001b[49m\u001b[43mtrain_function\u001b[49m\u001b[43m(\u001b[49m\u001b[43miterator\u001b[49m\u001b[43m)\u001b[49m\n\u001b[32m    372\u001b[39m     callbacks.on_train_batch_end(step, logs)\n\u001b[32m    373\u001b[39m     \u001b[38;5;28;01mif\u001b[39;00m \u001b[38;5;28mself\u001b[39m.stop_training:\n",
      "\u001b[36mFile \u001b[39m\u001b[32m~\\Desktop\\Freestyle\\GitHub\\venv\\Lib\\site-packages\\keras\\src\\backend\\tensorflow\\trainer.py:219\u001b[39m, in \u001b[36mTensorFlowTrainer._make_function.<locals>.function\u001b[39m\u001b[34m(iterator)\u001b[39m\n\u001b[32m    215\u001b[39m \u001b[38;5;28;01mdef\u001b[39;00m\u001b[38;5;250m \u001b[39m\u001b[34mfunction\u001b[39m(iterator):\n\u001b[32m    216\u001b[39m     \u001b[38;5;28;01mif\u001b[39;00m \u001b[38;5;28misinstance\u001b[39m(\n\u001b[32m    217\u001b[39m         iterator, (tf.data.Iterator, tf.distribute.DistributedIterator)\n\u001b[32m    218\u001b[39m     ):\n\u001b[32m--> \u001b[39m\u001b[32m219\u001b[39m         opt_outputs = \u001b[43mmulti_step_on_iterator\u001b[49m\u001b[43m(\u001b[49m\u001b[43miterator\u001b[49m\u001b[43m)\u001b[49m\n\u001b[32m    220\u001b[39m         \u001b[38;5;28;01mif\u001b[39;00m \u001b[38;5;129;01mnot\u001b[39;00m opt_outputs.has_value():\n\u001b[32m    221\u001b[39m             \u001b[38;5;28;01mraise\u001b[39;00m \u001b[38;5;167;01mStopIteration\u001b[39;00m\n",
      "\u001b[36mFile \u001b[39m\u001b[32m~\\Desktop\\Freestyle\\GitHub\\venv\\Lib\\site-packages\\tensorflow\\python\\util\\traceback_utils.py:150\u001b[39m, in \u001b[36mfilter_traceback.<locals>.error_handler\u001b[39m\u001b[34m(*args, **kwargs)\u001b[39m\n\u001b[32m    148\u001b[39m filtered_tb = \u001b[38;5;28;01mNone\u001b[39;00m\n\u001b[32m    149\u001b[39m \u001b[38;5;28;01mtry\u001b[39;00m:\n\u001b[32m--> \u001b[39m\u001b[32m150\u001b[39m   \u001b[38;5;28;01mreturn\u001b[39;00m \u001b[43mfn\u001b[49m\u001b[43m(\u001b[49m\u001b[43m*\u001b[49m\u001b[43margs\u001b[49m\u001b[43m,\u001b[49m\u001b[43m \u001b[49m\u001b[43m*\u001b[49m\u001b[43m*\u001b[49m\u001b[43mkwargs\u001b[49m\u001b[43m)\u001b[49m\n\u001b[32m    151\u001b[39m \u001b[38;5;28;01mexcept\u001b[39;00m \u001b[38;5;167;01mException\u001b[39;00m \u001b[38;5;28;01mas\u001b[39;00m e:\n\u001b[32m    152\u001b[39m   filtered_tb = _process_traceback_frames(e.__traceback__)\n",
      "\u001b[36mFile \u001b[39m\u001b[32m~\\Desktop\\Freestyle\\GitHub\\venv\\Lib\\site-packages\\tensorflow\\python\\eager\\polymorphic_function\\polymorphic_function.py:833\u001b[39m, in \u001b[36mFunction.__call__\u001b[39m\u001b[34m(self, *args, **kwds)\u001b[39m\n\u001b[32m    830\u001b[39m compiler = \u001b[33m\"\u001b[39m\u001b[33mxla\u001b[39m\u001b[33m\"\u001b[39m \u001b[38;5;28;01mif\u001b[39;00m \u001b[38;5;28mself\u001b[39m._jit_compile \u001b[38;5;28;01melse\u001b[39;00m \u001b[33m\"\u001b[39m\u001b[33mnonXla\u001b[39m\u001b[33m\"\u001b[39m\n\u001b[32m    832\u001b[39m \u001b[38;5;28;01mwith\u001b[39;00m OptionalXlaContext(\u001b[38;5;28mself\u001b[39m._jit_compile):\n\u001b[32m--> \u001b[39m\u001b[32m833\u001b[39m   result = \u001b[38;5;28;43mself\u001b[39;49m\u001b[43m.\u001b[49m\u001b[43m_call\u001b[49m\u001b[43m(\u001b[49m\u001b[43m*\u001b[49m\u001b[43margs\u001b[49m\u001b[43m,\u001b[49m\u001b[43m \u001b[49m\u001b[43m*\u001b[49m\u001b[43m*\u001b[49m\u001b[43mkwds\u001b[49m\u001b[43m)\u001b[49m\n\u001b[32m    835\u001b[39m new_tracing_count = \u001b[38;5;28mself\u001b[39m.experimental_get_tracing_count()\n\u001b[32m    836\u001b[39m without_tracing = (tracing_count == new_tracing_count)\n",
      "\u001b[36mFile \u001b[39m\u001b[32m~\\Desktop\\Freestyle\\GitHub\\venv\\Lib\\site-packages\\tensorflow\\python\\eager\\polymorphic_function\\polymorphic_function.py:878\u001b[39m, in \u001b[36mFunction._call\u001b[39m\u001b[34m(self, *args, **kwds)\u001b[39m\n\u001b[32m    875\u001b[39m \u001b[38;5;28mself\u001b[39m._lock.release()\n\u001b[32m    876\u001b[39m \u001b[38;5;66;03m# In this case we have not created variables on the first call. So we can\u001b[39;00m\n\u001b[32m    877\u001b[39m \u001b[38;5;66;03m# run the first trace but we should fail if variables are created.\u001b[39;00m\n\u001b[32m--> \u001b[39m\u001b[32m878\u001b[39m results = \u001b[43mtracing_compilation\u001b[49m\u001b[43m.\u001b[49m\u001b[43mcall_function\u001b[49m\u001b[43m(\u001b[49m\n\u001b[32m    879\u001b[39m \u001b[43m    \u001b[49m\u001b[43margs\u001b[49m\u001b[43m,\u001b[49m\u001b[43m \u001b[49m\u001b[43mkwds\u001b[49m\u001b[43m,\u001b[49m\u001b[43m \u001b[49m\u001b[38;5;28;43mself\u001b[39;49m\u001b[43m.\u001b[49m\u001b[43m_variable_creation_config\u001b[49m\n\u001b[32m    880\u001b[39m \u001b[43m\u001b[49m\u001b[43m)\u001b[49m\n\u001b[32m    881\u001b[39m \u001b[38;5;28;01mif\u001b[39;00m \u001b[38;5;28mself\u001b[39m._created_variables:\n\u001b[32m    882\u001b[39m   \u001b[38;5;28;01mraise\u001b[39;00m \u001b[38;5;167;01mValueError\u001b[39;00m(\u001b[33m\"\u001b[39m\u001b[33mCreating variables on a non-first call to a function\u001b[39m\u001b[33m\"\u001b[39m\n\u001b[32m    883\u001b[39m                    \u001b[33m\"\u001b[39m\u001b[33m decorated with tf.function.\u001b[39m\u001b[33m\"\u001b[39m)\n",
      "\u001b[36mFile \u001b[39m\u001b[32m~\\Desktop\\Freestyle\\GitHub\\venv\\Lib\\site-packages\\tensorflow\\python\\eager\\polymorphic_function\\tracing_compilation.py:139\u001b[39m, in \u001b[36mcall_function\u001b[39m\u001b[34m(args, kwargs, tracing_options)\u001b[39m\n\u001b[32m    137\u001b[39m bound_args = function.function_type.bind(*args, **kwargs)\n\u001b[32m    138\u001b[39m flat_inputs = function.function_type.unpack_inputs(bound_args)\n\u001b[32m--> \u001b[39m\u001b[32m139\u001b[39m \u001b[38;5;28;01mreturn\u001b[39;00m \u001b[43mfunction\u001b[49m\u001b[43m.\u001b[49m\u001b[43m_call_flat\u001b[49m\u001b[43m(\u001b[49m\u001b[43m  \u001b[49m\u001b[38;5;66;43;03m# pylint: disable=protected-access\u001b[39;49;00m\n\u001b[32m    140\u001b[39m \u001b[43m    \u001b[49m\u001b[43mflat_inputs\u001b[49m\u001b[43m,\u001b[49m\u001b[43m \u001b[49m\u001b[43mcaptured_inputs\u001b[49m\u001b[43m=\u001b[49m\u001b[43mfunction\u001b[49m\u001b[43m.\u001b[49m\u001b[43mcaptured_inputs\u001b[49m\n\u001b[32m    141\u001b[39m \u001b[43m\u001b[49m\u001b[43m)\u001b[49m\n",
      "\u001b[36mFile \u001b[39m\u001b[32m~\\Desktop\\Freestyle\\GitHub\\venv\\Lib\\site-packages\\tensorflow\\python\\eager\\polymorphic_function\\concrete_function.py:1322\u001b[39m, in \u001b[36mConcreteFunction._call_flat\u001b[39m\u001b[34m(self, tensor_inputs, captured_inputs)\u001b[39m\n\u001b[32m   1318\u001b[39m possible_gradient_type = gradients_util.PossibleTapeGradientTypes(args)\n\u001b[32m   1319\u001b[39m \u001b[38;5;28;01mif\u001b[39;00m (possible_gradient_type == gradients_util.POSSIBLE_GRADIENT_TYPES_NONE\n\u001b[32m   1320\u001b[39m     \u001b[38;5;129;01mand\u001b[39;00m executing_eagerly):\n\u001b[32m   1321\u001b[39m   \u001b[38;5;66;03m# No tape is watching; skip to running the function.\u001b[39;00m\n\u001b[32m-> \u001b[39m\u001b[32m1322\u001b[39m   \u001b[38;5;28;01mreturn\u001b[39;00m \u001b[38;5;28;43mself\u001b[39;49m\u001b[43m.\u001b[49m\u001b[43m_inference_function\u001b[49m\u001b[43m.\u001b[49m\u001b[43mcall_preflattened\u001b[49m\u001b[43m(\u001b[49m\u001b[43margs\u001b[49m\u001b[43m)\u001b[49m\n\u001b[32m   1323\u001b[39m forward_backward = \u001b[38;5;28mself\u001b[39m._select_forward_and_backward_functions(\n\u001b[32m   1324\u001b[39m     args,\n\u001b[32m   1325\u001b[39m     possible_gradient_type,\n\u001b[32m   1326\u001b[39m     executing_eagerly)\n\u001b[32m   1327\u001b[39m forward_function, args_with_tangents = forward_backward.forward()\n",
      "\u001b[36mFile \u001b[39m\u001b[32m~\\Desktop\\Freestyle\\GitHub\\venv\\Lib\\site-packages\\tensorflow\\python\\eager\\polymorphic_function\\atomic_function.py:216\u001b[39m, in \u001b[36mAtomicFunction.call_preflattened\u001b[39m\u001b[34m(self, args)\u001b[39m\n\u001b[32m    214\u001b[39m \u001b[38;5;28;01mdef\u001b[39;00m\u001b[38;5;250m \u001b[39m\u001b[34mcall_preflattened\u001b[39m(\u001b[38;5;28mself\u001b[39m, args: Sequence[core.Tensor]) -> Any:\n\u001b[32m    215\u001b[39m \u001b[38;5;250m  \u001b[39m\u001b[33;03m\"\"\"Calls with flattened tensor inputs and returns the structured output.\"\"\"\u001b[39;00m\n\u001b[32m--> \u001b[39m\u001b[32m216\u001b[39m   flat_outputs = \u001b[38;5;28;43mself\u001b[39;49m\u001b[43m.\u001b[49m\u001b[43mcall_flat\u001b[49m\u001b[43m(\u001b[49m\u001b[43m*\u001b[49m\u001b[43margs\u001b[49m\u001b[43m)\u001b[49m\n\u001b[32m    217\u001b[39m   \u001b[38;5;28;01mreturn\u001b[39;00m \u001b[38;5;28mself\u001b[39m.function_type.pack_output(flat_outputs)\n",
      "\u001b[36mFile \u001b[39m\u001b[32m~\\Desktop\\Freestyle\\GitHub\\venv\\Lib\\site-packages\\tensorflow\\python\\eager\\polymorphic_function\\atomic_function.py:251\u001b[39m, in \u001b[36mAtomicFunction.call_flat\u001b[39m\u001b[34m(self, *args)\u001b[39m\n\u001b[32m    249\u001b[39m \u001b[38;5;28;01mwith\u001b[39;00m record.stop_recording():\n\u001b[32m    250\u001b[39m   \u001b[38;5;28;01mif\u001b[39;00m \u001b[38;5;28mself\u001b[39m._bound_context.executing_eagerly():\n\u001b[32m--> \u001b[39m\u001b[32m251\u001b[39m     outputs = \u001b[38;5;28;43mself\u001b[39;49m\u001b[43m.\u001b[49m\u001b[43m_bound_context\u001b[49m\u001b[43m.\u001b[49m\u001b[43mcall_function\u001b[49m\u001b[43m(\u001b[49m\n\u001b[32m    252\u001b[39m \u001b[43m        \u001b[49m\u001b[38;5;28;43mself\u001b[39;49m\u001b[43m.\u001b[49m\u001b[43mname\u001b[49m\u001b[43m,\u001b[49m\n\u001b[32m    253\u001b[39m \u001b[43m        \u001b[49m\u001b[38;5;28;43mlist\u001b[39;49m\u001b[43m(\u001b[49m\u001b[43margs\u001b[49m\u001b[43m)\u001b[49m\u001b[43m,\u001b[49m\n\u001b[32m    254\u001b[39m \u001b[43m        \u001b[49m\u001b[38;5;28;43mlen\u001b[39;49m\u001b[43m(\u001b[49m\u001b[38;5;28;43mself\u001b[39;49m\u001b[43m.\u001b[49m\u001b[43mfunction_type\u001b[49m\u001b[43m.\u001b[49m\u001b[43mflat_outputs\u001b[49m\u001b[43m)\u001b[49m\u001b[43m,\u001b[49m\n\u001b[32m    255\u001b[39m \u001b[43m    \u001b[49m\u001b[43m)\u001b[49m\n\u001b[32m    256\u001b[39m   \u001b[38;5;28;01melse\u001b[39;00m:\n\u001b[32m    257\u001b[39m     outputs = make_call_op_in_graph(\n\u001b[32m    258\u001b[39m         \u001b[38;5;28mself\u001b[39m,\n\u001b[32m    259\u001b[39m         \u001b[38;5;28mlist\u001b[39m(args),\n\u001b[32m    260\u001b[39m         \u001b[38;5;28mself\u001b[39m._bound_context.function_call_options.as_attrs(),\n\u001b[32m    261\u001b[39m     )\n",
      "\u001b[36mFile \u001b[39m\u001b[32m~\\Desktop\\Freestyle\\GitHub\\venv\\Lib\\site-packages\\tensorflow\\python\\eager\\context.py:1688\u001b[39m, in \u001b[36mContext.call_function\u001b[39m\u001b[34m(self, name, tensor_inputs, num_outputs)\u001b[39m\n\u001b[32m   1686\u001b[39m cancellation_context = cancellation.context()\n\u001b[32m   1687\u001b[39m \u001b[38;5;28;01mif\u001b[39;00m cancellation_context \u001b[38;5;129;01mis\u001b[39;00m \u001b[38;5;28;01mNone\u001b[39;00m:\n\u001b[32m-> \u001b[39m\u001b[32m1688\u001b[39m   outputs = \u001b[43mexecute\u001b[49m\u001b[43m.\u001b[49m\u001b[43mexecute\u001b[49m\u001b[43m(\u001b[49m\n\u001b[32m   1689\u001b[39m \u001b[43m      \u001b[49m\u001b[43mname\u001b[49m\u001b[43m.\u001b[49m\u001b[43mdecode\u001b[49m\u001b[43m(\u001b[49m\u001b[33;43m\"\u001b[39;49m\u001b[33;43mutf-8\u001b[39;49m\u001b[33;43m\"\u001b[39;49m\u001b[43m)\u001b[49m\u001b[43m,\u001b[49m\n\u001b[32m   1690\u001b[39m \u001b[43m      \u001b[49m\u001b[43mnum_outputs\u001b[49m\u001b[43m=\u001b[49m\u001b[43mnum_outputs\u001b[49m\u001b[43m,\u001b[49m\n\u001b[32m   1691\u001b[39m \u001b[43m      \u001b[49m\u001b[43minputs\u001b[49m\u001b[43m=\u001b[49m\u001b[43mtensor_inputs\u001b[49m\u001b[43m,\u001b[49m\n\u001b[32m   1692\u001b[39m \u001b[43m      \u001b[49m\u001b[43mattrs\u001b[49m\u001b[43m=\u001b[49m\u001b[43mattrs\u001b[49m\u001b[43m,\u001b[49m\n\u001b[32m   1693\u001b[39m \u001b[43m      \u001b[49m\u001b[43mctx\u001b[49m\u001b[43m=\u001b[49m\u001b[38;5;28;43mself\u001b[39;49m\u001b[43m,\u001b[49m\n\u001b[32m   1694\u001b[39m \u001b[43m  \u001b[49m\u001b[43m)\u001b[49m\n\u001b[32m   1695\u001b[39m \u001b[38;5;28;01melse\u001b[39;00m:\n\u001b[32m   1696\u001b[39m   outputs = execute.execute_with_cancellation(\n\u001b[32m   1697\u001b[39m       name.decode(\u001b[33m\"\u001b[39m\u001b[33mutf-8\u001b[39m\u001b[33m\"\u001b[39m),\n\u001b[32m   1698\u001b[39m       num_outputs=num_outputs,\n\u001b[32m   (...)\u001b[39m\u001b[32m   1702\u001b[39m       cancellation_manager=cancellation_context,\n\u001b[32m   1703\u001b[39m   )\n",
      "\u001b[36mFile \u001b[39m\u001b[32m~\\Desktop\\Freestyle\\GitHub\\venv\\Lib\\site-packages\\tensorflow\\python\\eager\\execute.py:53\u001b[39m, in \u001b[36mquick_execute\u001b[39m\u001b[34m(op_name, num_outputs, inputs, attrs, ctx, name)\u001b[39m\n\u001b[32m     51\u001b[39m \u001b[38;5;28;01mtry\u001b[39;00m:\n\u001b[32m     52\u001b[39m   ctx.ensure_initialized()\n\u001b[32m---> \u001b[39m\u001b[32m53\u001b[39m   tensors = \u001b[43mpywrap_tfe\u001b[49m\u001b[43m.\u001b[49m\u001b[43mTFE_Py_Execute\u001b[49m\u001b[43m(\u001b[49m\u001b[43mctx\u001b[49m\u001b[43m.\u001b[49m\u001b[43m_handle\u001b[49m\u001b[43m,\u001b[49m\u001b[43m \u001b[49m\u001b[43mdevice_name\u001b[49m\u001b[43m,\u001b[49m\u001b[43m \u001b[49m\u001b[43mop_name\u001b[49m\u001b[43m,\u001b[49m\n\u001b[32m     54\u001b[39m \u001b[43m                                      \u001b[49m\u001b[43minputs\u001b[49m\u001b[43m,\u001b[49m\u001b[43m \u001b[49m\u001b[43mattrs\u001b[49m\u001b[43m,\u001b[49m\u001b[43m \u001b[49m\u001b[43mnum_outputs\u001b[49m\u001b[43m)\u001b[49m\n\u001b[32m     55\u001b[39m \u001b[38;5;28;01mexcept\u001b[39;00m core._NotOkStatusException \u001b[38;5;28;01mas\u001b[39;00m e:\n\u001b[32m     56\u001b[39m   \u001b[38;5;28;01mif\u001b[39;00m name \u001b[38;5;129;01mis\u001b[39;00m \u001b[38;5;129;01mnot\u001b[39;00m \u001b[38;5;28;01mNone\u001b[39;00m:\n",
      "\u001b[31mKeyboardInterrupt\u001b[39m: "
     ]
    }
   ],
   "source": [
    "early_stopping = EarlyStopping(monitor='val_loss', patience=5, restore_best_weights=True)\n",
    "\n",
    "reduce_lr = ReduceLROnPlateau(monitor='val_loss', factor=1/3, patience=3, verbose=1)\n",
    "\n",
    "history = model2.fit([X_user_numpy, X_movie_numpy], y, epochs=150, batch_size=32, validation_split=0.2,\n",
    "                    callbacks=[early_stopping, reduce_lr], verbose=1)"
   ]
  },
  {
   "cell_type": "code",
   "execution_count": 509,
   "id": "60900817-330b-477f-af12-17ef868ed0fd",
   "metadata": {},
   "outputs": [],
   "source": [
    "model2.save('model2.keras')"
   ]
  },
  {
   "cell_type": "code",
   "execution_count": 511,
   "id": "8ad77e67-0ee8-4c48-bae1-59174d6cddb0",
   "metadata": {},
   "outputs": [
    {
     "ename": "AttributeError",
     "evalue": "'History' object has no attribute 'save'",
     "output_type": "error",
     "traceback": [
      "\u001b[31m---------------------------------------------------------------------------\u001b[39m",
      "\u001b[31mAttributeError\u001b[39m                            Traceback (most recent call last)",
      "\u001b[36mCell\u001b[39m\u001b[36m \u001b[39m\u001b[32mIn[511]\u001b[39m\u001b[32m, line 1\u001b[39m\n\u001b[32m----> \u001b[39m\u001b[32m1\u001b[39m \u001b[43mhistory\u001b[49m\u001b[43m.\u001b[49m\u001b[43msave\u001b[49m\n",
      "\u001b[31mAttributeError\u001b[39m: 'History' object has no attribute 'save'"
     ]
    }
   ],
   "source": [
    "history.save"
   ]
  },
  {
   "cell_type": "code",
   "execution_count": 531,
   "id": "459a6a79-795f-4feb-889a-a56b5e8668e5",
   "metadata": {},
   "outputs": [
    {
     "data": {
      "text/html": [
       "<pre style=\"white-space:pre;overflow-x:auto;line-height:normal;font-family:Menlo,'DejaVu Sans Mono',consolas,'Courier New',monospace\"><span style=\"font-weight: bold\">Model: \"functional_18\"</span>\n",
       "</pre>\n"
      ],
      "text/plain": [
       "\u001b[1mModel: \"functional_18\"\u001b[0m\n"
      ]
     },
     "metadata": {},
     "output_type": "display_data"
    },
    {
     "data": {
      "text/html": [
       "<pre style=\"white-space:pre;overflow-x:auto;line-height:normal;font-family:Menlo,'DejaVu Sans Mono',consolas,'Courier New',monospace\">┏━━━━━━━━━━━━━━━━━━━━━━━━━━━━━━━┳━━━━━━━━━━━━━━━━━━━━━━━━━━━┳━━━━━━━━━━━━━━━━━┳━━━━━━━━━━━━━━━━━━━━━━━━━━━━┓\n",
       "┃<span style=\"font-weight: bold\"> Layer (type)                  </span>┃<span style=\"font-weight: bold\"> Output Shape              </span>┃<span style=\"font-weight: bold\">         Param # </span>┃<span style=\"font-weight: bold\"> Connected to               </span>┃\n",
       "┡━━━━━━━━━━━━━━━━━━━━━━━━━━━━━━━╇━━━━━━━━━━━━━━━━━━━━━━━━━━━╇━━━━━━━━━━━━━━━━━╇━━━━━━━━━━━━━━━━━━━━━━━━━━━━┩\n",
       "│ user_input (<span style=\"color: #0087ff; text-decoration-color: #0087ff\">InputLayer</span>)       │ (<span style=\"color: #00d7ff; text-decoration-color: #00d7ff\">None</span>, <span style=\"color: #00af00; text-decoration-color: #00af00\">20</span>)                │               <span style=\"color: #00af00; text-decoration-color: #00af00\">0</span> │ -                          │\n",
       "├───────────────────────────────┼───────────────────────────┼─────────────────┼────────────────────────────┤\n",
       "│ movie_input (<span style=\"color: #0087ff; text-decoration-color: #0087ff\">InputLayer</span>)      │ (<span style=\"color: #00d7ff; text-decoration-color: #00d7ff\">None</span>, <span style=\"color: #00af00; text-decoration-color: #00af00\">23</span>)                │               <span style=\"color: #00af00; text-decoration-color: #00af00\">0</span> │ -                          │\n",
       "├───────────────────────────────┼───────────────────────────┼─────────────────┼────────────────────────────┤\n",
       "│ dense_112 (<span style=\"color: #0087ff; text-decoration-color: #0087ff\">Dense</span>)             │ (<span style=\"color: #00d7ff; text-decoration-color: #00d7ff\">None</span>, <span style=\"color: #00af00; text-decoration-color: #00af00\">256</span>)               │           <span style=\"color: #00af00; text-decoration-color: #00af00\">5,376</span> │ user_input[<span style=\"color: #00af00; text-decoration-color: #00af00\">0</span>][<span style=\"color: #00af00; text-decoration-color: #00af00\">0</span>]           │\n",
       "├───────────────────────────────┼───────────────────────────┼─────────────────┼────────────────────────────┤\n",
       "│ dense_116 (<span style=\"color: #0087ff; text-decoration-color: #0087ff\">Dense</span>)             │ (<span style=\"color: #00d7ff; text-decoration-color: #00d7ff\">None</span>, <span style=\"color: #00af00; text-decoration-color: #00af00\">256</span>)               │           <span style=\"color: #00af00; text-decoration-color: #00af00\">6,144</span> │ movie_input[<span style=\"color: #00af00; text-decoration-color: #00af00\">0</span>][<span style=\"color: #00af00; text-decoration-color: #00af00\">0</span>]          │\n",
       "├───────────────────────────────┼───────────────────────────┼─────────────────┼────────────────────────────┤\n",
       "│ dropout_112 (<span style=\"color: #0087ff; text-decoration-color: #0087ff\">Dropout</span>)         │ (<span style=\"color: #00d7ff; text-decoration-color: #00d7ff\">None</span>, <span style=\"color: #00af00; text-decoration-color: #00af00\">256</span>)               │               <span style=\"color: #00af00; text-decoration-color: #00af00\">0</span> │ dense_112[<span style=\"color: #00af00; text-decoration-color: #00af00\">0</span>][<span style=\"color: #00af00; text-decoration-color: #00af00\">0</span>]            │\n",
       "├───────────────────────────────┼───────────────────────────┼─────────────────┼────────────────────────────┤\n",
       "│ dropout_116 (<span style=\"color: #0087ff; text-decoration-color: #0087ff\">Dropout</span>)         │ (<span style=\"color: #00d7ff; text-decoration-color: #00d7ff\">None</span>, <span style=\"color: #00af00; text-decoration-color: #00af00\">256</span>)               │               <span style=\"color: #00af00; text-decoration-color: #00af00\">0</span> │ dense_116[<span style=\"color: #00af00; text-decoration-color: #00af00\">0</span>][<span style=\"color: #00af00; text-decoration-color: #00af00\">0</span>]            │\n",
       "├───────────────────────────────┼───────────────────────────┼─────────────────┼────────────────────────────┤\n",
       "│ dense_113 (<span style=\"color: #0087ff; text-decoration-color: #0087ff\">Dense</span>)             │ (<span style=\"color: #00d7ff; text-decoration-color: #00d7ff\">None</span>, <span style=\"color: #00af00; text-decoration-color: #00af00\">128</span>)               │          <span style=\"color: #00af00; text-decoration-color: #00af00\">32,896</span> │ dropout_112[<span style=\"color: #00af00; text-decoration-color: #00af00\">0</span>][<span style=\"color: #00af00; text-decoration-color: #00af00\">0</span>]          │\n",
       "├───────────────────────────────┼───────────────────────────┼─────────────────┼────────────────────────────┤\n",
       "│ dense_117 (<span style=\"color: #0087ff; text-decoration-color: #0087ff\">Dense</span>)             │ (<span style=\"color: #00d7ff; text-decoration-color: #00d7ff\">None</span>, <span style=\"color: #00af00; text-decoration-color: #00af00\">128</span>)               │          <span style=\"color: #00af00; text-decoration-color: #00af00\">32,896</span> │ dropout_116[<span style=\"color: #00af00; text-decoration-color: #00af00\">0</span>][<span style=\"color: #00af00; text-decoration-color: #00af00\">0</span>]          │\n",
       "├───────────────────────────────┼───────────────────────────┼─────────────────┼────────────────────────────┤\n",
       "│ dropout_113 (<span style=\"color: #0087ff; text-decoration-color: #0087ff\">Dropout</span>)         │ (<span style=\"color: #00d7ff; text-decoration-color: #00d7ff\">None</span>, <span style=\"color: #00af00; text-decoration-color: #00af00\">128</span>)               │               <span style=\"color: #00af00; text-decoration-color: #00af00\">0</span> │ dense_113[<span style=\"color: #00af00; text-decoration-color: #00af00\">0</span>][<span style=\"color: #00af00; text-decoration-color: #00af00\">0</span>]            │\n",
       "├───────────────────────────────┼───────────────────────────┼─────────────────┼────────────────────────────┤\n",
       "│ dropout_117 (<span style=\"color: #0087ff; text-decoration-color: #0087ff\">Dropout</span>)         │ (<span style=\"color: #00d7ff; text-decoration-color: #00d7ff\">None</span>, <span style=\"color: #00af00; text-decoration-color: #00af00\">128</span>)               │               <span style=\"color: #00af00; text-decoration-color: #00af00\">0</span> │ dense_117[<span style=\"color: #00af00; text-decoration-color: #00af00\">0</span>][<span style=\"color: #00af00; text-decoration-color: #00af00\">0</span>]            │\n",
       "├───────────────────────────────┼───────────────────────────┼─────────────────┼────────────────────────────┤\n",
       "│ dense_114 (<span style=\"color: #0087ff; text-decoration-color: #0087ff\">Dense</span>)             │ (<span style=\"color: #00d7ff; text-decoration-color: #00d7ff\">None</span>, <span style=\"color: #00af00; text-decoration-color: #00af00\">64</span>)                │           <span style=\"color: #00af00; text-decoration-color: #00af00\">8,256</span> │ dropout_113[<span style=\"color: #00af00; text-decoration-color: #00af00\">0</span>][<span style=\"color: #00af00; text-decoration-color: #00af00\">0</span>]          │\n",
       "├───────────────────────────────┼───────────────────────────┼─────────────────┼────────────────────────────┤\n",
       "│ dense_118 (<span style=\"color: #0087ff; text-decoration-color: #0087ff\">Dense</span>)             │ (<span style=\"color: #00d7ff; text-decoration-color: #00d7ff\">None</span>, <span style=\"color: #00af00; text-decoration-color: #00af00\">64</span>)                │           <span style=\"color: #00af00; text-decoration-color: #00af00\">8,256</span> │ dropout_117[<span style=\"color: #00af00; text-decoration-color: #00af00\">0</span>][<span style=\"color: #00af00; text-decoration-color: #00af00\">0</span>]          │\n",
       "├───────────────────────────────┼───────────────────────────┼─────────────────┼────────────────────────────┤\n",
       "│ dropout_114 (<span style=\"color: #0087ff; text-decoration-color: #0087ff\">Dropout</span>)         │ (<span style=\"color: #00d7ff; text-decoration-color: #00d7ff\">None</span>, <span style=\"color: #00af00; text-decoration-color: #00af00\">64</span>)                │               <span style=\"color: #00af00; text-decoration-color: #00af00\">0</span> │ dense_114[<span style=\"color: #00af00; text-decoration-color: #00af00\">0</span>][<span style=\"color: #00af00; text-decoration-color: #00af00\">0</span>]            │\n",
       "├───────────────────────────────┼───────────────────────────┼─────────────────┼────────────────────────────┤\n",
       "│ dropout_118 (<span style=\"color: #0087ff; text-decoration-color: #0087ff\">Dropout</span>)         │ (<span style=\"color: #00d7ff; text-decoration-color: #00d7ff\">None</span>, <span style=\"color: #00af00; text-decoration-color: #00af00\">64</span>)                │               <span style=\"color: #00af00; text-decoration-color: #00af00\">0</span> │ dense_118[<span style=\"color: #00af00; text-decoration-color: #00af00\">0</span>][<span style=\"color: #00af00; text-decoration-color: #00af00\">0</span>]            │\n",
       "├───────────────────────────────┼───────────────────────────┼─────────────────┼────────────────────────────┤\n",
       "│ dense_115 (<span style=\"color: #0087ff; text-decoration-color: #0087ff\">Dense</span>)             │ (<span style=\"color: #00d7ff; text-decoration-color: #00d7ff\">None</span>, <span style=\"color: #00af00; text-decoration-color: #00af00\">60</span>)                │           <span style=\"color: #00af00; text-decoration-color: #00af00\">3,900</span> │ dropout_114[<span style=\"color: #00af00; text-decoration-color: #00af00\">0</span>][<span style=\"color: #00af00; text-decoration-color: #00af00\">0</span>]          │\n",
       "├───────────────────────────────┼───────────────────────────┼─────────────────┼────────────────────────────┤\n",
       "│ dense_119 (<span style=\"color: #0087ff; text-decoration-color: #0087ff\">Dense</span>)             │ (<span style=\"color: #00d7ff; text-decoration-color: #00d7ff\">None</span>, <span style=\"color: #00af00; text-decoration-color: #00af00\">60</span>)                │           <span style=\"color: #00af00; text-decoration-color: #00af00\">3,900</span> │ dropout_118[<span style=\"color: #00af00; text-decoration-color: #00af00\">0</span>][<span style=\"color: #00af00; text-decoration-color: #00af00\">0</span>]          │\n",
       "├───────────────────────────────┼───────────────────────────┼─────────────────┼────────────────────────────┤\n",
       "│ dropout_115 (<span style=\"color: #0087ff; text-decoration-color: #0087ff\">Dropout</span>)         │ (<span style=\"color: #00d7ff; text-decoration-color: #00d7ff\">None</span>, <span style=\"color: #00af00; text-decoration-color: #00af00\">60</span>)                │               <span style=\"color: #00af00; text-decoration-color: #00af00\">0</span> │ dense_115[<span style=\"color: #00af00; text-decoration-color: #00af00\">0</span>][<span style=\"color: #00af00; text-decoration-color: #00af00\">0</span>]            │\n",
       "├───────────────────────────────┼───────────────────────────┼─────────────────┼────────────────────────────┤\n",
       "│ dropout_119 (<span style=\"color: #0087ff; text-decoration-color: #0087ff\">Dropout</span>)         │ (<span style=\"color: #00d7ff; text-decoration-color: #00d7ff\">None</span>, <span style=\"color: #00af00; text-decoration-color: #00af00\">60</span>)                │               <span style=\"color: #00af00; text-decoration-color: #00af00\">0</span> │ dense_119[<span style=\"color: #00af00; text-decoration-color: #00af00\">0</span>][<span style=\"color: #00af00; text-decoration-color: #00af00\">0</span>]            │\n",
       "├───────────────────────────────┼───────────────────────────┼─────────────────┼────────────────────────────┤\n",
       "│ user_embedding (<span style=\"color: #0087ff; text-decoration-color: #0087ff\">Dense</span>)        │ (<span style=\"color: #00d7ff; text-decoration-color: #00d7ff\">None</span>, <span style=\"color: #00af00; text-decoration-color: #00af00\">60</span>)                │           <span style=\"color: #00af00; text-decoration-color: #00af00\">3,660</span> │ dropout_115[<span style=\"color: #00af00; text-decoration-color: #00af00\">0</span>][<span style=\"color: #00af00; text-decoration-color: #00af00\">0</span>]          │\n",
       "├───────────────────────────────┼───────────────────────────┼─────────────────┼────────────────────────────┤\n",
       "│ movie_embedding (<span style=\"color: #0087ff; text-decoration-color: #0087ff\">Dense</span>)       │ (<span style=\"color: #00d7ff; text-decoration-color: #00d7ff\">None</span>, <span style=\"color: #00af00; text-decoration-color: #00af00\">60</span>)                │           <span style=\"color: #00af00; text-decoration-color: #00af00\">3,660</span> │ dropout_119[<span style=\"color: #00af00; text-decoration-color: #00af00\">0</span>][<span style=\"color: #00af00; text-decoration-color: #00af00\">0</span>]          │\n",
       "├───────────────────────────────┼───────────────────────────┼─────────────────┼────────────────────────────┤\n",
       "│ dot_product (<span style=\"color: #0087ff; text-decoration-color: #0087ff\">Dot</span>)             │ (<span style=\"color: #00d7ff; text-decoration-color: #00d7ff\">None</span>, <span style=\"color: #00af00; text-decoration-color: #00af00\">1</span>)                 │               <span style=\"color: #00af00; text-decoration-color: #00af00\">0</span> │ user_embedding[<span style=\"color: #00af00; text-decoration-color: #00af00\">0</span>][<span style=\"color: #00af00; text-decoration-color: #00af00\">0</span>],      │\n",
       "│                               │                           │                 │ movie_embedding[<span style=\"color: #00af00; text-decoration-color: #00af00\">0</span>][<span style=\"color: #00af00; text-decoration-color: #00af00\">0</span>]      │\n",
       "└───────────────────────────────┴───────────────────────────┴─────────────────┴────────────────────────────┘\n",
       "</pre>\n"
      ],
      "text/plain": [
       "┏━━━━━━━━━━━━━━━━━━━━━━━━━━━━━━━┳━━━━━━━━━━━━━━━━━━━━━━━━━━━┳━━━━━━━━━━━━━━━━━┳━━━━━━━━━━━━━━━━━━━━━━━━━━━━┓\n",
       "┃\u001b[1m \u001b[0m\u001b[1mLayer (type)                 \u001b[0m\u001b[1m \u001b[0m┃\u001b[1m \u001b[0m\u001b[1mOutput Shape             \u001b[0m\u001b[1m \u001b[0m┃\u001b[1m \u001b[0m\u001b[1m        Param #\u001b[0m\u001b[1m \u001b[0m┃\u001b[1m \u001b[0m\u001b[1mConnected to              \u001b[0m\u001b[1m \u001b[0m┃\n",
       "┡━━━━━━━━━━━━━━━━━━━━━━━━━━━━━━━╇━━━━━━━━━━━━━━━━━━━━━━━━━━━╇━━━━━━━━━━━━━━━━━╇━━━━━━━━━━━━━━━━━━━━━━━━━━━━┩\n",
       "│ user_input (\u001b[38;5;33mInputLayer\u001b[0m)       │ (\u001b[38;5;45mNone\u001b[0m, \u001b[38;5;34m20\u001b[0m)                │               \u001b[38;5;34m0\u001b[0m │ -                          │\n",
       "├───────────────────────────────┼───────────────────────────┼─────────────────┼────────────────────────────┤\n",
       "│ movie_input (\u001b[38;5;33mInputLayer\u001b[0m)      │ (\u001b[38;5;45mNone\u001b[0m, \u001b[38;5;34m23\u001b[0m)                │               \u001b[38;5;34m0\u001b[0m │ -                          │\n",
       "├───────────────────────────────┼───────────────────────────┼─────────────────┼────────────────────────────┤\n",
       "│ dense_112 (\u001b[38;5;33mDense\u001b[0m)             │ (\u001b[38;5;45mNone\u001b[0m, \u001b[38;5;34m256\u001b[0m)               │           \u001b[38;5;34m5,376\u001b[0m │ user_input[\u001b[38;5;34m0\u001b[0m][\u001b[38;5;34m0\u001b[0m]           │\n",
       "├───────────────────────────────┼───────────────────────────┼─────────────────┼────────────────────────────┤\n",
       "│ dense_116 (\u001b[38;5;33mDense\u001b[0m)             │ (\u001b[38;5;45mNone\u001b[0m, \u001b[38;5;34m256\u001b[0m)               │           \u001b[38;5;34m6,144\u001b[0m │ movie_input[\u001b[38;5;34m0\u001b[0m][\u001b[38;5;34m0\u001b[0m]          │\n",
       "├───────────────────────────────┼───────────────────────────┼─────────────────┼────────────────────────────┤\n",
       "│ dropout_112 (\u001b[38;5;33mDropout\u001b[0m)         │ (\u001b[38;5;45mNone\u001b[0m, \u001b[38;5;34m256\u001b[0m)               │               \u001b[38;5;34m0\u001b[0m │ dense_112[\u001b[38;5;34m0\u001b[0m][\u001b[38;5;34m0\u001b[0m]            │\n",
       "├───────────────────────────────┼───────────────────────────┼─────────────────┼────────────────────────────┤\n",
       "│ dropout_116 (\u001b[38;5;33mDropout\u001b[0m)         │ (\u001b[38;5;45mNone\u001b[0m, \u001b[38;5;34m256\u001b[0m)               │               \u001b[38;5;34m0\u001b[0m │ dense_116[\u001b[38;5;34m0\u001b[0m][\u001b[38;5;34m0\u001b[0m]            │\n",
       "├───────────────────────────────┼───────────────────────────┼─────────────────┼────────────────────────────┤\n",
       "│ dense_113 (\u001b[38;5;33mDense\u001b[0m)             │ (\u001b[38;5;45mNone\u001b[0m, \u001b[38;5;34m128\u001b[0m)               │          \u001b[38;5;34m32,896\u001b[0m │ dropout_112[\u001b[38;5;34m0\u001b[0m][\u001b[38;5;34m0\u001b[0m]          │\n",
       "├───────────────────────────────┼───────────────────────────┼─────────────────┼────────────────────────────┤\n",
       "│ dense_117 (\u001b[38;5;33mDense\u001b[0m)             │ (\u001b[38;5;45mNone\u001b[0m, \u001b[38;5;34m128\u001b[0m)               │          \u001b[38;5;34m32,896\u001b[0m │ dropout_116[\u001b[38;5;34m0\u001b[0m][\u001b[38;5;34m0\u001b[0m]          │\n",
       "├───────────────────────────────┼───────────────────────────┼─────────────────┼────────────────────────────┤\n",
       "│ dropout_113 (\u001b[38;5;33mDropout\u001b[0m)         │ (\u001b[38;5;45mNone\u001b[0m, \u001b[38;5;34m128\u001b[0m)               │               \u001b[38;5;34m0\u001b[0m │ dense_113[\u001b[38;5;34m0\u001b[0m][\u001b[38;5;34m0\u001b[0m]            │\n",
       "├───────────────────────────────┼───────────────────────────┼─────────────────┼────────────────────────────┤\n",
       "│ dropout_117 (\u001b[38;5;33mDropout\u001b[0m)         │ (\u001b[38;5;45mNone\u001b[0m, \u001b[38;5;34m128\u001b[0m)               │               \u001b[38;5;34m0\u001b[0m │ dense_117[\u001b[38;5;34m0\u001b[0m][\u001b[38;5;34m0\u001b[0m]            │\n",
       "├───────────────────────────────┼───────────────────────────┼─────────────────┼────────────────────────────┤\n",
       "│ dense_114 (\u001b[38;5;33mDense\u001b[0m)             │ (\u001b[38;5;45mNone\u001b[0m, \u001b[38;5;34m64\u001b[0m)                │           \u001b[38;5;34m8,256\u001b[0m │ dropout_113[\u001b[38;5;34m0\u001b[0m][\u001b[38;5;34m0\u001b[0m]          │\n",
       "├───────────────────────────────┼───────────────────────────┼─────────────────┼────────────────────────────┤\n",
       "│ dense_118 (\u001b[38;5;33mDense\u001b[0m)             │ (\u001b[38;5;45mNone\u001b[0m, \u001b[38;5;34m64\u001b[0m)                │           \u001b[38;5;34m8,256\u001b[0m │ dropout_117[\u001b[38;5;34m0\u001b[0m][\u001b[38;5;34m0\u001b[0m]          │\n",
       "├───────────────────────────────┼───────────────────────────┼─────────────────┼────────────────────────────┤\n",
       "│ dropout_114 (\u001b[38;5;33mDropout\u001b[0m)         │ (\u001b[38;5;45mNone\u001b[0m, \u001b[38;5;34m64\u001b[0m)                │               \u001b[38;5;34m0\u001b[0m │ dense_114[\u001b[38;5;34m0\u001b[0m][\u001b[38;5;34m0\u001b[0m]            │\n",
       "├───────────────────────────────┼───────────────────────────┼─────────────────┼────────────────────────────┤\n",
       "│ dropout_118 (\u001b[38;5;33mDropout\u001b[0m)         │ (\u001b[38;5;45mNone\u001b[0m, \u001b[38;5;34m64\u001b[0m)                │               \u001b[38;5;34m0\u001b[0m │ dense_118[\u001b[38;5;34m0\u001b[0m][\u001b[38;5;34m0\u001b[0m]            │\n",
       "├───────────────────────────────┼───────────────────────────┼─────────────────┼────────────────────────────┤\n",
       "│ dense_115 (\u001b[38;5;33mDense\u001b[0m)             │ (\u001b[38;5;45mNone\u001b[0m, \u001b[38;5;34m60\u001b[0m)                │           \u001b[38;5;34m3,900\u001b[0m │ dropout_114[\u001b[38;5;34m0\u001b[0m][\u001b[38;5;34m0\u001b[0m]          │\n",
       "├───────────────────────────────┼───────────────────────────┼─────────────────┼────────────────────────────┤\n",
       "│ dense_119 (\u001b[38;5;33mDense\u001b[0m)             │ (\u001b[38;5;45mNone\u001b[0m, \u001b[38;5;34m60\u001b[0m)                │           \u001b[38;5;34m3,900\u001b[0m │ dropout_118[\u001b[38;5;34m0\u001b[0m][\u001b[38;5;34m0\u001b[0m]          │\n",
       "├───────────────────────────────┼───────────────────────────┼─────────────────┼────────────────────────────┤\n",
       "│ dropout_115 (\u001b[38;5;33mDropout\u001b[0m)         │ (\u001b[38;5;45mNone\u001b[0m, \u001b[38;5;34m60\u001b[0m)                │               \u001b[38;5;34m0\u001b[0m │ dense_115[\u001b[38;5;34m0\u001b[0m][\u001b[38;5;34m0\u001b[0m]            │\n",
       "├───────────────────────────────┼───────────────────────────┼─────────────────┼────────────────────────────┤\n",
       "│ dropout_119 (\u001b[38;5;33mDropout\u001b[0m)         │ (\u001b[38;5;45mNone\u001b[0m, \u001b[38;5;34m60\u001b[0m)                │               \u001b[38;5;34m0\u001b[0m │ dense_119[\u001b[38;5;34m0\u001b[0m][\u001b[38;5;34m0\u001b[0m]            │\n",
       "├───────────────────────────────┼───────────────────────────┼─────────────────┼────────────────────────────┤\n",
       "│ user_embedding (\u001b[38;5;33mDense\u001b[0m)        │ (\u001b[38;5;45mNone\u001b[0m, \u001b[38;5;34m60\u001b[0m)                │           \u001b[38;5;34m3,660\u001b[0m │ dropout_115[\u001b[38;5;34m0\u001b[0m][\u001b[38;5;34m0\u001b[0m]          │\n",
       "├───────────────────────────────┼───────────────────────────┼─────────────────┼────────────────────────────┤\n",
       "│ movie_embedding (\u001b[38;5;33mDense\u001b[0m)       │ (\u001b[38;5;45mNone\u001b[0m, \u001b[38;5;34m60\u001b[0m)                │           \u001b[38;5;34m3,660\u001b[0m │ dropout_119[\u001b[38;5;34m0\u001b[0m][\u001b[38;5;34m0\u001b[0m]          │\n",
       "├───────────────────────────────┼───────────────────────────┼─────────────────┼────────────────────────────┤\n",
       "│ dot_product (\u001b[38;5;33mDot\u001b[0m)             │ (\u001b[38;5;45mNone\u001b[0m, \u001b[38;5;34m1\u001b[0m)                 │               \u001b[38;5;34m0\u001b[0m │ user_embedding[\u001b[38;5;34m0\u001b[0m][\u001b[38;5;34m0\u001b[0m],      │\n",
       "│                               │                           │                 │ movie_embedding[\u001b[38;5;34m0\u001b[0m][\u001b[38;5;34m0\u001b[0m]      │\n",
       "└───────────────────────────────┴───────────────────────────┴─────────────────┴────────────────────────────┘\n"
      ]
     },
     "metadata": {},
     "output_type": "display_data"
    },
    {
     "data": {
      "text/html": [
       "<pre style=\"white-space:pre;overflow-x:auto;line-height:normal;font-family:Menlo,'DejaVu Sans Mono',consolas,'Courier New',monospace\"><span style=\"font-weight: bold\"> Total params: </span><span style=\"color: #00af00; text-decoration-color: #00af00\">108,944</span> (425.56 KB)\n",
       "</pre>\n"
      ],
      "text/plain": [
       "\u001b[1m Total params: \u001b[0m\u001b[38;5;34m108,944\u001b[0m (425.56 KB)\n"
      ]
     },
     "metadata": {},
     "output_type": "display_data"
    },
    {
     "data": {
      "text/html": [
       "<pre style=\"white-space:pre;overflow-x:auto;line-height:normal;font-family:Menlo,'DejaVu Sans Mono',consolas,'Courier New',monospace\"><span style=\"font-weight: bold\"> Trainable params: </span><span style=\"color: #00af00; text-decoration-color: #00af00\">108,944</span> (425.56 KB)\n",
       "</pre>\n"
      ],
      "text/plain": [
       "\u001b[1m Trainable params: \u001b[0m\u001b[38;5;34m108,944\u001b[0m (425.56 KB)\n"
      ]
     },
     "metadata": {},
     "output_type": "display_data"
    },
    {
     "data": {
      "text/html": [
       "<pre style=\"white-space:pre;overflow-x:auto;line-height:normal;font-family:Menlo,'DejaVu Sans Mono',consolas,'Courier New',monospace\"><span style=\"font-weight: bold\"> Non-trainable params: </span><span style=\"color: #00af00; text-decoration-color: #00af00\">0</span> (0.00 B)\n",
       "</pre>\n"
      ],
      "text/plain": [
       "\u001b[1m Non-trainable params: \u001b[0m\u001b[38;5;34m0\u001b[0m (0.00 B)\n"
      ]
     },
     "metadata": {},
     "output_type": "display_data"
    }
   ],
   "source": [
    "\n",
    "# ---------------- USER TOWER ----------------\n",
    "user_input = layers.Input(shape=(num_user_features,), name='user_input')\n",
    "\n",
    "x = layers.Dense(256, activation='relu', kernel_regularizer=regularizers.l2(0.001))(user_input)\n",
    "x = layers.Dropout(drop)(x)\n",
    "x = layers.Dense(128, activation='relu', kernel_regularizer=regularizers.l2(0.001))(x)\n",
    "x = layers.Dropout(drop)(x)\n",
    "x = layers.Dense(64, activation='relu', kernel_regularizer=regularizers.l2(0.001))(x)\n",
    "x = layers.Dropout(drop)(x)\n",
    "x = layers.Dense(60, activation='relu', kernel_regularizer=regularizers.l2(0.001))(x)\n",
    "x = layers.Dropout(drop)(x)\n",
    "\n",
    "user_embedding = layers.Dense(60, activation='linear', name='user_embedding')(x)\n",
    "\n",
    "# ---------------- MOVIE TOWER ----------------\n",
    "movie_input = layers.Input(shape=(num_movie_features,), name='movie_input')\n",
    "x2= layers.Dense(256, activation='relu', kernel_regularizer=regularizers.l2(0.001))(movie_input)\n",
    "x2 = layers.Dropout(drop)(x2)\n",
    "x2= layers.Dense(128, activation='relu', kernel_regularizer=regularizers.l2(0.001))(x2)\n",
    "x2 = layers.Dropout(drop)(x2)\n",
    "x2 = layers.Dense(64, activation='relu', kernel_regularizer=regularizers.l2(0.001))(x2)\n",
    "x2 = layers.Dropout(drop)(x2)\n",
    "x2 = layers.Dense(60, activation='relu', kernel_regularizer=regularizers.l2(0.001))(x2)\n",
    "x2 = layers.Dropout(drop)(x2)\n",
    "\n",
    "movie_embedding = layers.Dense(60, activation='linear', name='movie_embedding')(x2)\n",
    "\n",
    "# ---------------- FINAL MODEL ----------------\n",
    "dot_product = layers.Dot(axes=1, name='dot_product')([user_embedding, movie_embedding])\n",
    "\n",
    "model3 = models.Model(inputs=[user_input, movie_input], outputs=dot_product)\n",
    "\n",
    "# Compile model\n",
    "model3.compile(optimizer='adam', loss='mse', metrics=['mae', 'mse'])\n",
    "\n",
    "# Pregled modela\n",
    "model3.summary()"
   ]
  },
  {
   "cell_type": "code",
   "execution_count": 533,
   "id": "a23a1905-e94d-4abf-a0e0-1981c2c91e8d",
   "metadata": {},
   "outputs": [
    {
     "name": "stdout",
     "output_type": "stream",
     "text": [
      "Epoch 1/50\n",
      "\u001b[1m17350/17350\u001b[0m \u001b[32m━━━━━━━━━━━━━━━━━━━━\u001b[0m\u001b[37m\u001b[0m \u001b[1m69s\u001b[0m 4ms/step - loss: 1.1370 - mae: 0.7069 - mse: 0.8654 - val_loss: 0.7473 - val_mae: 0.6310 - val_mse: 0.7084 - learning_rate: 0.0010\n",
      "Epoch 2/50\n",
      "\u001b[1m17350/17350\u001b[0m \u001b[32m━━━━━━━━━━━━━━━━━━━━\u001b[0m\u001b[37m\u001b[0m \u001b[1m62s\u001b[0m 4ms/step - loss: 0.7369 - mae: 0.6355 - mse: 0.6997 - val_loss: 0.7569 - val_mae: 0.6438 - val_mse: 0.7207 - learning_rate: 0.0010\n",
      "Epoch 3/50\n",
      "\u001b[1m17350/17350\u001b[0m \u001b[32m━━━━━━━━━━━━━━━━━━━━\u001b[0m\u001b[37m\u001b[0m \u001b[1m67s\u001b[0m 4ms/step - loss: 0.7287 - mae: 0.6324 - mse: 0.6927 - val_loss: 0.7424 - val_mae: 0.6195 - val_mse: 0.7064 - learning_rate: 0.0010\n",
      "Epoch 4/50\n",
      "\u001b[1m17350/17350\u001b[0m \u001b[32m━━━━━━━━━━━━━━━━━━━━\u001b[0m\u001b[37m\u001b[0m \u001b[1m70s\u001b[0m 4ms/step - loss: 0.7278 - mae: 0.6308 - mse: 0.6921 - val_loss: 0.7417 - val_mae: 0.6304 - val_mse: 0.7060 - learning_rate: 0.0010\n",
      "Epoch 5/50\n",
      "\u001b[1m17350/17350\u001b[0m \u001b[32m━━━━━━━━━━━━━━━━━━━━\u001b[0m\u001b[37m\u001b[0m \u001b[1m59s\u001b[0m 3ms/step - loss: 0.7260 - mae: 0.6296 - mse: 0.6908 - val_loss: 0.7700 - val_mae: 0.6509 - val_mse: 0.7352 - learning_rate: 0.0010\n",
      "Epoch 6/50\n",
      "\u001b[1m17350/17350\u001b[0m \u001b[32m━━━━━━━━━━━━━━━━━━━━\u001b[0m\u001b[37m\u001b[0m \u001b[1m58s\u001b[0m 3ms/step - loss: 0.7274 - mae: 0.6312 - mse: 0.6921 - val_loss: 0.7390 - val_mae: 0.6330 - val_mse: 0.7032 - learning_rate: 0.0010\n",
      "Epoch 7/50\n",
      "\u001b[1m17350/17350\u001b[0m \u001b[32m━━━━━━━━━━━━━━━━━━━━\u001b[0m\u001b[37m\u001b[0m \u001b[1m58s\u001b[0m 3ms/step - loss: 0.7254 - mae: 0.6287 - mse: 0.6900 - val_loss: 0.7471 - val_mae: 0.6243 - val_mse: 0.7114 - learning_rate: 0.0010\n",
      "Epoch 8/50\n",
      "\u001b[1m17350/17350\u001b[0m \u001b[32m━━━━━━━━━━━━━━━━━━━━\u001b[0m\u001b[37m\u001b[0m \u001b[1m62s\u001b[0m 4ms/step - loss: 0.7218 - mae: 0.6279 - mse: 0.6867 - val_loss: 0.7703 - val_mae: 0.6347 - val_mse: 0.7357 - learning_rate: 0.0010\n",
      "Epoch 9/50\n",
      "\u001b[1m17345/17350\u001b[0m \u001b[32m━━━━━━━━━━━━━━━━━━━\u001b[0m\u001b[37m━\u001b[0m \u001b[1m0s\u001b[0m 4ms/step - loss: 0.7222 - mae: 0.6292 - mse: 0.6872\n",
      "Epoch 9: ReduceLROnPlateau reducing learning rate to 0.0003333333491658171.\n",
      "\u001b[1m17350/17350\u001b[0m \u001b[32m━━━━━━━━━━━━━━━━━━━━\u001b[0m\u001b[37m\u001b[0m \u001b[1m70s\u001b[0m 4ms/step - loss: 0.7222 - mae: 0.6292 - mse: 0.6872 - val_loss: 0.7396 - val_mae: 0.6285 - val_mse: 0.7058 - learning_rate: 0.0010\n",
      "Epoch 10/50\n",
      "\u001b[1m17350/17350\u001b[0m \u001b[32m━━━━━━━━━━━━━━━━━━━━\u001b[0m\u001b[37m\u001b[0m \u001b[1m59s\u001b[0m 3ms/step - loss: 0.7007 - mae: 0.6171 - mse: 0.6690 - val_loss: 0.7229 - val_mae: 0.6282 - val_mse: 0.6951 - learning_rate: 3.3333e-04\n",
      "Epoch 11/50\n",
      "\u001b[1m 3515/17350\u001b[0m \u001b[32m━━━━\u001b[0m\u001b[37m━━━━━━━━━━━━━━━━\u001b[0m \u001b[1m42s\u001b[0m 3ms/step - loss: 0.6949 - mae: 0.6168 - mse: 0.6670"
     ]
    },
    {
     "ename": "KeyboardInterrupt",
     "evalue": "",
     "output_type": "error",
     "traceback": [
      "\u001b[31m---------------------------------------------------------------------------\u001b[39m",
      "\u001b[31mKeyboardInterrupt\u001b[39m                         Traceback (most recent call last)",
      "\u001b[36mCell\u001b[39m\u001b[36m \u001b[39m\u001b[32mIn[533]\u001b[39m\u001b[32m, line 5\u001b[39m\n\u001b[32m      1\u001b[39m early_stopping = EarlyStopping(monitor=\u001b[33m'\u001b[39m\u001b[33mval_loss\u001b[39m\u001b[33m'\u001b[39m, patience=\u001b[32m5\u001b[39m, restore_best_weights=\u001b[38;5;28;01mTrue\u001b[39;00m)\n\u001b[32m      3\u001b[39m reduce_lr = ReduceLROnPlateau(monitor=\u001b[33m'\u001b[39m\u001b[33mval_loss\u001b[39m\u001b[33m'\u001b[39m, factor=\u001b[32m1\u001b[39m/\u001b[32m3\u001b[39m, patience=\u001b[32m3\u001b[39m, verbose=\u001b[32m1\u001b[39m)\n\u001b[32m----> \u001b[39m\u001b[32m5\u001b[39m history3 = \u001b[43mmodel3\u001b[49m\u001b[43m.\u001b[49m\u001b[43mfit\u001b[49m\u001b[43m(\u001b[49m\u001b[43m[\u001b[49m\u001b[43mX_user_numpy\u001b[49m\u001b[43m,\u001b[49m\u001b[43m \u001b[49m\u001b[43mX_movie_numpy\u001b[49m\u001b[43m]\u001b[49m\u001b[43m,\u001b[49m\u001b[43m \u001b[49m\u001b[43my\u001b[49m\u001b[43m,\u001b[49m\u001b[43m \u001b[49m\u001b[43mepochs\u001b[49m\u001b[43m=\u001b[49m\u001b[32;43m50\u001b[39;49m\u001b[43m,\u001b[49m\u001b[43m \u001b[49m\u001b[43mbatch_size\u001b[49m\u001b[43m=\u001b[49m\u001b[32;43m32\u001b[39;49m\u001b[43m,\u001b[49m\u001b[43m \u001b[49m\u001b[43mvalidation_split\u001b[49m\u001b[43m=\u001b[49m\u001b[32;43m0.2\u001b[39;49m\u001b[43m,\u001b[49m\n\u001b[32m      6\u001b[39m \u001b[43m                    \u001b[49m\u001b[43mcallbacks\u001b[49m\u001b[43m=\u001b[49m\u001b[43m[\u001b[49m\u001b[43mearly_stopping\u001b[49m\u001b[43m,\u001b[49m\u001b[43m \u001b[49m\u001b[43mreduce_lr\u001b[49m\u001b[43m]\u001b[49m\u001b[43m,\u001b[49m\u001b[43m \u001b[49m\u001b[43mverbose\u001b[49m\u001b[43m=\u001b[49m\u001b[32;43m1\u001b[39;49m\u001b[43m)\u001b[49m\n",
      "\u001b[36mFile \u001b[39m\u001b[32m~\\Desktop\\Freestyle\\GitHub\\venv\\Lib\\site-packages\\keras\\src\\utils\\traceback_utils.py:117\u001b[39m, in \u001b[36mfilter_traceback.<locals>.error_handler\u001b[39m\u001b[34m(*args, **kwargs)\u001b[39m\n\u001b[32m    115\u001b[39m filtered_tb = \u001b[38;5;28;01mNone\u001b[39;00m\n\u001b[32m    116\u001b[39m \u001b[38;5;28;01mtry\u001b[39;00m:\n\u001b[32m--> \u001b[39m\u001b[32m117\u001b[39m     \u001b[38;5;28;01mreturn\u001b[39;00m \u001b[43mfn\u001b[49m\u001b[43m(\u001b[49m\u001b[43m*\u001b[49m\u001b[43margs\u001b[49m\u001b[43m,\u001b[49m\u001b[43m \u001b[49m\u001b[43m*\u001b[49m\u001b[43m*\u001b[49m\u001b[43mkwargs\u001b[49m\u001b[43m)\u001b[49m\n\u001b[32m    118\u001b[39m \u001b[38;5;28;01mexcept\u001b[39;00m \u001b[38;5;167;01mException\u001b[39;00m \u001b[38;5;28;01mas\u001b[39;00m e:\n\u001b[32m    119\u001b[39m     filtered_tb = _process_traceback_frames(e.__traceback__)\n",
      "\u001b[36mFile \u001b[39m\u001b[32m~\\Desktop\\Freestyle\\GitHub\\venv\\Lib\\site-packages\\keras\\src\\backend\\tensorflow\\trainer.py:371\u001b[39m, in \u001b[36mTensorFlowTrainer.fit\u001b[39m\u001b[34m(self, x, y, batch_size, epochs, verbose, callbacks, validation_split, validation_data, shuffle, class_weight, sample_weight, initial_epoch, steps_per_epoch, validation_steps, validation_batch_size, validation_freq)\u001b[39m\n\u001b[32m    369\u001b[39m \u001b[38;5;28;01mfor\u001b[39;00m step, iterator \u001b[38;5;129;01min\u001b[39;00m epoch_iterator:\n\u001b[32m    370\u001b[39m     callbacks.on_train_batch_begin(step)\n\u001b[32m--> \u001b[39m\u001b[32m371\u001b[39m     logs = \u001b[38;5;28;43mself\u001b[39;49m\u001b[43m.\u001b[49m\u001b[43mtrain_function\u001b[49m\u001b[43m(\u001b[49m\u001b[43miterator\u001b[49m\u001b[43m)\u001b[49m\n\u001b[32m    372\u001b[39m     callbacks.on_train_batch_end(step, logs)\n\u001b[32m    373\u001b[39m     \u001b[38;5;28;01mif\u001b[39;00m \u001b[38;5;28mself\u001b[39m.stop_training:\n",
      "\u001b[36mFile \u001b[39m\u001b[32m~\\Desktop\\Freestyle\\GitHub\\venv\\Lib\\site-packages\\keras\\src\\backend\\tensorflow\\trainer.py:219\u001b[39m, in \u001b[36mTensorFlowTrainer._make_function.<locals>.function\u001b[39m\u001b[34m(iterator)\u001b[39m\n\u001b[32m    215\u001b[39m \u001b[38;5;28;01mdef\u001b[39;00m\u001b[38;5;250m \u001b[39m\u001b[34mfunction\u001b[39m(iterator):\n\u001b[32m    216\u001b[39m     \u001b[38;5;28;01mif\u001b[39;00m \u001b[38;5;28misinstance\u001b[39m(\n\u001b[32m    217\u001b[39m         iterator, (tf.data.Iterator, tf.distribute.DistributedIterator)\n\u001b[32m    218\u001b[39m     ):\n\u001b[32m--> \u001b[39m\u001b[32m219\u001b[39m         opt_outputs = \u001b[43mmulti_step_on_iterator\u001b[49m\u001b[43m(\u001b[49m\u001b[43miterator\u001b[49m\u001b[43m)\u001b[49m\n\u001b[32m    220\u001b[39m         \u001b[38;5;28;01mif\u001b[39;00m \u001b[38;5;129;01mnot\u001b[39;00m opt_outputs.has_value():\n\u001b[32m    221\u001b[39m             \u001b[38;5;28;01mraise\u001b[39;00m \u001b[38;5;167;01mStopIteration\u001b[39;00m\n",
      "\u001b[36mFile \u001b[39m\u001b[32m~\\Desktop\\Freestyle\\GitHub\\venv\\Lib\\site-packages\\tensorflow\\python\\util\\traceback_utils.py:150\u001b[39m, in \u001b[36mfilter_traceback.<locals>.error_handler\u001b[39m\u001b[34m(*args, **kwargs)\u001b[39m\n\u001b[32m    148\u001b[39m filtered_tb = \u001b[38;5;28;01mNone\u001b[39;00m\n\u001b[32m    149\u001b[39m \u001b[38;5;28;01mtry\u001b[39;00m:\n\u001b[32m--> \u001b[39m\u001b[32m150\u001b[39m   \u001b[38;5;28;01mreturn\u001b[39;00m \u001b[43mfn\u001b[49m\u001b[43m(\u001b[49m\u001b[43m*\u001b[49m\u001b[43margs\u001b[49m\u001b[43m,\u001b[49m\u001b[43m \u001b[49m\u001b[43m*\u001b[49m\u001b[43m*\u001b[49m\u001b[43mkwargs\u001b[49m\u001b[43m)\u001b[49m\n\u001b[32m    151\u001b[39m \u001b[38;5;28;01mexcept\u001b[39;00m \u001b[38;5;167;01mException\u001b[39;00m \u001b[38;5;28;01mas\u001b[39;00m e:\n\u001b[32m    152\u001b[39m   filtered_tb = _process_traceback_frames(e.__traceback__)\n",
      "\u001b[36mFile \u001b[39m\u001b[32m~\\Desktop\\Freestyle\\GitHub\\venv\\Lib\\site-packages\\tensorflow\\python\\eager\\polymorphic_function\\polymorphic_function.py:833\u001b[39m, in \u001b[36mFunction.__call__\u001b[39m\u001b[34m(self, *args, **kwds)\u001b[39m\n\u001b[32m    830\u001b[39m compiler = \u001b[33m\"\u001b[39m\u001b[33mxla\u001b[39m\u001b[33m\"\u001b[39m \u001b[38;5;28;01mif\u001b[39;00m \u001b[38;5;28mself\u001b[39m._jit_compile \u001b[38;5;28;01melse\u001b[39;00m \u001b[33m\"\u001b[39m\u001b[33mnonXla\u001b[39m\u001b[33m\"\u001b[39m\n\u001b[32m    832\u001b[39m \u001b[38;5;28;01mwith\u001b[39;00m OptionalXlaContext(\u001b[38;5;28mself\u001b[39m._jit_compile):\n\u001b[32m--> \u001b[39m\u001b[32m833\u001b[39m   result = \u001b[38;5;28;43mself\u001b[39;49m\u001b[43m.\u001b[49m\u001b[43m_call\u001b[49m\u001b[43m(\u001b[49m\u001b[43m*\u001b[49m\u001b[43margs\u001b[49m\u001b[43m,\u001b[49m\u001b[43m \u001b[49m\u001b[43m*\u001b[49m\u001b[43m*\u001b[49m\u001b[43mkwds\u001b[49m\u001b[43m)\u001b[49m\n\u001b[32m    835\u001b[39m new_tracing_count = \u001b[38;5;28mself\u001b[39m.experimental_get_tracing_count()\n\u001b[32m    836\u001b[39m without_tracing = (tracing_count == new_tracing_count)\n",
      "\u001b[36mFile \u001b[39m\u001b[32m~\\Desktop\\Freestyle\\GitHub\\venv\\Lib\\site-packages\\tensorflow\\python\\eager\\polymorphic_function\\polymorphic_function.py:878\u001b[39m, in \u001b[36mFunction._call\u001b[39m\u001b[34m(self, *args, **kwds)\u001b[39m\n\u001b[32m    875\u001b[39m \u001b[38;5;28mself\u001b[39m._lock.release()\n\u001b[32m    876\u001b[39m \u001b[38;5;66;03m# In this case we have not created variables on the first call. So we can\u001b[39;00m\n\u001b[32m    877\u001b[39m \u001b[38;5;66;03m# run the first trace but we should fail if variables are created.\u001b[39;00m\n\u001b[32m--> \u001b[39m\u001b[32m878\u001b[39m results = \u001b[43mtracing_compilation\u001b[49m\u001b[43m.\u001b[49m\u001b[43mcall_function\u001b[49m\u001b[43m(\u001b[49m\n\u001b[32m    879\u001b[39m \u001b[43m    \u001b[49m\u001b[43margs\u001b[49m\u001b[43m,\u001b[49m\u001b[43m \u001b[49m\u001b[43mkwds\u001b[49m\u001b[43m,\u001b[49m\u001b[43m \u001b[49m\u001b[38;5;28;43mself\u001b[39;49m\u001b[43m.\u001b[49m\u001b[43m_variable_creation_config\u001b[49m\n\u001b[32m    880\u001b[39m \u001b[43m\u001b[49m\u001b[43m)\u001b[49m\n\u001b[32m    881\u001b[39m \u001b[38;5;28;01mif\u001b[39;00m \u001b[38;5;28mself\u001b[39m._created_variables:\n\u001b[32m    882\u001b[39m   \u001b[38;5;28;01mraise\u001b[39;00m \u001b[38;5;167;01mValueError\u001b[39;00m(\u001b[33m\"\u001b[39m\u001b[33mCreating variables on a non-first call to a function\u001b[39m\u001b[33m\"\u001b[39m\n\u001b[32m    883\u001b[39m                    \u001b[33m\"\u001b[39m\u001b[33m decorated with tf.function.\u001b[39m\u001b[33m\"\u001b[39m)\n",
      "\u001b[36mFile \u001b[39m\u001b[32m~\\Desktop\\Freestyle\\GitHub\\venv\\Lib\\site-packages\\tensorflow\\python\\eager\\polymorphic_function\\tracing_compilation.py:139\u001b[39m, in \u001b[36mcall_function\u001b[39m\u001b[34m(args, kwargs, tracing_options)\u001b[39m\n\u001b[32m    137\u001b[39m bound_args = function.function_type.bind(*args, **kwargs)\n\u001b[32m    138\u001b[39m flat_inputs = function.function_type.unpack_inputs(bound_args)\n\u001b[32m--> \u001b[39m\u001b[32m139\u001b[39m \u001b[38;5;28;01mreturn\u001b[39;00m \u001b[43mfunction\u001b[49m\u001b[43m.\u001b[49m\u001b[43m_call_flat\u001b[49m\u001b[43m(\u001b[49m\u001b[43m  \u001b[49m\u001b[38;5;66;43;03m# pylint: disable=protected-access\u001b[39;49;00m\n\u001b[32m    140\u001b[39m \u001b[43m    \u001b[49m\u001b[43mflat_inputs\u001b[49m\u001b[43m,\u001b[49m\u001b[43m \u001b[49m\u001b[43mcaptured_inputs\u001b[49m\u001b[43m=\u001b[49m\u001b[43mfunction\u001b[49m\u001b[43m.\u001b[49m\u001b[43mcaptured_inputs\u001b[49m\n\u001b[32m    141\u001b[39m \u001b[43m\u001b[49m\u001b[43m)\u001b[49m\n",
      "\u001b[36mFile \u001b[39m\u001b[32m~\\Desktop\\Freestyle\\GitHub\\venv\\Lib\\site-packages\\tensorflow\\python\\eager\\polymorphic_function\\concrete_function.py:1322\u001b[39m, in \u001b[36mConcreteFunction._call_flat\u001b[39m\u001b[34m(self, tensor_inputs, captured_inputs)\u001b[39m\n\u001b[32m   1318\u001b[39m possible_gradient_type = gradients_util.PossibleTapeGradientTypes(args)\n\u001b[32m   1319\u001b[39m \u001b[38;5;28;01mif\u001b[39;00m (possible_gradient_type == gradients_util.POSSIBLE_GRADIENT_TYPES_NONE\n\u001b[32m   1320\u001b[39m     \u001b[38;5;129;01mand\u001b[39;00m executing_eagerly):\n\u001b[32m   1321\u001b[39m   \u001b[38;5;66;03m# No tape is watching; skip to running the function.\u001b[39;00m\n\u001b[32m-> \u001b[39m\u001b[32m1322\u001b[39m   \u001b[38;5;28;01mreturn\u001b[39;00m \u001b[38;5;28;43mself\u001b[39;49m\u001b[43m.\u001b[49m\u001b[43m_inference_function\u001b[49m\u001b[43m.\u001b[49m\u001b[43mcall_preflattened\u001b[49m\u001b[43m(\u001b[49m\u001b[43margs\u001b[49m\u001b[43m)\u001b[49m\n\u001b[32m   1323\u001b[39m forward_backward = \u001b[38;5;28mself\u001b[39m._select_forward_and_backward_functions(\n\u001b[32m   1324\u001b[39m     args,\n\u001b[32m   1325\u001b[39m     possible_gradient_type,\n\u001b[32m   1326\u001b[39m     executing_eagerly)\n\u001b[32m   1327\u001b[39m forward_function, args_with_tangents = forward_backward.forward()\n",
      "\u001b[36mFile \u001b[39m\u001b[32m~\\Desktop\\Freestyle\\GitHub\\venv\\Lib\\site-packages\\tensorflow\\python\\eager\\polymorphic_function\\atomic_function.py:216\u001b[39m, in \u001b[36mAtomicFunction.call_preflattened\u001b[39m\u001b[34m(self, args)\u001b[39m\n\u001b[32m    214\u001b[39m \u001b[38;5;28;01mdef\u001b[39;00m\u001b[38;5;250m \u001b[39m\u001b[34mcall_preflattened\u001b[39m(\u001b[38;5;28mself\u001b[39m, args: Sequence[core.Tensor]) -> Any:\n\u001b[32m    215\u001b[39m \u001b[38;5;250m  \u001b[39m\u001b[33;03m\"\"\"Calls with flattened tensor inputs and returns the structured output.\"\"\"\u001b[39;00m\n\u001b[32m--> \u001b[39m\u001b[32m216\u001b[39m   flat_outputs = \u001b[38;5;28;43mself\u001b[39;49m\u001b[43m.\u001b[49m\u001b[43mcall_flat\u001b[49m\u001b[43m(\u001b[49m\u001b[43m*\u001b[49m\u001b[43margs\u001b[49m\u001b[43m)\u001b[49m\n\u001b[32m    217\u001b[39m   \u001b[38;5;28;01mreturn\u001b[39;00m \u001b[38;5;28mself\u001b[39m.function_type.pack_output(flat_outputs)\n",
      "\u001b[36mFile \u001b[39m\u001b[32m~\\Desktop\\Freestyle\\GitHub\\venv\\Lib\\site-packages\\tensorflow\\python\\eager\\polymorphic_function\\atomic_function.py:251\u001b[39m, in \u001b[36mAtomicFunction.call_flat\u001b[39m\u001b[34m(self, *args)\u001b[39m\n\u001b[32m    249\u001b[39m \u001b[38;5;28;01mwith\u001b[39;00m record.stop_recording():\n\u001b[32m    250\u001b[39m   \u001b[38;5;28;01mif\u001b[39;00m \u001b[38;5;28mself\u001b[39m._bound_context.executing_eagerly():\n\u001b[32m--> \u001b[39m\u001b[32m251\u001b[39m     outputs = \u001b[38;5;28;43mself\u001b[39;49m\u001b[43m.\u001b[49m\u001b[43m_bound_context\u001b[49m\u001b[43m.\u001b[49m\u001b[43mcall_function\u001b[49m\u001b[43m(\u001b[49m\n\u001b[32m    252\u001b[39m \u001b[43m        \u001b[49m\u001b[38;5;28;43mself\u001b[39;49m\u001b[43m.\u001b[49m\u001b[43mname\u001b[49m\u001b[43m,\u001b[49m\n\u001b[32m    253\u001b[39m \u001b[43m        \u001b[49m\u001b[38;5;28;43mlist\u001b[39;49m\u001b[43m(\u001b[49m\u001b[43margs\u001b[49m\u001b[43m)\u001b[49m\u001b[43m,\u001b[49m\n\u001b[32m    254\u001b[39m \u001b[43m        \u001b[49m\u001b[38;5;28;43mlen\u001b[39;49m\u001b[43m(\u001b[49m\u001b[38;5;28;43mself\u001b[39;49m\u001b[43m.\u001b[49m\u001b[43mfunction_type\u001b[49m\u001b[43m.\u001b[49m\u001b[43mflat_outputs\u001b[49m\u001b[43m)\u001b[49m\u001b[43m,\u001b[49m\n\u001b[32m    255\u001b[39m \u001b[43m    \u001b[49m\u001b[43m)\u001b[49m\n\u001b[32m    256\u001b[39m   \u001b[38;5;28;01melse\u001b[39;00m:\n\u001b[32m    257\u001b[39m     outputs = make_call_op_in_graph(\n\u001b[32m    258\u001b[39m         \u001b[38;5;28mself\u001b[39m,\n\u001b[32m    259\u001b[39m         \u001b[38;5;28mlist\u001b[39m(args),\n\u001b[32m    260\u001b[39m         \u001b[38;5;28mself\u001b[39m._bound_context.function_call_options.as_attrs(),\n\u001b[32m    261\u001b[39m     )\n",
      "\u001b[36mFile \u001b[39m\u001b[32m~\\Desktop\\Freestyle\\GitHub\\venv\\Lib\\site-packages\\tensorflow\\python\\eager\\context.py:1688\u001b[39m, in \u001b[36mContext.call_function\u001b[39m\u001b[34m(self, name, tensor_inputs, num_outputs)\u001b[39m\n\u001b[32m   1686\u001b[39m cancellation_context = cancellation.context()\n\u001b[32m   1687\u001b[39m \u001b[38;5;28;01mif\u001b[39;00m cancellation_context \u001b[38;5;129;01mis\u001b[39;00m \u001b[38;5;28;01mNone\u001b[39;00m:\n\u001b[32m-> \u001b[39m\u001b[32m1688\u001b[39m   outputs = \u001b[43mexecute\u001b[49m\u001b[43m.\u001b[49m\u001b[43mexecute\u001b[49m\u001b[43m(\u001b[49m\n\u001b[32m   1689\u001b[39m \u001b[43m      \u001b[49m\u001b[43mname\u001b[49m\u001b[43m.\u001b[49m\u001b[43mdecode\u001b[49m\u001b[43m(\u001b[49m\u001b[33;43m\"\u001b[39;49m\u001b[33;43mutf-8\u001b[39;49m\u001b[33;43m\"\u001b[39;49m\u001b[43m)\u001b[49m\u001b[43m,\u001b[49m\n\u001b[32m   1690\u001b[39m \u001b[43m      \u001b[49m\u001b[43mnum_outputs\u001b[49m\u001b[43m=\u001b[49m\u001b[43mnum_outputs\u001b[49m\u001b[43m,\u001b[49m\n\u001b[32m   1691\u001b[39m \u001b[43m      \u001b[49m\u001b[43minputs\u001b[49m\u001b[43m=\u001b[49m\u001b[43mtensor_inputs\u001b[49m\u001b[43m,\u001b[49m\n\u001b[32m   1692\u001b[39m \u001b[43m      \u001b[49m\u001b[43mattrs\u001b[49m\u001b[43m=\u001b[49m\u001b[43mattrs\u001b[49m\u001b[43m,\u001b[49m\n\u001b[32m   1693\u001b[39m \u001b[43m      \u001b[49m\u001b[43mctx\u001b[49m\u001b[43m=\u001b[49m\u001b[38;5;28;43mself\u001b[39;49m\u001b[43m,\u001b[49m\n\u001b[32m   1694\u001b[39m \u001b[43m  \u001b[49m\u001b[43m)\u001b[49m\n\u001b[32m   1695\u001b[39m \u001b[38;5;28;01melse\u001b[39;00m:\n\u001b[32m   1696\u001b[39m   outputs = execute.execute_with_cancellation(\n\u001b[32m   1697\u001b[39m       name.decode(\u001b[33m\"\u001b[39m\u001b[33mutf-8\u001b[39m\u001b[33m\"\u001b[39m),\n\u001b[32m   1698\u001b[39m       num_outputs=num_outputs,\n\u001b[32m   (...)\u001b[39m\u001b[32m   1702\u001b[39m       cancellation_manager=cancellation_context,\n\u001b[32m   1703\u001b[39m   )\n",
      "\u001b[36mFile \u001b[39m\u001b[32m~\\Desktop\\Freestyle\\GitHub\\venv\\Lib\\site-packages\\tensorflow\\python\\eager\\execute.py:53\u001b[39m, in \u001b[36mquick_execute\u001b[39m\u001b[34m(op_name, num_outputs, inputs, attrs, ctx, name)\u001b[39m\n\u001b[32m     51\u001b[39m \u001b[38;5;28;01mtry\u001b[39;00m:\n\u001b[32m     52\u001b[39m   ctx.ensure_initialized()\n\u001b[32m---> \u001b[39m\u001b[32m53\u001b[39m   tensors = \u001b[43mpywrap_tfe\u001b[49m\u001b[43m.\u001b[49m\u001b[43mTFE_Py_Execute\u001b[49m\u001b[43m(\u001b[49m\u001b[43mctx\u001b[49m\u001b[43m.\u001b[49m\u001b[43m_handle\u001b[49m\u001b[43m,\u001b[49m\u001b[43m \u001b[49m\u001b[43mdevice_name\u001b[49m\u001b[43m,\u001b[49m\u001b[43m \u001b[49m\u001b[43mop_name\u001b[49m\u001b[43m,\u001b[49m\n\u001b[32m     54\u001b[39m \u001b[43m                                      \u001b[49m\u001b[43minputs\u001b[49m\u001b[43m,\u001b[49m\u001b[43m \u001b[49m\u001b[43mattrs\u001b[49m\u001b[43m,\u001b[49m\u001b[43m \u001b[49m\u001b[43mnum_outputs\u001b[49m\u001b[43m)\u001b[49m\n\u001b[32m     55\u001b[39m \u001b[38;5;28;01mexcept\u001b[39;00m core._NotOkStatusException \u001b[38;5;28;01mas\u001b[39;00m e:\n\u001b[32m     56\u001b[39m   \u001b[38;5;28;01mif\u001b[39;00m name \u001b[38;5;129;01mis\u001b[39;00m \u001b[38;5;129;01mnot\u001b[39;00m \u001b[38;5;28;01mNone\u001b[39;00m:\n",
      "\u001b[31mKeyboardInterrupt\u001b[39m: "
     ]
    }
   ],
   "source": [
    "early_stopping = EarlyStopping(monitor='val_loss', patience=5, restore_best_weights=True)\n",
    "\n",
    "reduce_lr = ReduceLROnPlateau(monitor='val_loss', factor=1/3, patience=3, verbose=1)\n",
    "\n",
    "history3 = model3.fit([X_user_numpy, X_movie_numpy], y, epochs=50, batch_size=32, validation_split=0.2,\n",
    "                    callbacks=[early_stopping, reduce_lr], verbose=1)"
   ]
  },
  {
   "cell_type": "code",
   "execution_count": null,
   "id": "a9ea0dcb-24af-4827-9bd7-12fa1900c27c",
   "metadata": {},
   "outputs": [],
   "source": []
  },
  {
   "cell_type": "code",
   "execution_count": 539,
   "id": "4137647e-e186-4c62-93d2-ded96ed5a1de",
   "metadata": {},
   "outputs": [
    {
     "name": "stdout",
     "output_type": "stream",
     "text": [
      "Epoch 1/150\n",
      "\u001b[1m17350/17350\u001b[0m \u001b[32m━━━━━━━━━━━━━━━━━━━━\u001b[0m\u001b[37m\u001b[0m \u001b[1m81s\u001b[0m 5ms/step - loss: 0.6891 - mae: 0.6135 - mse: 0.6618 - val_loss: 0.7314 - val_mae: 0.6348 - val_mse: 0.7059 - learning_rate: 3.3333e-04\n",
      "Epoch 2/150\n",
      "\u001b[1m17350/17350\u001b[0m \u001b[32m━━━━━━━━━━━━━━━━━━━━\u001b[0m\u001b[37m\u001b[0m \u001b[1m79s\u001b[0m 5ms/step - loss: 0.6900 - mae: 0.6147 - mse: 0.6643 - val_loss: 0.7345 - val_mae: 0.6352 - val_mse: 0.7092 - learning_rate: 3.3333e-04\n",
      "Epoch 3/150\n",
      "\u001b[1m17350/17350\u001b[0m \u001b[32m━━━━━━━━━━━━━━━━━━━━\u001b[0m\u001b[37m\u001b[0m \u001b[1m82s\u001b[0m 5ms/step - loss: 0.6856 - mae: 0.6125 - mse: 0.6604 - val_loss: 0.7198 - val_mae: 0.6253 - val_mse: 0.6952 - learning_rate: 3.3333e-04\n",
      "Epoch 4/150\n",
      "\u001b[1m17350/17350\u001b[0m \u001b[32m━━━━━━━━━━━━━━━━━━━━\u001b[0m\u001b[37m\u001b[0m \u001b[1m84s\u001b[0m 5ms/step - loss: 0.6861 - mae: 0.6139 - mse: 0.6613 - val_loss: 0.7195 - val_mae: 0.6274 - val_mse: 0.6949 - learning_rate: 3.3333e-04\n",
      "Epoch 5/150\n",
      "\u001b[1m17350/17350\u001b[0m \u001b[32m━━━━━━━━━━━━━━━━━━━━\u001b[0m\u001b[37m\u001b[0m \u001b[1m71s\u001b[0m 4ms/step - loss: 0.6874 - mae: 0.6143 - mse: 0.6629 - val_loss: 0.7209 - val_mae: 0.6263 - val_mse: 0.6967 - learning_rate: 3.3333e-04\n",
      "Epoch 6/150\n",
      "\u001b[1m17350/17350\u001b[0m \u001b[32m━━━━━━━━━━━━━━━━━━━━\u001b[0m\u001b[37m\u001b[0m \u001b[1m71s\u001b[0m 4ms/step - loss: 0.6881 - mae: 0.6142 - mse: 0.6639 - val_loss: 0.7230 - val_mae: 0.6218 - val_mse: 0.6988 - learning_rate: 3.3333e-04\n",
      "Epoch 7/150\n",
      "\u001b[1m17350/17350\u001b[0m \u001b[32m━━━━━━━━━━━━━━━━━━━━\u001b[0m\u001b[37m\u001b[0m \u001b[1m76s\u001b[0m 4ms/step - loss: 0.6895 - mae: 0.6152 - mse: 0.6653 - val_loss: 0.7169 - val_mae: 0.6261 - val_mse: 0.6927 - learning_rate: 3.3333e-04\n",
      "Epoch 8/150\n",
      "\u001b[1m17350/17350\u001b[0m \u001b[32m━━━━━━━━━━━━━━━━━━━━\u001b[0m\u001b[37m\u001b[0m \u001b[1m84s\u001b[0m 5ms/step - loss: 0.6844 - mae: 0.6131 - mse: 0.6604 - val_loss: 0.7172 - val_mae: 0.6201 - val_mse: 0.6934 - learning_rate: 3.3333e-04\n",
      "Epoch 9/150\n",
      "\u001b[1m17350/17350\u001b[0m \u001b[32m━━━━━━━━━━━━━━━━━━━━\u001b[0m\u001b[37m\u001b[0m \u001b[1m77s\u001b[0m 4ms/step - loss: 0.6885 - mae: 0.6145 - mse: 0.6645 - val_loss: 0.7182 - val_mae: 0.6319 - val_mse: 0.6945 - learning_rate: 3.3333e-04\n",
      "Epoch 10/150\n",
      "\u001b[1m 6385/17350\u001b[0m \u001b[32m━━━━━━━\u001b[0m\u001b[37m━━━━━━━━━━━━━\u001b[0m \u001b[1m49s\u001b[0m 5ms/step - loss: 0.6842 - mae: 0.6122 - mse: 0.6605"
     ]
    },
    {
     "ename": "KeyboardInterrupt",
     "evalue": "",
     "output_type": "error",
     "traceback": [
      "\u001b[31m---------------------------------------------------------------------------\u001b[39m",
      "\u001b[31mKeyboardInterrupt\u001b[39m                         Traceback (most recent call last)",
      "\u001b[36mCell\u001b[39m\u001b[36m \u001b[39m\u001b[32mIn[539]\u001b[39m\u001b[32m, line 12\u001b[39m\n\u001b[32m      3\u001b[39m tensorboard_callback = TensorBoard(\n\u001b[32m      4\u001b[39m     log_dir=\u001b[33m\"\u001b[39m\u001b[33m./logs\u001b[39m\u001b[33m\"\u001b[39m,\n\u001b[32m      5\u001b[39m     histogram_freq=\u001b[32m1\u001b[39m,  \u001b[38;5;66;03m# Loguj histograme svaki epoch\u001b[39;00m\n\u001b[32m   (...)\u001b[39m\u001b[32m      8\u001b[39m     update_freq=\u001b[33m'\u001b[39m\u001b[33mepoch\u001b[39m\u001b[33m'\u001b[39m\n\u001b[32m      9\u001b[39m )\n\u001b[32m     11\u001b[39m \u001b[38;5;66;03m# Pa ubaciš ga u callbacks:\u001b[39;00m\n\u001b[32m---> \u001b[39m\u001b[32m12\u001b[39m history3 = \u001b[43mmodel3\u001b[49m\u001b[43m.\u001b[49m\u001b[43mfit\u001b[49m\u001b[43m(\u001b[49m\n\u001b[32m     13\u001b[39m \u001b[43m    \u001b[49m\u001b[43m[\u001b[49m\u001b[43mX_user_numpy\u001b[49m\u001b[43m,\u001b[49m\u001b[43m \u001b[49m\u001b[43mX_movie_numpy\u001b[49m\u001b[43m]\u001b[49m\u001b[43m,\u001b[49m\n\u001b[32m     14\u001b[39m \u001b[43m    \u001b[49m\u001b[43my\u001b[49m\u001b[43m,\u001b[49m\n\u001b[32m     15\u001b[39m \u001b[43m    \u001b[49m\u001b[43mepochs\u001b[49m\u001b[43m=\u001b[49m\u001b[32;43m150\u001b[39;49m\u001b[43m,\u001b[49m\n\u001b[32m     16\u001b[39m \u001b[43m    \u001b[49m\u001b[43mbatch_size\u001b[49m\u001b[43m=\u001b[49m\u001b[32;43m32\u001b[39;49m\u001b[43m,\u001b[49m\n\u001b[32m     17\u001b[39m \u001b[43m    \u001b[49m\u001b[43mvalidation_split\u001b[49m\u001b[43m=\u001b[49m\u001b[32;43m0.2\u001b[39;49m\u001b[43m,\u001b[49m\n\u001b[32m     18\u001b[39m \u001b[43m    \u001b[49m\u001b[43mcallbacks\u001b[49m\u001b[43m=\u001b[49m\u001b[43m[\u001b[49m\u001b[43mearly_stopping\u001b[49m\u001b[43m,\u001b[49m\u001b[43m \u001b[49m\u001b[43mreduce_lr\u001b[49m\u001b[43m,\u001b[49m\u001b[43m \u001b[49m\u001b[43mtensorboard_callback\u001b[49m\u001b[43m]\u001b[49m\u001b[43m,\u001b[49m\n\u001b[32m     19\u001b[39m \u001b[43m    \u001b[49m\u001b[43mverbose\u001b[49m\u001b[43m=\u001b[49m\u001b[32;43m1\u001b[39;49m\n\u001b[32m     20\u001b[39m \u001b[43m)\u001b[49m\n",
      "\u001b[36mFile \u001b[39m\u001b[32m~\\Desktop\\Freestyle\\GitHub\\venv\\Lib\\site-packages\\keras\\src\\utils\\traceback_utils.py:117\u001b[39m, in \u001b[36mfilter_traceback.<locals>.error_handler\u001b[39m\u001b[34m(*args, **kwargs)\u001b[39m\n\u001b[32m    115\u001b[39m filtered_tb = \u001b[38;5;28;01mNone\u001b[39;00m\n\u001b[32m    116\u001b[39m \u001b[38;5;28;01mtry\u001b[39;00m:\n\u001b[32m--> \u001b[39m\u001b[32m117\u001b[39m     \u001b[38;5;28;01mreturn\u001b[39;00m \u001b[43mfn\u001b[49m\u001b[43m(\u001b[49m\u001b[43m*\u001b[49m\u001b[43margs\u001b[49m\u001b[43m,\u001b[49m\u001b[43m \u001b[49m\u001b[43m*\u001b[49m\u001b[43m*\u001b[49m\u001b[43mkwargs\u001b[49m\u001b[43m)\u001b[49m\n\u001b[32m    118\u001b[39m \u001b[38;5;28;01mexcept\u001b[39;00m \u001b[38;5;167;01mException\u001b[39;00m \u001b[38;5;28;01mas\u001b[39;00m e:\n\u001b[32m    119\u001b[39m     filtered_tb = _process_traceback_frames(e.__traceback__)\n",
      "\u001b[36mFile \u001b[39m\u001b[32m~\\Desktop\\Freestyle\\GitHub\\venv\\Lib\\site-packages\\keras\\src\\backend\\tensorflow\\trainer.py:371\u001b[39m, in \u001b[36mTensorFlowTrainer.fit\u001b[39m\u001b[34m(self, x, y, batch_size, epochs, verbose, callbacks, validation_split, validation_data, shuffle, class_weight, sample_weight, initial_epoch, steps_per_epoch, validation_steps, validation_batch_size, validation_freq)\u001b[39m\n\u001b[32m    369\u001b[39m \u001b[38;5;28;01mfor\u001b[39;00m step, iterator \u001b[38;5;129;01min\u001b[39;00m epoch_iterator:\n\u001b[32m    370\u001b[39m     callbacks.on_train_batch_begin(step)\n\u001b[32m--> \u001b[39m\u001b[32m371\u001b[39m     logs = \u001b[38;5;28;43mself\u001b[39;49m\u001b[43m.\u001b[49m\u001b[43mtrain_function\u001b[49m\u001b[43m(\u001b[49m\u001b[43miterator\u001b[49m\u001b[43m)\u001b[49m\n\u001b[32m    372\u001b[39m     callbacks.on_train_batch_end(step, logs)\n\u001b[32m    373\u001b[39m     \u001b[38;5;28;01mif\u001b[39;00m \u001b[38;5;28mself\u001b[39m.stop_training:\n",
      "\u001b[36mFile \u001b[39m\u001b[32m~\\Desktop\\Freestyle\\GitHub\\venv\\Lib\\site-packages\\keras\\src\\backend\\tensorflow\\trainer.py:219\u001b[39m, in \u001b[36mTensorFlowTrainer._make_function.<locals>.function\u001b[39m\u001b[34m(iterator)\u001b[39m\n\u001b[32m    215\u001b[39m \u001b[38;5;28;01mdef\u001b[39;00m\u001b[38;5;250m \u001b[39m\u001b[34mfunction\u001b[39m(iterator):\n\u001b[32m    216\u001b[39m     \u001b[38;5;28;01mif\u001b[39;00m \u001b[38;5;28misinstance\u001b[39m(\n\u001b[32m    217\u001b[39m         iterator, (tf.data.Iterator, tf.distribute.DistributedIterator)\n\u001b[32m    218\u001b[39m     ):\n\u001b[32m--> \u001b[39m\u001b[32m219\u001b[39m         opt_outputs = \u001b[43mmulti_step_on_iterator\u001b[49m\u001b[43m(\u001b[49m\u001b[43miterator\u001b[49m\u001b[43m)\u001b[49m\n\u001b[32m    220\u001b[39m         \u001b[38;5;28;01mif\u001b[39;00m \u001b[38;5;129;01mnot\u001b[39;00m opt_outputs.has_value():\n\u001b[32m    221\u001b[39m             \u001b[38;5;28;01mraise\u001b[39;00m \u001b[38;5;167;01mStopIteration\u001b[39;00m\n",
      "\u001b[36mFile \u001b[39m\u001b[32m~\\Desktop\\Freestyle\\GitHub\\venv\\Lib\\site-packages\\tensorflow\\python\\util\\traceback_utils.py:150\u001b[39m, in \u001b[36mfilter_traceback.<locals>.error_handler\u001b[39m\u001b[34m(*args, **kwargs)\u001b[39m\n\u001b[32m    148\u001b[39m filtered_tb = \u001b[38;5;28;01mNone\u001b[39;00m\n\u001b[32m    149\u001b[39m \u001b[38;5;28;01mtry\u001b[39;00m:\n\u001b[32m--> \u001b[39m\u001b[32m150\u001b[39m   \u001b[38;5;28;01mreturn\u001b[39;00m \u001b[43mfn\u001b[49m\u001b[43m(\u001b[49m\u001b[43m*\u001b[49m\u001b[43margs\u001b[49m\u001b[43m,\u001b[49m\u001b[43m \u001b[49m\u001b[43m*\u001b[49m\u001b[43m*\u001b[49m\u001b[43mkwargs\u001b[49m\u001b[43m)\u001b[49m\n\u001b[32m    151\u001b[39m \u001b[38;5;28;01mexcept\u001b[39;00m \u001b[38;5;167;01mException\u001b[39;00m \u001b[38;5;28;01mas\u001b[39;00m e:\n\u001b[32m    152\u001b[39m   filtered_tb = _process_traceback_frames(e.__traceback__)\n",
      "\u001b[36mFile \u001b[39m\u001b[32m~\\Desktop\\Freestyle\\GitHub\\venv\\Lib\\site-packages\\tensorflow\\python\\eager\\polymorphic_function\\polymorphic_function.py:833\u001b[39m, in \u001b[36mFunction.__call__\u001b[39m\u001b[34m(self, *args, **kwds)\u001b[39m\n\u001b[32m    830\u001b[39m compiler = \u001b[33m\"\u001b[39m\u001b[33mxla\u001b[39m\u001b[33m\"\u001b[39m \u001b[38;5;28;01mif\u001b[39;00m \u001b[38;5;28mself\u001b[39m._jit_compile \u001b[38;5;28;01melse\u001b[39;00m \u001b[33m\"\u001b[39m\u001b[33mnonXla\u001b[39m\u001b[33m\"\u001b[39m\n\u001b[32m    832\u001b[39m \u001b[38;5;28;01mwith\u001b[39;00m OptionalXlaContext(\u001b[38;5;28mself\u001b[39m._jit_compile):\n\u001b[32m--> \u001b[39m\u001b[32m833\u001b[39m   result = \u001b[38;5;28;43mself\u001b[39;49m\u001b[43m.\u001b[49m\u001b[43m_call\u001b[49m\u001b[43m(\u001b[49m\u001b[43m*\u001b[49m\u001b[43margs\u001b[49m\u001b[43m,\u001b[49m\u001b[43m \u001b[49m\u001b[43m*\u001b[49m\u001b[43m*\u001b[49m\u001b[43mkwds\u001b[49m\u001b[43m)\u001b[49m\n\u001b[32m    835\u001b[39m new_tracing_count = \u001b[38;5;28mself\u001b[39m.experimental_get_tracing_count()\n\u001b[32m    836\u001b[39m without_tracing = (tracing_count == new_tracing_count)\n",
      "\u001b[36mFile \u001b[39m\u001b[32m~\\Desktop\\Freestyle\\GitHub\\venv\\Lib\\site-packages\\tensorflow\\python\\eager\\polymorphic_function\\polymorphic_function.py:878\u001b[39m, in \u001b[36mFunction._call\u001b[39m\u001b[34m(self, *args, **kwds)\u001b[39m\n\u001b[32m    875\u001b[39m \u001b[38;5;28mself\u001b[39m._lock.release()\n\u001b[32m    876\u001b[39m \u001b[38;5;66;03m# In this case we have not created variables on the first call. So we can\u001b[39;00m\n\u001b[32m    877\u001b[39m \u001b[38;5;66;03m# run the first trace but we should fail if variables are created.\u001b[39;00m\n\u001b[32m--> \u001b[39m\u001b[32m878\u001b[39m results = \u001b[43mtracing_compilation\u001b[49m\u001b[43m.\u001b[49m\u001b[43mcall_function\u001b[49m\u001b[43m(\u001b[49m\n\u001b[32m    879\u001b[39m \u001b[43m    \u001b[49m\u001b[43margs\u001b[49m\u001b[43m,\u001b[49m\u001b[43m \u001b[49m\u001b[43mkwds\u001b[49m\u001b[43m,\u001b[49m\u001b[43m \u001b[49m\u001b[38;5;28;43mself\u001b[39;49m\u001b[43m.\u001b[49m\u001b[43m_variable_creation_config\u001b[49m\n\u001b[32m    880\u001b[39m \u001b[43m\u001b[49m\u001b[43m)\u001b[49m\n\u001b[32m    881\u001b[39m \u001b[38;5;28;01mif\u001b[39;00m \u001b[38;5;28mself\u001b[39m._created_variables:\n\u001b[32m    882\u001b[39m   \u001b[38;5;28;01mraise\u001b[39;00m \u001b[38;5;167;01mValueError\u001b[39;00m(\u001b[33m\"\u001b[39m\u001b[33mCreating variables on a non-first call to a function\u001b[39m\u001b[33m\"\u001b[39m\n\u001b[32m    883\u001b[39m                    \u001b[33m\"\u001b[39m\u001b[33m decorated with tf.function.\u001b[39m\u001b[33m\"\u001b[39m)\n",
      "\u001b[36mFile \u001b[39m\u001b[32m~\\Desktop\\Freestyle\\GitHub\\venv\\Lib\\site-packages\\tensorflow\\python\\eager\\polymorphic_function\\tracing_compilation.py:139\u001b[39m, in \u001b[36mcall_function\u001b[39m\u001b[34m(args, kwargs, tracing_options)\u001b[39m\n\u001b[32m    137\u001b[39m bound_args = function.function_type.bind(*args, **kwargs)\n\u001b[32m    138\u001b[39m flat_inputs = function.function_type.unpack_inputs(bound_args)\n\u001b[32m--> \u001b[39m\u001b[32m139\u001b[39m \u001b[38;5;28;01mreturn\u001b[39;00m \u001b[43mfunction\u001b[49m\u001b[43m.\u001b[49m\u001b[43m_call_flat\u001b[49m\u001b[43m(\u001b[49m\u001b[43m  \u001b[49m\u001b[38;5;66;43;03m# pylint: disable=protected-access\u001b[39;49;00m\n\u001b[32m    140\u001b[39m \u001b[43m    \u001b[49m\u001b[43mflat_inputs\u001b[49m\u001b[43m,\u001b[49m\u001b[43m \u001b[49m\u001b[43mcaptured_inputs\u001b[49m\u001b[43m=\u001b[49m\u001b[43mfunction\u001b[49m\u001b[43m.\u001b[49m\u001b[43mcaptured_inputs\u001b[49m\n\u001b[32m    141\u001b[39m \u001b[43m\u001b[49m\u001b[43m)\u001b[49m\n",
      "\u001b[36mFile \u001b[39m\u001b[32m~\\Desktop\\Freestyle\\GitHub\\venv\\Lib\\site-packages\\tensorflow\\python\\eager\\polymorphic_function\\concrete_function.py:1322\u001b[39m, in \u001b[36mConcreteFunction._call_flat\u001b[39m\u001b[34m(self, tensor_inputs, captured_inputs)\u001b[39m\n\u001b[32m   1318\u001b[39m possible_gradient_type = gradients_util.PossibleTapeGradientTypes(args)\n\u001b[32m   1319\u001b[39m \u001b[38;5;28;01mif\u001b[39;00m (possible_gradient_type == gradients_util.POSSIBLE_GRADIENT_TYPES_NONE\n\u001b[32m   1320\u001b[39m     \u001b[38;5;129;01mand\u001b[39;00m executing_eagerly):\n\u001b[32m   1321\u001b[39m   \u001b[38;5;66;03m# No tape is watching; skip to running the function.\u001b[39;00m\n\u001b[32m-> \u001b[39m\u001b[32m1322\u001b[39m   \u001b[38;5;28;01mreturn\u001b[39;00m \u001b[38;5;28;43mself\u001b[39;49m\u001b[43m.\u001b[49m\u001b[43m_inference_function\u001b[49m\u001b[43m.\u001b[49m\u001b[43mcall_preflattened\u001b[49m\u001b[43m(\u001b[49m\u001b[43margs\u001b[49m\u001b[43m)\u001b[49m\n\u001b[32m   1323\u001b[39m forward_backward = \u001b[38;5;28mself\u001b[39m._select_forward_and_backward_functions(\n\u001b[32m   1324\u001b[39m     args,\n\u001b[32m   1325\u001b[39m     possible_gradient_type,\n\u001b[32m   1326\u001b[39m     executing_eagerly)\n\u001b[32m   1327\u001b[39m forward_function, args_with_tangents = forward_backward.forward()\n",
      "\u001b[36mFile \u001b[39m\u001b[32m~\\Desktop\\Freestyle\\GitHub\\venv\\Lib\\site-packages\\tensorflow\\python\\eager\\polymorphic_function\\atomic_function.py:216\u001b[39m, in \u001b[36mAtomicFunction.call_preflattened\u001b[39m\u001b[34m(self, args)\u001b[39m\n\u001b[32m    214\u001b[39m \u001b[38;5;28;01mdef\u001b[39;00m\u001b[38;5;250m \u001b[39m\u001b[34mcall_preflattened\u001b[39m(\u001b[38;5;28mself\u001b[39m, args: Sequence[core.Tensor]) -> Any:\n\u001b[32m    215\u001b[39m \u001b[38;5;250m  \u001b[39m\u001b[33;03m\"\"\"Calls with flattened tensor inputs and returns the structured output.\"\"\"\u001b[39;00m\n\u001b[32m--> \u001b[39m\u001b[32m216\u001b[39m   flat_outputs = \u001b[38;5;28;43mself\u001b[39;49m\u001b[43m.\u001b[49m\u001b[43mcall_flat\u001b[49m\u001b[43m(\u001b[49m\u001b[43m*\u001b[49m\u001b[43margs\u001b[49m\u001b[43m)\u001b[49m\n\u001b[32m    217\u001b[39m   \u001b[38;5;28;01mreturn\u001b[39;00m \u001b[38;5;28mself\u001b[39m.function_type.pack_output(flat_outputs)\n",
      "\u001b[36mFile \u001b[39m\u001b[32m~\\Desktop\\Freestyle\\GitHub\\venv\\Lib\\site-packages\\tensorflow\\python\\eager\\polymorphic_function\\atomic_function.py:251\u001b[39m, in \u001b[36mAtomicFunction.call_flat\u001b[39m\u001b[34m(self, *args)\u001b[39m\n\u001b[32m    249\u001b[39m \u001b[38;5;28;01mwith\u001b[39;00m record.stop_recording():\n\u001b[32m    250\u001b[39m   \u001b[38;5;28;01mif\u001b[39;00m \u001b[38;5;28mself\u001b[39m._bound_context.executing_eagerly():\n\u001b[32m--> \u001b[39m\u001b[32m251\u001b[39m     outputs = \u001b[38;5;28;43mself\u001b[39;49m\u001b[43m.\u001b[49m\u001b[43m_bound_context\u001b[49m\u001b[43m.\u001b[49m\u001b[43mcall_function\u001b[49m\u001b[43m(\u001b[49m\n\u001b[32m    252\u001b[39m \u001b[43m        \u001b[49m\u001b[38;5;28;43mself\u001b[39;49m\u001b[43m.\u001b[49m\u001b[43mname\u001b[49m\u001b[43m,\u001b[49m\n\u001b[32m    253\u001b[39m \u001b[43m        \u001b[49m\u001b[38;5;28;43mlist\u001b[39;49m\u001b[43m(\u001b[49m\u001b[43margs\u001b[49m\u001b[43m)\u001b[49m\u001b[43m,\u001b[49m\n\u001b[32m    254\u001b[39m \u001b[43m        \u001b[49m\u001b[38;5;28;43mlen\u001b[39;49m\u001b[43m(\u001b[49m\u001b[38;5;28;43mself\u001b[39;49m\u001b[43m.\u001b[49m\u001b[43mfunction_type\u001b[49m\u001b[43m.\u001b[49m\u001b[43mflat_outputs\u001b[49m\u001b[43m)\u001b[49m\u001b[43m,\u001b[49m\n\u001b[32m    255\u001b[39m \u001b[43m    \u001b[49m\u001b[43m)\u001b[49m\n\u001b[32m    256\u001b[39m   \u001b[38;5;28;01melse\u001b[39;00m:\n\u001b[32m    257\u001b[39m     outputs = make_call_op_in_graph(\n\u001b[32m    258\u001b[39m         \u001b[38;5;28mself\u001b[39m,\n\u001b[32m    259\u001b[39m         \u001b[38;5;28mlist\u001b[39m(args),\n\u001b[32m    260\u001b[39m         \u001b[38;5;28mself\u001b[39m._bound_context.function_call_options.as_attrs(),\n\u001b[32m    261\u001b[39m     )\n",
      "\u001b[36mFile \u001b[39m\u001b[32m~\\Desktop\\Freestyle\\GitHub\\venv\\Lib\\site-packages\\tensorflow\\python\\eager\\context.py:1688\u001b[39m, in \u001b[36mContext.call_function\u001b[39m\u001b[34m(self, name, tensor_inputs, num_outputs)\u001b[39m\n\u001b[32m   1686\u001b[39m cancellation_context = cancellation.context()\n\u001b[32m   1687\u001b[39m \u001b[38;5;28;01mif\u001b[39;00m cancellation_context \u001b[38;5;129;01mis\u001b[39;00m \u001b[38;5;28;01mNone\u001b[39;00m:\n\u001b[32m-> \u001b[39m\u001b[32m1688\u001b[39m   outputs = \u001b[43mexecute\u001b[49m\u001b[43m.\u001b[49m\u001b[43mexecute\u001b[49m\u001b[43m(\u001b[49m\n\u001b[32m   1689\u001b[39m \u001b[43m      \u001b[49m\u001b[43mname\u001b[49m\u001b[43m.\u001b[49m\u001b[43mdecode\u001b[49m\u001b[43m(\u001b[49m\u001b[33;43m\"\u001b[39;49m\u001b[33;43mutf-8\u001b[39;49m\u001b[33;43m\"\u001b[39;49m\u001b[43m)\u001b[49m\u001b[43m,\u001b[49m\n\u001b[32m   1690\u001b[39m \u001b[43m      \u001b[49m\u001b[43mnum_outputs\u001b[49m\u001b[43m=\u001b[49m\u001b[43mnum_outputs\u001b[49m\u001b[43m,\u001b[49m\n\u001b[32m   1691\u001b[39m \u001b[43m      \u001b[49m\u001b[43minputs\u001b[49m\u001b[43m=\u001b[49m\u001b[43mtensor_inputs\u001b[49m\u001b[43m,\u001b[49m\n\u001b[32m   1692\u001b[39m \u001b[43m      \u001b[49m\u001b[43mattrs\u001b[49m\u001b[43m=\u001b[49m\u001b[43mattrs\u001b[49m\u001b[43m,\u001b[49m\n\u001b[32m   1693\u001b[39m \u001b[43m      \u001b[49m\u001b[43mctx\u001b[49m\u001b[43m=\u001b[49m\u001b[38;5;28;43mself\u001b[39;49m\u001b[43m,\u001b[49m\n\u001b[32m   1694\u001b[39m \u001b[43m  \u001b[49m\u001b[43m)\u001b[49m\n\u001b[32m   1695\u001b[39m \u001b[38;5;28;01melse\u001b[39;00m:\n\u001b[32m   1696\u001b[39m   outputs = execute.execute_with_cancellation(\n\u001b[32m   1697\u001b[39m       name.decode(\u001b[33m\"\u001b[39m\u001b[33mutf-8\u001b[39m\u001b[33m\"\u001b[39m),\n\u001b[32m   1698\u001b[39m       num_outputs=num_outputs,\n\u001b[32m   (...)\u001b[39m\u001b[32m   1702\u001b[39m       cancellation_manager=cancellation_context,\n\u001b[32m   1703\u001b[39m   )\n",
      "\u001b[36mFile \u001b[39m\u001b[32m~\\Desktop\\Freestyle\\GitHub\\venv\\Lib\\site-packages\\tensorflow\\python\\eager\\execute.py:53\u001b[39m, in \u001b[36mquick_execute\u001b[39m\u001b[34m(op_name, num_outputs, inputs, attrs, ctx, name)\u001b[39m\n\u001b[32m     51\u001b[39m \u001b[38;5;28;01mtry\u001b[39;00m:\n\u001b[32m     52\u001b[39m   ctx.ensure_initialized()\n\u001b[32m---> \u001b[39m\u001b[32m53\u001b[39m   tensors = \u001b[43mpywrap_tfe\u001b[49m\u001b[43m.\u001b[49m\u001b[43mTFE_Py_Execute\u001b[49m\u001b[43m(\u001b[49m\u001b[43mctx\u001b[49m\u001b[43m.\u001b[49m\u001b[43m_handle\u001b[49m\u001b[43m,\u001b[49m\u001b[43m \u001b[49m\u001b[43mdevice_name\u001b[49m\u001b[43m,\u001b[49m\u001b[43m \u001b[49m\u001b[43mop_name\u001b[49m\u001b[43m,\u001b[49m\n\u001b[32m     54\u001b[39m \u001b[43m                                      \u001b[49m\u001b[43minputs\u001b[49m\u001b[43m,\u001b[49m\u001b[43m \u001b[49m\u001b[43mattrs\u001b[49m\u001b[43m,\u001b[49m\u001b[43m \u001b[49m\u001b[43mnum_outputs\u001b[49m\u001b[43m)\u001b[49m\n\u001b[32m     55\u001b[39m \u001b[38;5;28;01mexcept\u001b[39;00m core._NotOkStatusException \u001b[38;5;28;01mas\u001b[39;00m e:\n\u001b[32m     56\u001b[39m   \u001b[38;5;28;01mif\u001b[39;00m name \u001b[38;5;129;01mis\u001b[39;00m \u001b[38;5;129;01mnot\u001b[39;00m \u001b[38;5;28;01mNone\u001b[39;00m:\n",
      "\u001b[31mKeyboardInterrupt\u001b[39m: "
     ]
    }
   ],
   "source": [
    "from tensorflow.keras.callbacks import TensorBoard\n",
    "\n",
    "tensorboard_callback = TensorBoard(\n",
    "    log_dir=\"./logs\",\n",
    "    histogram_freq=1,  # Loguj histograme svaki epoch\n",
    "    write_graph=True,\n",
    "    write_images=True,\n",
    "    update_freq='epoch'\n",
    ")\n",
    "\n",
    "# Pa ubaciš ga u callbacks:\n",
    "history3 = model3.fit(\n",
    "    [X_user_numpy, X_movie_numpy],\n",
    "    y,\n",
    "    epochs=150,\n",
    "    batch_size=32,\n",
    "    validation_split=0.2,\n",
    "    callbacks=[early_stopping, reduce_lr, tensorboard_callback],\n",
    "    verbose=1\n",
    ")\n"
   ]
  },
  {
   "cell_type": "code",
   "execution_count": null,
   "id": "d491cda9-9f48-4a8e-a7e9-c167b562b472",
   "metadata": {},
   "outputs": [],
   "source": [
    "model3.save('model3.keras')"
   ]
  },
  {
   "cell_type": "code",
   "execution_count": 541,
   "id": "a3d2380e-2dcf-460c-8ebc-bec041b46c88",
   "metadata": {},
   "outputs": [
    {
     "ename": "NameError",
     "evalue": "name 'history3' is not defined",
     "output_type": "error",
     "traceback": [
      "\u001b[31m---------------------------------------------------------------------------\u001b[39m",
      "\u001b[31mNameError\u001b[39m                                 Traceback (most recent call last)",
      "\u001b[36mCell\u001b[39m\u001b[36m \u001b[39m\u001b[32mIn[541]\u001b[39m\u001b[32m, line 3\u001b[39m\n\u001b[32m      1\u001b[39m \u001b[38;5;28;01mimport\u001b[39;00m\u001b[38;5;250m \u001b[39m\u001b[34;01mmatplotlib\u001b[39;00m\u001b[34;01m.\u001b[39;00m\u001b[34;01mpyplot\u001b[39;00m\u001b[38;5;250m \u001b[39m\u001b[38;5;28;01mas\u001b[39;00m\u001b[38;5;250m \u001b[39m\u001b[34;01mplt\u001b[39;00m\n\u001b[32m----> \u001b[39m\u001b[32m3\u001b[39m plt.plot(\u001b[43mhistory3\u001b[49m.history[\u001b[33m'\u001b[39m\u001b[33mloss\u001b[39m\u001b[33m'\u001b[39m], label=\u001b[33m'\u001b[39m\u001b[33mtrain loss\u001b[39m\u001b[33m'\u001b[39m)\n\u001b[32m      4\u001b[39m plt.plot(history3.history[\u001b[33m'\u001b[39m\u001b[33mval_loss\u001b[39m\u001b[33m'\u001b[39m], label=\u001b[33m'\u001b[39m\u001b[33mval loss\u001b[39m\u001b[33m'\u001b[39m)\n\u001b[32m      5\u001b[39m plt.xlabel(\u001b[33m'\u001b[39m\u001b[33mEpoch\u001b[39m\u001b[33m'\u001b[39m)\n",
      "\u001b[31mNameError\u001b[39m: name 'history3' is not defined"
     ]
    }
   ],
   "source": [
    "import matplotlib.pyplot as plt\n",
    "\n",
    "plt.plot(history3.history['loss'], label='train loss')\n",
    "plt.plot(history3.history['val_loss'], label='val loss')\n",
    "plt.xlabel('Epoch')\n",
    "plt.ylabel('Loss')\n",
    "plt.legend()\n",
    "plt.show()"
   ]
  },
  {
   "cell_type": "code",
   "execution_count": null,
   "id": "b2cea03e-e51e-4906-9f43-07fc1fbb7490",
   "metadata": {},
   "outputs": [],
   "source": []
  },
  {
   "cell_type": "markdown",
   "id": "d0f30941-f917-4700-acd4-8cfc7e3c7730",
   "metadata": {},
   "source": [
    "### SKIDAM REGULARIZACIJU SA POSLEDNJA 2 SLOJA"
   ]
  },
  {
   "cell_type": "code",
   "execution_count": 556,
   "id": "794205cc-5bab-42fd-bbbc-a4f6b0b41ddb",
   "metadata": {},
   "outputs": [
    {
     "data": {
      "text/html": [
       "<pre style=\"white-space:pre;overflow-x:auto;line-height:normal;font-family:Menlo,'DejaVu Sans Mono',consolas,'Courier New',monospace\"><span style=\"font-weight: bold\">Model: \"functional_21\"</span>\n",
       "</pre>\n"
      ],
      "text/plain": [
       "\u001b[1mModel: \"functional_21\"\u001b[0m\n"
      ]
     },
     "metadata": {},
     "output_type": "display_data"
    },
    {
     "data": {
      "text/html": [
       "<pre style=\"white-space:pre;overflow-x:auto;line-height:normal;font-family:Menlo,'DejaVu Sans Mono',consolas,'Courier New',monospace\">┏━━━━━━━━━━━━━━━━━━━━━━━━━━━━━━━┳━━━━━━━━━━━━━━━━━━━━━━━━━━━┳━━━━━━━━━━━━━━━━━┳━━━━━━━━━━━━━━━━━━━━━━━━━━━━┓\n",
       "┃<span style=\"font-weight: bold\"> Layer (type)                  </span>┃<span style=\"font-weight: bold\"> Output Shape              </span>┃<span style=\"font-weight: bold\">         Param # </span>┃<span style=\"font-weight: bold\"> Connected to               </span>┃\n",
       "┡━━━━━━━━━━━━━━━━━━━━━━━━━━━━━━━╇━━━━━━━━━━━━━━━━━━━━━━━━━━━╇━━━━━━━━━━━━━━━━━╇━━━━━━━━━━━━━━━━━━━━━━━━━━━━┩\n",
       "│ user_input (<span style=\"color: #0087ff; text-decoration-color: #0087ff\">InputLayer</span>)       │ (<span style=\"color: #00d7ff; text-decoration-color: #00d7ff\">None</span>, <span style=\"color: #00af00; text-decoration-color: #00af00\">20</span>)                │               <span style=\"color: #00af00; text-decoration-color: #00af00\">0</span> │ -                          │\n",
       "├───────────────────────────────┼───────────────────────────┼─────────────────┼────────────────────────────┤\n",
       "│ movie_input (<span style=\"color: #0087ff; text-decoration-color: #0087ff\">InputLayer</span>)      │ (<span style=\"color: #00d7ff; text-decoration-color: #00d7ff\">None</span>, <span style=\"color: #00af00; text-decoration-color: #00af00\">23</span>)                │               <span style=\"color: #00af00; text-decoration-color: #00af00\">0</span> │ -                          │\n",
       "├───────────────────────────────┼───────────────────────────┼─────────────────┼────────────────────────────┤\n",
       "│ dense_132 (<span style=\"color: #0087ff; text-decoration-color: #0087ff\">Dense</span>)             │ (<span style=\"color: #00d7ff; text-decoration-color: #00d7ff\">None</span>, <span style=\"color: #00af00; text-decoration-color: #00af00\">128</span>)               │           <span style=\"color: #00af00; text-decoration-color: #00af00\">2,688</span> │ user_input[<span style=\"color: #00af00; text-decoration-color: #00af00\">0</span>][<span style=\"color: #00af00; text-decoration-color: #00af00\">0</span>]           │\n",
       "├───────────────────────────────┼───────────────────────────┼─────────────────┼────────────────────────────┤\n",
       "│ dense_135 (<span style=\"color: #0087ff; text-decoration-color: #0087ff\">Dense</span>)             │ (<span style=\"color: #00d7ff; text-decoration-color: #00d7ff\">None</span>, <span style=\"color: #00af00; text-decoration-color: #00af00\">128</span>)               │           <span style=\"color: #00af00; text-decoration-color: #00af00\">3,072</span> │ movie_input[<span style=\"color: #00af00; text-decoration-color: #00af00\">0</span>][<span style=\"color: #00af00; text-decoration-color: #00af00\">0</span>]          │\n",
       "├───────────────────────────────┼───────────────────────────┼─────────────────┼────────────────────────────┤\n",
       "│ dropout_132 (<span style=\"color: #0087ff; text-decoration-color: #0087ff\">Dropout</span>)         │ (<span style=\"color: #00d7ff; text-decoration-color: #00d7ff\">None</span>, <span style=\"color: #00af00; text-decoration-color: #00af00\">128</span>)               │               <span style=\"color: #00af00; text-decoration-color: #00af00\">0</span> │ dense_132[<span style=\"color: #00af00; text-decoration-color: #00af00\">0</span>][<span style=\"color: #00af00; text-decoration-color: #00af00\">0</span>]            │\n",
       "├───────────────────────────────┼───────────────────────────┼─────────────────┼────────────────────────────┤\n",
       "│ dropout_135 (<span style=\"color: #0087ff; text-decoration-color: #0087ff\">Dropout</span>)         │ (<span style=\"color: #00d7ff; text-decoration-color: #00d7ff\">None</span>, <span style=\"color: #00af00; text-decoration-color: #00af00\">128</span>)               │               <span style=\"color: #00af00; text-decoration-color: #00af00\">0</span> │ dense_135[<span style=\"color: #00af00; text-decoration-color: #00af00\">0</span>][<span style=\"color: #00af00; text-decoration-color: #00af00\">0</span>]            │\n",
       "├───────────────────────────────┼───────────────────────────┼─────────────────┼────────────────────────────┤\n",
       "│ dense_133 (<span style=\"color: #0087ff; text-decoration-color: #0087ff\">Dense</span>)             │ (<span style=\"color: #00d7ff; text-decoration-color: #00d7ff\">None</span>, <span style=\"color: #00af00; text-decoration-color: #00af00\">64</span>)                │           <span style=\"color: #00af00; text-decoration-color: #00af00\">8,256</span> │ dropout_132[<span style=\"color: #00af00; text-decoration-color: #00af00\">0</span>][<span style=\"color: #00af00; text-decoration-color: #00af00\">0</span>]          │\n",
       "├───────────────────────────────┼───────────────────────────┼─────────────────┼────────────────────────────┤\n",
       "│ dense_136 (<span style=\"color: #0087ff; text-decoration-color: #0087ff\">Dense</span>)             │ (<span style=\"color: #00d7ff; text-decoration-color: #00d7ff\">None</span>, <span style=\"color: #00af00; text-decoration-color: #00af00\">64</span>)                │           <span style=\"color: #00af00; text-decoration-color: #00af00\">8,256</span> │ dropout_135[<span style=\"color: #00af00; text-decoration-color: #00af00\">0</span>][<span style=\"color: #00af00; text-decoration-color: #00af00\">0</span>]          │\n",
       "├───────────────────────────────┼───────────────────────────┼─────────────────┼────────────────────────────┤\n",
       "│ dropout_133 (<span style=\"color: #0087ff; text-decoration-color: #0087ff\">Dropout</span>)         │ (<span style=\"color: #00d7ff; text-decoration-color: #00d7ff\">None</span>, <span style=\"color: #00af00; text-decoration-color: #00af00\">64</span>)                │               <span style=\"color: #00af00; text-decoration-color: #00af00\">0</span> │ dense_133[<span style=\"color: #00af00; text-decoration-color: #00af00\">0</span>][<span style=\"color: #00af00; text-decoration-color: #00af00\">0</span>]            │\n",
       "├───────────────────────────────┼───────────────────────────┼─────────────────┼────────────────────────────┤\n",
       "│ dropout_136 (<span style=\"color: #0087ff; text-decoration-color: #0087ff\">Dropout</span>)         │ (<span style=\"color: #00d7ff; text-decoration-color: #00d7ff\">None</span>, <span style=\"color: #00af00; text-decoration-color: #00af00\">64</span>)                │               <span style=\"color: #00af00; text-decoration-color: #00af00\">0</span> │ dense_136[<span style=\"color: #00af00; text-decoration-color: #00af00\">0</span>][<span style=\"color: #00af00; text-decoration-color: #00af00\">0</span>]            │\n",
       "├───────────────────────────────┼───────────────────────────┼─────────────────┼────────────────────────────┤\n",
       "│ dense_134 (<span style=\"color: #0087ff; text-decoration-color: #0087ff\">Dense</span>)             │ (<span style=\"color: #00d7ff; text-decoration-color: #00d7ff\">None</span>, <span style=\"color: #00af00; text-decoration-color: #00af00\">32</span>)                │           <span style=\"color: #00af00; text-decoration-color: #00af00\">2,080</span> │ dropout_133[<span style=\"color: #00af00; text-decoration-color: #00af00\">0</span>][<span style=\"color: #00af00; text-decoration-color: #00af00\">0</span>]          │\n",
       "├───────────────────────────────┼───────────────────────────┼─────────────────┼────────────────────────────┤\n",
       "│ dense_137 (<span style=\"color: #0087ff; text-decoration-color: #0087ff\">Dense</span>)             │ (<span style=\"color: #00d7ff; text-decoration-color: #00d7ff\">None</span>, <span style=\"color: #00af00; text-decoration-color: #00af00\">32</span>)                │           <span style=\"color: #00af00; text-decoration-color: #00af00\">2,080</span> │ dropout_136[<span style=\"color: #00af00; text-decoration-color: #00af00\">0</span>][<span style=\"color: #00af00; text-decoration-color: #00af00\">0</span>]          │\n",
       "├───────────────────────────────┼───────────────────────────┼─────────────────┼────────────────────────────┤\n",
       "│ dropout_134 (<span style=\"color: #0087ff; text-decoration-color: #0087ff\">Dropout</span>)         │ (<span style=\"color: #00d7ff; text-decoration-color: #00d7ff\">None</span>, <span style=\"color: #00af00; text-decoration-color: #00af00\">32</span>)                │               <span style=\"color: #00af00; text-decoration-color: #00af00\">0</span> │ dense_134[<span style=\"color: #00af00; text-decoration-color: #00af00\">0</span>][<span style=\"color: #00af00; text-decoration-color: #00af00\">0</span>]            │\n",
       "├───────────────────────────────┼───────────────────────────┼─────────────────┼────────────────────────────┤\n",
       "│ dropout_137 (<span style=\"color: #0087ff; text-decoration-color: #0087ff\">Dropout</span>)         │ (<span style=\"color: #00d7ff; text-decoration-color: #00d7ff\">None</span>, <span style=\"color: #00af00; text-decoration-color: #00af00\">32</span>)                │               <span style=\"color: #00af00; text-decoration-color: #00af00\">0</span> │ dense_137[<span style=\"color: #00af00; text-decoration-color: #00af00\">0</span>][<span style=\"color: #00af00; text-decoration-color: #00af00\">0</span>]            │\n",
       "├───────────────────────────────┼───────────────────────────┼─────────────────┼────────────────────────────┤\n",
       "│ user_embedding (<span style=\"color: #0087ff; text-decoration-color: #0087ff\">Dense</span>)        │ (<span style=\"color: #00d7ff; text-decoration-color: #00d7ff\">None</span>, <span style=\"color: #00af00; text-decoration-color: #00af00\">32</span>)                │           <span style=\"color: #00af00; text-decoration-color: #00af00\">1,056</span> │ dropout_134[<span style=\"color: #00af00; text-decoration-color: #00af00\">0</span>][<span style=\"color: #00af00; text-decoration-color: #00af00\">0</span>]          │\n",
       "├───────────────────────────────┼───────────────────────────┼─────────────────┼────────────────────────────┤\n",
       "│ movie_embedding (<span style=\"color: #0087ff; text-decoration-color: #0087ff\">Dense</span>)       │ (<span style=\"color: #00d7ff; text-decoration-color: #00d7ff\">None</span>, <span style=\"color: #00af00; text-decoration-color: #00af00\">32</span>)                │           <span style=\"color: #00af00; text-decoration-color: #00af00\">1,056</span> │ dropout_137[<span style=\"color: #00af00; text-decoration-color: #00af00\">0</span>][<span style=\"color: #00af00; text-decoration-color: #00af00\">0</span>]          │\n",
       "├───────────────────────────────┼───────────────────────────┼─────────────────┼────────────────────────────┤\n",
       "│ dot_product (<span style=\"color: #0087ff; text-decoration-color: #0087ff\">Dot</span>)             │ (<span style=\"color: #00d7ff; text-decoration-color: #00d7ff\">None</span>, <span style=\"color: #00af00; text-decoration-color: #00af00\">1</span>)                 │               <span style=\"color: #00af00; text-decoration-color: #00af00\">0</span> │ user_embedding[<span style=\"color: #00af00; text-decoration-color: #00af00\">0</span>][<span style=\"color: #00af00; text-decoration-color: #00af00\">0</span>],      │\n",
       "│                               │                           │                 │ movie_embedding[<span style=\"color: #00af00; text-decoration-color: #00af00\">0</span>][<span style=\"color: #00af00; text-decoration-color: #00af00\">0</span>]      │\n",
       "└───────────────────────────────┴───────────────────────────┴─────────────────┴────────────────────────────┘\n",
       "</pre>\n"
      ],
      "text/plain": [
       "┏━━━━━━━━━━━━━━━━━━━━━━━━━━━━━━━┳━━━━━━━━━━━━━━━━━━━━━━━━━━━┳━━━━━━━━━━━━━━━━━┳━━━━━━━━━━━━━━━━━━━━━━━━━━━━┓\n",
       "┃\u001b[1m \u001b[0m\u001b[1mLayer (type)                 \u001b[0m\u001b[1m \u001b[0m┃\u001b[1m \u001b[0m\u001b[1mOutput Shape             \u001b[0m\u001b[1m \u001b[0m┃\u001b[1m \u001b[0m\u001b[1m        Param #\u001b[0m\u001b[1m \u001b[0m┃\u001b[1m \u001b[0m\u001b[1mConnected to              \u001b[0m\u001b[1m \u001b[0m┃\n",
       "┡━━━━━━━━━━━━━━━━━━━━━━━━━━━━━━━╇━━━━━━━━━━━━━━━━━━━━━━━━━━━╇━━━━━━━━━━━━━━━━━╇━━━━━━━━━━━━━━━━━━━━━━━━━━━━┩\n",
       "│ user_input (\u001b[38;5;33mInputLayer\u001b[0m)       │ (\u001b[38;5;45mNone\u001b[0m, \u001b[38;5;34m20\u001b[0m)                │               \u001b[38;5;34m0\u001b[0m │ -                          │\n",
       "├───────────────────────────────┼───────────────────────────┼─────────────────┼────────────────────────────┤\n",
       "│ movie_input (\u001b[38;5;33mInputLayer\u001b[0m)      │ (\u001b[38;5;45mNone\u001b[0m, \u001b[38;5;34m23\u001b[0m)                │               \u001b[38;5;34m0\u001b[0m │ -                          │\n",
       "├───────────────────────────────┼───────────────────────────┼─────────────────┼────────────────────────────┤\n",
       "│ dense_132 (\u001b[38;5;33mDense\u001b[0m)             │ (\u001b[38;5;45mNone\u001b[0m, \u001b[38;5;34m128\u001b[0m)               │           \u001b[38;5;34m2,688\u001b[0m │ user_input[\u001b[38;5;34m0\u001b[0m][\u001b[38;5;34m0\u001b[0m]           │\n",
       "├───────────────────────────────┼───────────────────────────┼─────────────────┼────────────────────────────┤\n",
       "│ dense_135 (\u001b[38;5;33mDense\u001b[0m)             │ (\u001b[38;5;45mNone\u001b[0m, \u001b[38;5;34m128\u001b[0m)               │           \u001b[38;5;34m3,072\u001b[0m │ movie_input[\u001b[38;5;34m0\u001b[0m][\u001b[38;5;34m0\u001b[0m]          │\n",
       "├───────────────────────────────┼───────────────────────────┼─────────────────┼────────────────────────────┤\n",
       "│ dropout_132 (\u001b[38;5;33mDropout\u001b[0m)         │ (\u001b[38;5;45mNone\u001b[0m, \u001b[38;5;34m128\u001b[0m)               │               \u001b[38;5;34m0\u001b[0m │ dense_132[\u001b[38;5;34m0\u001b[0m][\u001b[38;5;34m0\u001b[0m]            │\n",
       "├───────────────────────────────┼───────────────────────────┼─────────────────┼────────────────────────────┤\n",
       "│ dropout_135 (\u001b[38;5;33mDropout\u001b[0m)         │ (\u001b[38;5;45mNone\u001b[0m, \u001b[38;5;34m128\u001b[0m)               │               \u001b[38;5;34m0\u001b[0m │ dense_135[\u001b[38;5;34m0\u001b[0m][\u001b[38;5;34m0\u001b[0m]            │\n",
       "├───────────────────────────────┼───────────────────────────┼─────────────────┼────────────────────────────┤\n",
       "│ dense_133 (\u001b[38;5;33mDense\u001b[0m)             │ (\u001b[38;5;45mNone\u001b[0m, \u001b[38;5;34m64\u001b[0m)                │           \u001b[38;5;34m8,256\u001b[0m │ dropout_132[\u001b[38;5;34m0\u001b[0m][\u001b[38;5;34m0\u001b[0m]          │\n",
       "├───────────────────────────────┼───────────────────────────┼─────────────────┼────────────────────────────┤\n",
       "│ dense_136 (\u001b[38;5;33mDense\u001b[0m)             │ (\u001b[38;5;45mNone\u001b[0m, \u001b[38;5;34m64\u001b[0m)                │           \u001b[38;5;34m8,256\u001b[0m │ dropout_135[\u001b[38;5;34m0\u001b[0m][\u001b[38;5;34m0\u001b[0m]          │\n",
       "├───────────────────────────────┼───────────────────────────┼─────────────────┼────────────────────────────┤\n",
       "│ dropout_133 (\u001b[38;5;33mDropout\u001b[0m)         │ (\u001b[38;5;45mNone\u001b[0m, \u001b[38;5;34m64\u001b[0m)                │               \u001b[38;5;34m0\u001b[0m │ dense_133[\u001b[38;5;34m0\u001b[0m][\u001b[38;5;34m0\u001b[0m]            │\n",
       "├───────────────────────────────┼───────────────────────────┼─────────────────┼────────────────────────────┤\n",
       "│ dropout_136 (\u001b[38;5;33mDropout\u001b[0m)         │ (\u001b[38;5;45mNone\u001b[0m, \u001b[38;5;34m64\u001b[0m)                │               \u001b[38;5;34m0\u001b[0m │ dense_136[\u001b[38;5;34m0\u001b[0m][\u001b[38;5;34m0\u001b[0m]            │\n",
       "├───────────────────────────────┼───────────────────────────┼─────────────────┼────────────────────────────┤\n",
       "│ dense_134 (\u001b[38;5;33mDense\u001b[0m)             │ (\u001b[38;5;45mNone\u001b[0m, \u001b[38;5;34m32\u001b[0m)                │           \u001b[38;5;34m2,080\u001b[0m │ dropout_133[\u001b[38;5;34m0\u001b[0m][\u001b[38;5;34m0\u001b[0m]          │\n",
       "├───────────────────────────────┼───────────────────────────┼─────────────────┼────────────────────────────┤\n",
       "│ dense_137 (\u001b[38;5;33mDense\u001b[0m)             │ (\u001b[38;5;45mNone\u001b[0m, \u001b[38;5;34m32\u001b[0m)                │           \u001b[38;5;34m2,080\u001b[0m │ dropout_136[\u001b[38;5;34m0\u001b[0m][\u001b[38;5;34m0\u001b[0m]          │\n",
       "├───────────────────────────────┼───────────────────────────┼─────────────────┼────────────────────────────┤\n",
       "│ dropout_134 (\u001b[38;5;33mDropout\u001b[0m)         │ (\u001b[38;5;45mNone\u001b[0m, \u001b[38;5;34m32\u001b[0m)                │               \u001b[38;5;34m0\u001b[0m │ dense_134[\u001b[38;5;34m0\u001b[0m][\u001b[38;5;34m0\u001b[0m]            │\n",
       "├───────────────────────────────┼───────────────────────────┼─────────────────┼────────────────────────────┤\n",
       "│ dropout_137 (\u001b[38;5;33mDropout\u001b[0m)         │ (\u001b[38;5;45mNone\u001b[0m, \u001b[38;5;34m32\u001b[0m)                │               \u001b[38;5;34m0\u001b[0m │ dense_137[\u001b[38;5;34m0\u001b[0m][\u001b[38;5;34m0\u001b[0m]            │\n",
       "├───────────────────────────────┼───────────────────────────┼─────────────────┼────────────────────────────┤\n",
       "│ user_embedding (\u001b[38;5;33mDense\u001b[0m)        │ (\u001b[38;5;45mNone\u001b[0m, \u001b[38;5;34m32\u001b[0m)                │           \u001b[38;5;34m1,056\u001b[0m │ dropout_134[\u001b[38;5;34m0\u001b[0m][\u001b[38;5;34m0\u001b[0m]          │\n",
       "├───────────────────────────────┼───────────────────────────┼─────────────────┼────────────────────────────┤\n",
       "│ movie_embedding (\u001b[38;5;33mDense\u001b[0m)       │ (\u001b[38;5;45mNone\u001b[0m, \u001b[38;5;34m32\u001b[0m)                │           \u001b[38;5;34m1,056\u001b[0m │ dropout_137[\u001b[38;5;34m0\u001b[0m][\u001b[38;5;34m0\u001b[0m]          │\n",
       "├───────────────────────────────┼───────────────────────────┼─────────────────┼────────────────────────────┤\n",
       "│ dot_product (\u001b[38;5;33mDot\u001b[0m)             │ (\u001b[38;5;45mNone\u001b[0m, \u001b[38;5;34m1\u001b[0m)                 │               \u001b[38;5;34m0\u001b[0m │ user_embedding[\u001b[38;5;34m0\u001b[0m][\u001b[38;5;34m0\u001b[0m],      │\n",
       "│                               │                           │                 │ movie_embedding[\u001b[38;5;34m0\u001b[0m][\u001b[38;5;34m0\u001b[0m]      │\n",
       "└───────────────────────────────┴───────────────────────────┴─────────────────┴────────────────────────────┘\n"
      ]
     },
     "metadata": {},
     "output_type": "display_data"
    },
    {
     "data": {
      "text/html": [
       "<pre style=\"white-space:pre;overflow-x:auto;line-height:normal;font-family:Menlo,'DejaVu Sans Mono',consolas,'Courier New',monospace\"><span style=\"font-weight: bold\"> Total params: </span><span style=\"color: #00af00; text-decoration-color: #00af00\">28,544</span> (111.50 KB)\n",
       "</pre>\n"
      ],
      "text/plain": [
       "\u001b[1m Total params: \u001b[0m\u001b[38;5;34m28,544\u001b[0m (111.50 KB)\n"
      ]
     },
     "metadata": {},
     "output_type": "display_data"
    },
    {
     "data": {
      "text/html": [
       "<pre style=\"white-space:pre;overflow-x:auto;line-height:normal;font-family:Menlo,'DejaVu Sans Mono',consolas,'Courier New',monospace\"><span style=\"font-weight: bold\"> Trainable params: </span><span style=\"color: #00af00; text-decoration-color: #00af00\">28,544</span> (111.50 KB)\n",
       "</pre>\n"
      ],
      "text/plain": [
       "\u001b[1m Trainable params: \u001b[0m\u001b[38;5;34m28,544\u001b[0m (111.50 KB)\n"
      ]
     },
     "metadata": {},
     "output_type": "display_data"
    },
    {
     "data": {
      "text/html": [
       "<pre style=\"white-space:pre;overflow-x:auto;line-height:normal;font-family:Menlo,'DejaVu Sans Mono',consolas,'Courier New',monospace\"><span style=\"font-weight: bold\"> Non-trainable params: </span><span style=\"color: #00af00; text-decoration-color: #00af00\">0</span> (0.00 B)\n",
       "</pre>\n"
      ],
      "text/plain": [
       "\u001b[1m Non-trainable params: \u001b[0m\u001b[38;5;34m0\u001b[0m (0.00 B)\n"
      ]
     },
     "metadata": {},
     "output_type": "display_data"
    }
   ],
   "source": [
    "num_user_features = X_user_numpy.shape[1]   \n",
    "num_movie_features = X_movie_numpy.shape[1]\n",
    "drop = 0.2\n",
    "# ---------------- USER TOWER ----------------\n",
    "user_input = layers.Input(shape=(num_user_features,), name='user_input')\n",
    "\n",
    "x = layers.Dense(128, activation='relu', kernel_regularizer=regularizers.l2(0.001))(user_input)\n",
    "x = layers.Dropout(drop)(x)\n",
    "x = layers.Dense(64, activation='relu')(x)\n",
    "x = layers.Dropout(drop)(x)\n",
    "x = layers.Dense(32, activation='relu')(x)\n",
    "x = layers.Dropout(drop)(x)\n",
    "\n",
    "user_embedding = layers.Dense(32, activation='linear', name='user_embedding')(x)\n",
    "\n",
    "# ---------------- MOVIE TOWER ----------------\n",
    "movie_input = layers.Input(shape=(num_movie_features,), name='movie_input')\n",
    "\n",
    "x2= layers.Dense(128, activation='relu', kernel_regularizer=regularizers.l2(0.001))(movie_input)\n",
    "x2 = layers.Dropout(drop)(x2)\n",
    "x2 = layers.Dense(64, activation='relu')(x2)\n",
    "x2 = layers.Dropout(drop)(x2)\n",
    "x2 = layers.Dense(32, activation='relu')(x2)\n",
    "x2 = layers.Dropout(drop)(x2)\n",
    "\n",
    "movie_embedding = layers.Dense(32, activation='linear', name='movie_embedding')(x2)\n",
    "\n",
    "# ---------------- FINAL MODEL ----------------\n",
    "dot_product = layers.Dot(axes=1, name='dot_product')([user_embedding, movie_embedding])\n",
    "\n",
    "model4 = models.Model(inputs=[user_input, movie_input], outputs=dot_product)\n",
    "\n",
    "# Compile model\n",
    "model4.compile(optimizer='adam', loss='mse', metrics=['mae', 'mse'])\n",
    "\n",
    "# Pregled modela\n",
    "model4.summary()"
   ]
  },
  {
   "cell_type": "code",
   "execution_count": 558,
   "id": "edeab81b-ff84-4f6a-913b-0ac6a948d42b",
   "metadata": {},
   "outputs": [
    {
     "name": "stdout",
     "output_type": "stream",
     "text": [
      "Epoch 1/150\n",
      "\u001b[1m17350/17350\u001b[0m \u001b[32m━━━━━━━━━━━━━━━━━━━━\u001b[0m\u001b[37m\u001b[0m \u001b[1m64s\u001b[0m 4ms/step - loss: 0.9667 - mae: 0.7256 - mse: 0.9262 - val_loss: 0.7207 - val_mae: 0.6397 - val_mse: 0.7043 - learning_rate: 0.0010\n",
      "Epoch 2/150\n",
      "\u001b[1m17350/17350\u001b[0m \u001b[32m━━━━━━━━━━━━━━━━━━━━\u001b[0m\u001b[37m\u001b[0m \u001b[1m61s\u001b[0m 3ms/step - loss: 0.6734 - mae: 0.6155 - mse: 0.6573 - val_loss: 0.6877 - val_mae: 0.6163 - val_mse: 0.6719 - learning_rate: 0.0010\n",
      "Epoch 3/150\n",
      "\u001b[1m17350/17350\u001b[0m \u001b[32m━━━━━━━━━━━━━━━━━━━━\u001b[0m\u001b[37m\u001b[0m \u001b[1m60s\u001b[0m 3ms/step - loss: 0.6612 - mae: 0.6083 - mse: 0.6453 - val_loss: 0.6960 - val_mae: 0.6244 - val_mse: 0.6802 - learning_rate: 0.0010\n",
      "Epoch 4/150\n",
      "\u001b[1m17350/17350\u001b[0m \u001b[32m━━━━━━━━━━━━━━━━━━━━\u001b[0m\u001b[37m\u001b[0m \u001b[1m60s\u001b[0m 3ms/step - loss: 0.6529 - mae: 0.6042 - mse: 0.6371 - val_loss: 0.6707 - val_mae: 0.6032 - val_mse: 0.6548 - learning_rate: 0.0010\n",
      "Epoch 5/150\n",
      "\u001b[1m17350/17350\u001b[0m \u001b[32m━━━━━━━━━━━━━━━━━━━━\u001b[0m\u001b[37m\u001b[0m \u001b[1m59s\u001b[0m 3ms/step - loss: 0.6498 - mae: 0.6021 - mse: 0.6340 - val_loss: 0.6933 - val_mae: 0.6332 - val_mse: 0.6782 - learning_rate: 0.0010\n",
      "Epoch 6/150\n",
      "\u001b[1m17350/17350\u001b[0m \u001b[32m━━━━━━━━━━━━━━━━━━━━\u001b[0m\u001b[37m\u001b[0m \u001b[1m60s\u001b[0m 3ms/step - loss: 0.6439 - mae: 0.5999 - mse: 0.6286 - val_loss: 0.6815 - val_mae: 0.6185 - val_mse: 0.6662 - learning_rate: 0.0010\n",
      "Epoch 7/150\n",
      "\u001b[1m17346/17350\u001b[0m \u001b[32m━━━━━━━━━━━━━━━━━━━\u001b[0m\u001b[37m━\u001b[0m \u001b[1m0s\u001b[0m 3ms/step - loss: 0.6465 - mae: 0.6004 - mse: 0.6311\n",
      "Epoch 7: ReduceLROnPlateau reducing learning rate to 0.0005000000237487257.\n",
      "\u001b[1m17350/17350\u001b[0m \u001b[32m━━━━━━━━━━━━━━━━━━━━\u001b[0m\u001b[37m\u001b[0m \u001b[1m59s\u001b[0m 3ms/step - loss: 0.6465 - mae: 0.6004 - mse: 0.6311 - val_loss: 0.6952 - val_mae: 0.6283 - val_mse: 0.6799 - learning_rate: 0.0010\n",
      "Epoch 8/150\n",
      "\u001b[1m17350/17350\u001b[0m \u001b[32m━━━━━━━━━━━━━━━━━━━━\u001b[0m\u001b[37m\u001b[0m \u001b[1m59s\u001b[0m 3ms/step - loss: 0.6272 - mae: 0.5903 - mse: 0.6132 - val_loss: 0.6553 - val_mae: 0.6012 - val_mse: 0.6436 - learning_rate: 5.0000e-04\n",
      "Epoch 9/150\n",
      "\u001b[1m17350/17350\u001b[0m \u001b[32m━━━━━━━━━━━━━━━━━━━━\u001b[0m\u001b[37m\u001b[0m \u001b[1m60s\u001b[0m 3ms/step - loss: 0.6190 - mae: 0.5866 - mse: 0.6075 - val_loss: 0.6422 - val_mae: 0.5945 - val_mse: 0.6312 - learning_rate: 5.0000e-04\n",
      "Epoch 10/150\n",
      "\u001b[1m17350/17350\u001b[0m \u001b[32m━━━━━━━━━━━━━━━━━━━━\u001b[0m\u001b[37m\u001b[0m \u001b[1m60s\u001b[0m 3ms/step - loss: 0.6166 - mae: 0.5865 - mse: 0.6058 - val_loss: 0.6471 - val_mae: 0.5990 - val_mse: 0.6364 - learning_rate: 5.0000e-04\n",
      "Epoch 11/150\n",
      "\u001b[1m17350/17350\u001b[0m \u001b[32m━━━━━━━━━━━━━━━━━━━━\u001b[0m\u001b[37m\u001b[0m \u001b[1m64s\u001b[0m 4ms/step - loss: 0.6157 - mae: 0.5861 - mse: 0.6051 - val_loss: 0.6429 - val_mae: 0.5945 - val_mse: 0.6324 - learning_rate: 5.0000e-04\n",
      "Epoch 12/150\n",
      "\u001b[1m17339/17350\u001b[0m \u001b[32m━━━━━━━━━━━━━━━━━━━\u001b[0m\u001b[37m━\u001b[0m \u001b[1m0s\u001b[0m 4ms/step - loss: 0.6143 - mae: 0.5855 - mse: 0.6038\n",
      "Epoch 12: ReduceLROnPlateau reducing learning rate to 0.0002500000118743628.\n",
      "\u001b[1m17350/17350\u001b[0m \u001b[32m━━━━━━━━━━━━━━━━━━━━\u001b[0m\u001b[37m\u001b[0m \u001b[1m81s\u001b[0m 5ms/step - loss: 0.6143 - mae: 0.5855 - mse: 0.6038 - val_loss: 0.6445 - val_mae: 0.5950 - val_mse: 0.6340 - learning_rate: 5.0000e-04\n",
      "Epoch 13/150\n",
      "\u001b[1m17350/17350\u001b[0m \u001b[32m━━━━━━━━━━━━━━━━━━━━\u001b[0m\u001b[37m\u001b[0m \u001b[1m63s\u001b[0m 4ms/step - loss: 0.6060 - mae: 0.5798 - mse: 0.5959 - val_loss: 0.6451 - val_mae: 0.5996 - val_mse: 0.6360 - learning_rate: 2.5000e-04\n",
      "Epoch 14/150\n",
      "\u001b[1m17350/17350\u001b[0m \u001b[32m━━━━━━━━━━━━━━━━━━━━\u001b[0m\u001b[37m\u001b[0m \u001b[1m61s\u001b[0m 4ms/step - loss: 0.6020 - mae: 0.5787 - mse: 0.5931 - val_loss: 0.6378 - val_mae: 0.5938 - val_mse: 0.6295 - learning_rate: 2.5000e-04\n",
      "Epoch 15/150\n",
      "\u001b[1m17350/17350\u001b[0m \u001b[32m━━━━━━━━━━━━━━━━━━━━\u001b[0m\u001b[37m\u001b[0m \u001b[1m69s\u001b[0m 4ms/step - loss: 0.5969 - mae: 0.5764 - mse: 0.5886 - val_loss: 0.6392 - val_mae: 0.5884 - val_mse: 0.6312 - learning_rate: 2.5000e-04\n",
      "Epoch 16/150\n",
      "\u001b[1m17350/17350\u001b[0m \u001b[32m━━━━━━━━━━━━━━━━━━━━\u001b[0m\u001b[37m\u001b[0m \u001b[1m76s\u001b[0m 4ms/step - loss: 0.5989 - mae: 0.5776 - mse: 0.5909 - val_loss: 0.6334 - val_mae: 0.5905 - val_mse: 0.6256 - learning_rate: 2.5000e-04\n",
      "Epoch 17/150\n",
      "\u001b[1m17350/17350\u001b[0m \u001b[32m━━━━━━━━━━━━━━━━━━━━\u001b[0m\u001b[37m\u001b[0m \u001b[1m66s\u001b[0m 4ms/step - loss: 0.5970 - mae: 0.5766 - mse: 0.5892 - val_loss: 0.6323 - val_mae: 0.5883 - val_mse: 0.6246 - learning_rate: 2.5000e-04\n",
      "Epoch 18/150\n",
      "\u001b[1m17350/17350\u001b[0m \u001b[32m━━━━━━━━━━━━━━━━━━━━\u001b[0m\u001b[37m\u001b[0m \u001b[1m60s\u001b[0m 3ms/step - loss: 0.5977 - mae: 0.5765 - mse: 0.5900 - val_loss: 0.6452 - val_mae: 0.5995 - val_mse: 0.6376 - learning_rate: 2.5000e-04\n",
      "Epoch 19/150\n",
      "\u001b[1m17350/17350\u001b[0m \u001b[32m━━━━━━━━━━━━━━━━━━━━\u001b[0m\u001b[37m\u001b[0m \u001b[1m64s\u001b[0m 4ms/step - loss: 0.5976 - mae: 0.5771 - mse: 0.5900 - val_loss: 0.6495 - val_mae: 0.6010 - val_mse: 0.6421 - learning_rate: 2.5000e-04\n",
      "Epoch 20/150\n",
      "\u001b[1m17349/17350\u001b[0m \u001b[32m━━━━━━━━━━━━━━━━━━━\u001b[0m\u001b[37m━\u001b[0m \u001b[1m0s\u001b[0m 3ms/step - loss: 0.5943 - mae: 0.5752 - mse: 0.5869\n",
      "Epoch 20: ReduceLROnPlateau reducing learning rate to 0.0001250000059371814.\n",
      "\u001b[1m17350/17350\u001b[0m \u001b[32m━━━━━━━━━━━━━━━━━━━━\u001b[0m\u001b[37m\u001b[0m \u001b[1m66s\u001b[0m 4ms/step - loss: 0.5943 - mae: 0.5752 - mse: 0.5869 - val_loss: 0.6443 - val_mae: 0.5995 - val_mse: 0.6368 - learning_rate: 2.5000e-04\n",
      "Epoch 21/150\n",
      "\u001b[1m17350/17350\u001b[0m \u001b[32m━━━━━━━━━━━━━━━━━━━━\u001b[0m\u001b[37m\u001b[0m \u001b[1m66s\u001b[0m 4ms/step - loss: 0.5908 - mae: 0.5727 - mse: 0.5835 - val_loss: 0.6271 - val_mae: 0.5888 - val_mse: 0.6200 - learning_rate: 1.2500e-04\n",
      "Epoch 22/150\n",
      "\u001b[1m17350/17350\u001b[0m \u001b[32m━━━━━━━━━━━━━━━━━━━━\u001b[0m\u001b[37m\u001b[0m \u001b[1m65s\u001b[0m 4ms/step - loss: 0.5889 - mae: 0.5723 - mse: 0.5820 - val_loss: 0.6313 - val_mae: 0.5916 - val_mse: 0.6246 - learning_rate: 1.2500e-04\n",
      "Epoch 23/150\n",
      "\u001b[1m17350/17350\u001b[0m \u001b[32m━━━━━━━━━━━━━━━━━━━━\u001b[0m\u001b[37m\u001b[0m \u001b[1m75s\u001b[0m 4ms/step - loss: 0.5904 - mae: 0.5730 - mse: 0.5837 - val_loss: 0.6339 - val_mae: 0.5916 - val_mse: 0.6275 - learning_rate: 1.2500e-04\n",
      "Epoch 24/150\n",
      "\u001b[1m17340/17350\u001b[0m \u001b[32m━━━━━━━━━━━━━━━━━━━\u001b[0m\u001b[37m━\u001b[0m \u001b[1m0s\u001b[0m 3ms/step - loss: 0.5839 - mae: 0.5702 - mse: 0.5775\n",
      "Epoch 24: ReduceLROnPlateau reducing learning rate to 6.25000029685907e-05.\n",
      "\u001b[1m17350/17350\u001b[0m \u001b[32m━━━━━━━━━━━━━━━━━━━━\u001b[0m\u001b[37m\u001b[0m \u001b[1m68s\u001b[0m 4ms/step - loss: 0.5839 - mae: 0.5702 - mse: 0.5775 - val_loss: 0.6305 - val_mae: 0.5902 - val_mse: 0.6243 - learning_rate: 1.2500e-04\n",
      "Epoch 25/150\n",
      "\u001b[1m17350/17350\u001b[0m \u001b[32m━━━━━━━━━━━━━━━━━━━━\u001b[0m\u001b[37m\u001b[0m \u001b[1m63s\u001b[0m 4ms/step - loss: 0.5847 - mae: 0.5696 - mse: 0.5786 - val_loss: 0.6249 - val_mae: 0.5864 - val_mse: 0.6189 - learning_rate: 6.2500e-05\n",
      "Epoch 26/150\n",
      "\u001b[1m17350/17350\u001b[0m \u001b[32m━━━━━━━━━━━━━━━━━━━━\u001b[0m\u001b[37m\u001b[0m \u001b[1m62s\u001b[0m 4ms/step - loss: 0.5849 - mae: 0.5701 - mse: 0.5789 - val_loss: 0.6272 - val_mae: 0.5909 - val_mse: 0.6213 - learning_rate: 6.2500e-05\n",
      "Epoch 27/150\n",
      "\u001b[1m17350/17350\u001b[0m \u001b[32m━━━━━━━━━━━━━━━━━━━━\u001b[0m\u001b[37m\u001b[0m \u001b[1m63s\u001b[0m 4ms/step - loss: 0.5807 - mae: 0.5679 - mse: 0.5749 - val_loss: 0.6281 - val_mae: 0.5913 - val_mse: 0.6224 - learning_rate: 6.2500e-05\n",
      "Epoch 28/150\n",
      "\u001b[1m17348/17350\u001b[0m \u001b[32m━━━━━━━━━━━━━━━━━━━\u001b[0m\u001b[37m━\u001b[0m \u001b[1m0s\u001b[0m 4ms/step - loss: 0.5806 - mae: 0.5686 - mse: 0.5749\n",
      "Epoch 28: ReduceLROnPlateau reducing learning rate to 3.125000148429535e-05.\n",
      "\u001b[1m17350/17350\u001b[0m \u001b[32m━━━━━━━━━━━━━━━━━━━━\u001b[0m\u001b[37m\u001b[0m \u001b[1m70s\u001b[0m 4ms/step - loss: 0.5806 - mae: 0.5686 - mse: 0.5749 - val_loss: 0.6273 - val_mae: 0.5912 - val_mse: 0.6217 - learning_rate: 6.2500e-05\n",
      "Epoch 29/150\n",
      "\u001b[1m17350/17350\u001b[0m \u001b[32m━━━━━━━━━━━━━━━━━━━━\u001b[0m\u001b[37m\u001b[0m \u001b[1m67s\u001b[0m 4ms/step - loss: 0.5841 - mae: 0.5697 - mse: 0.5785 - val_loss: 0.6247 - val_mae: 0.5880 - val_mse: 0.6192 - learning_rate: 3.1250e-05\n",
      "Epoch 30/150\n",
      "\u001b[1m17350/17350\u001b[0m \u001b[32m━━━━━━━━━━━━━━━━━━━━\u001b[0m\u001b[37m\u001b[0m \u001b[1m71s\u001b[0m 4ms/step - loss: 0.5834 - mae: 0.5688 - mse: 0.5780 - val_loss: 0.6252 - val_mae: 0.5892 - val_mse: 0.6198 - learning_rate: 3.1250e-05\n",
      "Epoch 31/150\n",
      "\u001b[1m17350/17350\u001b[0m \u001b[32m━━━━━━━━━━━━━━━━━━━━\u001b[0m\u001b[37m\u001b[0m \u001b[1m78s\u001b[0m 5ms/step - loss: 0.5815 - mae: 0.5678 - mse: 0.5761 - val_loss: 0.6210 - val_mae: 0.5849 - val_mse: 0.6157 - learning_rate: 3.1250e-05\n",
      "Epoch 32/150\n",
      "\u001b[1m17350/17350\u001b[0m \u001b[32m━━━━━━━━━━━━━━━━━━━━\u001b[0m\u001b[37m\u001b[0m \u001b[1m67s\u001b[0m 4ms/step - loss: 0.5818 - mae: 0.5679 - mse: 0.5765 - val_loss: 0.6240 - val_mae: 0.5889 - val_mse: 0.6187 - learning_rate: 3.1250e-05\n",
      "Epoch 33/150\n",
      "\u001b[1m17350/17350\u001b[0m \u001b[32m━━━━━━━━━━━━━━━━━━━━\u001b[0m\u001b[37m\u001b[0m \u001b[1m62s\u001b[0m 4ms/step - loss: 0.5790 - mae: 0.5672 - mse: 0.5737 - val_loss: 0.6191 - val_mae: 0.5844 - val_mse: 0.6139 - learning_rate: 3.1250e-05\n",
      "Epoch 34/150\n",
      "\u001b[1m17350/17350\u001b[0m \u001b[32m━━━━━━━━━━━━━━━━━━━━\u001b[0m\u001b[37m\u001b[0m \u001b[1m63s\u001b[0m 4ms/step - loss: 0.5787 - mae: 0.5673 - mse: 0.5735 - val_loss: 0.6187 - val_mae: 0.5847 - val_mse: 0.6136 - learning_rate: 3.1250e-05\n",
      "Epoch 35/150\n",
      "\u001b[1m17350/17350\u001b[0m \u001b[32m━━━━━━━━━━━━━━━━━━━━\u001b[0m\u001b[37m\u001b[0m \u001b[1m61s\u001b[0m 4ms/step - loss: 0.5823 - mae: 0.5686 - mse: 0.5772 - val_loss: 0.6175 - val_mae: 0.5850 - val_mse: 0.6124 - learning_rate: 3.1250e-05\n",
      "Epoch 36/150\n",
      "\u001b[1m17350/17350\u001b[0m \u001b[32m━━━━━━━━━━━━━━━━━━━━\u001b[0m\u001b[37m\u001b[0m \u001b[1m60s\u001b[0m 3ms/step - loss: 0.5804 - mae: 0.5684 - mse: 0.5753 - val_loss: 0.6198 - val_mae: 0.5854 - val_mse: 0.6148 - learning_rate: 3.1250e-05\n",
      "Epoch 37/150\n",
      "\u001b[1m17350/17350\u001b[0m \u001b[32m━━━━━━━━━━━━━━━━━━━━\u001b[0m\u001b[37m\u001b[0m \u001b[1m60s\u001b[0m 3ms/step - loss: 0.5794 - mae: 0.5679 - mse: 0.5744 - val_loss: 0.6228 - val_mae: 0.5869 - val_mse: 0.6179 - learning_rate: 3.1250e-05\n",
      "Epoch 38/150\n",
      "\u001b[1m17350/17350\u001b[0m \u001b[32m━━━━━━━━━━━━━━━━━━━━\u001b[0m\u001b[37m\u001b[0m \u001b[1m0s\u001b[0m 3ms/step - loss: 0.5798 - mae: 0.5669 - mse: 0.5749\n",
      "Epoch 38: ReduceLROnPlateau reducing learning rate to 1.5625000742147677e-05.\n",
      "\u001b[1m17350/17350\u001b[0m \u001b[32m━━━━━━━━━━━━━━━━━━━━\u001b[0m\u001b[37m\u001b[0m \u001b[1m60s\u001b[0m 3ms/step - loss: 0.5798 - mae: 0.5669 - mse: 0.5749 - val_loss: 0.6232 - val_mae: 0.5872 - val_mse: 0.6183 - learning_rate: 3.1250e-05\n",
      "Epoch 39/150\n",
      "\u001b[1m17350/17350\u001b[0m \u001b[32m━━━━━━━━━━━━━━━━━━━━\u001b[0m\u001b[37m\u001b[0m \u001b[1m60s\u001b[0m 3ms/step - loss: 0.5786 - mae: 0.5673 - mse: 0.5737 - val_loss: 0.6211 - val_mae: 0.5866 - val_mse: 0.6163 - learning_rate: 1.5625e-05\n",
      "Epoch 40/150\n",
      "\u001b[1m17350/17350\u001b[0m \u001b[32m━━━━━━━━━━━━━━━━━━━━\u001b[0m\u001b[37m\u001b[0m \u001b[1m60s\u001b[0m 3ms/step - loss: 0.5785 - mae: 0.5668 - mse: 0.5736 - val_loss: 0.6224 - val_mae: 0.5884 - val_mse: 0.6176 - learning_rate: 1.5625e-05\n",
      "Epoch 40: early stopping\n",
      "Restoring model weights from the end of the best epoch: 35.\n"
     ]
    }
   ],
   "source": [
    "tensorboard_callback = TensorBoard(\n",
    "    histogram_freq=1,         # beleži histograme težina svakih 1 epoch\n",
    "    write_graph=True,         # čuva graf mreže\n",
    "    write_images=True,        # čuva slike težina\n",
    "    update_freq='epoch',      # ažurira posle svake epohe\n",
    ")\n",
    "\n",
    "# --- EarlyStopping ---\n",
    "early_stopping = EarlyStopping(\n",
    "    monitor='val_loss',\n",
    "    patience=5,\n",
    "    restore_best_weights=True,\n",
    "    verbose=1\n",
    ")\n",
    "\n",
    "# --- ReduceLROnPlateau ---\n",
    "reduce_lr = ReduceLROnPlateau(\n",
    "    monitor='val_loss',\n",
    "    factor=0.5,\n",
    "    patience=3,\n",
    "    verbose=1\n",
    ")\n",
    "\n",
    "# --- Treniraj model ---\n",
    "history4 = model4.fit(\n",
    "    [X_user_numpy, X_movie_numpy],\n",
    "    y,\n",
    "    epochs=150,\n",
    "    batch_size=32,\n",
    "    validation_split=0.2,\n",
    "    callbacks=[tensorboard_callback, early_stopping, reduce_lr],\n",
    "    verbose=1)"
   ]
  },
  {
   "cell_type": "code",
   "execution_count": 560,
   "id": "ed45d261-449a-4b69-a340-d50931379839",
   "metadata": {},
   "outputs": [],
   "source": [
    "model4.save('model4_bestModel.keras')"
   ]
  },
  {
   "cell_type": "code",
   "execution_count": 569,
   "id": "47a8f7b5-fb52-4813-b9af-8043452613a4",
   "metadata": {},
   "outputs": [
    {
     "data": {
      "text/plain": [
       "['model4_history.pkl']"
      ]
     },
     "execution_count": 569,
     "metadata": {},
     "output_type": "execute_result"
    }
   ],
   "source": [
    "joblib.dump(history4, 'model4_history.pkl')"
   ]
  },
  {
   "cell_type": "code",
   "execution_count": 561,
   "id": "e75a4e6f-470e-412c-8fae-083bae44f822",
   "metadata": {},
   "outputs": [
    {
     "data": {
      "image/png": "[encoded data removed]",
      "text/plain": [
       "<Figure size 640x480 with 1 Axes>"
      ]
     },
     "metadata": {},
     "output_type": "display_data"
    }
   ],
   "source": [
    "plt.plot(history4.history['loss'], label='train loss')\n",
    "plt.plot(history4.history['val_loss'], label='val loss')\n",
    "plt.xlabel('Epoch')\n",
    "plt.ylabel('Loss')\n",
    "plt.legend()\n",
    "plt.show()"
   ]
  },
  {
   "cell_type": "code",
   "execution_count": 577,
   "id": "455625b7-6dc1-4feb-aaa5-db75321ce6ae",
   "metadata": {},
   "outputs": [
    {
     "data": {
      "text/plain": [
       "['.ipynb_checkpoints',\n",
       " 'Film.ipynb',\n",
       " 'logs',\n",
       " 'ml-32m',\n",
       " 'model2.keras',\n",
       " 'model4_bestModel.keras',\n",
       " 'model4_history.pkl',\n",
       " 'model_content_based.h5',\n",
       " 'model_content_based.keras']"
      ]
     },
     "execution_count": 577,
     "metadata": {},
     "output_type": "execute_result"
    }
   ],
   "source": []
  },
  {
   "cell_type": "code",
   "execution_count": 588,
   "id": "675caebe-e612-4f00-9f03-c292f9a753b5",
   "metadata": {},
   "outputs": [],
   "source": [
    "b = keras.models.load_model('model4_bestModel.keras')"
   ]
  },
  {
   "cell_type": "code",
   "execution_count": 600,
   "id": "24c40d7d-0250-4361-a5b7-d029db33ab06",
   "metadata": {},
   "outputs": [
    {
     "data": {
      "text/plain": [
       "16"
      ]
     },
     "execution_count": 600,
     "metadata": {},
     "output_type": "execute_result"
    }
   ],
   "source": [
    "len(b.get_weights())"
   ]
  },
  {
   "cell_type": "code",
   "execution_count": 610,
   "id": "0f71ba72-365f-4757-bf50-7ebb2f3a36c1",
   "metadata": {},
   "outputs": [
    {
     "name": "stdout",
     "output_type": "stream",
     "text": [
      "(20, 128)\n",
      "(128,)\n",
      "(23, 128)\n",
      "(128,)\n",
      "(128, 64)\n",
      "(64,)\n",
      "(128, 64)\n",
      "(64,)\n",
      "(64, 32)\n",
      "(32,)\n",
      "(64, 32)\n",
      "(32,)\n",
      "(32, 32)\n",
      "(32,)\n",
      "(32, 32)\n",
      "(32,)\n"
     ]
    }
   ],
   "source": [
    "for i in b.get_weights():\n",
    "    print(i.shape)"
   ]
  },
  {
   "cell_type": "code",
   "execution_count": 581,
   "id": "53515764-ea70-4a99-a994-1f2049a096ad",
   "metadata": {},
   "outputs": [
    {
     "data": {
      "text/plain": [
       "<keras.src.callbacks.history.History at 0x21a6c54bf90>"
      ]
     },
     "execution_count": 581,
     "metadata": {},
     "output_type": "execute_result"
    }
   ],
   "source": [
    "joblib.load('model4_history.pkl')"
   ]
  },
  {
   "cell_type": "code",
   "execution_count": null,
   "id": "46f69607-2690-404d-9dd7-608c08394c04",
   "metadata": {},
   "outputs": [],
   "source": []
  },
  {
   "cell_type": "code",
   "execution_count": null,
   "id": "bef90bef-e23e-422d-a093-b11c07baab6e",
   "metadata": {},
   "outputs": [],
   "source": []
  },
  {
   "cell_type": "code",
   "execution_count": null,
   "id": "f517689d-f456-47ff-bd9e-67a99a15823d",
   "metadata": {},
   "outputs": [],
   "source": []
  },
  {
   "cell_type": "code",
   "execution_count": null,
   "id": "966d4a8c-2521-49ed-9fc6-91a1040447dc",
   "metadata": {},
   "outputs": [],
   "source": []
  },
  {
   "cell_type": "code",
   "execution_count": null,
   "id": "00a739d5-0b59-419c-9e15-bfc70186498d",
   "metadata": {},
   "outputs": [],
   "source": []
  },
  {
   "cell_type": "code",
   "execution_count": null,
   "id": "9464e371-038e-4a86-941b-14e0a89bae54",
   "metadata": {},
   "outputs": [],
   "source": []
  },
  {
   "cell_type": "code",
   "execution_count": null,
   "id": "ecd8c4a8-eafa-40d7-a582-feb1edd298f2",
   "metadata": {},
   "outputs": [],
   "source": []
  },
  {
   "cell_type": "code",
   "execution_count": null,
   "id": "fcf422fc-ea70-44d8-80bc-6abd40f41694",
   "metadata": {},
   "outputs": [],
   "source": []
  },
  {
   "cell_type": "code",
   "execution_count": null,
   "id": "94eaa403-10c5-42dc-921f-f478c37d2502",
   "metadata": {},
   "outputs": [],
   "source": []
  },
  {
   "cell_type": "code",
   "execution_count": 255,
   "id": "5f6644aa-a0f7-4a86-a13e-2abfcc2f8da1",
   "metadata": {},
   "outputs": [
    {
     "name": "stdout",
     "output_type": "stream",
     "text": [
      "\u001b[1m1/1\u001b[0m \u001b[32m━━━━━━━━━━━━━━━━━━━━\u001b[0m\u001b[37m\u001b[0m \u001b[1m0s\u001b[0m 48ms/step\n"
     ]
    },
    {
     "data": {
      "text/plain": [
       "array([[0.1426981]], dtype=float32)"
      ]
     },
     "execution_count": 255,
     "metadata": {},
     "output_type": "execute_result"
    }
   ],
   "source": [
    "model.predict((X_user[10].reshape(1,-1), X_movie[10].reshape(1,-1)))"
   ]
  },
  {
   "cell_type": "code",
   "execution_count": 335,
   "id": "e3d250dc-dc01-4539-bf63-eb82df18f9d8",
   "metadata": {},
   "outputs": [
    {
     "data": {
      "text/plain": [
       "array([[12.24547033,  0.03811556,  1.08235658,  0.        ,  0.        ,\n",
       "         1.        ,  1.        ,  1.        ,  1.        ,  0.        ,\n",
       "         0.        ,  0.        ,  1.        ,  0.        ,  0.        ,\n",
       "         0.        ,  0.        ,  0.        ,  0.        ,  0.        ,\n",
       "         0.        ,  0.        ,  0.        ]])"
      ]
     },
     "execution_count": 335,
     "metadata": {},
     "output_type": "execute_result"
    }
   ],
   "source": [
    "X_movie[10].reshape(1,-1)"
   ]
  },
  {
   "cell_type": "code",
   "execution_count": 345,
   "id": "074c3ba9-8cbb-47d8-8672-cc5e605fd6a9",
   "metadata": {},
   "outputs": [
    {
     "ename": "AttributeError",
     "evalue": "'DataFrame' object has no attribute 'reshape'",
     "output_type": "error",
     "traceback": [
      "\u001b[31m---------------------------------------------------------------------------\u001b[39m",
      "\u001b[31mAttributeError\u001b[39m                            Traceback (most recent call last)",
      "\u001b[36mCell\u001b[39m\u001b[36m \u001b[39m\u001b[32mIn[345]\u001b[39m\u001b[32m, line 1\u001b[39m\n\u001b[32m----> \u001b[39m\u001b[32m1\u001b[39m \u001b[43mX_user\u001b[49m\u001b[43m[\u001b[49m\u001b[32;43m10\u001b[39;49m\u001b[43m]\u001b[49m\u001b[43m.\u001b[49m\u001b[43mreshape\u001b[49m(\u001b[32m1\u001b[39m,-\u001b[32m1\u001b[39m)\n",
      "\u001b[31mAttributeError\u001b[39m: 'DataFrame' object has no attribute 'reshape'"
     ]
    }
   ],
   "source": [
    "X_user[10].reshape(1,-1)"
   ]
  },
  {
   "cell_type": "code",
   "execution_count": 257,
   "id": "a3c6ae7d-6eef-4c44-8972-70a4cacf6aa5",
   "metadata": {},
   "outputs": [
    {
     "data": {
      "text/plain": [
       "array([-0.54627892, -1.66744998,  0.12091797,  0.44143685,  0.46259695,\n",
       "       -0.29703452, -1.59569312, -1.05931267, -2.93611269,  0.26693204,\n",
       "       -0.56776599, -1.25123463, -0.56450595, -0.91585002, -1.27535158,\n",
       "       -1.73221951, -1.31843408, -1.85172194, -1.04109284, -0.77862885])"
      ]
     },
     "execution_count": 257,
     "metadata": {},
     "output_type": "execute_result"
    }
   ],
   "source": [
    "X_user[10]"
   ]
  },
  {
   "cell_type": "code",
   "execution_count": 327,
   "id": "fee97974-89f1-4b38-b815-a86d66f4a6ff",
   "metadata": {},
   "outputs": [
    {
     "data": {
      "text/html": [
       "<div><style>\n",
       ".dataframe > thead > tr,\n",
       ".dataframe > tbody > tr {\n",
       "  text-align: right;\n",
       "  white-space: pre-wrap;\n",
       "}\n",
       "</style>\n",
       "<small>shape: (1, 21)</small><table border=\"1\" class=\"dataframe\"><thead><tr><th>userId</th><th>Horror</th><th>Romance</th><th>Thriller</th><th>Drama</th><th>Action</th><th>Musical</th><th>Sci-Fi</th><th>Comedy</th><th>Adventure</th><th>Animation</th><th>Crime</th><th>Fantasy</th><th>Film-Noir</th><th>IMAX</th><th>War</th><th>Documentary</th><th>Mystery</th><th>Western</th><th>Children</th><th>(no genres listed)</th></tr><tr><td>i64</td><td>f64</td><td>f64</td><td>f64</td><td>f64</td><td>f64</td><td>f64</td><td>f64</td><td>f64</td><td>f64</td><td>f64</td><td>f64</td><td>f64</td><td>f64</td><td>f64</td><td>f64</td><td>f64</td><td>f64</td><td>f64</td><td>f64</td><td>f64</td></tr></thead><tbody><tr><td>66699</td><td>0.0</td><td>0.0</td><td>0.0</td><td>1.5</td><td>0.0</td><td>0.0</td><td>1.5</td><td>0.0</td><td>0.0</td><td>0.0</td><td>0.0</td><td>0.0</td><td>0.0</td><td>1.5</td><td>0.0</td><td>0.0</td><td>0.0</td><td>0.0</td><td>0.0</td><td>0.0</td></tr></tbody></table></div>"
      ],
      "text/plain": [
       "shape: (1, 21)\n",
       "┌────────┬────────┬─────────┬──────────┬───┬─────────┬─────────┬──────────┬────────────────────┐\n",
       "│ userId ┆ Horror ┆ Romance ┆ Thriller ┆ … ┆ Mystery ┆ Western ┆ Children ┆ (no genres listed) │\n",
       "│ ---    ┆ ---    ┆ ---     ┆ ---      ┆   ┆ ---     ┆ ---     ┆ ---      ┆ ---                │\n",
       "│ i64    ┆ f64    ┆ f64     ┆ f64      ┆   ┆ f64     ┆ f64     ┆ f64      ┆ f64                │\n",
       "╞════════╪════════╪═════════╪══════════╪═══╪═════════╪═════════╪══════════╪════════════════════╡\n",
       "│ 66699  ┆ 0.0    ┆ 0.0     ┆ 0.0      ┆ … ┆ 0.0     ┆ 0.0     ┆ 0.0      ┆ 0.0                │\n",
       "└────────┴────────┴─────────┴──────────┴───┴─────────┴─────────┴──────────┴────────────────────┘"
      ]
     },
     "execution_count": 327,
     "metadata": {},
     "output_type": "execute_result"
    }
   ],
   "source": [
    "user_feature[10]"
   ]
  },
  {
   "cell_type": "code",
   "execution_count": 333,
   "id": "6b8fad40-0fd2-41e8-a3fc-8c6d378ae75a",
   "metadata": {},
   "outputs": [
    {
     "data": {
      "text/html": [
       "<div><style>\n",
       ".dataframe > thead > tr,\n",
       ".dataframe > tbody > tr {\n",
       "  text-align: right;\n",
       "  white-space: pre-wrap;\n",
       "}\n",
       "</style>\n",
       "<small>shape: (1, 24)</small><table border=\"1\" class=\"dataframe\"><thead><tr><th>movieId</th><th>title</th><th>year</th><th>avg_rating</th><th>(no genres listed)</th><th>Action</th><th>Adventure</th><th>Animation</th><th>Children</th><th>Comedy</th><th>Crime</th><th>Documentary</th><th>Drama</th><th>Fantasy</th><th>Film-Noir</th><th>Horror</th><th>IMAX</th><th>Musical</th><th>Mystery</th><th>Romance</th><th>Sci-Fi</th><th>Thriller</th><th>War</th><th>Western</th></tr><tr><td>i64</td><td>str</td><td>i16</td><td>f64</td><td>i8</td><td>i8</td><td>i8</td><td>i8</td><td>i8</td><td>i8</td><td>i8</td><td>i8</td><td>i8</td><td>i8</td><td>i8</td><td>i8</td><td>i8</td><td>i8</td><td>i8</td><td>i8</td><td>i8</td><td>i8</td><td>i8</td><td>i8</td></tr></thead><tbody><tr><td>11</td><td>&quot;American President, The (1995)&quot;</td><td>1995</td><td>3.6875</td><td>0</td><td>0</td><td>0</td><td>0</td><td>0</td><td>1</td><td>0</td><td>0</td><td>1</td><td>0</td><td>0</td><td>0</td><td>0</td><td>0</td><td>0</td><td>1</td><td>0</td><td>0</td><td>0</td><td>0</td></tr></tbody></table></div>"
      ],
      "text/plain": [
       "shape: (1, 24)\n",
       "┌─────────┬────────────────────────────────┬──────┬────────────┬───┬────────┬──────────┬─────┬─────────┐\n",
       "│ movieId ┆ title                          ┆ year ┆ avg_rating ┆ … ┆ Sci-Fi ┆ Thriller ┆ War ┆ Western │\n",
       "│ ---     ┆ ---                            ┆ ---  ┆ ---        ┆   ┆ ---    ┆ ---      ┆ --- ┆ ---     │\n",
       "│ i64     ┆ str                            ┆ i16  ┆ f64        ┆   ┆ i8     ┆ i8       ┆ i8  ┆ i8      │\n",
       "╞═════════╪════════════════════════════════╪══════╪════════════╪═══╪════════╪══════════╪═════╪═════════╡\n",
       "│ 11      ┆ American President, The (1995) ┆ 1995 ┆ 3.6875     ┆ … ┆ 0      ┆ 0        ┆ 0   ┆ 0       │\n",
       "└─────────┴────────────────────────────────┴──────┴────────────┴───┴────────┴──────────┴─────┴─────────┘"
      ]
     },
     "execution_count": 333,
     "metadata": {},
     "output_type": "execute_result"
    }
   ],
   "source": [
    "movie_features[10]"
   ]
  },
  {
   "cell_type": "code",
   "execution_count": 192,
   "id": "951f47b4-e92f-4163-97fa-a8f336abf896",
   "metadata": {},
   "outputs": [
    {
     "data": {
      "text/plain": [
       "array([[3.2768624]], dtype=float32)"
      ]
     },
     "execution_count": 192,
     "metadata": {},
     "output_type": "execute_result"
    }
   ],
   "source": [
    "predicted_rating"
   ]
  },
  {
   "cell_type": "code",
   "execution_count": 180,
   "id": "674980dc-26a0-45b0-9ab2-919451345e71",
   "metadata": {},
   "outputs": [
    {
     "data": {
      "text/plain": [
       "array([[3.2768624]], dtype=float32)"
      ]
     },
     "execution_count": 180,
     "metadata": {},
     "output_type": "execute_result"
    }
   ],
   "source": [
    "predicted_rating"
   ]
  },
  {
   "cell_type": "code",
   "execution_count": 289,
   "id": "b69e529a-7165-47a3-be8a-b4fc9771ff5e",
   "metadata": {},
   "outputs": [
    {
     "data": {
      "text/plain": [
       "((1, 20), (1, 20))"
      ]
     },
     "execution_count": 289,
     "metadata": {},
     "output_type": "execute_result"
    }
   ],
   "source": [
    "X_user[10:11].shape, X_user[10].reshape(1,-1).shape"
   ]
  },
  {
   "cell_type": "code",
   "execution_count": null,
   "id": "1722e44f-7dd4-4bc3-b89d-76eaa0ee2722",
   "metadata": {},
   "outputs": [],
   "source": []
  },
  {
   "cell_type": "code",
   "execution_count": 291,
   "id": "d037da4b-0a30-41b4-ac75-1bbeec64eacd",
   "metadata": {},
   "outputs": [],
   "source": [
    "b = SS_user.inverse_transform(X_user[10:11])"
   ]
  },
  {
   "cell_type": "code",
   "execution_count": 297,
   "id": "a4d4ab01-eb01-4817-b1da-08c5566241d4",
   "metadata": {},
   "outputs": [
    {
     "data": {
      "text/plain": [
       "array([[ 0. ,  0. ,  2.5,  2.5,  2.5,  2.5,  0. , -0. ,  0. ,  2.5,  0. ,\n",
       "         0. , -0. ,  0. ,  0. ,  0. ,  0. ,  0. ,  0. ,  0. ]])"
      ]
     },
     "execution_count": 297,
     "metadata": {},
     "output_type": "execute_result"
    }
   ],
   "source": [
    "b.round(4)"
   ]
  },
  {
   "cell_type": "code",
   "execution_count": 313,
   "id": "1b35510f-d356-4c41-a9d5-ae57c45d1702",
   "metadata": {},
   "outputs": [
    {
     "data": {
      "text/plain": [
       "array([[6.8997e+04, 1.9950e+03, 3.7875e+00]])"
      ]
     },
     "execution_count": 313,
     "metadata": {},
     "output_type": "execute_result"
    }
   ],
   "source": [
    "SS_movie.inverse_transform(X_movie[10:11,:3]).round(6)"
   ]
  },
  {
   "cell_type": "code",
   "execution_count": 172,
   "id": "9bbfc064-a7fc-4ec4-84e2-16a3a3153c5c",
   "metadata": {},
   "outputs": [
    {
     "data": {
      "text/plain": [
       "((20,), (23,))"
      ]
     },
     "execution_count": 172,
     "metadata": {},
     "output_type": "execute_result"
    }
   ],
   "source": [
    "X_user[10].shape, X_movie[10].shape"
   ]
  },
  {
   "cell_type": "code",
   "execution_count": 176,
   "id": "65384437-9bee-4e4d-890c-3c25efc6f09e",
   "metadata": {},
   "outputs": [
    {
     "data": {
      "text/plain": [
       "<zip at 0x218b3213e80>"
      ]
     },
     "execution_count": 176,
     "metadata": {},
     "output_type": "execute_result"
    }
   ],
   "source": [
    "zip(X_user[10], X_movie[10])"
   ]
  },
  {
   "cell_type": "code",
   "execution_count": 384,
   "id": "fcefdc6a-e473-464e-987f-1e2a88a83044",
   "metadata": {},
   "outputs": [
    {
     "data": {
      "text/plain": [
       "(582540, 1)"
      ]
     },
     "execution_count": 384,
     "metadata": {},
     "output_type": "execute_result"
    }
   ],
   "source": [
    "y.shape"
   ]
  },
  {
   "cell_type": "code",
   "execution_count": 352,
   "id": "85885a99-c2f9-4484-8204-e6fa473ca910",
   "metadata": {},
   "outputs": [
    {
     "data": {
      "text/plain": [
       "<KerasTensor shape=(None, 32), dtype=float32, sparse=False, ragged=False, name=keras_tensor_30>"
      ]
     },
     "execution_count": 352,
     "metadata": {},
     "output_type": "execute_result"
    }
   ],
   "source": [
    "y"
   ]
  }
 ],
 "metadata": {
  "kernelspec": {
   "display_name": "Python 3.11 (venv)",
   "language": "python",
   "name": "venv"
  },
  "language_info": {
   "codemirror_mode": {
    "name": "ipython",
    "version": 3
   },
   "file_extension": ".py",
   "mimetype": "text/x-python",
   "name": "python",
   "nbconvert_exporter": "python",
   "pygments_lexer": "ipython3",
   "version": "3.11.8"
  }
 },
 "nbformat": 4,
 "nbformat_minor": 5
}
