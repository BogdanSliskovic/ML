{
 "cells": [
  {
   "cell_type": "code",
   "execution_count": 715,
   "id": "4d81d2be-15e5-4f74-be8b-1238f3715ea1",
   "metadata": {},
   "outputs": [
    {
     "name": "stdout",
     "output_type": "stream",
     "text": [
      "(50000, 785) (10000, 785) (10000, 785)\n"
     ]
    },
    {
     "data": {
      "text/plain": [
       "((50000, 785), (10000, 785), (10000, 785), (50000, 1), (10000, 1), (10000, 1))"
      ]
     },
     "execution_count": 715,
     "metadata": {},
     "output_type": "execute_result"
    }
   ],
   "source": [
    "import numpy as np\n",
    "from sklearn.datasets import fetch_openml\n",
    "import joblib\n",
    "\n",
    "x, y = fetch_openml('mnist_784', version=1, return_X_y=True, as_frame= False)\n",
    "\n",
    "y = y.astype(int).reshape(-1,1)\n",
    "y = np.where(y == 5, 1, 0)\n",
    "\n",
    "y = y.reshape(-1,1)\n",
    "\n",
    "data = np.hstack((y, x))\n",
    "\n",
    "np.random.seed(42)\n",
    "np.random.shuffle(data)\n",
    "\n",
    "datatrain = data[:50000]\n",
    "datadev = data[50000:60000]\n",
    "datatest = data[60000:]\n",
    "\n",
    "print(datatrain.shape, datadev.shape, datatest.shape)\n",
    "\n",
    "def feature(df):\n",
    "    return np.hstack((np.ones((df.shape[0],1)), df[:,1:] / 255))\n",
    "\n",
    "def target(data):\n",
    "    y = data[:,0].reshape(-1,1)\n",
    "    return y\n",
    "\n",
    "xtrain, xdev, xtest = tuple(feature(skup) for skup in [datatrain, datadev, datatest])\n",
    "\n",
    "ytrain, ydev, ytest = tuple(target(skup) for skup in [datatrain, datadev, datatest])\n",
    "print(xtrain.max())\n",
    "xtrain.shape, xdev.shape, xtest.shape, ytrain.shape, ydev.shape, ytest.shape"
   ]
  },
  {
   "cell_type": "code",
   "execution_count": 831,
   "id": "5b4e381c-3c13-4cc0-9395-355c8660964a",
   "metadata": {},
   "outputs": [],
   "source": [
    "class Logit():\n",
    "    \n",
    "    def __init__(self, lr=0.1, regularizacija='', reg=0.01, maxIter=None, nIter = None):      \n",
    "        '''Za regularizaciju uneti string 'l1' ili 'l2'\n",
    "        reg je regularizacioni parametar lambda \n",
    "        learning: pocetna brzina ucenja (polovi se na svakih 1000 iteracija) '''\n",
    "        \n",
    "        self.lr = lr\n",
    "        self.regularizacija = regularizacija\n",
    "        self.reg = reg\n",
    "        self.maxIter = maxIter\n",
    "        self.preciznostTrain= None\n",
    "        self.preciznostDev = None\n",
    "        self.historyW = []\n",
    "\n",
    "    def predict(self, x, y =None):\n",
    "        \"\"\"Racuna binarne predikcije za ulazne podatke x.\n",
    "        Ako je prosleđen y, vraća dvojku (preciznost, predikcije).\"\"\"\n",
    "        \n",
    "        z = np.clip(x @ self.w, -500, 500)\n",
    "        p = 1 / (1 + np.exp(-z))\n",
    "        pred = (p > 0.5).astype(int)\n",
    "        if y is not None:\n",
    "            return (np.mean(pred == y.reshape(-1,1)), pred)\n",
    "        else:\n",
    "            return pred\n",
    "    def predictProba(self,x):\n",
    "        \"\"\"Vraca predikcije verovatnoca za ulazne podatke x. \"\"\"\n",
    "        \n",
    "        z = np.clip(x @ self.w, -500, 500)\n",
    "        return 1 / (1 + np.exp(-z))\n",
    "        \n",
    "    def fit(self, x, y, xdev, ydev, randomState = 42):\n",
    "        \"\"\"Treniranje modela koristeći grupni gradijentni spust (batch gradient descent).\n",
    "        Funkcija prati preciznost na trening i dev skupu.\n",
    "        Svakih 100 iteracija se čuvaju trenutne težine u self.historyW.\n",
    "        Ako preciznost na dev skupu opadne u odnosu na \n",
    "        4 evaluacije unazad, smatra se da je dostigao plato i\n",
    "        model se vraca na težine iz te iteracije i vraca\n",
    "        dvojku (preciznost na trening skupu, preciznost na dev skupu).\"\"\"\n",
    "        \n",
    "        m, n = x.shape\n",
    "        np.random.seed(randomState)\n",
    "        self.w = np.random.rand(n,1) - .5\n",
    "        trainscore = []\n",
    "        devscore = [0 for _ in range(4)]\n",
    "        i = 0\n",
    "        lr = self.lr\n",
    "        epsilon=.0000001\n",
    "        \n",
    "        while True:\n",
    "            z = np.clip(x @ self.w, -500, 500)\n",
    "            pred = 1 / (1 + np.exp(-z))\n",
    "            gradijenti = (x.T @ (pred - y.reshape(-1, 1))) / m\n",
    "            \n",
    "            \n",
    "            if self.regularizacija.lower() == 'l1':\n",
    "                l = -np.mean(y * np.log(pred + epsilon) + (1 - y) * np.log(1 - pred + epsilon)) + (self.reg / m) * np.sum(np.abs(self.w[1:]))\n",
    "                gradijenti[1:] += (self.reg / m) * np.sign(self.w[1:])\n",
    "            elif self.regularizacija.lower() == 'l2':\n",
    "                l = -np.mean(y * np.log(pred + epsilon) + (1 - y) * np.log(1 - pred + epsilon)) + (self.reg / (2 * m)) * np.sum(np.square(self.w[1:]))\n",
    "                gradijenti[1:] += (self.reg / m) * self.w[1:]\n",
    "               \n",
    "            else:\n",
    "                l = -np.mean(y * np.log(pred + epsilon) + (1 - y) * np.log(1 - pred + epsilon))\n",
    "\n",
    "            self.w -= lr * gradijenti\n",
    "            grad_norm = np.linalg.norm(gradijenti)\n",
    "            \n",
    "            if i % 100 == 0:\n",
    "                self.historyW.append(self.w.copy())\n",
    "                preciznostTrain, _ = self.predict(x,y)\n",
    "                trainscore.append(preciznostTrain)\n",
    "                \n",
    "                preciznostDev, _ = self.predict(xdev, ydev)\n",
    "                devscore.append(preciznostDev)\n",
    "            \n",
    "            if i > 300 and (devscore[-1] - devscore[-5]) <= 0:\n",
    "                print(f\"Optimalni parametri su iz {i-300} iteracije\")\n",
    "                self.w = self.historyW[-4]\n",
    "                break\n",
    "            \n",
    "            if self.maxIter is not None and i >= self.maxIter:\n",
    "                print(f\"Maksimalan broj iteracija ({self.maxIter}) dostignut.\")\n",
    "                break\n",
    "            \n",
    "            if i % 1000 == 0 and i > 0:\n",
    "                lr *= 0.5\n",
    "                print(f\"Learning rate: {lr}, iteracija {i}\")\n",
    "                \n",
    "\n",
    "            i += 1\n",
    "        self.nIter = i\n",
    "        self.preciznostTrain, _ = self.predict(x,y)\n",
    "        print(\"Preciznost na trening setu:\", self.preciznostTrain)\n",
    "\n",
    "        self.preciznostDev, _ = self.predict(xdev,ydev)\n",
    "        print(\"Preciznost na dev setu:\", self.preciznostDev)\n",
    "        \n",
    "        return self.preciznostTrain, self.preciznostDev\n",
    "\n",
    "    \n",
    "    def fitReg(self, x, y, xdev, ydev, listaRegularizacije):\n",
    "        '''Radi grid search za regularizacioni parametar lambda iz liste\n",
    "        Vraca recnik lokalno optimalnih parametar a{lambda : rezultat na dev skupu} '''\n",
    "        \n",
    "        rezultati = []\n",
    "        for i in range(len(listaRegularizacije)):\n",
    "            self.reg = listaRegularizacije[i]\n",
    "            _, devScore = self.fit(x, y, xdev, ydev)\n",
    "            rezultati.append(devScore)\n",
    "            \n",
    "        self.w = self.historyW[np.argmax(rezultati)]\n",
    "        self.reg = listaRegularizacije[np.argmax(rezultati)]\n",
    "        return {self.reg : rezultati[np.argmax(rezultati)]}"
   ]
  },
  {
   "cell_type": "code",
   "execution_count": 763,
   "id": "20126725-925f-467a-a2e3-58aac1c7a19c",
   "metadata": {},
   "outputs": [],
   "source": [
    "logit = Logit()"
   ]
  },
  {
   "cell_type": "code",
   "execution_count": 765,
   "id": "2fec043e-9ce3-400b-92a9-7d7c9a7440f1",
   "metadata": {},
   "outputs": [
    {
     "name": "stdout",
     "output_type": "stream",
     "text": [
      "Learning rate: 0.05, iteracija 1000\n",
      "Learning rate: 0.025, iteracija 2000\n",
      "Optimalni parametri su iz 2100 iteracije\n",
      "Preciznost na trening setu: 0.96416\n",
      "Preciznost na dev setu: 0.9628\n"
     ]
    },
    {
     "data": {
      "text/plain": [
       "(0.96416, 0.9628)"
      ]
     },
     "execution_count": 765,
     "metadata": {},
     "output_type": "execute_result"
    }
   ],
   "source": [
    "logit.fit(xtrain, ytrain, xdev, ydev)"
   ]
  },
  {
   "cell_type": "code",
   "execution_count": 787,
   "id": "33a5b4c6-ed3c-465b-b9e8-01b6bd2256a3",
   "metadata": {},
   "outputs": [
    {
     "name": "stdout",
     "output_type": "stream",
     "text": [
      "2400\n"
     ]
    }
   ],
   "source": [
    "print(logit.nIter)"
   ]
  },
  {
   "cell_type": "code",
   "execution_count": 791,
   "id": "671644f9-432d-4fe7-9936-9112a1ea1fcf",
   "metadata": {},
   "outputs": [
    {
     "data": {
      "text/plain": [
       "['logitNumpy.pkl']"
      ]
     },
     "execution_count": 791,
     "metadata": {},
     "output_type": "execute_result"
    }
   ],
   "source": [
    "joblib.dump(logit, 'logitNumpy.pkl')"
   ]
  },
  {
   "cell_type": "code",
   "execution_count": 793,
   "id": "1e21aa36-53e9-498e-882e-942d9bc8b5ab",
   "metadata": {},
   "outputs": [
    {
     "data": {
      "text/plain": [
       "<__main__.Logit at 0x1fe91853d70>"
      ]
     },
     "execution_count": 793,
     "metadata": {},
     "output_type": "execute_result"
    }
   ],
   "source": [
    "joblib.load('logitNumpy.pkl')"
   ]
  },
  {
   "cell_type": "code",
   "execution_count": 860,
   "id": "25786613-c322-4561-b21c-322de4b9395f",
   "metadata": {},
   "outputs": [],
   "source": [
    "logitL1 = Logit(regularizacija = 'l1')"
   ]
  },
  {
   "cell_type": "code",
   "execution_count": 862,
   "id": "7b4f83a1-5465-49e3-bef4-ebdbd383b1a4",
   "metadata": {},
   "outputs": [],
   "source": [
    "regul = np.logspace(-.5,1.2,5)"
   ]
  },
  {
   "cell_type": "code",
   "execution_count": 864,
   "id": "7cd69534-3026-4da9-a1f9-09403d4fe1ab",
   "metadata": {},
   "outputs": [
    {
     "name": "stdout",
     "output_type": "stream",
     "text": [
      "Learning rate: 0.05, iteracija 1000\n",
      "Learning rate: 0.025, iteracija 2000\n",
      "Optimalni parametri su iz 2100 iteracije\n",
      "Preciznost na trening setu: 0.96414\n",
      "Preciznost na dev setu: 0.9629\n",
      "Learning rate: 0.05, iteracija 1000\n",
      "Learning rate: 0.025, iteracija 2000\n",
      "Optimalni parametri su iz 2100 iteracije\n",
      "Preciznost na trening setu: 0.96418\n",
      "Preciznost na dev setu: 0.9629\n",
      "Learning rate: 0.05, iteracija 1000\n",
      "Learning rate: 0.025, iteracija 2000\n",
      "Optimalni parametri su iz 2100 iteracije\n",
      "Preciznost na trening setu: 0.96418\n",
      "Preciznost na dev setu: 0.9629\n",
      "Learning rate: 0.05, iteracija 1000\n",
      "Learning rate: 0.025, iteracija 2000\n",
      "Optimalni parametri su iz 2600 iteracije\n",
      "Preciznost na trening setu: 0.9648\n",
      "Preciznost na dev setu: 0.9632\n",
      "Learning rate: 0.05, iteracija 1000\n",
      "Learning rate: 0.025, iteracija 2000\n",
      "Learning rate: 0.0125, iteracija 3000\n",
      "Optimalni parametri su iz 3000 iteracije\n",
      "Preciznost na trening setu: 0.96508\n",
      "Preciznost na dev setu: 0.9634\n"
     ]
    },
    {
     "data": {
      "text/plain": [
       "{15.848931924611133: 0.9634}"
      ]
     },
     "execution_count": 864,
     "metadata": {},
     "output_type": "execute_result"
    }
   ],
   "source": [
    "logitL1.fitReg(xtrain, ytrain, xdev, ydev, listaRegularizacije = regul)"
   ]
  },
  {
   "cell_type": "code",
   "execution_count": null,
   "id": "ddf3028b-64d3-4d86-aed7-d34858a0ecca",
   "metadata": {},
   "outputs": [],
   "source": [
    "joblib.dump(logitL1, 'logitL1Numpy.pkl')"
   ]
  },
  {
   "cell_type": "code",
   "execution_count": null,
   "id": "ac9088a9-c0d9-4747-bb18-9b9d88993110",
   "metadata": {},
   "outputs": [],
   "source": []
  },
  {
   "cell_type": "code",
   "execution_count": 866,
   "id": "2c8846fe-2743-4615-9cdb-b79f5ee99f0c",
   "metadata": {},
   "outputs": [],
   "source": [
    "logitL2 = Logit(regularizacija = 'l2')"
   ]
  },
  {
   "cell_type": "code",
   "execution_count": 867,
   "id": "65bd6c2b-8257-4485-a038-a13bfe6d1cf7",
   "metadata": {},
   "outputs": [
    {
     "data": {
      "text/plain": [
       "array([ 0.316228,  0.841395,  2.238721,  5.956621, 15.848932])"
      ]
     },
     "execution_count": 867,
     "metadata": {},
     "output_type": "execute_result"
    }
   ],
   "source": [
    "np.logspace(-.5,1.2,5)"
   ]
  },
  {
   "cell_type": "code",
   "execution_count": null,
   "id": "ad291bb6-2e1f-4a9e-8ef4-59f233c54fa3",
   "metadata": {},
   "outputs": [
    {
     "name": "stdout",
     "output_type": "stream",
     "text": [
      "Learning rate: 0.05, iteracija 1000\n",
      "Learning rate: 0.025, iteracija 2000\n",
      "Optimalni parametri su iz 2100 iteracije\n",
      "Preciznost na trening setu: 0.96414\n",
      "Preciznost na dev setu: 0.9628\n",
      "Learning rate: 0.05, iteracija 1000\n"
     ]
    }
   ],
   "source": [
    "logitL2.fitReg(xtrain, ytrain, xdev, ydev, np.logspace(-.5,1.2,5))"
   ]
  },
  {
   "cell_type": "code",
   "execution_count": null,
   "id": "f0ba6f56-e503-44c1-b363-f21089e205fe",
   "metadata": {},
   "outputs": [],
   "source": [
    "joblib.dump(logitL2,'logit2Numpy.pkl')"
   ]
  },
  {
   "cell_type": "code",
   "execution_count": null,
   "id": "d121b1eb-91c9-4f39-b881-d2891d710e07",
   "metadata": {},
   "outputs": [],
   "source": [
    "print(logit.predict(xdev, ydev)[0],logitL1.predict(xdev, ydev)[0],logitL2.predict(xdev, ydev)[0])"
   ]
  },
  {
   "cell_type": "code",
   "execution_count": null,
   "id": "c829d489-8d87-4c63-9667-0ca657ca2917",
   "metadata": {},
   "outputs": [],
   "source": [
    "print(logit.predict(xtest, ytest)[0],logitL1.predict(xtest, ytest)[0],logitL2.predict(xtest, ytest)[0])"
   ]
  },
  {
   "cell_type": "code",
   "execution_count": null,
   "id": "039e3637-1f17-4a57-8436-a78f2e1a4c33",
   "metadata": {},
   "outputs": [],
   "source": [
    "logit.nIter, logitL1.nIter, logitL2.nIter"
   ]
  },
  {
   "cell_type": "code",
   "execution_count": null,
   "id": "70131811-e3c9-464f-a5c1-6e8b76ee833a",
   "metadata": {},
   "outputs": [],
   "source": [
    "model.preciznostTrain, model.preciznostDev"
   ]
  },
  {
   "cell_type": "code",
   "execution_count": 23,
   "id": "e3cc7687-29bc-4e20-bea2-b9c99b6dbdc1",
   "metadata": {},
   "outputs": [],
   "source": [
    "from sklearn.linear_model import LogisticRegression\n",
    "from sklearn.metrics import accuracy_score"
   ]
  },
  {
   "cell_type": "code",
   "execution_count": 55,
   "id": "7cf0a138-659a-4a77-b6de-e9aa35d87c0b",
   "metadata": {},
   "outputs": [
    {
     "name": "stdout",
     "output_type": "stream",
     "text": [
      "1668\n",
      "0.97822\n",
      "0.95486\n"
     ]
    },
    {
     "data": {
      "text/plain": [
       "((50000,), (50000, 1))"
      ]
     },
     "execution_count": 55,
     "metadata": {},
     "output_type": "execute_result"
    }
   ],
   "source": [
    "model = LogisticRegression(penalty = None,max_iter=5000)\n",
    "model.fit(xtrain, ytrain.reshape(-1,))\n",
    "\n",
    "ypredSklearn = model.predict(xtrain)\n",
    "\n",
    "print(accuracy_score(ypredSklearn, ytrain))\n",
    "print(logit.predict(xtrain, ytrain)[0],logitL1.predict(xtrain, ytrain)[0],logitL2.predict(xtrain, ytrain)[0])\n",
    "\n",
    "\n",
    "ypredSklearn.shape, pred.shape"
   ]
  },
  {
   "cell_type": "code",
   "execution_count": null,
   "id": "3e41e9dd-4978-4961-86e2-8df7a344917a",
   "metadata": {},
   "outputs": [],
   "source": [
    "print(accuracy_score(ypredSklearn, ytrain))"
   ]
  },
  {
   "cell_type": "code",
   "execution_count": 25,
   "id": "92004212-60cd-4081-915f-565136ad76a2",
   "metadata": {},
   "outputs": [
    {
     "name": "stdout",
     "output_type": "stream",
     "text": [
      "0.9752\n"
     ]
    }
   ],
   "source": [
    "print(accuracy_score(model.predict(xdev), ydev))"
   ]
  },
  {
   "cell_type": "markdown",
   "id": "705e61a5-6d01-4149-87ad-d7b07e870b67",
   "metadata": {},
   "source": [
    "`SA L1 REGULARIZACIJOM`"
   ]
  },
  {
   "cell_type": "code",
   "execution_count": 272,
   "id": "18a729af-20e8-477e-b876-88967fff1228",
   "metadata": {},
   "outputs": [
    {
     "name": "stdout",
     "output_type": "stream",
     "text": [
      "[[0.377692]\n",
      " [0.345481]\n",
      " [0.045587]\n",
      " [0.225315]\n",
      " [0.251538]\n",
      " [0.185555]\n",
      " [0.04456 ]\n",
      " [0.590041]\n",
      " [0.683375]\n",
      " [0.449965]]\n"
     ]
    }
   ],
   "source": [
    "np.random.seed(42)\n",
    "wL1 = np.random.rand(n,1) - .5\n",
    "\n",
    "z = xtrain @ wL1\n",
    "pred = 1 / (1 + np.exp(-z))\n",
    "print(pred[:10])\n",
    "\n",
    "reg = 0.01"
   ]
  },
  {
   "cell_type": "code",
   "execution_count": 274,
   "id": "41d7520b-b827-4539-b1eb-81b9aa7afb69",
   "metadata": {},
   "outputs": [
    {
     "name": "stdout",
     "output_type": "stream",
     "text": [
      "0.7199605642678382\n",
      "0.693246248758746\n"
     ]
    }
   ],
   "source": [
    "z = xtrain @ wL1\n",
    "pred = 1 / (1 + np.exp(-z))\n",
    "l = -(np.mean(ytrain * np.log(pred+.00000001) + (1 - ytrain) * np.log(1 - pred+.00000001))) + (reg / (2 * m)) * np.sum(np.square(wL1[1:]))\n",
    "print(l)\n",
    "gradijenti = (xtrain.T @ (pred - ytrain)) / m\n",
    "gradijenti[1:] += (reg / m) * wL1[1:]\n",
    "wL1 -= lr * gradijenti\n",
    "z = xtrain @ wL1\n",
    "pred = 1 / (1 + np.exp(-z))\n",
    "l = -(np.mean(ytrain * np.log(pred+.00000001) + (1 - ytrain) * np.log(1 - pred+.00000001))) + (reg / (2 * m)) * np.sum(np.square(wL1[1:]))\n",
    "print(l)"
   ]
  },
  {
   "cell_type": "code",
   "execution_count": null,
   "id": "3ee4d95c-6069-4405-8580-df8b56f00319",
   "metadata": {},
   "outputs": [],
   "source": []
  },
  {
   "cell_type": "markdown",
   "id": "15308891-2c7d-4dac-9543-61c4791fb3d9",
   "metadata": {},
   "source": [
    "`SA L2 REGULARIZACIJOM`"
   ]
  },
  {
   "cell_type": "code",
   "execution_count": 234,
   "id": "687af516-f9f0-4e6c-b4af-212e4a1dc44d",
   "metadata": {},
   "outputs": [
    {
     "name": "stdout",
     "output_type": "stream",
     "text": [
      "[[0.377692]\n",
      " [0.345481]\n",
      " [0.045587]\n",
      " [0.225315]\n",
      " [0.251538]\n",
      " [0.185555]\n",
      " [0.04456 ]\n",
      " [0.590041]\n",
      " [0.683375]\n",
      " [0.449965]]\n"
     ]
    }
   ],
   "source": [
    "np.random.seed(42)\n",
    "wL2 = np.random.rand(n,1) - .5\n",
    "\n",
    "z = xtrain @ wL2\n",
    "pred = 1 / (1 + np.exp(-z))\n",
    "print(pred[:10])\n",
    "\n",
    "reg = 0.01"
   ]
  },
  {
   "cell_type": "code",
   "execution_count": 236,
   "id": "7356c0dd-11cf-4df5-8c0d-85be328d8a92",
   "metadata": {},
   "outputs": [
    {
     "name": "stdout",
     "output_type": "stream",
     "text": [
      "0.7199605642678382\n",
      "0.693246248758746\n"
     ]
    }
   ],
   "source": [
    "z = xtrain @ wL2\n",
    "pred = 1 / (1 + np.exp(-z))\n",
    "l = -(np.mean(ytrain * np.log(pred+.00000001) + (1 - ytrain) * np.log(1 - pred+.00000001))) + (reg / (2 * m)) * np.sum(np.square(wL2[1:]))\n",
    "print(l)\n",
    "gradijenti = (xtrain.T @ (pred - ytrain)) / m\n",
    "gradijenti[1:] += (reg / m) * wL2[1:]\n",
    "wL2 -= lr * gradijenti\n",
    "z = xtrain @ wL2\n",
    "pred = 1 / (1 + np.exp(-z))\n",
    "l = -(np.mean(ytrain * np.log(pred+.00000001) + (1 - ytrain) * np.log(1 - pred+.00000001))) + (reg / (2 * m)) * np.sum(np.square(wL2[1:]))\n",
    "print(l)"
   ]
  },
  {
   "cell_type": "code",
   "execution_count": 238,
   "id": "2bea0883-f764-4c3a-a380-80506bbbdddd",
   "metadata": {},
   "outputs": [],
   "source": [
    "epsilon = .00000001"
   ]
  },
  {
   "cell_type": "code",
   "execution_count": 240,
   "id": "3cf63811-dda0-4479-a54f-1c40339b198e",
   "metadata": {
    "scrolled": true
   },
   "outputs": [
    {
     "name": "stdout",
     "output_type": "stream",
     "text": [
      "Iteracija 0, loss: 0.693246248758746, bez regulacija 0.6932394927805211, velicina gradijenta1.5678472463373083\n",
      "Iteracija 100, loss: 0.3715283624719221, bez regulacija 0.37152163323677806, velicina gradijenta0.22202711087051855\n",
      "Iteracija 200, loss: 0.3315630025942949, bez regulacija 0.3315562950442293, velicina gradijenta0.18340975055768716\n",
      "Iteracija 300, loss: 0.3022317064889122, bez regulacija 0.3022250147781215, velicina gradijenta0.15970628872153794\n",
      "Iteracija 400, loss: 0.27967621337138837, bez regulacija 0.2796695328617582, velicina gradijenta0.1411211785335187\n",
      "Iteracija 500, loss: 0.2618293777510655, bez regulacija 0.2618227050988574, velicina gradijenta0.12640736488019033\n",
      "Iteracija 600, loss: 0.24734376759698307, bez regulacija 0.24733710035600923, velicina gradijenta0.11455557844955358\n",
      "Iteracija 700, loss: 0.23533252181008382, bez regulacija 0.23532585813965953, velicina gradijenta0.10481776875003264\n",
      "Iteracija 800, loss: 0.22519721640933715, bez regulacija 0.22519055488871156, velicina gradijenta0.0966639610582841\n",
      "Iteracija 900, loss: 0.2165215521885604, bez regulacija 0.21651489169836055, velicina gradijenta0.08972202471690545\n",
      "Iteracija 1000, loss: 0.20900687195210851, bez regulacija 0.20900021159612123, velicina gradijenta0.083728356615271\n",
      "Iteracija 1100, loss: 0.20243273704607836, bez regulacija 0.2024260760977665, velicina gradijenta0.07849277360700416\n",
      "Iteracija 1200, loss: 0.196632325341829, bez regulacija 0.19662566320651567, velicina gradijenta0.07387491667890682\n",
      "Iteracija 1300, loss: 0.19147666031402696, bez regulacija 0.19146999650135724, velicina gradijenta0.0697687292506333\n",
      "Iteracija 1400, loss: 0.18686420082979907, bez regulacija 0.1868575349331732, velicina gradijenta0.06609226298473843\n",
      "Iteracija 1500, loss: 0.18271376659605634, bez regulacija 0.18270709827693932, velicina gradijenta0.06278091424225649\n",
      "Iteracija 1600, loss: 0.1789595971985143, bez regulacija 0.1789529261742502, velicina gradijenta0.059782858420275885\n",
      "Iteracija 1700, loss: 0.17554781483590107, bez regulacija 0.17554114087010697, velicina gradijenta0.05705590086260382\n",
      "Iteracija 1800, loss: 0.1724338360869195, bez regulacija 0.1724271589818156, velicina gradijenta0.054565252922787515\n",
      "Iteracija 1900, loss: 0.16958044182359092, bez regulacija 0.16957376141380978, velicina gradijenta0.05228192342319317\n",
      "Iteracija 2000, loss: 0.1669563141399969, bez regulacija 0.16694963028753843, velicina gradijenta0.0501815285438055\n",
      "Iteracija 2100, loss: 0.16453491145835938, bez regulacija 0.16452822404844472, velicina gradijenta0.04824339311453268\n",
      "Iteracija 2200, loss: 0.16229359287999715, bez regulacija 0.16228690181763528, velicina gradijenta0.04644985983704011\n",
      "Iteracija 2300, loss: 0.16021292906744466, bez regulacija 0.16020623427457012, velicina gradijenta0.044785750331057604\n",
      "Iteracija 2400, loss: 0.1582761545917996, bez regulacija 0.15826945600487138, velicina gradijenta0.0432379393462054\n",
      "Iteracija 2500, loss: 0.15646872882632365, bez regulacija 0.15646202639429999, velicina gradijenta0.04179501481979179\n",
      "Iteracija 2600, loss: 0.1547779809970513, bez regulacija 0.15477127467967297, velicina gradijenta0.04044700400974591\n",
      "Iteracija 2700, loss: 0.15319282109664042, bez regulacija 0.15318611086296868, velicina gradijenta0.039185151092773415\n",
      "Iteracija 2800, loss: 0.15170350278995656, bez regulacija 0.15169678861712324, velicina gradijenta0.0380017352426487\n",
      "Iteracija 2900, loss: 0.15030142769026097, bez regulacija 0.15029470956239557, velicina gradijenta0.0368899208136396\n",
      "Iteracija 3000, loss: 0.14897898280106017, bez regulacija 0.14897226070836617, velicina gradijenta0.035843633173718935\n",
      "Iteracija 3100, loss: 0.14772940473280313, bez regulacija 0.1477226786707599, velicina gradijenta0.03485745516812709\n",
      "Iteracija 3200, loss: 0.1465466656780277, bez regulacija 0.14653993564669932, velicina gradijenta0.03392654028184258\n",
      "Iteracija 3300, loss: 0.14542537717853365, bez regulacija 0.14541864318196854, velicina gradijenta0.0330465394019052\n",
      "Iteracija 3400, loss: 0.1443607085265673, bez regulacija 0.1443539705722756, velicina gradijenta0.03221353872211837\n",
      "Iteracija 3500, loss: 0.14334831726903957, bez regulacija 0.14334157536753717, velicina gradijenta0.03142400683016695\n",
      "Iteracija 3600, loss: 0.1423842897736197, bez regulacija 0.14237754393802962, velicina gradijenta0.03067474940504068\n",
      "Iteracija 3700, loss: 0.14146509020078274, bez regulacija 0.14145834044648598, velicina gradijenta0.029962870256550932\n",
      "Iteracija 3800, loss: 0.14058751653084836, bez regulacija 0.1405807628751776, velicina gradijenta0.029285737678053533\n",
      "Iteracija 3900, loss: 0.13974866253797041, bez regulacija 0.13974190499994082, velicina gradijenta0.02864095527293766\n",
      "Iteracija 4000, loss: 0.13894588479769288, bez regulacija 0.13893912339776532, velicina gradijenta0.028026336566207618\n",
      "Iteracija 4100, loss: 0.13817677397155628, bez regulacija 0.13817000873142854, velicina gradijenta0.02743988283311612\n",
      "Iteracija 4200, loss: 0.13743912973933894, bez regulacija 0.1374323606817617, velicina gradijenta0.026879763673863008\n",
      "Iteracija 4300, loss: 0.13673093885302462, bez regulacija 0.13672416600163892, velicina gradijenta0.02634429994188234\n",
      "Iteracija 4400, loss: 0.13605035587129494, bez regulacija 0.13604357925048843, velicina gradijenta0.02583194869709407\n",
      "Iteracija 4500, loss: 0.13539568620298442, bez regulacija 0.13538890583776442, velicina gradijenta0.025341289907701816\n",
      "Iteracija 4600, loss: 0.1347653711454449, bez regulacija 0.13475858706132582, velicina gradijenta0.024871014667019204\n",
      "Iteracija 4700, loss: 0.1341579746514454, bez regulacija 0.13415118687434924, velicina gradijenta0.02441991472723535\n",
      "Iteracija 4800, loss: 0.13357217159793264, bez regulacija 0.13356538015410074, velicina gradijenta0.02398687318142532\n",
      "Iteracija 4900, loss: 0.13300673736314675, bez regulacija 0.1329999422790617, velicina gradijenta0.023570856149612063\n"
     ]
    }
   ],
   "source": [
    "for i in range (5000):\n",
    "    lr = 0.01\n",
    "    z = np.clip(xtrain @ wL2, -500, 500)\n",
    "    pred = 1 / (1 + np.exp(-z))\n",
    "    lreg = -(np.mean(ytrain * np.log(pred + epsilon) + (1 - ytrain) * np.log(1 - pred + epsilon))) + (reg / (2 * m)) * np.sum(np.square(wL2[1:]))\n",
    "    l = -(np.mean(ytrain * np.log(pred + epsilon) + (1 - ytrain) * np.log(1 - pred + epsilon)))\n",
    "    gradijenti = (xtrain.T @ (pred - ytrain)) / m\n",
    "    gradijenti[1:] += (reg / m) * wL2[1:]\n",
    "    wL2 -= lr * gradijenti\n",
    "    l2grad = np.linalg.norm(gradijenti)\n",
    "    if i % 500 == 0:\n",
    "        lr = lr *.5\n",
    "\n",
    "    if i % 100 == 0:\n",
    "        print(f\"Iteracija {i}, loss: {lreg}, bez regulacija {l}, velicina gradijenta{l2grad}\")\n",
    "\n",
    "    if l2grad < 0.005:\n",
    "        break"
   ]
  },
  {
   "cell_type": "code",
   "execution_count": 263,
   "id": "b9c17cfe-aeea-48bc-855c-c224116786fa",
   "metadata": {},
   "outputs": [
    {
     "name": "stdout",
     "output_type": "stream",
     "text": [
      "Accuracy na trening skupu sa L2 regularizacijom: 0.95484\n",
      "Accuracy na dev skupu sa L2 regularizacijom: 0.9568\n"
     ]
    }
   ],
   "source": [
    "z = xtrain @ wL2\n",
    "pred = 1 / (1 + np.exp(-z))\n",
    "predtrain = (pred > 0.5).astype(int)\n",
    "preciznost = np.mean(predtrain == ytrain)\n",
    "print(\"Accuracy na trening skupu sa L2 regularizacijom:\", preciznost)\n",
    "zdev = np.clip(xdev @ wL2, -500, 500)\n",
    "pred = 1 / (1 + np.exp(-zdev))\n",
    "predicted_classes = (pred >= 0.5).astype(int)\n",
    "\n",
    "# Računaj tačnost poređenjem predviđenih klasa sa stvarnim oznakama\n",
    "accuracy = np.mean(predicted_classes == ydev)\n",
    "print(\"Accuracy na dev skupu sa L2 regularizacijom:\", accuracy)"
   ]
  },
  {
   "cell_type": "code",
   "execution_count": 251,
   "id": "e50ee46a-1de3-4657-bde2-ef7e95fea33f",
   "metadata": {},
   "outputs": [
    {
     "name": "stdout",
     "output_type": "stream",
     "text": [
      "1619\n",
      "0.97754\n",
      "0.95484\n"
     ]
    },
    {
     "data": {
      "text/plain": [
       "((50000,), (10000, 1))"
      ]
     },
     "execution_count": 251,
     "metadata": {},
     "output_type": "execute_result"
    }
   ],
   "source": [
    "model = LogisticRegression(penalty = 'l2',max_iter=5000)\n",
    "model.fit(xtrain, ytrain.reshape(-1,))\n",
    "\n",
    "ypredSklearn = model.predict(xtrain)\n",
    "\n",
    "print(abs(ypredSklearn - predtrain.reshape(-1,)).sum())\n",
    "\n",
    "print(accuracy_score(ypredSklearn, ytrain))\n",
    "\n",
    "print(accuracy_score(predtrain, ytrain))\n",
    "\n",
    "ypredSklearn.shape, pred.shape"
   ]
  },
  {
   "cell_type": "code",
   "execution_count": 259,
   "id": "2ce4c4b0-802a-4069-96cc-81af4b4d1717",
   "metadata": {},
   "outputs": [
    {
     "name": "stdout",
     "output_type": "stream",
     "text": [
      "1609\n",
      "0.9777\n",
      "0.95484\n"
     ]
    },
    {
     "data": {
      "text/plain": [
       "((50000,), (10000, 1))"
      ]
     },
     "execution_count": 259,
     "metadata": {},
     "output_type": "execute_result"
    }
   ],
   "source": [
    "model = LogisticRegression (solver=\"liblinear\",penalty = 'l2',max_iter=5000)\n",
    "model.fit(xtrain, ytrain.reshape(-1,))\n",
    "\n",
    "ypredSklearn = model.predict(xtrain)\n",
    "\n",
    "print(abs(ypredSklearn - predtrain.reshape(-1,)).sum())\n",
    "\n",
    "print(accuracy_score(ypredSklearn, ytrain))\n",
    "\n",
    "print(accuracy_score(predtrain, ytrain))\n",
    "\n",
    "ypredSklearn.shape, pred.shape"
   ]
  },
  {
   "cell_type": "code",
   "execution_count": 260,
   "id": "ba304dc0-2204-450f-987b-8012428ec11b",
   "metadata": {},
   "outputs": [
    {
     "name": "stdout",
     "output_type": "stream",
     "text": [
      "1633\n",
      "0.97818\n",
      "0.95484\n"
     ]
    },
    {
     "data": {
      "text/plain": [
       "((50000,), (10000, 1))"
      ]
     },
     "execution_count": 260,
     "metadata": {},
     "output_type": "execute_result"
    }
   ],
   "source": [
    "model = LogisticRegression (solver=\"liblinear\",penalty = 'l1',max_iter=5000)\n",
    "model.fit(xtrain, ytrain.reshape(-1,))\n",
    "\n",
    "ypredSklearn = model.predict(xtrain)\n",
    "\n",
    "print(abs(ypredSklearn - predtrain.reshape(-1,)).sum())\n",
    "\n",
    "print(accuracy_score(ypredSklearn, ytrain))\n",
    "\n",
    "print(accuracy_score(predtrain, ytrain))\n",
    "\n",
    "ypredSklearn.shape, pred.shape"
   ]
  },
  {
   "cell_type": "code",
   "execution_count": null,
   "id": "f34c112f-5d1c-4663-9b24-dd268c15b812",
   "metadata": {},
   "outputs": [],
   "source": []
  }
 ],
 "metadata": {
  "kernelspec": {
   "display_name": "Python 3 (ipykernel)",
   "language": "python",
   "name": "python3"
  },
  "language_info": {
   "codemirror_mode": {
    "name": "ipython",
    "version": 3
   },
   "file_extension": ".py",
   "mimetype": "text/x-python",
   "name": "python",
   "nbconvert_exporter": "python",
   "pygments_lexer": "ipython3",
   "version": "3.12.4"
  }
 },
 "nbformat": 4,
 "nbformat_minor": 5
}
