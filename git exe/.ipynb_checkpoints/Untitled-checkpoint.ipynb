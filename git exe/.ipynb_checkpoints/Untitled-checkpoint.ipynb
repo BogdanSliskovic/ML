{
 "cells": [
  {
   "cell_type": "code",
   "execution_count": 1,
   "id": "9f1e41cf-d99b-4e90-b34b-94127ad3b44a",
   "metadata": {},
   "outputs": [],
   "source": [
    "import os\n",
    "from datetime import date\n",
    "\n",
    "repoPath = r'C:\\Users\\bogdan.sliskovic\\Desktop\\bole\\ML'\n",
    "\n",
    "os.chdir(repoPath)\n",
    "os.system(\"git add .\")\n",
    "\n",
    "today = date.today()\n",
    "\n",
    "x = input('Kako zelis da nazoves commit?')\n",
    "os.system(f'git commit -m\"{today.day}/{today.month} {x}\"')\n",
    "\n",
    "os.system(\"git push\")"
   ]
  }
 ],
 "metadata": {
  "kernelspec": {
   "display_name": "Python 3 (ipykernel)",
   "language": "python",
   "name": "python3"
  },
  "language_info": {
   "codemirror_mode": {
    "name": "ipython",
    "version": 3
   },
   "file_extension": ".py",
   "mimetype": "text/x-python",
   "name": "python",
   "nbconvert_exporter": "python",
   "pygments_lexer": "ipython3",
   "version": "3.13.1"
  }
 },
 "nbformat": 4,
 "nbformat_minor": 5
}
