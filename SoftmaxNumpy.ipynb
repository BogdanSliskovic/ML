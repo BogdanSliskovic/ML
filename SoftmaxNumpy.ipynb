{
 "cells": [
  {
   "cell_type": "code",
   "execution_count": 35,
   "id": "8d0110fc-f640-46ac-9c64-92f98b473521",
   "metadata": {},
   "outputs": [
    {
     "name": "stdout",
     "output_type": "stream",
     "text": [
      "(50000, 785) (10000, 785) (10000, 785)\n",
      "1.0\n"
     ]
    },
    {
     "data": {
      "text/plain": [
       "((50000, 785),\n",
       " (10000, 785),\n",
       " (10000, 785),\n",
       " (50000, 10),\n",
       " (10000, 10),\n",
       " (10000, 10))"
      ]
     },
     "execution_count": 35,
     "metadata": {},
     "output_type": "execute_result"
    }
   ],
   "source": [
    "import numpy as np\n",
    "from sklearn.datasets import fetch_openml\n",
    "import joblib\n",
    "\n",
    "x, y = fetch_openml('mnist_784', version=1, return_X_y=True, as_frame= False)\n",
    "\n",
    "y = y.reshape(-1,1).astype(int)\n",
    "\n",
    "data = np.hstack((y, x))\n",
    "\n",
    "np.random.seed(42)\n",
    "np.random.shuffle(data)\n",
    "\n",
    "datatrain = data[:50000]\n",
    "datadev = data[50000:60000]\n",
    "datatest = data[60000:]\n",
    "\n",
    "print(datatrain.shape, datadev.shape, datatest.shape)\n",
    "\n",
    "def feature(df):\n",
    "    return np.hstack((np.ones((df.shape[0],1)), df[:,1:] / 255))\n",
    "\n",
    "def target(data):\n",
    "    y = data[:,0].reshape(-1).astype(int)\n",
    "    y = np.eye(np.max(y) + 1)[y]\n",
    "    return y\n",
    "\n",
    "xtrain, xdev, xtest = tuple(feature(skup) for skup in [datatrain, datadev, datatest])\n",
    "\n",
    "ytrain, ydev, ytest = tuple(target(skup) for skup in [datatrain, datadev, datatest])\n",
    "print(xtrain.max())\n",
    "xtrain.shape, xdev.shape, xtest.shape, ytrain.shape, ydev.shape, ytest.shape"
   ]
  },
  {
   "cell_type": "code",
   "execution_count": 2,
   "id": "9e71b631-f0d9-4ae3-90f0-6a5b895a568f",
   "metadata": {},
   "outputs": [
    {
     "data": {
      "text/plain": [
       "array([[0., 0., 0., ..., 0., 1., 0.],\n",
       "       [0., 0., 0., ..., 0., 0., 0.],\n",
       "       [0., 0., 0., ..., 0., 1., 0.],\n",
       "       ...,\n",
       "       [0., 0., 0., ..., 0., 0., 1.],\n",
       "       [0., 0., 1., ..., 0., 0., 0.],\n",
       "       [0., 0., 0., ..., 1., 0., 0.]])"
      ]
     },
     "execution_count": 2,
     "metadata": {},
     "output_type": "execute_result"
    }
   ],
   "source": [
    "ytrain"
   ]
  },
  {
   "cell_type": "code",
   "execution_count": 84,
   "id": "aeb227e9-187d-4fec-ae05-dddb07e91dbf",
   "metadata": {},
   "outputs": [],
   "source": [
    "class Logit():\n",
    "    \n",
    "    def __init__(self, lr=0.1, regularizacija='', reg=0.01, maxIter=None, nIter = None):      \n",
    "        '''Za regularizaciju uneti string 'l1' ili 'l2'\n",
    "        reg je regularizacioni parametar lambda \n",
    "        learning rate: pocetna brzina ucenja (polovi se na svakih 1000 iteracija) '''\n",
    "        \n",
    "        self.lr = lr\n",
    "        self.regularizacija = regularizacija\n",
    "        self.reg = reg\n",
    "        self.maxIter = maxIter\n",
    "        self.preciznostTrain= None\n",
    "        self.preciznostDev = None\n",
    "        self.historyW = []\n",
    "\n",
    "\n",
    "    def sigmoid(self, x, w = None):\n",
    "        if w is None:\n",
    "            w = self.w\n",
    "        z = x @ w\n",
    "        z = np.clip(z, -500, 500)\n",
    "        p = 1 / (1 + np.exp(-z))\n",
    "        return p\n",
    "\n",
    "    def softmax(self,x, w = None):\n",
    "        if w is None:\n",
    "            w = self.w\n",
    "        z = x @ w\n",
    "        z -= np.max(z, axis = 1, keepdims = True)\n",
    "        p = np.exp(z) / np.sum(np.exp(z), axis = 1, keepdims = True)\n",
    "        return p\n",
    "    \n",
    "    def predict(self, x, y =None):\n",
    "        \"\"\"Racuna binarne predikcije za ulazne podatke x.\n",
    "        Ako je prosleđen y, vraća dvojku (preciznost, predikcije).\"\"\"\n",
    "\n",
    "        if self.aktivacija == 'sigmoid':\n",
    "            p = self.sigmoid(x)\n",
    "            pred = (p > 0.5).astype(int)\n",
    "            if y is not None:\n",
    "                return (np.mean(pred == y), pred)\n",
    "            else:\n",
    "                return pred\n",
    "\n",
    "        elif self.aktivacija == 'softmax':\n",
    "            p = self.softmax(x)\n",
    "            pred = np.argmax(p, axis=1)\n",
    "            if y is not None:\n",
    "                return (np.mean(pred == np.argmax(y, axis=1)), pred)\n",
    "            else:\n",
    "                return pred\n",
    "        \n",
    "    def predictProba(self,x):\n",
    "        \"\"\"Vraca predikcije verovatnoca za ulazne podatke x. \"\"\"\n",
    "        \n",
    "        if self.aktivacija == 'sigmoid':\n",
    "            return self.sigmoid(x)\n",
    "            \n",
    "        elif self.aktivacija == 'softmax':\n",
    "            return self.softmax(x)\n",
    "        \n",
    "    def fit(self, x, y, xdev, ydev, randomState = 42, aktivacija = 'sigmoid'):\n",
    "        \"\"\"Treniranje modela koristeći grupni gradijentni spust (batch gradient descent).\n",
    "        Funkcija prati preciznost na trening i dev skupu.\n",
    "        Svakih 100 iteracija se čuvaju trenutne težine u self.historyW.\n",
    "        Ako preciznost na dev skupu opadne u odnosu na \n",
    "        4 evaluacije unazad, smatra se da je dostigao plato i\n",
    "        model se vraca na težine iz te iteracije i vraca\n",
    "        dvojku (preciznost na trening skupu, preciznost na dev skupu).\"\"\"\n",
    "        \n",
    "        m, n = x.shape\n",
    "        np.random.seed(randomState)\n",
    "        self.w = np.random.rand(n,y.shape[1]) - .5\n",
    "        trainscore = []\n",
    "        devscore = [0 for _ in range(4)]\n",
    "        i = 0\n",
    "        lr = self.lr\n",
    "        epsilon=.0000001\n",
    "        self.aktivacija = aktivacija\n",
    "        \n",
    "        while True:\n",
    "            z = x @ self.w\n",
    "            \n",
    "            if self.aktivacija == 'sigmoid':\n",
    "                p = self.sigmoid(x)\n",
    "                gradijenti = (x.T @ (p - y)) / m\n",
    "                l = -np.mean(y * np.log(p + epsilon) + (1 - y) * np.log(1 - p + epsilon))                \n",
    "                \n",
    "            elif self.aktivacija == 'softmax':\n",
    "                z -= np.max(z, axis = 1, keepdims = True)\n",
    "                p = np.exp(z) / np.sum(np.exp(z), axis = 1, keepdims = True)\n",
    "                gradijenti = (x.T @ (p - y)) / m\n",
    "                l = -np.mean(np.sum(y * np.log(p + epsilon), axis=1))\n",
    "                \n",
    "            else:\n",
    "                raise ValueError(\"Aktivacija mora biti 'sigmoid' ili 'softmax'\")\n",
    "\n",
    "            \n",
    "            if self.regularizacija.lower() == 'l1':\n",
    "                l += (self.reg / m) * np.sum(np.abs(self.w[1:]))\n",
    "                gradijenti[1:] += (self.reg / m) * np.sign(self.w[1:])\n",
    "            elif self.regularizacija.lower() == 'l2':\n",
    "                l += (self.reg / (2 * m)) * np.sum(np.square(self.w[1:]))\n",
    "                gradijenti[1:] += (self.reg / m) * self.w[1:]\n",
    "\n",
    "            self.w -= lr * gradijenti\n",
    "            \n",
    "            if i % 100 == 0:\n",
    "                self.historyW.append(self.w.copy())\n",
    "                preciznostTrain, _ = self.predict(x,y)\n",
    "                trainscore.append(preciznostTrain)\n",
    "                \n",
    "                preciznostDev, _ = self.predict(xdev, ydev)\n",
    "                devscore.append(preciznostDev)\n",
    "            \n",
    "            if i > 300 and (devscore[-1] - devscore[-5]) <= 0:\n",
    "                print(f\"Optimalni parametri su iz {i-300} iteracije\")\n",
    "                self.w = self.historyW[-4]\n",
    "                break\n",
    "            \n",
    "            if self.maxIter is not None and i >= self.maxIter:\n",
    "                print(f\"Maksimalan broj iteracija ({self.maxIter}) dostignut.\")\n",
    "                break\n",
    "            \n",
    "            if i % 1000 == 0 and i > 0:\n",
    "                lr *= 0.5\n",
    "                print(f\"Learning rate: {lr}, iteracija {i}\")\n",
    "                \n",
    "\n",
    "            i += 1\n",
    "        self.nIter = i - 300\n",
    "        self.preciznostTrain, _ = self.predict(x,y)\n",
    "        print(\"Preciznost na trening setu:\", self.preciznostTrain)\n",
    "\n",
    "        self.preciznostDev, _ = self.predict(xdev,ydev)\n",
    "        print(\"Preciznost na dev setu:\", self.preciznostDev)\n",
    "        \n",
    "        return self.preciznostTrain, self.preciznostDev\n",
    "\n",
    "    \n",
    "    def fitReg(self, x, y, xdev, ydev, listaRegularizacije):\n",
    "        '''Fituje model za svaki parametar lambda iz liste, cuva rezultate na dev skupu\n",
    "        na kraju fituje model sa lokalno optimalnim lambda parametrom i vraca recnik\n",
    "        {lambda : rezultat na dev skupu}'''\n",
    "\n",
    "        rezultati = []\n",
    "        for i in range(len(listaRegularizacije)):\n",
    "            self.reg = listaRegularizacije[i]\n",
    "            _, devScore = self.fit(x, y, xdev, ydev)\n",
    "            rezultati.append(devScore)\n",
    "            \n",
    "        self.w = self.historyW[np.argmax(rezultati)]\n",
    "        self.reg = listaRegularizacije[np.argmax(rezultati)]\n",
    "        self.fit(x, y, xdev, ydev)\n",
    "        return {self.reg : rezultati[np.argmax(rezultati)]}"
   ]
  },
  {
   "cell_type": "code",
   "execution_count": 4,
   "id": "28ef463b-d3bd-4cc2-a3ae-3305e889fab3",
   "metadata": {},
   "outputs": [],
   "source": [
    "np.random.seed(42)\n",
    "w = np.random.rand(xtrain.shape[1],y.shape[1]) - .5"
   ]
  },
  {
   "cell_type": "code",
   "execution_count": 5,
   "id": "e56751c0-4c8c-4d42-b400-e5c9f35f8e9c",
   "metadata": {},
   "outputs": [],
   "source": [
    "model = Logit()"
   ]
  },
  {
   "cell_type": "code",
   "execution_count": 8,
   "id": "b1f45670-ab5e-4c69-b69c-97d1816999ad",
   "metadata": {},
   "outputs": [
    {
     "name": "stdout",
     "output_type": "stream",
     "text": [
      "Learning rate: 0.05, iteracija 1000\n",
      "Optimalni parametri su iz 1500 iteracije\n",
      "Preciznost na trening setu: 0.978\n",
      "Preciznost na dev setu: 0.8395\n"
     ]
    },
    {
     "data": {
      "text/plain": [
       "(np.float64(0.978), np.float64(0.8395))"
      ]
     },
     "execution_count": 8,
     "metadata": {},
     "output_type": "execute_result"
    }
   ],
   "source": [
    "model.fit(xtrain[:1000],ytrain[:1000], xdev[:10000], ydev[:10000], aktivacija='softmax')"
   ]
  },
  {
   "cell_type": "code",
   "execution_count": 25,
   "id": "b889b205-b015-4b7b-a5bc-a9b6cd9a9fb7",
   "metadata": {},
   "outputs": [
    {
     "name": "stdout",
     "output_type": "stream",
     "text": [
      "(50000, 785) (10000, 785) (10000, 785)\n",
      "1.0\n"
     ]
    },
    {
     "data": {
      "text/plain": [
       "((50000, 785), (10000, 785), (10000, 785), (50000, 1), (10000, 1), (10000, 1))"
      ]
     },
     "execution_count": 25,
     "metadata": {},
     "output_type": "execute_result"
    }
   ],
   "source": [
    "x, y = fetch_openml('mnist_784', version=1, return_X_y=True, as_frame= False)\n",
    "\n",
    "y = y.astype(int).reshape(-1,1)\n",
    "y = np.where(y == 5, 1, 0)\n",
    "\n",
    "y = y.reshape(-1,1)\n",
    "\n",
    "data = np.hstack((y, x))\n",
    "\n",
    "np.random.seed(42)\n",
    "np.random.shuffle(data)\n",
    "\n",
    "datatrain = data[:50000]\n",
    "datadev = data[50000:60000]\n",
    "datatest = data[60000:]\n",
    "\n",
    "print(datatrain.shape, datadev.shape, datatest.shape)\n",
    "\n",
    "def feature(df):\n",
    "    return np.hstack((np.ones((df.shape[0],1)), df[:,1:] / 255))\n",
    "\n",
    "def target(data):\n",
    "    y = data[:,0].reshape(-1,1)\n",
    "    return y\n",
    "\n",
    "xtrain, xdev, xtest = tuple(feature(skup) for skup in [datatrain, datadev, datatest])\n",
    "\n",
    "ytrain, ydev, ytest = tuple(target(skup) for skup in [datatrain, datadev, datatest])\n",
    "print(xtrain.max())\n",
    "xtrain.shape, xdev.shape, xtest.shape, ytrain.shape, ydev.shape, ytest.shape"
   ]
  },
  {
   "cell_type": "code",
   "execution_count": 15,
   "id": "dc690a38-d260-4b94-8ac4-64bea908e13f",
   "metadata": {},
   "outputs": [
    {
     "data": {
      "text/plain": [
       "array([[1],\n",
       "       [0],\n",
       "       [0],\n",
       "       ...,\n",
       "       [0],\n",
       "       [1],\n",
       "       [0]])"
      ]
     },
     "execution_count": 15,
     "metadata": {},
     "output_type": "execute_result"
    }
   ],
   "source": [
    "y"
   ]
  },
  {
   "cell_type": "code",
   "execution_count": 66,
   "id": "6aa21c06-13e6-4916-a30c-7c9658444d08",
   "metadata": {},
   "outputs": [],
   "source": [
    "model = Logit()"
   ]
  },
  {
   "cell_type": "code",
   "execution_count": 17,
   "id": "45be3684-c58f-4186-9ae7-0e6d95bc43a4",
   "metadata": {},
   "outputs": [
    {
     "name": "stdout",
     "output_type": "stream",
     "text": [
      "Learning rate: 0.05, iteracija 1000\n",
      "Optimalni parametri su iz 1500 iteracije\n",
      "Preciznost na trening setu: 0.983\n",
      "Preciznost na dev setu: 0.9553\n"
     ]
    },
    {
     "data": {
      "text/plain": [
       "(np.float64(0.983), np.float64(0.9553))"
      ]
     },
     "execution_count": 17,
     "metadata": {},
     "output_type": "execute_result"
    }
   ],
   "source": [
    "model.fit(xtrain[:1000],ytrain[:1000], xdev[:10000], ydev[:10000], aktivacija='sigmoid')"
   ]
  },
  {
   "cell_type": "code",
   "execution_count": 18,
   "id": "efd4a9aa-ba1e-4c18-b6a0-da5db7bb3b43",
   "metadata": {},
   "outputs": [],
   "source": [
    "class NeuralnaMreza(Logit):\n",
    "    def __init__(self, slojevi, lr=0.1, regularizacija='', reg=0.01, maxIter=10000):\n",
    "        \"\"\"slojevi: prima listu\"\"\"\n",
    "        super().__init__(lr=lr, regularizacija=regularizacija, reg=reg, maxIter=maxIter)\n",
    "        self.slojevi = slojevi\n",
    "        self.weights = []  # Lista težina za svaki sloj\n",
    "        for i in range(len(slojevi) - 1):\n",
    "            W = np.random.randn(slojevi[i], slojevi[i+1]) * 0.01\n",
    "            self.weights.append(W)\n",
    "            "
   ]
  },
  {
   "cell_type": "code",
   "execution_count": null,
   "id": "c4429b35-83cb-4548-b469-4779c5c09ca5",
   "metadata": {},
   "outputs": [],
   "source": []
  },
  {
   "cell_type": "code",
   "execution_count": null,
   "id": "94cd8eb9-c8ae-4864-a1a4-d6b95c3fd700",
   "metadata": {},
   "outputs": [],
   "source": []
  },
  {
   "cell_type": "code",
   "execution_count": null,
   "id": "0e88519a-7eac-4779-8aab-f27293040573",
   "metadata": {},
   "outputs": [],
   "source": []
  },
  {
   "cell_type": "code",
   "execution_count": null,
   "id": "9e45162d-4d96-44fe-bc93-8b094f534e22",
   "metadata": {},
   "outputs": [],
   "source": []
  },
  {
   "cell_type": "code",
   "execution_count": 75,
   "id": "54b0dbf1-9568-4a5d-8307-ddbea708b908",
   "metadata": {},
   "outputs": [
    {
     "name": "stdout",
     "output_type": "stream",
     "text": [
      "(50000, 785) (10000, 785) (10000, 785)\n",
      "1.0\n"
     ]
    },
    {
     "data": {
      "text/plain": [
       "((50000, 785),\n",
       " (10000, 785),\n",
       " (10000, 785),\n",
       " (50000, 10),\n",
       " (10000, 10),\n",
       " (10000, 10))"
      ]
     },
     "execution_count": 75,
     "metadata": {},
     "output_type": "execute_result"
    }
   ],
   "source": [
    "import numpy as np\n",
    "from sklearn.datasets import fetch_openml\n",
    "import joblib\n",
    "\n",
    "x, y = fetch_openml('mnist_784', version=1, return_X_y=True, as_frame= False)\n",
    "\n",
    "y = y.reshape(-1,1).astype(int)\n",
    "\n",
    "data = np.hstack((y, x))\n",
    "\n",
    "np.random.seed(42)\n",
    "np.random.shuffle(data)\n",
    "\n",
    "datatrain = data[:50000]\n",
    "datadev = data[50000:60000]\n",
    "datatest = data[60000:]\n",
    "\n",
    "print(datatrain.shape, datadev.shape, datatest.shape)\n",
    "\n",
    "def feature(df):\n",
    "    return np.hstack((np.ones((df.shape[0],1)), df[:,1:] / 255))\n",
    "\n",
    "def target(data):\n",
    "    y = data[:,0].reshape(-1).astype(int)\n",
    "    y = np.eye(np.max(y) + 1)[y]\n",
    "    return y\n",
    "\n",
    "xtrain, xdev, xtest = tuple(feature(skup) for skup in [datatrain, datadev, datatest])\n",
    "\n",
    "ytrain, ydev, ytest = tuple(target(skup) for skup in [datatrain, datadev, datatest])\n",
    "print(xtrain.max())\n",
    "xtrain.shape, xdev.shape, xtest.shape, ytrain.shape, ydev.shape, ytest.shape"
   ]
  },
  {
   "cell_type": "code",
   "execution_count": 85,
   "id": "09699eee-3743-4296-9920-2579309cac0b",
   "metadata": {},
   "outputs": [],
   "source": [
    "logit = Logit()"
   ]
  },
  {
   "cell_type": "code",
   "execution_count": 76,
   "id": "c1bb1a3d-4b8a-4da8-921a-9027caeea859",
   "metadata": {},
   "outputs": [],
   "source": [
    "xtrain, ytrain = xtrain[:1000,1:], ytrain[:1000]"
   ]
  },
  {
   "cell_type": "code",
   "execution_count": 86,
   "id": "54626c4e-71ae-479c-b55e-8a5418b94382",
   "metadata": {},
   "outputs": [
    {
     "data": {
      "text/plain": [
       "((1000, 784), (1000, 10))"
      ]
     },
     "execution_count": 86,
     "metadata": {},
     "output_type": "execute_result"
    }
   ],
   "source": [
    "xtrain.shape, ytrain.shape"
   ]
  },
  {
   "cell_type": "code",
   "execution_count": 87,
   "id": "ebe0966d-37b3-46b2-8fae-98f5ac164f21",
   "metadata": {},
   "outputs": [],
   "source": [
    "logit.w =  np.random.rand(xtrain.shape[1],100) - .5\n",
    "logit.hidden = logit.sigmoid(xtrain)"
   ]
  },
  {
   "cell_type": "code",
   "execution_count": 88,
   "id": "1b432177-7c11-4cbb-b5b0-de59f7e59862",
   "metadata": {},
   "outputs": [
    {
     "data": {
      "text/plain": [
       "(1000, 100)"
      ]
     },
     "execution_count": 88,
     "metadata": {},
     "output_type": "execute_result"
    }
   ],
   "source": [
    "logit.hidden.shape"
   ]
  },
  {
   "cell_type": "code",
   "execution_count": 89,
   "id": "164bd6eb-f7a9-4582-a3be-c034d26d1292",
   "metadata": {},
   "outputs": [
    {
     "data": {
      "text/plain": [
       "(1000, 10)"
      ]
     },
     "execution_count": 89,
     "metadata": {},
     "output_type": "execute_result"
    }
   ],
   "source": [
    "logit.w = np.random.rand(100,10) - .5\n",
    "logit.softmax(logit.hidden).shape"
   ]
  },
  {
   "cell_type": "code",
   "execution_count": 90,
   "id": "9d2de7f4-2c81-425f-84d1-fc77c2aab97f",
   "metadata": {},
   "outputs": [
    {
     "data": {
      "text/plain": [
       "1"
      ]
     },
     "execution_count": 90,
     "metadata": {},
     "output_type": "execute_result"
    }
   ],
   "source": [
    "y.shape[1]"
   ]
  },
  {
   "cell_type": "code",
   "execution_count": 100,
   "id": "fb887f4e-847d-4fbb-bd07-46cffa0ee6f5",
   "metadata": {},
   "outputs": [],
   "source": [
    "def forwardPass(x, logit, hidden_dim=100, output_dim=10, randomState=42):\n",
    "    np.random.seed(randomState)\n",
    "    w1 = np.random.rand(x.shape[1], hidden_dim) - 0.5\n",
    "    \n",
    "    sloj1 = logit.sigmoid(x,w1)\n",
    "\n",
    "    w2 = np.random.rand(hidden_dim, output_dim) - 0.5\n",
    "    output = logit.softmax(sloj1,w2)\n",
    "\n",
    "    return output, sloj1, w1, w2"
   ]
  },
  {
   "cell_type": "code",
   "execution_count": 154,
   "id": "89164b9f-f124-4b83-992a-9b1bc4286b93",
   "metadata": {},
   "outputs": [],
   "source": [
    "m,n = xtrain.shape\n",
    "np.random.seed(42)\n",
    "w1 = np.random.rand(xtrain.shape[1], 100) - 0.5\n",
    "\n",
    "a1 = logit.sigmoid(xtrain,w1)\n",
    "\n",
    "w2 = np.random.rand(100,10) - 0.5\n",
    "a2 = logit.softmax(a1,w2)\n",
    "L = - np.sum(ytrain * np.log(a2 + .0000001))"
   ]
  },
  {
   "cell_type": "code",
   "execution_count": 155,
   "id": "4d24ee9d-4001-465f-bf07-23357357ad7b",
   "metadata": {},
   "outputs": [
    {
     "data": {
      "text/plain": [
       "np.float64(4219.572898444925)"
      ]
     },
     "execution_count": 155,
     "metadata": {},
     "output_type": "execute_result"
    }
   ],
   "source": [
    "L"
   ]
  },
  {
   "cell_type": "code",
   "execution_count": 158,
   "id": "893b5fde-546f-4e32-a6ad-55a0f92f0b06",
   "metadata": {},
   "outputs": [],
   "source": [
    "dL_dZ2 = ytrain - a2"
   ]
  },
  {
   "cell_type": "code",
   "execution_count": 161,
   "id": "297ec749-6f8b-4909-8076-d43d4edaca37",
   "metadata": {},
   "outputs": [
    {
     "data": {
      "text/plain": [
       "(1000, 10)"
      ]
     },
     "execution_count": 161,
     "metadata": {},
     "output_type": "execute_result"
    }
   ],
   "source": [
    "dL_dZ2.shape"
   ]
  },
  {
   "cell_type": "code",
   "execution_count": 139,
   "id": "d3ae49c9-289d-4ce0-ba97-86a95cc05297",
   "metadata": {},
   "outputs": [
    {
     "data": {
      "text/plain": [
       "((784, 100), (1000, 100), (100, 10), (1000, 10))"
      ]
     },
     "execution_count": 139,
     "metadata": {},
     "output_type": "execute_result"
    }
   ],
   "source": [
    "w1.shape, a1.shape, w2.shape, a2.shape"
   ]
  },
  {
   "cell_type": "code",
   "execution_count": 136,
   "id": "b75a344b-46bd-43f0-8f00-8d56cb6d91ce",
   "metadata": {},
   "outputs": [],
   "source": []
  },
  {
   "cell_type": "code",
   "execution_count": 137,
   "id": "6024ca04-b648-470f-9a4c-2191c65a7b8e",
   "metadata": {},
   "outputs": [
    {
     "data": {
      "text/plain": [
       "array([[ 0.18760051, -0.06810877, -0.04074528, -0.07777493, -0.01641848,\n",
       "        -0.02564077, -0.01749238, -0.03245849,  0.11478655, -0.02374795],\n",
       "       [ 0.01987831, -0.00806623, -0.00328452, -0.00207363, -0.00186262,\n",
       "        -0.00228448, -0.00274195, -0.01056964,  0.01425981, -0.00325506],\n",
       "       [ 0.26694007, -0.084962  , -0.0235122 , -0.0924703 , -0.0383996 ,\n",
       "        -0.06646079, -0.03111365, -0.0406729 ,  0.13246422, -0.02181286],\n",
       "       [ 0.20009542, -0.06200154, -0.02232641, -0.05035108, -0.02024361,\n",
       "        -0.05235028, -0.03378417, -0.01953606,  0.09823011, -0.03773239],\n",
       "       [ 0.18577108, -0.06648755, -0.03566436, -0.04098614, -0.0221159 ,\n",
       "        -0.02697471, -0.04529576, -0.04965895,  0.1059092 , -0.00449691],\n",
       "       [ 0.23910192, -0.03663388, -0.05549821, -0.08336278, -0.03986654,\n",
       "        -0.04784672, -0.04416994, -0.05159616,  0.14892828, -0.02905598],\n",
       "       [ 0.35650733, -0.08082392, -0.05401201, -0.09994293, -0.05585031,\n",
       "        -0.05696678, -0.0629698 , -0.07561974,  0.18532119, -0.05564304],\n",
       "       [ 0.31084519, -0.07306201, -0.02248751, -0.08756907, -0.04416901,\n",
       "        -0.06237332, -0.04258146, -0.07580263,  0.15126889, -0.05406908],\n",
       "       [ 0.18348284, -0.02488639, -0.0180583 , -0.07754337, -0.04825883,\n",
       "        -0.04053441, -0.01518025, -0.03265265,  0.11024127, -0.0366099 ],\n",
       "       [ 0.02811852, -0.01206616, -0.00358471, -0.00359648, -0.00862596,\n",
       "        -0.00360658, -0.00255652, -0.01311185,  0.02395407, -0.00492434],\n",
       "       [ 0.33194109, -0.08109855, -0.05257854, -0.0737709 , -0.07615914,\n",
       "        -0.05875867, -0.0685817 , -0.04850044,  0.19132524, -0.06381839],\n",
       "       [ 0.20161047, -0.03910622, -0.04455487, -0.05547201, -0.0192588 ,\n",
       "        -0.06336   , -0.04938844, -0.03254413,  0.12318118, -0.02110718],\n",
       "       [ 0.33830648, -0.08160758, -0.06648228, -0.09850796, -0.0602763 ,\n",
       "        -0.05354292, -0.06086878, -0.05869146,  0.1920185 , -0.05034768],\n",
       "       [ 0.25741936, -0.06715173, -0.03407256, -0.08731095, -0.05208606,\n",
       "        -0.05602173, -0.02921467, -0.0511642 ,  0.15228088, -0.03267833],\n",
       "       [ 0.25619893, -0.03189333, -0.04054892, -0.07672517, -0.05513249,\n",
       "        -0.0451388 , -0.02362857, -0.07179081,  0.13913008, -0.05047092],\n",
       "       [ 0.0830232 , -0.01692861, -0.01909975, -0.02234686, -0.01750505,\n",
       "        -0.00407524, -0.00715267, -0.01428966,  0.0403319 , -0.02195727],\n",
       "       [ 0.23411319, -0.02391874, -0.01920173, -0.03917673, -0.06865571,\n",
       "        -0.03449204, -0.05873153, -0.04422449,  0.11362146, -0.05933368],\n",
       "       [ 0.26392093, -0.03476317, -0.06301293, -0.07071035, -0.03372982,\n",
       "        -0.04818537, -0.05987715, -0.05036481,  0.13014361, -0.03342094],\n",
       "       [ 0.19393853, -0.07748166, -0.04392594, -0.05875528, -0.01593775,\n",
       "        -0.03569876, -0.03497082, -0.02708361,  0.11557135, -0.01565606],\n",
       "       [ 0.28432017, -0.03644993, -0.05391361, -0.08432812, -0.04234931,\n",
       "        -0.06189912, -0.02358938, -0.07653466,  0.14891658, -0.0541726 ],\n",
       "       [ 0.06491867, -0.02153086, -0.00526466, -0.0122748 , -0.0062187 ,\n",
       "        -0.00512526, -0.00539058, -0.03561191,  0.03202216, -0.00552406],\n",
       "       [ 0.33617721, -0.06876181, -0.05423778, -0.08476889, -0.05894494,\n",
       "        -0.06533891, -0.05809951, -0.06872045,  0.16399033, -0.04129524],\n",
       "       [ 0.263353  , -0.05216929, -0.05272234, -0.08005804, -0.04141229,\n",
       "        -0.03731388, -0.05404734, -0.03114341,  0.12769892, -0.04218533],\n",
       "       [ 0.35623202, -0.04762864, -0.0711621 , -0.1025849 , -0.06363973,\n",
       "        -0.07363488, -0.06706404, -0.06121298,  0.18936766, -0.05867242],\n",
       "       [ 0.06024822, -0.00618721, -0.01099763, -0.00417674, -0.0192081 ,\n",
       "        -0.00338739, -0.00528092, -0.02349846,  0.03020264, -0.01771441],\n",
       "       [ 0.28180817, -0.06304682, -0.02170174, -0.10271541, -0.03571102,\n",
       "        -0.05905341, -0.06506816, -0.05492634,  0.16512669, -0.04471196],\n",
       "       [ 0.2290783 , -0.04142899, -0.03249921, -0.06300615, -0.02760116,\n",
       "        -0.02865693, -0.02460174, -0.07632924,  0.11856532, -0.0535202 ],\n",
       "       [ 0.17546481, -0.0385505 , -0.0253689 , -0.01401725, -0.03245633,\n",
       "        -0.03038371, -0.05591827, -0.0388837 ,  0.07810724, -0.0179934 ],\n",
       "       [ 0.24071745, -0.07395489, -0.03966775, -0.06688784, -0.06360617,\n",
       "        -0.02234188, -0.04652212, -0.02284863,  0.12573369, -0.03062185],\n",
       "       [ 0.20578925, -0.07346489, -0.02348966, -0.08292407, -0.02585169,\n",
       "        -0.03044775, -0.02300066, -0.045181  ,  0.13442586, -0.03585538],\n",
       "       [ 0.29175268, -0.0761139 , -0.04143398, -0.09251059, -0.05030066,\n",
       "        -0.0370691 , -0.00867069, -0.07430723,  0.14842796, -0.05977449],\n",
       "       [ 0.10794243, -0.02965589, -0.0238744 , -0.02066092, -0.02866862,\n",
       "        -0.02167789, -0.03032816, -0.00488404,  0.06099381, -0.00918632],\n",
       "       [ 0.13126652, -0.02826894, -0.02700998, -0.02882623, -0.02466382,\n",
       "        -0.02366436, -0.02823189, -0.01180834,  0.04652058, -0.00531353],\n",
       "       [ 0.18797044, -0.03079176, -0.01832063, -0.03303658, -0.03848831,\n",
       "        -0.04223442, -0.02795946, -0.04569474,  0.09661166, -0.04805619],\n",
       "       [ 0.22471474, -0.03860256, -0.02619377, -0.02782247, -0.06524033,\n",
       "        -0.04469322, -0.05722354, -0.03782317,  0.11692215, -0.04403784],\n",
       "       [ 0.33349579, -0.06350169, -0.053506  , -0.0680135 , -0.07148319,\n",
       "        -0.05055752, -0.05987995, -0.07342293,  0.1691707 , -0.06230172],\n",
       "       [ 0.17172403, -0.0590574 , -0.01834902, -0.03026628, -0.01366893,\n",
       "        -0.0211387 , -0.01559506, -0.05233842,  0.07753568, -0.03884591],\n",
       "       [ 0.17577766, -0.02444631, -0.02477416, -0.03106266, -0.03878361,\n",
       "        -0.03825816, -0.02893499, -0.03034786,  0.06054005, -0.01970997],\n",
       "       [ 0.04704069, -0.00518701, -0.00695274, -0.0127445 , -0.01367951,\n",
       "        -0.01952243, -0.01258731, -0.01711747,  0.04481149, -0.00406121],\n",
       "       [ 0.31984191, -0.06245177, -0.06001434, -0.10129337, -0.05960383,\n",
       "        -0.06384458, -0.04432639, -0.04912711,  0.17610005, -0.05528056],\n",
       "       [ 0.25455298, -0.04097387, -0.05580418, -0.08816579, -0.02099279,\n",
       "        -0.05841725, -0.04548607, -0.05687436,  0.13649335, -0.02433202],\n",
       "       [ 0.11847274, -0.05383626, -0.00984825, -0.03504556, -0.01001808,\n",
       "        -0.04262122, -0.03293705, -0.01369678,  0.08436507, -0.00483461],\n",
       "       [ 0.40400904, -0.07893618, -0.07215209, -0.08902187, -0.07668498,\n",
       "        -0.0677138 , -0.08225857, -0.08365777,  0.20775247, -0.06133625],\n",
       "       [ 0.2613442 , -0.06509521, -0.02208274, -0.07580722, -0.04754082,\n",
       "        -0.05926593, -0.03343126, -0.05173009,  0.12629806, -0.03268898],\n",
       "       [ 0.20036264, -0.01799071, -0.02236123, -0.04281391, -0.03311059,\n",
       "        -0.0302132 , -0.01208031, -0.0712701 ,  0.0819845 , -0.05250708],\n",
       "       [ 0.36175476, -0.04558349, -0.05498793, -0.08621201, -0.07959624,\n",
       "        -0.06251925, -0.04536013, -0.08350241,  0.16772591, -0.0717192 ],\n",
       "       [ 0.30169675, -0.06293919, -0.03985163, -0.07418732, -0.04640577,\n",
       "        -0.05510833, -0.07150512, -0.07236785,  0.16854525, -0.04787681],\n",
       "       [ 0.35321797, -0.08576144, -0.051955  , -0.06381024, -0.07188191,\n",
       "        -0.06045551, -0.07769051, -0.07498932,  0.195043  , -0.06171703],\n",
       "       [ 0.31144534, -0.02331574, -0.04331897, -0.07307349, -0.0720803 ,\n",
       "        -0.0558442 , -0.07402482, -0.07466168,  0.16882311, -0.06394926],\n",
       "       [ 0.10636317, -0.01968045, -0.03143102, -0.01710437, -0.02616819,\n",
       "        -0.00709148, -0.02992635, -0.01664291,  0.04978369, -0.00810209],\n",
       "       [ 0.23287952, -0.0511895 , -0.02726754, -0.06202611, -0.02958445,\n",
       "        -0.04781672, -0.05696233, -0.05698185,  0.14161863, -0.04266964],\n",
       "       [ 0.21651044, -0.06166798, -0.04616886, -0.03882958, -0.03582364,\n",
       "        -0.02573883, -0.04383469, -0.0305817 ,  0.09974876, -0.03361392],\n",
       "       [ 0.05917297, -0.019892  , -0.00606656, -0.00820956, -0.00935772,\n",
       "        -0.00709456, -0.00803779, -0.01487856,  0.02903235, -0.01466857],\n",
       "       [ 0.30907702, -0.05395745, -0.04839444, -0.04291771, -0.06698958,\n",
       "        -0.04908504, -0.07363743, -0.04978731,  0.13107108, -0.05537914],\n",
       "       [ 0.21122396, -0.03358053, -0.06197307, -0.0343528 , -0.03374834,\n",
       "        -0.05479476, -0.07134913, -0.01852743,  0.10827997, -0.01117786],\n",
       "       [ 0.3465783 , -0.07815017, -0.06972538, -0.08356704, -0.07725373,\n",
       "        -0.04254339, -0.079969  , -0.05701567,  0.18308732, -0.04144123],\n",
       "       [ 0.23307849, -0.03587938, -0.05134067, -0.06540133, -0.04389653,\n",
       "        -0.03408793, -0.05488497, -0.06404931,  0.14138187, -0.02492024],\n",
       "       [ 0.19079437, -0.07644715, -0.05936651, -0.04088361, -0.01551983,\n",
       "        -0.03328907, -0.07750801, -0.02098124,  0.13859286, -0.00539181],\n",
       "       [ 0.32289118, -0.08753172, -0.050015  , -0.07964666, -0.04857603,\n",
       "        -0.03700437, -0.05189753, -0.06277073,  0.16634386, -0.07179299],\n",
       "       [ 0.07645894, -0.01995661, -0.01257727, -0.01340888, -0.0158633 ,\n",
       "        -0.01540757, -0.0298542 , -0.005864  ,  0.04230542, -0.00583253],\n",
       "       [ 0.32555324, -0.06568587, -0.06729284, -0.09096131, -0.05139806,\n",
       "        -0.05570935, -0.06298426, -0.08321252,  0.19402871, -0.04233773],\n",
       "       [ 0.03469791, -0.00450186, -0.00821682, -0.01450579, -0.00881405,\n",
       "        -0.00843356, -0.00584826, -0.00261249,  0.02388193, -0.00564701],\n",
       "       [ 0.35031858, -0.08289159, -0.06261055, -0.08290658, -0.0536736 ,\n",
       "        -0.05008851, -0.07592406, -0.07616975,  0.1875585 , -0.05361244],\n",
       "       [ 0.08837305, -0.03393375, -0.00294898, -0.02674365, -0.01130007,\n",
       "        -0.00887497, -0.00554779, -0.02852563,  0.04612117, -0.01661937],\n",
       "       [ 0.25665724, -0.02487944, -0.03496455, -0.08625797, -0.06178992,\n",
       "        -0.03760339, -0.04440578, -0.06084275,  0.14454193, -0.05045537],\n",
       "       [ 0.21198281, -0.06086642, -0.01460041, -0.0457459 , -0.04722898,\n",
       "        -0.03968422, -0.02059855, -0.04833786,  0.11550862, -0.0504291 ],\n",
       "       [ 0.39345088, -0.08612638, -0.06603478, -0.10220259, -0.07052718,\n",
       "        -0.06369533, -0.06909916, -0.06707009,  0.19372608, -0.06242145],\n",
       "       [ 0.25537655, -0.04756579, -0.05057913, -0.07789567, -0.03515059,\n",
       "        -0.05077734, -0.02546283, -0.06648666,  0.12742508, -0.02888362],\n",
       "       [ 0.12084869, -0.02468926, -0.02729992, -0.0190472 , -0.02465142,\n",
       "        -0.01439019, -0.02323684, -0.01777761,  0.06140216, -0.03115841],\n",
       "       [ 0.35465351, -0.07046694, -0.05770611, -0.0763031 , -0.06340172,\n",
       "        -0.06680103, -0.07087049, -0.06383814,  0.17278584, -0.05805181],\n",
       "       [ 0.09109348, -0.02058119, -0.00798571, -0.01071982, -0.0259437 ,\n",
       "        -0.00498996, -0.01028105, -0.02237321,  0.0518082 , -0.04002705],\n",
       "       [ 0.10504965, -0.02816217, -0.01430041, -0.01631034, -0.01491708,\n",
       "        -0.01348617, -0.03538328, -0.01675798,  0.05106776, -0.01679998],\n",
       "       [ 0.11384791, -0.04625791, -0.01738406, -0.04123277, -0.01439883,\n",
       "        -0.03437152, -0.01561728, -0.01516183,  0.08315147, -0.01257518],\n",
       "       [ 0.11346443, -0.03411372, -0.00593345, -0.01761391, -0.03281318,\n",
       "        -0.02119155, -0.0048684 , -0.039965  ,  0.06666807, -0.02363329],\n",
       "       [ 0.30564016, -0.06782476, -0.04724018, -0.09635817, -0.05135475,\n",
       "        -0.06302012, -0.06214554, -0.05493594,  0.17504408, -0.03780478],\n",
       "       [ 0.4006306 , -0.06499001, -0.07514532, -0.10336196, -0.08032704,\n",
       "        -0.07471578, -0.07546336, -0.07073196,  0.20981368, -0.06570884],\n",
       "       [ 0.32073473, -0.05730715, -0.05343728, -0.0709965 , -0.07180536,\n",
       "        -0.049476  , -0.0631143 , -0.05449952,  0.15279282, -0.05289144],\n",
       "       [ 0.29084047, -0.08735639, -0.05210429, -0.06709085, -0.03747592,\n",
       "        -0.03143093, -0.05799007, -0.06643247,  0.16086189, -0.05182144],\n",
       "       [ 0.33461159, -0.0473262 , -0.05869939, -0.07104561, -0.05839496,\n",
       "        -0.05269686, -0.06242536, -0.08852302,  0.15645211, -0.0519523 ],\n",
       "       [ 0.05380195, -0.01133785, -0.00315163, -0.03150108, -0.00360769,\n",
       "        -0.01955008, -0.00578319, -0.01619074,  0.03650007,  0.00082025],\n",
       "       [ 0.26568478, -0.06395401, -0.05338549, -0.0884697 , -0.03447449,\n",
       "        -0.04526188, -0.05300985, -0.05418571,  0.14217151, -0.01511516],\n",
       "       [ 0.26444806, -0.04073749, -0.06086636, -0.06774348, -0.04392614,\n",
       "        -0.05697205, -0.05156504, -0.05439304,  0.15368538, -0.04192984],\n",
       "       [ 0.05528603, -0.01906831, -0.00114429, -0.01906608, -0.01218359,\n",
       "        -0.03091267, -0.00248155, -0.00989635,  0.04046228, -0.00099547],\n",
       "       [ 0.11902772, -0.04068533, -0.0205338 , -0.03192991, -0.01580054,\n",
       "        -0.01454867, -0.01970074, -0.01651099,  0.06491908, -0.02423682],\n",
       "       [ 0.22094161, -0.03224557, -0.03687154, -0.0292175 , -0.03945537,\n",
       "        -0.03683294, -0.05168293, -0.04784001,  0.08343297, -0.03022872],\n",
       "       [ 0.21415472, -0.03455122, -0.0494355 , -0.03203214, -0.05137304,\n",
       "        -0.02626033, -0.05187262, -0.04770601,  0.1117398 , -0.03266366],\n",
       "       [ 0.27528632, -0.05647278, -0.04693075, -0.06461938, -0.05294794,\n",
       "        -0.06447185, -0.06003955, -0.04408539,  0.14768801, -0.03340668],\n",
       "       [ 0.13168891, -0.02686347, -0.02628751, -0.04837474, -0.02458066,\n",
       "        -0.04346772, -0.03125124, -0.02170736,  0.09479145, -0.00394768],\n",
       "       [ 0.32952445, -0.04749111, -0.0680243 , -0.09203942, -0.06222766,\n",
       "        -0.06227253, -0.04066102, -0.07781113,  0.16658214, -0.04557941],\n",
       "       [ 0.24200252, -0.0642762 , -0.04842946, -0.0909504 , -0.02760479,\n",
       "        -0.04030414, -0.03272924, -0.03812303,  0.12390608, -0.02349134],\n",
       "       [ 0.25034421, -0.03128254, -0.04780921, -0.07469389, -0.03383405,\n",
       "        -0.03737537, -0.02800904, -0.07705906,  0.12976503, -0.05004609],\n",
       "       [ 0.29326053, -0.01497182, -0.05928828, -0.06582515, -0.06614678,\n",
       "        -0.04135695, -0.06053283, -0.0723973 ,  0.14192467, -0.05466608],\n",
       "       [ 0.27739966, -0.0611667 , -0.04684954, -0.06115577, -0.06474489,\n",
       "        -0.03565768, -0.04210655, -0.06327115,  0.15196415, -0.05441153],\n",
       "       [ 0.27510884, -0.04578701, -0.04910602, -0.0692164 , -0.05081312,\n",
       "        -0.05105664, -0.04225181, -0.07694972,  0.15304797, -0.0429761 ],\n",
       "       [ 0.26800592, -0.02889343, -0.04340131, -0.07456904, -0.07199933,\n",
       "        -0.05289274, -0.03616286, -0.02708819,  0.13588168, -0.06888071],\n",
       "       [ 0.35191192, -0.04023975, -0.07682136, -0.07912515, -0.07279872,\n",
       "        -0.05597288, -0.08189114, -0.07115955,  0.16901928, -0.04292265],\n",
       "       [ 0.14199724, -0.04453892, -0.01432332, -0.04037893, -0.02612278,\n",
       "        -0.02865017, -0.0181472 , -0.03090997,  0.08286892, -0.02179488],\n",
       "       [ 0.32952161, -0.05804317, -0.05800449, -0.09945809, -0.06606394,\n",
       "        -0.06243544, -0.0535967 , -0.0556748 ,  0.17230532, -0.04855031],\n",
       "       [ 0.31333887, -0.03949453, -0.05823185, -0.06192032, -0.06226245,\n",
       "        -0.03239449, -0.07880419, -0.06987876,  0.13794388, -0.04829617],\n",
       "       [ 0.3248635 , -0.02348554, -0.054984  , -0.07908737, -0.07015998,\n",
       "        -0.06180292, -0.04608768, -0.07682114,  0.15682262, -0.06925749]])"
      ]
     },
     "execution_count": 137,
     "metadata": {},
     "output_type": "execute_result"
    }
   ],
   "source": [
    "(z1.T @ dz2) / m"
   ]
  },
  {
   "cell_type": "code",
   "execution_count": 117,
   "id": "c8c88fc1-8956-4b8f-8a99-b4ab4fbff2f8",
   "metadata": {},
   "outputs": [
    {
     "data": {
      "text/plain": [
       "(1000, 10)"
      ]
     },
     "execution_count": 117,
     "metadata": {},
     "output_type": "execute_result"
    }
   ],
   "source": [
    "dz2.shape"
   ]
  },
  {
   "cell_type": "code",
   "execution_count": 102,
   "id": "ad9c19aa-afa6-49f5-aa3f-45474830f912",
   "metadata": {},
   "outputs": [],
   "source": [
    "logit = Logit()\n",
    "np.random.seed(42)\n",
    "\n",
    "# 1. Inicijalizacija W1 (784 → 100)\n",
    "w1 = np.random.rand(xtrain.shape[1], 100) - 0.5  # (784, 100)\n",
    "\n",
    "# 2. Hidden layer (sigmoid aktivacija)\n",
    "hidden = logit.sigmoid(xtrain, w1)  # (1000, 100)\n",
    "\n",
    "# 3. Inicijalizacija W2 (100 → 10)\n",
    "w2 = np.random.rand(100, 10) - 0.5  # (100, 10)\n",
    "\n",
    "# 4. Output layer (softmax)\n",
    "output = logit.softmax(hidden, w2)  # (1000, 10)"
   ]
  },
  {
   "cell_type": "code",
   "execution_count": 27,
   "id": "669d8f1c-f33e-4445-b454-c26d17c78ef2",
   "metadata": {},
   "outputs": [
    {
     "data": {
      "text/plain": [
       "array([[0],\n",
       "       [0],\n",
       "       [0],\n",
       "       ...,\n",
       "       [0],\n",
       "       [0],\n",
       "       [0]])"
      ]
     },
     "execution_count": 27,
     "metadata": {},
     "output_type": "execute_result"
    }
   ],
   "source": [
    "y"
   ]
  },
  {
   "cell_type": "code",
   "execution_count": 19,
   "id": "7f29d671-6be7-4cf2-be1b-bf4ac080d17a",
   "metadata": {},
   "outputs": [
    {
     "data": {
      "text/plain": [
       "array([[8],\n",
       "       [4],\n",
       "       [8],\n",
       "       ...,\n",
       "       [9],\n",
       "       [2],\n",
       "       [7]])"
      ]
     },
     "execution_count": 19,
     "metadata": {},
     "output_type": "execute_result"
    }
   ],
   "source": [
    "datatrain[:,0].reshape(-1,1)"
   ]
  },
  {
   "cell_type": "code",
   "execution_count": 35,
   "id": "3285015b-8dbd-487b-a272-5200ef6226cc",
   "metadata": {},
   "outputs": [],
   "source": [
    "np.random.seed(42)\n",
    "ytrain = target(datatrain)\n",
    "logit.w = np.random.rand(xtrain.shape[1],ytrain.shape[1]) - .5"
   ]
  },
  {
   "cell_type": "code",
   "execution_count": 36,
   "id": "ef862db8-db82-4942-8b4c-d66aeb1c5fca",
   "metadata": {},
   "outputs": [
    {
     "data": {
      "text/plain": [
       "(784, 10)"
      ]
     },
     "execution_count": 36,
     "metadata": {},
     "output_type": "execute_result"
    }
   ],
   "source": [
    "logit.w.shape"
   ]
  },
  {
   "cell_type": "code",
   "execution_count": null,
   "id": "3bc03b00-2616-40af-96f9-08d18d133521",
   "metadata": {},
   "outputs": [],
   "source": []
  },
  {
   "cell_type": "code",
   "execution_count": null,
   "id": "ded18501-d0f0-43dd-9470-b02a20388734",
   "metadata": {},
   "outputs": [],
   "source": []
  },
  {
   "cell_type": "code",
   "execution_count": null,
   "id": "3dcb461b-85f3-4b9a-ba06-a8fb47606648",
   "metadata": {},
   "outputs": [],
   "source": []
  },
  {
   "cell_type": "code",
   "execution_count": null,
   "id": "b2a57e59-223a-411d-86be-df9a78e6054d",
   "metadata": {},
   "outputs": [],
   "source": []
  },
  {
   "cell_type": "code",
   "execution_count": null,
   "id": "0e74e9b6-3fc0-45e9-ad3a-df7b7467ba48",
   "metadata": {},
   "outputs": [],
   "source": []
  },
  {
   "cell_type": "code",
   "execution_count": null,
   "id": "cb53d084-d3b2-416a-bd48-46b17ce963ba",
   "metadata": {},
   "outputs": [],
   "source": []
  },
  {
   "cell_type": "code",
   "execution_count": 47,
   "id": "274b77d4-0d65-4355-8ac9-5fee27fa452b",
   "metadata": {},
   "outputs": [
    {
     "name": "stdout",
     "output_type": "stream",
     "text": [
      "(1000, 784) (1000, 10)\n"
     ]
    },
    {
     "data": {
      "text/plain": [
       "array([[5],\n",
       "       [0],\n",
       "       [4],\n",
       "       ...,\n",
       "       [4],\n",
       "       [5],\n",
       "       [6]])"
      ]
     },
     "execution_count": 47,
     "metadata": {},
     "output_type": "execute_result"
    }
   ],
   "source": [
    "print(xtrain.shape, ytrain.shape)\n",
    "\n",
    "np.random.seed(42)\n",
    "logit.w = np.random.rand(784,100) - .5\n",
    "\n",
    "y"
   ]
  },
  {
   "cell_type": "code",
   "execution_count": 48,
   "id": "955310fe-9e49-4361-827f-847ddaa23fa3",
   "metadata": {},
   "outputs": [
    {
     "data": {
      "text/plain": [
       "((784, 100), (1000, 784))"
      ]
     },
     "execution_count": 48,
     "metadata": {},
     "output_type": "execute_result"
    }
   ],
   "source": [
    "logit.w.shape, xtrain.shape"
   ]
  },
  {
   "cell_type": "code",
   "execution_count": 51,
   "id": "8902f628-afeb-4ee0-a7cd-6012d2decc2c",
   "metadata": {},
   "outputs": [
    {
     "data": {
      "text/plain": [
       "(1000, 100)"
      ]
     },
     "execution_count": 51,
     "metadata": {},
     "output_type": "execute_result"
    }
   ],
   "source": [
    "logit.z = xtrain @ logit.w\n",
    "logit.z.shape"
   ]
  },
  {
   "cell_type": "code",
   "execution_count": 53,
   "id": "c695e8fb-4abc-422d-92da-cfe84c21f44d",
   "metadata": {},
   "outputs": [
    {
     "data": {
      "text/plain": [
       "(1000, 100)"
      ]
     },
     "execution_count": 53,
     "metadata": {},
     "output_type": "execute_result"
    }
   ],
   "source": [
    "logit.hidden = logit.sigmoid(xtrain)\n",
    "logit.hidden.shape"
   ]
  },
  {
   "cell_type": "code",
   "execution_count": 64,
   "id": "ebe19be8-29f7-4c5c-8f58-a5807e41c36d",
   "metadata": {},
   "outputs": [],
   "source": [
    "np.random.seed(42)\n",
    "logit.w = np.random.rand(100,10) - .5"
   ]
  },
  {
   "cell_type": "code",
   "execution_count": 65,
   "id": "f3a81f60-a179-416b-aaf2-5257601f6a67",
   "metadata": {},
   "outputs": [
    {
     "data": {
      "text/plain": [
       "((100, 10), (1000, 100))"
      ]
     },
     "execution_count": 65,
     "metadata": {},
     "output_type": "execute_result"
    }
   ],
   "source": [
    "logit.w.shape, logit.hidden.shape"
   ]
  },
  {
   "cell_type": "code",
   "execution_count": 66,
   "id": "82eb63d8-f391-48f4-a030-7fdd17ea268a",
   "metadata": {},
   "outputs": [
    {
     "data": {
      "text/plain": [
       "(1000, 10)"
      ]
     },
     "execution_count": 66,
     "metadata": {},
     "output_type": "execute_result"
    }
   ],
   "source": [
    "logit.z2 = logit.hidden @logit.w\n",
    "logit.z2.shape"
   ]
  },
  {
   "cell_type": "code",
   "execution_count": 67,
   "id": "acf3d412-6d19-4719-8b4d-866bc97df446",
   "metadata": {},
   "outputs": [
    {
     "ename": "ValueError",
     "evalue": "matmul: Input operand 1 has a mismatch in its core dimension 0, with gufunc signature (n?,k),(k,m?)->(n?,m?) (size 100 is different from 10)",
     "output_type": "error",
     "traceback": [
      "\u001b[1;31m---------------------------------------------------------------------------\u001b[0m",
      "\u001b[1;31mValueError\u001b[0m                                Traceback (most recent call last)",
      "Cell \u001b[1;32mIn[67], line 1\u001b[0m\n\u001b[1;32m----> 1\u001b[0m \u001b[43mlogit\u001b[49m\u001b[38;5;241;43m.\u001b[39;49m\u001b[43msoftmax\u001b[49m\u001b[43m(\u001b[49m\u001b[43mlogit\u001b[49m\u001b[38;5;241;43m.\u001b[39;49m\u001b[43mz2\u001b[49m\u001b[43m)\u001b[49m\n",
      "Cell \u001b[1;32mIn[3], line 24\u001b[0m, in \u001b[0;36mLogit.softmax\u001b[1;34m(self, x)\u001b[0m\n\u001b[0;32m     23\u001b[0m \u001b[38;5;28;01mdef\u001b[39;00m\u001b[38;5;250m \u001b[39m\u001b[38;5;21msoftmax\u001b[39m(\u001b[38;5;28mself\u001b[39m,x):\n\u001b[1;32m---> 24\u001b[0m     z \u001b[38;5;241m=\u001b[39m \u001b[43mx\u001b[49m\u001b[43m \u001b[49m\u001b[38;5;241;43m@\u001b[39;49m\u001b[43m \u001b[49m\u001b[38;5;28;43mself\u001b[39;49m\u001b[38;5;241;43m.\u001b[39;49m\u001b[43mw\u001b[49m\n\u001b[0;32m     25\u001b[0m     z \u001b[38;5;241m-\u001b[39m\u001b[38;5;241m=\u001b[39m np\u001b[38;5;241m.\u001b[39mmax(z, axis \u001b[38;5;241m=\u001b[39m \u001b[38;5;241m1\u001b[39m, keepdims \u001b[38;5;241m=\u001b[39m \u001b[38;5;28;01mTrue\u001b[39;00m)\n\u001b[0;32m     26\u001b[0m     p \u001b[38;5;241m=\u001b[39m np\u001b[38;5;241m.\u001b[39mexp(z) \u001b[38;5;241m/\u001b[39m np\u001b[38;5;241m.\u001b[39msum(np\u001b[38;5;241m.\u001b[39mexp(z), axis \u001b[38;5;241m=\u001b[39m \u001b[38;5;241m1\u001b[39m, keepdims \u001b[38;5;241m=\u001b[39m \u001b[38;5;28;01mTrue\u001b[39;00m)\n",
      "\u001b[1;31mValueError\u001b[0m: matmul: Input operand 1 has a mismatch in its core dimension 0, with gufunc signature (n?,k),(k,m?)->(n?,m?) (size 100 is different from 10)"
     ]
    }
   ],
   "source": [
    "logit.softmax(logit.z2)"
   ]
  },
  {
   "cell_type": "code",
   "execution_count": null,
   "id": "ed9cde16-9cee-4704-b249-6a43f2b8d847",
   "metadata": {},
   "outputs": [],
   "source": []
  },
  {
   "cell_type": "code",
   "execution_count": null,
   "id": "a531fd18-67f5-488a-b25b-0698810a6463",
   "metadata": {},
   "outputs": [],
   "source": []
  },
  {
   "cell_type": "code",
   "execution_count": null,
   "id": "3be9c4b4-fc39-45cd-9f94-38d26d8a620a",
   "metadata": {},
   "outputs": [],
   "source": [
    "xtrain.shape"
   ]
  },
  {
   "cell_type": "code",
   "execution_count": null,
   "id": "23a5c7e7-ab03-4937-8763-40f0cf836c73",
   "metadata": {},
   "outputs": [],
   "source": []
  }
 ],
 "metadata": {
  "kernelspec": {
   "display_name": "Python 3 (ipykernel)",
   "language": "python",
   "name": "python3"
  },
  "language_info": {
   "codemirror_mode": {
    "name": "ipython",
    "version": 3
   },
   "file_extension": ".py",
   "mimetype": "text/x-python",
   "name": "python",
   "nbconvert_exporter": "python",
   "pygments_lexer": "ipython3",
   "version": "3.13.1"
  }
 },
 "nbformat": 4,
 "nbformat_minor": 5
}
