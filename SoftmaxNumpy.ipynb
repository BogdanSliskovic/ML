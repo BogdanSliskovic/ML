{
 "cells": [
  {
   "cell_type": "code",
   "execution_count": 253,
   "id": "8d0110fc-f640-46ac-9c64-92f98b473521",
   "metadata": {},
   "outputs": [
    {
     "name": "stdout",
     "output_type": "stream",
     "text": [
      "(50000, 785) (10000, 785) (10000, 785)\n",
      "1.0\n"
     ]
    },
    {
     "data": {
      "text/plain": [
       "((50000, 785),\n",
       " (10000, 785),\n",
       " (10000, 785),\n",
       " (50000, 10),\n",
       " (10000, 10),\n",
       " (10000, 10))"
      ]
     },
     "execution_count": 253,
     "metadata": {},
     "output_type": "execute_result"
    }
   ],
   "source": [
    "import numpy as np\n",
    "from sklearn.datasets import fetch_openml\n",
    "import joblib\n",
    "\n",
    "x, y = fetch_openml('mnist_784', version=1, return_X_y=True, as_frame= False)\n",
    "\n",
    "y = y.reshape(-1,1).astype(int)\n",
    "\n",
    "data = np.hstack((y, x))\n",
    "\n",
    "np.random.seed(42)\n",
    "np.random.shuffle(data)\n",
    "\n",
    "datatrain = data[:50000]\n",
    "datadev = data[50000:60000]\n",
    "datatest = data[60000:]\n",
    "\n",
    "print(datatrain.shape, datadev.shape, datatest.shape)\n",
    "\n",
    "def feature(df):\n",
    "    return np.hstack((np.ones((df.shape[0],1)), df[:,1:] / 255))\n",
    "\n",
    "def target(data):\n",
    "    y = data[:,0].reshape(-1).astype(int)\n",
    "    y = np.eye(np.max(y) + 1)[y]\n",
    "    return y\n",
    "\n",
    "xtrain, xdev, xtest = tuple(feature(skup) for skup in [datatrain, datadev, datatest])\n",
    "\n",
    "ytrain, ydev, ytest = tuple(target(skup) for skup in [datatrain, datadev, datatest])\n",
    "print(xtrain.max())\n",
    "xtrain.shape, xdev.shape, xtest.shape, ytrain.shape, ydev.shape, ytest.shape"
   ]
  },
  {
   "cell_type": "code",
   "execution_count": 230,
   "id": "9e71b631-f0d9-4ae3-90f0-6a5b895a568f",
   "metadata": {},
   "outputs": [
    {
     "data": {
      "text/plain": [
       "array([[0., 0., 0., ..., 0., 1., 0.],\n",
       "       [0., 0., 0., ..., 0., 0., 0.],\n",
       "       [0., 0., 0., ..., 0., 1., 0.],\n",
       "       ...,\n",
       "       [0., 0., 0., ..., 0., 0., 1.],\n",
       "       [0., 0., 1., ..., 0., 0., 0.],\n",
       "       [0., 0., 0., ..., 1., 0., 0.]])"
      ]
     },
     "execution_count": 230,
     "metadata": {},
     "output_type": "execute_result"
    }
   ],
   "source": [
    "ytrain"
   ]
  },
  {
   "cell_type": "code",
   "execution_count": 145,
   "id": "aeb227e9-187d-4fec-ae05-dddb07e91dbf",
   "metadata": {},
   "outputs": [],
   "source": [
    "class Logit():\n",
    "    \n",
    "    def __init__(self, lr=0.1, regularizacija='', reg=0.01, maxIter=None, nIter = None):      \n",
    "        '''Za regularizaciju uneti string 'l1' ili 'l2'\n",
    "        reg je regularizacioni parametar lambda \n",
    "        learning rate: pocetna brzina ucenja (polovi se na svakih 1000 iteracija) '''\n",
    "        \n",
    "        self.lr = lr\n",
    "        self.regularizacija = regularizacija\n",
    "        self.reg = reg\n",
    "        self.maxIter = maxIter\n",
    "        self.preciznostTrain= None\n",
    "        self.preciznostDev = None\n",
    "        self.historyW = []\n",
    "\n",
    "\n",
    "    def sigmoid(self, x):\n",
    "        z = x @ self.w\n",
    "        z = np.clip(z, -500, 500)\n",
    "        p = 1 / (1 + np.exp(-z))\n",
    "        return p\n",
    "\n",
    "    def softmax(self,x):\n",
    "        z = x @ self.w\n",
    "        z -= np.max(z, axis = 1, keepdims = True)\n",
    "        p = np.exp(z) / np.sum(np.exp(z), axis = 1, keepdims = True)\n",
    "        return p\n",
    "    \n",
    "    def predict(self, x, y =None):\n",
    "        \"\"\"Racuna binarne predikcije za ulazne podatke x.\n",
    "        Ako je prosleđen y, vraća dvojku (preciznost, predikcije).\"\"\"\n",
    "\n",
    "        if self.aktivacija == 'sigmoid':\n",
    "            p = self.sigmoid(x)\n",
    "            pred = (p > 0.5).astype(int)\n",
    "            if y is not None:\n",
    "                return (np.mean(pred == y), pred)\n",
    "            else:\n",
    "                return pred\n",
    "\n",
    "        elif self.aktivacija == 'softmax':\n",
    "            p = self.softmax(x)\n",
    "            pred = np.argmax(p, axis=1)\n",
    "            if y is not None:\n",
    "                return (np.mean(pred == np.argmax(y, axis=1)), pred)\n",
    "            else:\n",
    "                return pred\n",
    "        \n",
    "    def predictProba(self,x):\n",
    "        \"\"\"Vraca predikcije verovatnoca za ulazne podatke x. \"\"\"\n",
    "        \n",
    "        if self.aktivacija == 'sigmoid':\n",
    "            return self.sigmoid(x)\n",
    "            \n",
    "        elif self.aktivacija == 'softmax':\n",
    "            return self.softmax(x)\n",
    "        \n",
    "    def fit(self, x, y, xdev, ydev, randomState = 42, aktivacija = 'sigmoid'):\n",
    "        \"\"\"Treniranje modela koristeći grupni gradijentni spust (batch gradient descent).\n",
    "        Funkcija prati preciznost na trening i dev skupu.\n",
    "        Svakih 100 iteracija se čuvaju trenutne težine u self.historyW.\n",
    "        Ako preciznost na dev skupu opadne u odnosu na \n",
    "        4 evaluacije unazad, smatra se da je dostigao plato i\n",
    "        model se vraca na težine iz te iteracije i vraca\n",
    "        dvojku (preciznost na trening skupu, preciznost na dev skupu).\"\"\"\n",
    "        \n",
    "        m, n = x.shape\n",
    "        np.random.seed(randomState)\n",
    "        self.w = np.random.rand(n,y.shape[1]) - .5\n",
    "        trainscore = []\n",
    "        devscore = [0 for _ in range(4)]\n",
    "        i = 0\n",
    "        lr = self.lr\n",
    "        epsilon=.0000001\n",
    "        self.aktivacija = aktivacija\n",
    "        \n",
    "        while True:\n",
    "            z = x @ self.w\n",
    "            \n",
    "            if self.aktivacija == 'sigmoid':\n",
    "                p = self.sigmoid(x)\n",
    "                gradijenti = (x.T @ (p - y)) / m\n",
    "                l = -np.mean(y * np.log(p + epsilon) + (1 - y) * np.log(1 - p + epsilon))                \n",
    "                \n",
    "            elif self.aktivacija == 'softmax':\n",
    "                z -= np.max(z, axis = 1, keepdims = True)\n",
    "                p = np.exp(z) / np.sum(np.exp(z), axis = 1, keepdims = True)\n",
    "                gradijenti = (x.T @ (p - y)) / m\n",
    "                l = -np.mean(np.sum(y * np.log(p + epsilon), axis=1))\n",
    "                \n",
    "            else:\n",
    "                raise ValueError(\"Aktivacija mora biti 'sigmoid' ili 'softmax'\")\n",
    "\n",
    "            \n",
    "            if self.regularizacija.lower() == 'l1':\n",
    "                l += (self.reg / m) * np.sum(np.abs(self.w[1:]))\n",
    "                gradijenti[1:] += (self.reg / m) * np.sign(self.w[1:])\n",
    "            elif self.regularizacija.lower() == 'l2':\n",
    "                l += (self.reg / (2 * m)) * np.sum(np.square(self.w[1:]))\n",
    "                gradijenti[1:] += (self.reg / m) * self.w[1:]\n",
    "\n",
    "            self.w -= lr * gradijenti\n",
    "            \n",
    "            if i % 100 == 0:\n",
    "                self.historyW.append(self.w.copy())\n",
    "                preciznostTrain, _ = self.predict(x,y)\n",
    "                trainscore.append(preciznostTrain)\n",
    "                \n",
    "                preciznostDev, _ = self.predict(xdev, ydev)\n",
    "                devscore.append(preciznostDev)\n",
    "            \n",
    "            if i > 300 and (devscore[-1] - devscore[-5]) <= 0:\n",
    "                print(f\"Optimalni parametri su iz {i-300} iteracije\")\n",
    "                self.w = self.historyW[-4]\n",
    "                break\n",
    "            \n",
    "            if self.maxIter is not None and i >= self.maxIter:\n",
    "                print(f\"Maksimalan broj iteracija ({self.maxIter}) dostignut.\")\n",
    "                break\n",
    "            \n",
    "            if i % 1000 == 0 and i > 0:\n",
    "                lr *= 0.5\n",
    "                print(f\"Learning rate: {lr}, iteracija {i}\")\n",
    "                \n",
    "\n",
    "            i += 1\n",
    "        self.nIter = i - 300\n",
    "        self.preciznostTrain, _ = self.predict(x,y)\n",
    "        print(\"Preciznost na trening setu:\", self.preciznostTrain)\n",
    "\n",
    "        self.preciznostDev, _ = self.predict(xdev,ydev)\n",
    "        print(\"Preciznost na dev setu:\", self.preciznostDev)\n",
    "        \n",
    "        return self.preciznostTrain, self.preciznostDev\n",
    "\n",
    "    \n",
    "    def fitReg(self, x, y, xdev, ydev, listaRegularizacije):\n",
    "        '''Fituje model za svaki parametar lambda iz liste, cuva rezultate na dev skupu\n",
    "        na kraju fituje model sa lokalno optimalnim lambda parametrom i vraca recnik\n",
    "        {lambda : rezultat na dev skupu}'''\n",
    "\n",
    "        rezultati = []\n",
    "        for i in range(len(listaRegularizacije)):\n",
    "            self.reg = listaRegularizacije[i]\n",
    "            _, devScore = self.fit(x, y, xdev, ydev)\n",
    "            rezultati.append(devScore)\n",
    "            \n",
    "        self.w = self.historyW[np.argmax(rezultati)]\n",
    "        self.reg = listaRegularizacije[np.argmax(rezultati)]\n",
    "        self.fit(x, y, xdev, ydev)\n",
    "        return {self.reg : rezultati[np.argmax(rezultati)]}"
   ]
  },
  {
   "cell_type": "code",
   "execution_count": 171,
   "id": "28ef463b-d3bd-4cc2-a3ae-3305e889fab3",
   "metadata": {},
   "outputs": [],
   "source": [
    "np.random.seed(42)\n",
    "w = np.random.rand(xtrain.shape[1],y.shape[1]) - .5"
   ]
  },
  {
   "cell_type": "code",
   "execution_count": 172,
   "id": "e56751c0-4c8c-4d42-b400-e5c9f35f8e9c",
   "metadata": {},
   "outputs": [],
   "source": [
    "model = Logit()"
   ]
  },
  {
   "cell_type": "code",
   "execution_count": 173,
   "id": "b1f45670-ab5e-4c69-b69c-97d1816999ad",
   "metadata": {},
   "outputs": [
    {
     "name": "stdout",
     "output_type": "stream",
     "text": [
      "Learning rate: 0.05, iteracija 1000\n",
      "Learning rate: 0.025, iteracija 2000\n",
      "Learning rate: 0.0125, iteracija 3000\n",
      "Optimalni parametri su iz 3300 iteracije\n",
      "Preciznost na trening setu: 0.8206\n",
      "Preciznost na dev setu: 0.7924\n"
     ]
    },
    {
     "data": {
      "text/plain": [
       "(0.8206, 0.7924)"
      ]
     },
     "execution_count": 173,
     "metadata": {},
     "output_type": "execute_result"
    }
   ],
   "source": [
    "model.fit(xtrain[:5000],ytrain[:5000], xdev[:10000], ydev[:10000], aktivacija='softmax')"
   ]
  },
  {
   "cell_type": "code",
   "execution_count": 187,
   "id": "b889b205-b015-4b7b-a5bc-a9b6cd9a9fb7",
   "metadata": {},
   "outputs": [
    {
     "name": "stdout",
     "output_type": "stream",
     "text": [
      "(50000, 785) (10000, 785) (10000, 785)\n",
      "1.0\n"
     ]
    },
    {
     "data": {
      "text/plain": [
       "((50000, 785), (10000, 785), (10000, 785), (50000, 1), (10000, 1), (10000, 1))"
      ]
     },
     "execution_count": 187,
     "metadata": {},
     "output_type": "execute_result"
    }
   ],
   "source": [
    "x, y = fetch_openml('mnist_784', version=1, return_X_y=True, as_frame= False)\n",
    "\n",
    "y = y.astype(int).reshape(-1,1)\n",
    "y = np.where(y == 5, 1, 0)\n",
    "\n",
    "y = y.reshape(-1,1)\n",
    "\n",
    "data = np.hstack((y, x))\n",
    "\n",
    "np.random.seed(42)\n",
    "np.random.shuffle(data)\n",
    "\n",
    "datatrain = data[:50000]\n",
    "datadev = data[50000:60000]\n",
    "datatest = data[60000:]\n",
    "\n",
    "print(datatrain.shape, datadev.shape, datatest.shape)\n",
    "\n",
    "def feature(df):\n",
    "    return np.hstack((np.ones((df.shape[0],1)), df[:,1:] / 255))\n",
    "\n",
    "def target(data):\n",
    "    y = data[:,0].reshape(-1,1)\n",
    "    return y\n",
    "\n",
    "xtrain, xdev, xtest = tuple(feature(skup) for skup in [datatrain, datadev, datatest])\n",
    "\n",
    "ytrain, ydev, ytest = tuple(target(skup) for skup in [datatrain, datadev, datatest])\n",
    "print(xtrain.max())\n",
    "xtrain.shape, xdev.shape, xtest.shape, ytrain.shape, ydev.shape, ytest.shape"
   ]
  },
  {
   "cell_type": "code",
   "execution_count": 188,
   "id": "dc690a38-d260-4b94-8ac4-64bea908e13f",
   "metadata": {},
   "outputs": [
    {
     "data": {
      "text/plain": [
       "array([[1],\n",
       "       [0],\n",
       "       [0],\n",
       "       ...,\n",
       "       [0],\n",
       "       [1],\n",
       "       [0]])"
      ]
     },
     "execution_count": 188,
     "metadata": {},
     "output_type": "execute_result"
    }
   ],
   "source": [
    "y"
   ]
  },
  {
   "cell_type": "code",
   "execution_count": 195,
   "id": "6aa21c06-13e6-4916-a30c-7c9658444d08",
   "metadata": {},
   "outputs": [],
   "source": [
    "model = Logit()"
   ]
  },
  {
   "cell_type": "code",
   "execution_count": 197,
   "id": "45be3684-c58f-4186-9ae7-0e6d95bc43a4",
   "metadata": {},
   "outputs": [
    {
     "name": "stdout",
     "output_type": "stream",
     "text": [
      "Learning rate: 0.05, iteracija 1000\n",
      "Learning rate: 0.025, iteracija 2000\n",
      "Optimalni parametri su iz 2100 iteracije\n",
      "Preciznost na trening setu: 0.9686\n",
      "Preciznost na dev setu: 0.9611\n"
     ]
    },
    {
     "data": {
      "text/plain": [
       "(0.9686, 0.9611)"
      ]
     },
     "execution_count": 197,
     "metadata": {},
     "output_type": "execute_result"
    }
   ],
   "source": [
    "model.fit(xtrain[:5000],ytrain[:5000], xdev[:10000], ydev[:10000], aktivacija='sigmoid')"
   ]
  },
  {
   "cell_type": "code",
   "execution_count": null,
   "id": "efd4a9aa-ba1e-4c18-b6a0-da5db7bb3b43",
   "metadata": {},
   "outputs": [],
   "source": [
    "class NeuralnaMreza(Logit):\n",
    "    def __init__(self, slojevi, lr=0.1, regularizacija='', reg=0.01, maxIter=10000):\n",
    "        \"\"\"slojevi: prima listu\"\"\"\n",
    "        super().__init__(lr=lr, regularizacija=regularizacija, reg=reg, maxIter=maxIter)\n",
    "        self.slojevi = slojevi\n",
    "        self.weights = []  # Lista težina za svaki sloj\n",
    "        for i in range(len(slojevi) - 1):\n",
    "            W = np.random.randn(slojevi[i], slojevi[i+1]) * 0.01\n",
    "            self.weights.append(W)\n",
    "            "
   ]
  },
  {
   "cell_type": "code",
   "execution_count": null,
   "id": "274b77d4-0d65-4355-8ac9-5fee27fa452b",
   "metadata": {},
   "outputs": [],
   "source": [
    "logit = Logit()\n",
    "\n",
    "xtrain[:,0]\n",
    "\n",
    "xtrain, ytrain = xtrain[:1000,1:], ytrain[:1000]\n",
    "\n",
    "xtrain.shape, ytrain.shape\n",
    "\n",
    "np.random.seed(42)\n",
    "logit.w = np.random.rand(784,100) - .5\n",
    "\n",
    "logit.w.shape, train.shape\n",
    "\n",
    "logit.z = xtrain @ logit.w\n",
    "\n",
    "logit.hidden = logit.sigmoid(xtrain)\n",
    "\n",
    "logit.hidden.shape\n",
    "\n",
    "np.random.seed(42)\n",
    "logit.w = np.random.rand(10,100) - .5\n",
    "\n",
    "logit.w.shape\n",
    "\n",
    "logit.z2 = logit.hidden @ logit.w2\n",
    "\n",
    "logit.z2.shape\n",
    "\n",
    "np.sum(logit.softmax(logit.z2), axis = 1).shape"
   ]
  },
  {
   "cell_type": "code",
   "execution_count": null,
   "id": "23a5c7e7-ab03-4937-8763-40f0cf836c73",
   "metadata": {},
   "outputs": [],
   "source": []
  }
 ],
 "metadata": {
  "kernelspec": {
   "display_name": "Python 3 (ipykernel)",
   "language": "python",
   "name": "python3"
  },
  "language_info": {
   "codemirror_mode": {
    "name": "ipython",
    "version": 3
   },
   "file_extension": ".py",
   "mimetype": "text/x-python",
   "name": "python",
   "nbconvert_exporter": "python",
   "pygments_lexer": "ipython3",
   "version": "3.12.4"
  }
 },
 "nbformat": 4,
 "nbformat_minor": 5
}
