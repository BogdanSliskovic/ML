{
 "cells": [
  {
   "cell_type": "code",
   "execution_count": 29,
   "id": "8d0110fc-f640-46ac-9c64-92f98b473521",
   "metadata": {},
   "outputs": [
    {
     "name": "stdout",
     "output_type": "stream",
     "text": [
      "(50000, 785) (10000, 785) (10000, 785)\n",
      "1.0\n"
     ]
    },
    {
     "data": {
      "text/plain": [
       "((50000, 785), (10000, 785), (10000, 785), (50000, 1), (10000, 1), (10000, 1))"
      ]
     },
     "execution_count": 29,
     "metadata": {},
     "output_type": "execute_result"
    }
   ],
   "source": [
    "import numpy as np\n",
    "from sklearn.datasets import fetch_openml\n",
    "import joblib\n",
    "\n",
    "x, y = fetch_openml('mnist_784', version=1, return_X_y=True, as_frame= False)\n",
    "\n",
    "y = y.astype(int).reshape(-1)\n",
    "\n",
    "y = y.reshape(-1,1)\n",
    "\n",
    "data = np.hstack((y, x))\n",
    "\n",
    "np.random.seed(42)\n",
    "np.random.shuffle(data)\n",
    "\n",
    "datatrain = data[:50000]\n",
    "datadev = data[50000:60000]\n",
    "datatest = data[60000:]\n",
    "\n",
    "print(datatrain.shape, datadev.shape, datatest.shape)\n",
    "\n",
    "def feature(df):\n",
    "    return np.hstack((np.ones((df.shape[0],1)), df[:,1:] / 255))\n",
    "\n",
    "def target(data):\n",
    "    y = data[:,0].reshape(-1,1)\n",
    "    return y\n",
    "\n",
    "xtrain, xdev, xtest = tuple(feature(skup) for skup in [datatrain, datadev, datatest])\n",
    "\n",
    "ytrain, ydev, ytest = tuple(target(skup) for skup in [datatrain, datadev, datatest])\n",
    "print(xtrain.max())\n",
    "xtrain.shape, xdev.shape, xtest.shape, ytrain.shape, ydev.shape, ytest.shape"
   ]
  },
  {
   "cell_type": "code",
   "execution_count": 33,
   "id": "8e2caca7-4426-4253-a316-6fceaa45f382",
   "metadata": {},
   "outputs": [
    {
     "data": {
      "text/plain": [
       "array([[0., 0., 0., ..., 0., 0., 0.],\n",
       "       [1., 0., 0., ..., 0., 0., 0.],\n",
       "       [0., 0., 0., ..., 0., 0., 0.],\n",
       "       ...,\n",
       "       [0., 0., 0., ..., 0., 0., 0.],\n",
       "       [0., 0., 0., ..., 0., 0., 0.],\n",
       "       [0., 0., 0., ..., 0., 0., 0.]])"
      ]
     },
     "execution_count": 33,
     "metadata": {},
     "output_type": "execute_result"
    }
   ],
   "source": [
    "y = y.reshape(-1)\n",
    "y = np.eye(np.max(y) + 1)[y]\n",
    "y"
   ]
  },
  {
   "cell_type": "code",
   "execution_count": 4,
   "id": "aeb227e9-187d-4fec-ae05-dddb07e91dbf",
   "metadata": {},
   "outputs": [],
   "source": [
    "class Logit():\n",
    "    \n",
    "    def __init__(self, lr=0.1, regularizacija='', reg=0.01, maxIter=None, nIter = None):      \n",
    "        '''Za regularizaciju uneti string 'l1' ili 'l2'\n",
    "        reg je regularizacioni parametar lambda \n",
    "        learning rate: pocetna brzina ucenja (polovi se na svakih 1000 iteracija) '''\n",
    "        \n",
    "        self.lr = lr\n",
    "        self.regularizacija = regularizacija\n",
    "        self.reg = reg\n",
    "        self.maxIter = maxIter\n",
    "        self.preciznostTrain= None\n",
    "        self.preciznostDev = None\n",
    "        self.historyW = []\n",
    "\n",
    "    def predict(self, x, y =None):\n",
    "        \"\"\"Racuna binarne predikcije za ulazne podatke x.\n",
    "        Ako je prosleđen y, vraća dvojku (preciznost, predikcije).\"\"\"\n",
    "        \n",
    "        z = np.clip(x @ self.w, -500, 500)\n",
    "        p = 1 / (1 + np.exp(-z))\n",
    "        pred = (p > 0.5).astype(int)\n",
    "        if y is not None:\n",
    "            return (np.mean(pred == y.reshape(-1,1)), pred)\n",
    "        else:\n",
    "            return pred\n",
    "    def predictProba(self,x):\n",
    "        \"\"\"Vraca predikcije verovatnoca za ulazne podatke x. \"\"\"\n",
    "        \n",
    "        z = np.clip(x @ self.w, -500, 500)\n",
    "        return 1 / (1 + np.exp(-z))\n",
    "        \n",
    "    def fit(self, x, y, xdev, ydev, randomState = 42, aktivacija = 'sigmoid'):\n",
    "        \"\"\"Treniranje modela koristeći grupni gradijentni spust (batch gradient descent).\n",
    "        Funkcija prati preciznost na trening i dev skupu.\n",
    "        Svakih 100 iteracija se čuvaju trenutne težine u self.historyW.\n",
    "        Ako preciznost na dev skupu opadne u odnosu na \n",
    "        4 evaluacije unazad, smatra se da je dostigao plato i\n",
    "        model se vraca na težine iz te iteracije i vraca\n",
    "        dvojku (preciznost na trening skupu, preciznost na dev skupu).\"\"\"\n",
    "        \n",
    "        m, n = x.shape\n",
    "        np.random.seed(randomState)\n",
    "        self.w = np.random.rand(n,y.shape[1]) - .5\n",
    "        trainscore = []\n",
    "        devscore = [0 for _ in range(4)]\n",
    "        i = 0\n",
    "        lr = self.lr\n",
    "        epsilon=.0000001\n",
    "        self.aktivacija = aktivacija\n",
    "        \n",
    "        while True:\n",
    "            z = x @ self.w\n",
    "            \n",
    "            if aktivacija == 'sigmoid':\n",
    "                z = np.clip(z, -500, 500)\n",
    "                pred = 1 / (1 + np.exp(-z))\n",
    "                gradijenti = (x.T @ (pred - y.reshape(-1,1))) / m\n",
    "                l = -np.mean(y * np.log(pred + epsilon) + (1 - y) * np.log(1 - pred + epsilon))                \n",
    "                \n",
    "            elif aktivacija == 'softmax':\n",
    "                z -= np.max(z, axis = 1, keepdims = True)\n",
    "                pred = np.exp(z) / np.sum(np.exp(z), axis = 1, keepdims = True)\n",
    "                gradijenti = (x.T @ (pred - y)) / m\n",
    "                l = -np.mean(np.sum(y * np.log(pred + epsilon), axis=1))\n",
    "                \n",
    "            else:\n",
    "                raise ValueError(\"Aktivacija mora biti 'sigmoid' ili 'softmax'\")\n",
    "                \n",
    "\n",
    "            \n",
    "            if self.regularizacija.lower() == 'l1':\n",
    "                l += (self.reg / m) * np.sum(np.abs(self.w[1:]))\n",
    "                gradijenti[1:] += (self.reg / m) * np.sign(self.w[1:])\n",
    "            elif self.regularizacija.lower() == 'l2':\n",
    "                l += (self.reg / (2 * m)) * np.sum(np.square(self.w[1:]))\n",
    "                gradijenti[1:] += (self.reg / m) * self.w[1:]\n",
    "\n",
    "            self.w -= lr * gradijenti\n",
    "            \n",
    "            if i % 100 == 0:\n",
    "                self.historyW.append(self.w.copy())\n",
    "                preciznostTrain, _ = self.predict(x,y)\n",
    "                trainscore.append(preciznostTrain)\n",
    "                \n",
    "                preciznostDev, _ = self.predict(xdev, ydev)\n",
    "                devscore.append(preciznostDev)\n",
    "            \n",
    "            if i > 300 and (devscore[-1] - devscore[-5]) <= 0:\n",
    "                print(f\"Optimalni parametri su iz {i-300} iteracije\")\n",
    "                self.w = self.historyW[-4]\n",
    "                break\n",
    "            \n",
    "            if self.maxIter is not None and i >= self.maxIter:\n",
    "                print(f\"Maksimalan broj iteracija ({self.maxIter}) dostignut.\")\n",
    "                break\n",
    "            \n",
    "            if i % 1000 == 0 and i > 0:\n",
    "                lr *= 0.5\n",
    "                print(f\"Learning rate: {lr}, iteracija {i}\")\n",
    "                \n",
    "\n",
    "            i += 1\n",
    "        self.nIter = i - 300\n",
    "        self.preciznostTrain, _ = self.predict(x,y)\n",
    "        print(\"Preciznost na trening setu:\", self.preciznostTrain)\n",
    "\n",
    "        self.preciznostDev, _ = self.predict(xdev,ydev)\n",
    "        print(\"Preciznost na dev setu:\", self.preciznostDev)\n",
    "        \n",
    "        return self.preciznostTrain, self.preciznostDev\n",
    "\n",
    "    \n",
    "    def fitReg(self, x, y, xdev, ydev, listaRegularizacije):\n",
    "        '''Fituje model za svaki parametar lambda iz liste, cuva rezultate na dev skupu\n",
    "        na kraju fituje model sa lokalno optimalnim lambda parametrom i vraca recnik\n",
    "        {lambda : rezultat na dev skupu}'''\n",
    "\n",
    "        rezultati = []\n",
    "        for i in range(len(listaRegularizacije)):\n",
    "            self.reg = listaRegularizacije[i]\n",
    "            _, devScore = self.fit(x, y, xdev, ydev)\n",
    "            rezultati.append(devScore)\n",
    "            \n",
    "        self.w = self.historyW[np.argmax(rezultati)]\n",
    "        self.reg = listaRegularizacije[np.argmax(rezultati)]\n",
    "        self.fit(x, y, xdev, ydev)\n",
    "        return {self.reg : rezultati[np.argmax(rezultati)]}"
   ]
  },
  {
   "cell_type": "code",
   "execution_count": 36,
   "id": "28ef463b-d3bd-4cc2-a3ae-3305e889fab3",
   "metadata": {},
   "outputs": [],
   "source": [
    "np.random.seed(42)\n",
    "w = np.random.rand(xtrain.shape[1],y.shape[1]) - .5"
   ]
  },
  {
   "cell_type": "code",
   "execution_count": 38,
   "id": "d94e66fd-b330-4880-8356-bf9323866493",
   "metadata": {},
   "outputs": [
    {
     "data": {
      "text/plain": [
       "array([[-0.12545988,  0.45071431,  0.23199394, ...,  0.36617615,\n",
       "         0.10111501,  0.20807258],\n",
       "       [-0.47941551,  0.46990985,  0.33244264, ...,  0.02475643,\n",
       "        -0.06805498, -0.20877086],\n",
       "       [ 0.11185289, -0.36050614, -0.20785535, ...,  0.01423444,\n",
       "         0.09241457, -0.45354959],\n",
       "       ...,\n",
       "       [-0.14557601, -0.11885312, -0.08814772, ..., -0.16405385,\n",
       "         0.06069448, -0.40494346],\n",
       "       [-0.29953095, -0.08653423, -0.29379728, ...,  0.19186391,\n",
       "        -0.11693063,  0.36909907],\n",
       "       [ 0.06831915, -0.06049222, -0.43275937, ..., -0.00598833,\n",
       "        -0.38153829, -0.48636015]])"
      ]
     },
     "execution_count": 38,
     "metadata": {},
     "output_type": "execute_result"
    }
   ],
   "source": [
    "w"
   ]
  },
  {
   "cell_type": "code",
   "execution_count": null,
   "id": "1892f534-3379-49ba-b545-4caf652dc3c2",
   "metadata": {},
   "outputs": [],
   "source": [
    "z = x @ w\n",
    "z -= np.max(z, axis=1, keepdims=True)\n",
    "p = np.exp(z) / np.sum(np.exp(z), axis=1, keepdims=True)\n",
    "pred = np.argmax(p, axis=1).reshape(-1, 1)"
   ]
  }
 ],
 "metadata": {
  "kernelspec": {
   "display_name": "Python 3 (ipykernel)",
   "language": "python",
   "name": "python3"
  },
  "language_info": {
   "codemirror_mode": {
    "name": "ipython",
    "version": 3
   },
   "file_extension": ".py",
   "mimetype": "text/x-python",
   "name": "python",
   "nbconvert_exporter": "python",
   "pygments_lexer": "ipython3",
   "version": "3.13.1"
  }
 },
 "nbformat": 4,
 "nbformat_minor": 5
}
