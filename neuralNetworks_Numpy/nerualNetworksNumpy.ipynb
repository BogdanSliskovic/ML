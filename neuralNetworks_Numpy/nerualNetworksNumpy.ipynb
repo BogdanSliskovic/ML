{
 "cells": [
  {
   "cell_type": "code",
   "execution_count": 150,
   "id": "8d0110fc-f640-46ac-9c64-92f98b473521",
   "metadata": {},
   "outputs": [],
   "source": [
    "import numpy as np\n",
    "from sklearn.datasets import fetch_openml\n",
    "import joblib\n",
    "###ZA VISE KATEGORIJA\n",
    "def multiClass():\n",
    "    \n",
    "    x, y = fetch_openml('mnist_784', version=1, return_X_y=True, as_frame= False)\n",
    "    \n",
    "    y = y.reshape(-1,1).astype(int)\n",
    "    \n",
    "    data = np.hstack((y, x))\n",
    "    \n",
    "    np.random.seed(42)\n",
    "    np.random.shuffle(data)\n",
    "    \n",
    "    datatrain = data[:50000]\n",
    "    datadev = data[50000:60000]\n",
    "    datatest = data[60000:]\n",
    "    \n",
    "    print(datatrain.shape, datadev.shape, datatest.shape)\n",
    "    \n",
    "    def feature(df):\n",
    "        return np.hstack((np.ones((df.shape[0],1)), df[:,1:] / 255))\n",
    "    \n",
    "    def target(data):\n",
    "        y = data[:,0].reshape(-1).astype(int)\n",
    "        y = np.eye(np.max(y) + 1)[y]\n",
    "        return y\n",
    "    \n",
    "    xtrain, xdev, xtest = tuple(feature(skup) for skup in [datatrain, datadev, datatest])\n",
    "    \n",
    "    ytrain, ydev, ytest = tuple(target(skup) for skup in [datatrain, datadev, datatest])\n",
    "    print(xtrain.max())\n",
    "    print(xtrain.shape, xdev.shape, xtest.shape, ytrain.shape, ydev.shape, ytest.shape)\n",
    "    return x, y, xtrain, xdev, xtest, ytrain, ydev, ytest"
   ]
  },
  {
   "cell_type": "code",
   "execution_count": 151,
   "id": "06a0de9d-d81b-4a10-8e29-12d334da7d0f",
   "metadata": {},
   "outputs": [
    {
     "name": "stdout",
     "output_type": "stream",
     "text": [
      "(50000, 785) (10000, 785) (10000, 785)\n",
      "1.0\n",
      "(50000, 785) (10000, 785) (10000, 785) (50000, 10) (10000, 10) (10000, 10)\n"
     ]
    }
   ],
   "source": [
    "x, y, xtrain, xdev, xtest, ytrain, ydev, ytest = multiClass()"
   ]
  },
  {
   "cell_type": "code",
   "execution_count": 152,
   "id": "5c00d8f7-9d20-4d54-93ea-b8282ca3e48f",
   "metadata": {},
   "outputs": [
    {
     "data": {
      "text/plain": [
       "array([[1., 0., 0., ..., 0., 0., 0.],\n",
       "       [1., 0., 0., ..., 0., 0., 0.],\n",
       "       [1., 0., 0., ..., 0., 0., 0.],\n",
       "       ...,\n",
       "       [1., 0., 0., ..., 0., 0., 0.],\n",
       "       [1., 0., 0., ..., 0., 0., 0.],\n",
       "       [1., 0., 0., ..., 0., 0., 0.]])"
      ]
     },
     "execution_count": 152,
     "metadata": {},
     "output_type": "execute_result"
    }
   ],
   "source": [
    "data['train']['x']"
   ]
  },
  {
   "cell_type": "code",
   "execution_count": 153,
   "id": "0386b43d-23c1-40ec-adb7-f550d8a83063",
   "metadata": {},
   "outputs": [
    {
     "data": {
      "text/plain": [
       "((50000, 785), (50000, 10))"
      ]
     },
     "execution_count": 153,
     "metadata": {},
     "output_type": "execute_result"
    }
   ],
   "source": [
    "xtrain.shape,  ytrain.shape"
   ]
  },
  {
   "cell_type": "code",
   "execution_count": 154,
   "id": "ca74edb3-8dea-4e7e-a8db-5ddfdb9b3b0f",
   "metadata": {},
   "outputs": [],
   "source": [
    "import sys\n",
    "import os\n",
    "sys.path.append(os.path.abspath('../logisticRegression_Numpy'))\n",
    "from Logit import Logit"
   ]
  },
  {
   "cell_type": "code",
   "execution_count": 155,
   "id": "df90d9d3-b44a-4f35-80c3-3c94cd30447e",
   "metadata": {},
   "outputs": [
    {
     "data": {
      "text/plain": [
       "\u001b[1;31mInit signature:\u001b[0m \u001b[0mLogit\u001b[0m\u001b[1;33m(\u001b[0m\u001b[0mlr\u001b[0m\u001b[1;33m=\u001b[0m\u001b[1;36m0.1\u001b[0m\u001b[1;33m,\u001b[0m \u001b[0mregularizacija\u001b[0m\u001b[1;33m=\u001b[0m\u001b[1;34m''\u001b[0m\u001b[1;33m,\u001b[0m \u001b[0mreg\u001b[0m\u001b[1;33m=\u001b[0m\u001b[1;36m0.01\u001b[0m\u001b[1;33m,\u001b[0m \u001b[0mmaxIter\u001b[0m\u001b[1;33m=\u001b[0m\u001b[1;32mNone\u001b[0m\u001b[1;33m,\u001b[0m \u001b[0mnIter\u001b[0m\u001b[1;33m=\u001b[0m\u001b[1;32mNone\u001b[0m\u001b[1;33m)\u001b[0m\u001b[1;33m\u001b[0m\u001b[1;33m\u001b[0m\u001b[0m\n",
       "\u001b[1;31mDocstring:\u001b[0m      <no docstring>\n",
       "\u001b[1;31mInit docstring:\u001b[0m\n",
       "Za regularizaciju uneti string 'l1' ili 'l2'\n",
       "reg je regularizacioni parametar lambda \n",
       "learning rate: pocetna brzina ucenja (polovi se na svakih 1000 iteracija) \n",
       "\u001b[1;31mFile:\u001b[0m           c:\\users\\bogdan.sliskovic\\desktop\\bole\\ml\\logisticregression_numpy\\logit.py\n",
       "\u001b[1;31mType:\u001b[0m           type\n",
       "\u001b[1;31mSubclasses:\u001b[0m     "
      ]
     },
     "metadata": {},
     "output_type": "display_data"
    }
   ],
   "source": [
    "Logit?"
   ]
  },
  {
   "cell_type": "code",
   "execution_count": 156,
   "id": "9e71b631-f0d9-4ae3-90f0-6a5b895a568f",
   "metadata": {},
   "outputs": [
    {
     "data": {
      "text/plain": [
       "array([[0., 0., 0., ..., 0., 1., 0.],\n",
       "       [0., 0., 0., ..., 0., 0., 0.],\n",
       "       [0., 0., 0., ..., 0., 1., 0.],\n",
       "       ...,\n",
       "       [0., 0., 0., ..., 0., 0., 1.],\n",
       "       [0., 0., 1., ..., 0., 0., 0.],\n",
       "       [0., 0., 0., ..., 1., 0., 0.]])"
      ]
     },
     "execution_count": 156,
     "metadata": {},
     "output_type": "execute_result"
    }
   ],
   "source": [
    "ytrain"
   ]
  },
  {
   "cell_type": "code",
   "execution_count": 157,
   "id": "28ef463b-d3bd-4cc2-a3ae-3305e889fab3",
   "metadata": {},
   "outputs": [],
   "source": [
    "np.random.seed(42)\n",
    "w = np.random.rand(xtrain.shape[1],y.shape[1]) - .5"
   ]
  },
  {
   "cell_type": "code",
   "execution_count": 158,
   "id": "e56751c0-4c8c-4d42-b400-e5c9f35f8e9c",
   "metadata": {},
   "outputs": [],
   "source": [
    "model = Logit()"
   ]
  },
  {
   "cell_type": "code",
   "execution_count": 159,
   "id": "b1f45670-ab5e-4c69-b69c-97d1816999ad",
   "metadata": {},
   "outputs": [
    {
     "name": "stdout",
     "output_type": "stream",
     "text": [
      "Learning rate: 0.05, iteracija 1000\n",
      "Optimalni parametri su iz 1500 iteracije\n",
      "Preciznost na trening setu: 0.978\n",
      "Preciznost na dev setu: 0.8395\n"
     ]
    },
    {
     "data": {
      "text/plain": [
       "(np.float64(0.978), np.float64(0.8395))"
      ]
     },
     "execution_count": 159,
     "metadata": {},
     "output_type": "execute_result"
    }
   ],
   "source": [
    "model.fit(xtrain[:1000],ytrain[:1000], xdev[:10000], ydev[:10000], aktivacija='softmax')"
   ]
  },
  {
   "cell_type": "code",
   "execution_count": 292,
   "id": "b889b205-b015-4b7b-a5bc-a9b6cd9a9fb7",
   "metadata": {},
   "outputs": [],
   "source": [
    "###ZA JEDNU KATEGORIJU\n",
    "def singleClass():\n",
    "    x, y = fetch_openml('mnist_784', version=1, return_X_y=True, as_frame= False)\n",
    "    \n",
    "    y = y.astype(int).reshape(-1,1)\n",
    "    y = np.where(y == 5, 1, 0)\n",
    "    \n",
    "    y = y.reshape(-1,1)\n",
    "    \n",
    "    data = np.hstack((y, x))\n",
    "    \n",
    "    np.random.seed(42)\n",
    "    np.random.shuffle(data)\n",
    "    \n",
    "    datatrain = data[:50000]\n",
    "    datadev = data[50000:60000]\n",
    "    datatest = data[60000:]\n",
    "    \n",
    "    print(datatrain.shape, datadev.shape, datatest.shape)\n",
    "    \n",
    "    def feature(df):\n",
    "        return np.hstack((np.ones((df.shape[0],1)), df[:,1:] / 255))\n",
    "    \n",
    "    def target(data):\n",
    "        y = data[:,0].reshape(-1,1)\n",
    "        return y\n",
    "    \n",
    "    xtrain, xdev, xtest = tuple(feature(skup) for skup in [datatrain, datadev, datatest])\n",
    "    \n",
    "    ytrain, ydev, ytest = tuple(target(skup) for skup in [datatrain, datadev, datatest])\n",
    "    print(xtrain.max())\n",
    "    print(xtrain.shape, xdev.shape, xtest.shape, ytrain.shape, ydev.shape, ytest.shape)\n",
    "    \n",
    "    return x, y, xtrain, xdev, xtest, ytrain, ydev, ytest"
   ]
  },
  {
   "cell_type": "code",
   "execution_count": 293,
   "id": "aa972f68-02f8-4516-8a4b-367320207faf",
   "metadata": {},
   "outputs": [
    {
     "name": "stdout",
     "output_type": "stream",
     "text": [
      "(50000, 785) (10000, 785) (10000, 785)\n",
      "1.0\n",
      "(50000, 785) (10000, 785) (10000, 785) (50000, 1) (10000, 1) (10000, 1)\n"
     ]
    }
   ],
   "source": [
    "x, y, xtrain, xdev, xtest, ytrain, ydev, ytest = singleClass()"
   ]
  },
  {
   "cell_type": "code",
   "execution_count": 294,
   "id": "dc690a38-d260-4b94-8ac4-64bea908e13f",
   "metadata": {},
   "outputs": [
    {
     "data": {
      "text/plain": [
       "array([[1],\n",
       "       [0],\n",
       "       [0],\n",
       "       ...,\n",
       "       [0],\n",
       "       [1],\n",
       "       [0]])"
      ]
     },
     "execution_count": 294,
     "metadata": {},
     "output_type": "execute_result"
    }
   ],
   "source": [
    "y"
   ]
  },
  {
   "cell_type": "code",
   "execution_count": 295,
   "id": "6aa21c06-13e6-4916-a30c-7c9658444d08",
   "metadata": {},
   "outputs": [],
   "source": [
    "model = Logit()"
   ]
  },
  {
   "cell_type": "code",
   "execution_count": 296,
   "id": "45be3684-c58f-4186-9ae7-0e6d95bc43a4",
   "metadata": {},
   "outputs": [
    {
     "name": "stdout",
     "output_type": "stream",
     "text": [
      "Learning rate: 0.05, iteracija 1000\n",
      "Optimalni parametri su iz 1500 iteracije\n",
      "Preciznost na trening setu: 0.983\n",
      "Preciznost na dev setu: 0.9553\n"
     ]
    },
    {
     "data": {
      "text/plain": [
       "(np.float64(0.983), np.float64(0.9553))"
      ]
     },
     "execution_count": 296,
     "metadata": {},
     "output_type": "execute_result"
    }
   ],
   "source": [
    "model.fit(xtrain[:1000],ytrain[:1000], xdev[:10000], ydev[:10000], aktivacija='sigmoid')"
   ]
  },
  {
   "cell_type": "markdown",
   "id": "5aa3c57c-d162-46ab-a7ae-5e56dfc2e6fb",
   "metadata": {},
   "source": [
    "class NeuralnaMreza(Logit):\n",
    "    def __init__(self, slojevi, lr=0.1, regularizacija='', reg=0.01, maxIter=10000):\n",
    "        \"\"\"slojevi: prima listu\"\"\"\n",
    "        super().__init__(lr=lr, regularizacija=regularizacija, reg=reg, maxIter=maxIter)\n",
    "        self.slojevi = slojevi\n",
    "        self.weights = []  # Lista težina za svaki sloj\n",
    "        for i in range(len(slojevi) - 1):\n",
    "            W = np.random.randn(slojevi[i], slojevi[i+1]) * 0.01\n",
    "            self.weights.append(W)\n",
    "            "
   ]
  },
  {
   "cell_type": "code",
   "execution_count": null,
   "id": "c4429b35-83cb-4548-b469-4779c5c09ca5",
   "metadata": {},
   "outputs": [],
   "source": []
  },
  {
   "cell_type": "code",
   "execution_count": null,
   "id": "94cd8eb9-c8ae-4864-a1a4-d6b95c3fd700",
   "metadata": {},
   "outputs": [],
   "source": []
  },
  {
   "cell_type": "code",
   "execution_count": null,
   "id": "0e88519a-7eac-4779-8aab-f27293040573",
   "metadata": {},
   "outputs": [],
   "source": []
  },
  {
   "cell_type": "code",
   "execution_count": null,
   "id": "9e45162d-4d96-44fe-bc93-8b094f534e22",
   "metadata": {},
   "outputs": [],
   "source": []
  },
  {
   "cell_type": "code",
   "execution_count": 297,
   "id": "54b0dbf1-9568-4a5d-8307-ddbea708b908",
   "metadata": {},
   "outputs": [
    {
     "name": "stdout",
     "output_type": "stream",
     "text": [
      "(50000, 785) (10000, 785) (10000, 785)\n",
      "1.0\n",
      "(50000, 785) (10000, 785) (10000, 785) (50000, 10) (10000, 10) (10000, 10)\n"
     ]
    }
   ],
   "source": [
    "x, y, xtrain, xdev, xtest, ytrain, ydev, ytest = multiClass()"
   ]
  },
  {
   "cell_type": "markdown",
   "id": "34f0d677-0064-4023-9366-865e0170afd6",
   "metadata": {},
   "source": [
    "## FORWARD PROP"
   ]
  },
  {
   "cell_type": "code",
   "execution_count": 301,
   "id": "5828bf0c-1fae-4e32-91df-ad3a38ccfafa",
   "metadata": {},
   "outputs": [],
   "source": [
    "xtrain = xtrain[:,1:]"
   ]
  },
  {
   "cell_type": "code",
   "execution_count": 403,
   "id": "97849418-0ecf-4900-bf20-029c1527eb40",
   "metadata": {},
   "outputs": [],
   "source": [
    "xtrain = xtrain[:10]\n",
    "ytrain = ytrain[:10]"
   ]
  },
  {
   "cell_type": "code",
   "execution_count": 404,
   "id": "553ac9f4-91a9-479c-b480-0f28c6a205f1",
   "metadata": {},
   "outputs": [
    {
     "data": {
      "text/plain": [
       "(10, 784)"
      ]
     },
     "execution_count": 404,
     "metadata": {},
     "output_type": "execute_result"
    }
   ],
   "source": [
    "xtrain.shape"
   ]
  },
  {
   "cell_type": "code",
   "execution_count": null,
   "id": "57ea2199-df94-41d1-8e95-a8f971ee36ea",
   "metadata": {},
   "outputs": [],
   "source": []
  },
  {
   "cell_type": "code",
   "execution_count": 405,
   "id": "a23cb213-8bb8-4f57-aa70-50c336e1197d",
   "metadata": {},
   "outputs": [],
   "source": [
    "logit = Logit()"
   ]
  },
  {
   "cell_type": "code",
   "execution_count": 406,
   "id": "89164b9f-f124-4b83-992a-9b1bc4286b93",
   "metadata": {},
   "outputs": [],
   "source": [
    "m,n = xtrain.shape\n",
    "epsilon = .0000001\n",
    "np.random.seed(42)\n",
    "\n",
    "w1 = np.random.rand(xtrain.shape[1], 100) - 0.5\n",
    "w2 = np.random.rand(100,10) - 0.5\n",
    "\n",
    "def forward(x, weights, y):\n",
    "    \n",
    "    for i, w in enumerate(weights):\n",
    "        if i == len(weights) - 1:\n",
    "            x = logit.softmax(x, w)\n",
    "        else:\n",
    "            x = logit.sigmoid(x, w)\n",
    "\n",
    "    loss = -np.sum(y * np.log(x + .000001)) / len(x)\n",
    "    return loss"
   ]
  },
  {
   "cell_type": "code",
   "execution_count": 407,
   "id": "4d24ee9d-4001-465f-bf07-23357357ad7b",
   "metadata": {},
   "outputs": [
    {
     "data": {
      "text/plain": [
       "np.float64(3.816428308694275)"
      ]
     },
     "execution_count": 407,
     "metadata": {},
     "output_type": "execute_result"
    }
   ],
   "source": [
    "L = forward(xtrain, (w1,w2), ytrain)\n",
    "L"
   ]
  },
  {
   "cell_type": "markdown",
   "id": "581ed33d-5946-4679-a35e-f72053d4f7dc",
   "metadata": {},
   "source": [
    "## BACK PROP"
   ]
  },
  {
   "cell_type": "code",
   "execution_count": 424,
   "id": "60ae3dda-6c93-48b2-95a8-b3e3ef5f9e9c",
   "metadata": {},
   "outputs": [
    {
     "name": "stdout",
     "output_type": "stream",
     "text": [
      "CPU times: total: 1min 46s\n",
      "Wall time: 2min 37s\n"
     ]
    }
   ],
   "source": [
    "%%time\n",
    "epsilon = 1e-4\n",
    "weights = [w1, w2]\n",
    "grads = [np.zeros_like(w) for w in weights]\n",
    "\n",
    "for sloj, w in enumerate(weights):\n",
    "    g = grads[sloj]\n",
    "\n",
    "    for i in range(w.shape[0]):\n",
    "        for j in range(w.shape[1]):\n",
    "            original = w[i, j]\n",
    "\n",
    "            w[i, j] = original + epsilon\n",
    "            fPlus = forward(xtrain, weights, ytrain)\n",
    "\n",
    "\n",
    "            w[i, j] = original - epsilon\n",
    "            fMinus = forward(xtrain, weights, ytrain)\n",
    "\n",
    "            g[i, j] = (fPlus - fMinus) / (2 * epsilon)\n",
    "            w[i, j] = original\n"
   ]
  },
  {
   "cell_type": "code",
   "execution_count": 398,
   "id": "4fa23334-8dd2-49e1-96e3-8c05756acc20",
   "metadata": {},
   "outputs": [],
   "source": [
    "weights = [w - 0.01 * g for w, g in zip(weights, grads)]"
   ]
  },
  {
   "cell_type": "code",
   "execution_count": 426,
   "id": "94ef3a5b-f194-4f5a-aefd-69675954fd3c",
   "metadata": {},
   "outputs": [],
   "source": [
    "class NeuralNetwork(Logit):\n",
    "    def __init__(self, layer_dims, lr=0.1, regularizacija='', reg=0.01, maxIter=None, seed=42):\n",
    "        super().__init__(lr, regularizacija, reg, maxIter)\n",
    "        np.random.seed(seed)\n",
    "        self.weights = [np.random.rand(layer_dims[i], layer_dims[i+1]) - 0.5 for i in range(len(layer_dims)-1)]\n",
    "\n",
    "    def forward(self, x, y):\n",
    "        activations = x\n",
    "        for i, w in enumerate(self.weights):\n",
    "            if i == len(self.weights) - 1:\n",
    "                activations = self.softmax(activations, w)\n",
    "            else:\n",
    "                activations = self.sigmoid(activations, w)\n",
    "    \n",
    "        loss = -np.sum(y * np.log(activations + 1e-6)) / len(x)\n",
    "    \n",
    "        if self.regularizacija.lower() == 'l2':\n",
    "            l2 = (self.reg / (2 * len(x))) * sum([np.sum(w ** 2) for w in self.weights])\n",
    "            loss += l2\n",
    "    \n",
    "        elif self.regularizacija.lower() == 'l1':\n",
    "            l1 = (self.reg / len(x)) * sum([np.sum(np.abs(w)) for w in self.weights])\n",
    "            loss += l1\n",
    "    \n",
    "        return loss\n",
    "\n",
    "\n",
    "    def gradijenti(self, x, y, epsilon=1e-4):\n",
    "        grads = [np.zeros_like(w) for w in self.weights]\n",
    "\n",
    "        for sloj, w in enumerate(self.weights):\n",
    "            g = grads[sloj]\n",
    "\n",
    "            for i in range(w.shape[0]):\n",
    "                for j in range(w.shape[1]):\n",
    "                    original = w[i, j]\n",
    "\n",
    "                    w[i, j] = original + epsilon\n",
    "                    fPlus = self.forward(x, y)\n",
    "\n",
    "                    w[i, j] = original - epsilon\n",
    "                    fMinus = self.forward(x, y)\n",
    "\n",
    "                    g[i, j] = (fPlus - fMinus) / (2 * epsilon)\n",
    "\n",
    "                    w[i, j] = original\n",
    "        return grads\n",
    "        \n",
    "    def train_step(self, x, y, epsilon=1e-4, learning_rate=0.01):\n",
    "        loss = self.forward(x, y)\n",
    "        grads = self.gradijenti(x, y, epsilon)\n",
    "        self.weights = [w - learning_rate * g for w, g in zip(self.weights, grads)]\n",
    "        return loss\n"
   ]
  },
  {
   "cell_type": "code",
   "execution_count": null,
   "id": "306c0eb8-a041-4ad4-92d1-be3b5ff4f26c",
   "metadata": {},
   "outputs": [],
   "source": []
  }
 ],
 "metadata": {
  "kernelspec": {
   "display_name": "Python 3 (ipykernel)",
   "language": "python",
   "name": "python3"
  },
  "language_info": {
   "codemirror_mode": {
    "name": "ipython",
    "version": 3
   },
   "file_extension": ".py",
   "mimetype": "text/x-python",
   "name": "python",
   "nbconvert_exporter": "python",
   "pygments_lexer": "ipython3",
   "version": "3.13.1"
  }
 },
 "nbformat": 4,
 "nbformat_minor": 5
}
