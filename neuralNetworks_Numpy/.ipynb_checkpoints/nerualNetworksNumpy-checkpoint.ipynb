{
 "cells": [
  {
   "cell_type": "code",
   "execution_count": 6,
   "id": "ca74edb3-8dea-4e7e-a8db-5ddfdb9b3b0f",
   "metadata": {},
   "outputs": [],
   "source": [
    "import sys\n",
    "import os\n",
    "sys.path.append(os.path.abspath('../logisticRegression_Numpy'))\n",
    "from Logit import Logit"
   ]
  },
  {
   "cell_type": "code",
   "execution_count": 4,
   "id": "8d0110fc-f640-46ac-9c64-92f98b473521",
   "metadata": {},
   "outputs": [],
   "source": [
    "import numpy as np\n",
    "from sklearn.datasets import fetch_openml\n",
    "import joblib\n",
    "###ZA VISE KATEGORIJA\n",
    "def multiClass():\n",
    "    \n",
    "    x, y = fetch_openml('mnist_784', version=1, return_X_y=True, as_frame= False)\n",
    "    \n",
    "    y = y.reshape(-1,1).astype(int)\n",
    "    \n",
    "    data = np.hstack((y, x))\n",
    "    \n",
    "    np.random.seed(42)\n",
    "    np.random.shuffle(data)\n",
    "    \n",
    "    datatrain = data[:50000]\n",
    "    datadev = data[50000:60000]\n",
    "    datatest = data[60000:]\n",
    "    \n",
    "    print(datatrain.shape, datadev.shape, datatest.shape)\n",
    "    \n",
    "    def feature(df):\n",
    "        return np.hstack((np.ones((df.shape[0],1)), df[:,1:] / 255))\n",
    "    \n",
    "    def target(data):\n",
    "        y = data[:,0].reshape(-1).astype(int)\n",
    "        y = np.eye(np.max(y) + 1)[y]\n",
    "        return y\n",
    "    \n",
    "    xtrain, xdev, xtest = tuple(feature(skup) for skup in [datatrain, datadev, datatest])\n",
    "    \n",
    "    ytrain, ydev, ytest = tuple(target(skup) for skup in [datatrain, datadev, datatest])\n",
    "    print(xtrain.max())\n",
    "    print(xtrain.shape, xdev.shape, xtest.shape, ytrain.shape, ydev.shape, ytest.shape)\n",
    "    return x, y, xtrain, xdev, xtest, ytrain, ydev, ytest"
   ]
  },
  {
   "cell_type": "code",
   "execution_count": 8,
   "id": "06a0de9d-d81b-4a10-8e29-12d334da7d0f",
   "metadata": {},
   "outputs": [
    {
     "name": "stdout",
     "output_type": "stream",
     "text": [
      "(50000, 785) (10000, 785) (10000, 785)\n",
      "1.0\n",
      "(50000, 785) (10000, 785) (10000, 785) (50000, 10) (10000, 10) (10000, 10)\n"
     ]
    }
   ],
   "source": [
    "x, y, xtrain, xdev, xtest, ytrain, ydev, ytest = multiClass()"
   ]
  },
  {
   "cell_type": "code",
   "execution_count": 9,
   "id": "df90d9d3-b44a-4f35-80c3-3c94cd30447e",
   "metadata": {},
   "outputs": [
    {
     "data": {
      "text/plain": [
       "\u001b[1;31mInit signature:\u001b[0m \u001b[0mLogit\u001b[0m\u001b[1;33m(\u001b[0m\u001b[0mlr\u001b[0m\u001b[1;33m=\u001b[0m\u001b[1;36m0.1\u001b[0m\u001b[1;33m,\u001b[0m \u001b[0mregularizacija\u001b[0m\u001b[1;33m=\u001b[0m\u001b[1;34m''\u001b[0m\u001b[1;33m,\u001b[0m \u001b[0mreg\u001b[0m\u001b[1;33m=\u001b[0m\u001b[1;36m0.01\u001b[0m\u001b[1;33m,\u001b[0m \u001b[0mmaxIter\u001b[0m\u001b[1;33m=\u001b[0m\u001b[1;32mNone\u001b[0m\u001b[1;33m,\u001b[0m \u001b[0mnIter\u001b[0m\u001b[1;33m=\u001b[0m\u001b[1;32mNone\u001b[0m\u001b[1;33m)\u001b[0m\u001b[1;33m\u001b[0m\u001b[1;33m\u001b[0m\u001b[0m\n",
       "\u001b[1;31mDocstring:\u001b[0m      <no docstring>\n",
       "\u001b[1;31mInit docstring:\u001b[0m\n",
       "Za regularizaciju uneti string 'l1' ili 'l2'\n",
       "reg je regularizacioni parametar lambda \n",
       "learning rate: pocetna brzina ucenja (polovi se na svakih 1000 iteracija) \n",
       "\u001b[1;31mFile:\u001b[0m           c:\\users\\jelena\\desktop\\freestyle\\github\\ml\\logisticregression_numpy\\logit.py\n",
       "\u001b[1;31mType:\u001b[0m           type\n",
       "\u001b[1;31mSubclasses:\u001b[0m     "
      ]
     },
     "metadata": {},
     "output_type": "display_data"
    }
   ],
   "source": [
    "Logit?"
   ]
  },
  {
   "cell_type": "code",
   "execution_count": 10,
   "id": "9e71b631-f0d9-4ae3-90f0-6a5b895a568f",
   "metadata": {},
   "outputs": [
    {
     "data": {
      "text/plain": [
       "array([[0., 0., 0., ..., 0., 1., 0.],\n",
       "       [0., 0., 0., ..., 0., 0., 0.],\n",
       "       [0., 0., 0., ..., 0., 1., 0.],\n",
       "       ...,\n",
       "       [0., 0., 0., ..., 0., 0., 1.],\n",
       "       [0., 0., 1., ..., 0., 0., 0.],\n",
       "       [0., 0., 0., ..., 1., 0., 0.]])"
      ]
     },
     "execution_count": 10,
     "metadata": {},
     "output_type": "execute_result"
    }
   ],
   "source": [
    "ytrain"
   ]
  },
  {
   "cell_type": "code",
   "execution_count": 157,
   "id": "28ef463b-d3bd-4cc2-a3ae-3305e889fab3",
   "metadata": {},
   "outputs": [],
   "source": [
    "np.random.seed(42)\n",
    "w = np.random.rand(xtrain.shape[1],y.shape[1]) - .5"
   ]
  },
  {
   "cell_type": "code",
   "execution_count": 158,
   "id": "e56751c0-4c8c-4d42-b400-e5c9f35f8e9c",
   "metadata": {},
   "outputs": [],
   "source": [
    "model = Logit()"
   ]
  },
  {
   "cell_type": "code",
   "execution_count": 159,
   "id": "b1f45670-ab5e-4c69-b69c-97d1816999ad",
   "metadata": {},
   "outputs": [
    {
     "name": "stdout",
     "output_type": "stream",
     "text": [
      "Learning rate: 0.05, iteracija 1000\n",
      "Optimalni parametri su iz 1500 iteracije\n",
      "Preciznost na trening setu: 0.978\n",
      "Preciznost na dev setu: 0.8395\n"
     ]
    },
    {
     "data": {
      "text/plain": [
       "(np.float64(0.978), np.float64(0.8395))"
      ]
     },
     "execution_count": 159,
     "metadata": {},
     "output_type": "execute_result"
    }
   ],
   "source": [
    "model.fit(xtrain[:1000],ytrain[:1000], xdev[:10000], ydev[:10000], aktivacija='softmax')"
   ]
  },
  {
   "cell_type": "code",
   "execution_count": 292,
   "id": "b889b205-b015-4b7b-a5bc-a9b6cd9a9fb7",
   "metadata": {},
   "outputs": [],
   "source": [
    "###ZA JEDNU KATEGORIJU\n",
    "def singleClass():\n",
    "    x, y = fetch_openml('mnist_784', version=1, return_X_y=True, as_frame= False)\n",
    "    \n",
    "    y = y.astype(int).reshape(-1,1)\n",
    "    y = np.where(y == 5, 1, 0)\n",
    "    \n",
    "    y = y.reshape(-1,1)\n",
    "    \n",
    "    data = np.hstack((y, x))\n",
    "    \n",
    "    np.random.seed(42)\n",
    "    np.random.shuffle(data)\n",
    "    \n",
    "    datatrain = data[:50000]\n",
    "    datadev = data[50000:60000]\n",
    "    datatest = data[60000:]\n",
    "    \n",
    "    print(datatrain.shape, datadev.shape, datatest.shape)\n",
    "    \n",
    "    def feature(df):\n",
    "        return np.hstack((np.ones((df.shape[0],1)), df[:,1:] / 255))\n",
    "    \n",
    "    def target(data):\n",
    "        y = data[:,0].reshape(-1,1)\n",
    "        return y\n",
    "    \n",
    "    xtrain, xdev, xtest = tuple(feature(skup) for skup in [datatrain, datadev, datatest])\n",
    "    \n",
    "    ytrain, ydev, ytest = tuple(target(skup) for skup in [datatrain, datadev, datatest])\n",
    "    print(xtrain.max())\n",
    "    print(xtrain.shape, xdev.shape, xtest.shape, ytrain.shape, ydev.shape, ytest.shape)\n",
    "    \n",
    "    return x, y, xtrain, xdev, xtest, ytrain, ydev, ytest"
   ]
  },
  {
   "cell_type": "code",
   "execution_count": 293,
   "id": "aa972f68-02f8-4516-8a4b-367320207faf",
   "metadata": {},
   "outputs": [
    {
     "name": "stdout",
     "output_type": "stream",
     "text": [
      "(50000, 785) (10000, 785) (10000, 785)\n",
      "1.0\n",
      "(50000, 785) (10000, 785) (10000, 785) (50000, 1) (10000, 1) (10000, 1)\n"
     ]
    }
   ],
   "source": [
    "x, y, xtrain, xdev, xtest, ytrain, ydev, ytest = singleClass()"
   ]
  },
  {
   "cell_type": "code",
   "execution_count": 294,
   "id": "dc690a38-d260-4b94-8ac4-64bea908e13f",
   "metadata": {},
   "outputs": [
    {
     "data": {
      "text/plain": [
       "array([[1],\n",
       "       [0],\n",
       "       [0],\n",
       "       ...,\n",
       "       [0],\n",
       "       [1],\n",
       "       [0]])"
      ]
     },
     "execution_count": 294,
     "metadata": {},
     "output_type": "execute_result"
    }
   ],
   "source": [
    "y"
   ]
  },
  {
   "cell_type": "code",
   "execution_count": 295,
   "id": "6aa21c06-13e6-4916-a30c-7c9658444d08",
   "metadata": {},
   "outputs": [],
   "source": [
    "model = Logit()"
   ]
  },
  {
   "cell_type": "code",
   "execution_count": 296,
   "id": "45be3684-c58f-4186-9ae7-0e6d95bc43a4",
   "metadata": {},
   "outputs": [
    {
     "name": "stdout",
     "output_type": "stream",
     "text": [
      "Learning rate: 0.05, iteracija 1000\n",
      "Optimalni parametri su iz 1500 iteracije\n",
      "Preciznost na trening setu: 0.983\n",
      "Preciznost na dev setu: 0.9553\n"
     ]
    },
    {
     "data": {
      "text/plain": [
       "(np.float64(0.983), np.float64(0.9553))"
      ]
     },
     "execution_count": 296,
     "metadata": {},
     "output_type": "execute_result"
    }
   ],
   "source": [
    "model.fit(xtrain[:1000],ytrain[:1000], xdev[:10000], ydev[:10000], aktivacija='sigmoid')"
   ]
  },
  {
   "cell_type": "markdown",
   "id": "5aa3c57c-d162-46ab-a7ae-5e56dfc2e6fb",
   "metadata": {},
   "source": [
    "class NeuralnaMreza(Logit):\n",
    "    def __init__(self, slojevi, lr=0.1, regularizacija='', reg=0.01, maxIter=10000):\n",
    "        \"\"\"slojevi: prima listu\"\"\"\n",
    "        super().__init__(lr=lr, regularizacija=regularizacija, reg=reg, maxIter=maxIter)\n",
    "        self.slojevi = slojevi\n",
    "        self.weights = []  # Lista težina za svaki sloj\n",
    "        for i in range(len(slojevi) - 1):\n",
    "            W = np.random.randn(slojevi[i], slojevi[i+1]) * 0.01\n",
    "            self.weights.append(W)\n",
    "            "
   ]
  },
  {
   "cell_type": "code",
   "execution_count": null,
   "id": "c4429b35-83cb-4548-b469-4779c5c09ca5",
   "metadata": {},
   "outputs": [],
   "source": []
  },
  {
   "cell_type": "code",
   "execution_count": null,
   "id": "94cd8eb9-c8ae-4864-a1a4-d6b95c3fd700",
   "metadata": {},
   "outputs": [],
   "source": []
  },
  {
   "cell_type": "code",
   "execution_count": null,
   "id": "0e88519a-7eac-4779-8aab-f27293040573",
   "metadata": {},
   "outputs": [],
   "source": []
  },
  {
   "cell_type": "code",
   "execution_count": null,
   "id": "9e45162d-4d96-44fe-bc93-8b094f534e22",
   "metadata": {},
   "outputs": [],
   "source": []
  },
  {
   "cell_type": "code",
   "execution_count": 2,
   "id": "54b0dbf1-9568-4a5d-8307-ddbea708b908",
   "metadata": {},
   "outputs": [
    {
     "ename": "NameError",
     "evalue": "name 'multiClass' is not defined",
     "output_type": "error",
     "traceback": [
      "\u001b[1;31m---------------------------------------------------------------------------\u001b[0m",
      "\u001b[1;31mNameError\u001b[0m                                 Traceback (most recent call last)",
      "Cell \u001b[1;32mIn[2], line 1\u001b[0m\n\u001b[1;32m----> 1\u001b[0m x, y, xtrain, xdev, xtest, ytrain, ydev, ytest \u001b[38;5;241m=\u001b[39m multiClass()\n",
      "\u001b[1;31mNameError\u001b[0m: name 'multiClass' is not defined"
     ]
    }
   ],
   "source": [
    "x, y, xtrain, xdev, xtest, ytrain, ydev, ytest = multiClass()"
   ]
  },
  {
   "cell_type": "markdown",
   "id": "34f0d677-0064-4023-9366-865e0170afd6",
   "metadata": {},
   "source": [
    "## FORWARD PROP"
   ]
  },
  {
   "cell_type": "code",
   "execution_count": 14,
   "id": "5828bf0c-1fae-4e32-91df-ad3a38ccfafa",
   "metadata": {},
   "outputs": [],
   "source": [
    "xtrain = xtrain[:,1:]"
   ]
  },
  {
   "cell_type": "code",
   "execution_count": 16,
   "id": "97849418-0ecf-4900-bf20-029c1527eb40",
   "metadata": {},
   "outputs": [],
   "source": [
    "xtrain = xtrain[:10]\n",
    "ytrain = ytrain[:10]"
   ]
  },
  {
   "cell_type": "code",
   "execution_count": 18,
   "id": "553ac9f4-91a9-479c-b480-0f28c6a205f1",
   "metadata": {},
   "outputs": [
    {
     "data": {
      "text/plain": [
       "(10, 784)"
      ]
     },
     "execution_count": 18,
     "metadata": {},
     "output_type": "execute_result"
    }
   ],
   "source": [
    "xtrain.shape"
   ]
  },
  {
   "cell_type": "code",
   "execution_count": null,
   "id": "57ea2199-df94-41d1-8e95-a8f971ee36ea",
   "metadata": {},
   "outputs": [],
   "source": []
  },
  {
   "cell_type": "code",
   "execution_count": 405,
   "id": "a23cb213-8bb8-4f57-aa70-50c336e1197d",
   "metadata": {},
   "outputs": [],
   "source": [
    "logit = Logit()"
   ]
  },
  {
   "cell_type": "code",
   "execution_count": 406,
   "id": "89164b9f-f124-4b83-992a-9b1bc4286b93",
   "metadata": {},
   "outputs": [],
   "source": [
    "m,n = xtrain.shape\n",
    "epsilon = .0000001\n",
    "np.random.seed(42)\n",
    "\n",
    "w1 = np.random.rand(xtrain.shape[1], 100) - 0.5\n",
    "w2 = np.random.rand(100,10) - 0.5\n",
    "\n",
    "def forward(x, weights, y):\n",
    "    \n",
    "    for i, w in enumerate(weights):\n",
    "        if i == len(weights) - 1:\n",
    "            x = logit.softmax(x, w)\n",
    "        else:\n",
    "            x = logit.sigmoid(x, w)\n",
    "\n",
    "    loss = -np.sum(y * np.log(x + .000001)) / len(x)\n",
    "    return loss"
   ]
  },
  {
   "cell_type": "code",
   "execution_count": 407,
   "id": "4d24ee9d-4001-465f-bf07-23357357ad7b",
   "metadata": {},
   "outputs": [
    {
     "data": {
      "text/plain": [
       "np.float64(3.816428308694275)"
      ]
     },
     "execution_count": 407,
     "metadata": {},
     "output_type": "execute_result"
    }
   ],
   "source": [
    "L = forward(xtrain, (w1,w2), ytrain)\n",
    "L"
   ]
  },
  {
   "cell_type": "markdown",
   "id": "581ed33d-5946-4679-a35e-f72053d4f7dc",
   "metadata": {},
   "source": [
    "## BACK PROP"
   ]
  },
  {
   "cell_type": "code",
   "execution_count": 424,
   "id": "60ae3dda-6c93-48b2-95a8-b3e3ef5f9e9c",
   "metadata": {},
   "outputs": [
    {
     "name": "stdout",
     "output_type": "stream",
     "text": [
      "CPU times: total: 1min 46s\n",
      "Wall time: 2min 37s\n"
     ]
    }
   ],
   "source": [
    "%%time\n",
    "epsilon = 1e-4\n",
    "weights = [w1, w2]\n",
    "grads = [np.zeros_like(w) for w in weights]\n",
    "\n",
    "for sloj, w in enumerate(weights):\n",
    "    g = grads[sloj]\n",
    "\n",
    "    for i in range(w.shape[0]):\n",
    "        for j in range(w.shape[1]):\n",
    "            original = w[i, j]\n",
    "\n",
    "            w[i, j] = original + epsilon\n",
    "            fPlus = forward(xtrain, weights, ytrain)\n",
    "\n",
    "\n",
    "            w[i, j] = original - epsilon\n",
    "            fMinus = forward(xtrain, weights, ytrain)\n",
    "\n",
    "            g[i, j] = (fPlus - fMinus) / (2 * epsilon)\n",
    "            w[i, j] = original\n"
   ]
  },
  {
   "cell_type": "code",
   "execution_count": 398,
   "id": "4fa23334-8dd2-49e1-96e3-8c05756acc20",
   "metadata": {},
   "outputs": [],
   "source": [
    "weights = [w - 0.01 * g for w, g in zip(weights, grads)]"
   ]
  },
  {
   "cell_type": "code",
   "execution_count": 151,
   "id": "94ef3a5b-f194-4f5a-aefd-69675954fd3c",
   "metadata": {},
   "outputs": [],
   "source": [
    "class NeuralNetwork(Logit):\n",
    "    def __init__(self, dimenzijeSlojeva, lr=0.1, regularizacija='', reg=0.01, maxIter=None, seed=42):\n",
    "        super().__init__(lr, regularizacija, reg, maxIter)\n",
    "        self.aktivacija = 'sigmoid'\n",
    "        np.random.seed(seed)\n",
    "        self.weights = [np.random.rand(dimenzijeSlojeva[i], dimenzijeSlojeva[i+1]) - 0.5 for i in range(len(dimenzijeSlojeva)-1)]\n",
    "\n",
    "    def forward(self, x, y, loss = True):\n",
    "        aktivacija = x\n",
    "        for i, w in enumerate(self.weights):\n",
    "            if i == len(self.weights) - 1:\n",
    "                aktivacija = self.softmax(aktivacija, w)\n",
    "            else:\n",
    "                aktivacija = self.sigmoid(aktivacija, w)\n",
    "\n",
    "        if loss is not True:\n",
    "            return aktivacija\n",
    "        else:\n",
    "            loss = -np.sum(y * np.log(aktivacija + 1e-6)) / len(x)\n",
    "        \n",
    "            if self.regularizacija.lower() == 'l2':\n",
    "                loss += (self.reg / (2 * len(x))) * sum([np.sum(w ** 2) for w in self.weights])\n",
    "        \n",
    "            elif self.regularizacija.lower() == 'l1':\n",
    "                loss += (self.reg / len(x)) * sum([np.sum(np.abs(w)) for w in self.weights])\n",
    "        \n",
    "            return loss\n",
    "\n",
    "\n",
    "    def gradijenti(self, x, y, epsilon=.00001):\n",
    "        grads = [np.zeros_like(w) for w in self.weights]\n",
    "\n",
    "        for sloj, w in enumerate(self.weights):\n",
    "            g = grads[sloj]\n",
    "\n",
    "            for i in range(w.shape[0]):\n",
    "                for j in range(w.shape[1]):\n",
    "                    original = w[i, j]\n",
    "\n",
    "                    w[i, j] = original + epsilon\n",
    "                    fPlus = self.forward(x, y)\n",
    "\n",
    "                    w[i, j] = original - epsilon\n",
    "                    fMinus = self.forward(x, y)\n",
    "\n",
    "                    g[i, j] = (fPlus - fMinus) / (2 * epsilon)\n",
    "                    w[i, j] = original\n",
    "        return grads\n",
    "        \n",
    "    def trainStep(self, x, y, epsilon=.00001, learning_rate=0.01):\n",
    "        loss = self.forward(x, y)\n",
    "        grads = self.gradijenti(x, y, epsilon)\n",
    "        self.weights = [w - learning_rate * g for w, g in zip(self.weights, grads)]\n",
    "        return loss\n"
   ]
  },
  {
   "cell_type": "code",
   "execution_count": 153,
   "id": "306c0eb8-a041-4ad4-92d1-be3b5ff4f26c",
   "metadata": {},
   "outputs": [],
   "source": [
    "bole = NeuralNetwork([784,100, 10])"
   ]
  },
  {
   "cell_type": "code",
   "execution_count": 159,
   "id": "3be10111-1718-42bb-a79c-e12d631c46f2",
   "metadata": {},
   "outputs": [],
   "source": [
    "p = bole.forward(xtrain, ytrain, loss = None)"
   ]
  },
  {
   "cell_type": "code",
   "execution_count": 163,
   "id": "f0e204c0-12a0-41d2-9094-5d84443aeba0",
   "metadata": {},
   "outputs": [],
   "source": [
    "pred = (p > 0.5).astype(int)\n"
   ]
  },
  {
   "cell_type": "code",
   "execution_count": 169,
   "id": "da7ec3bf-e36b-4a3c-81d0-8e034295bfd2",
   "metadata": {},
   "outputs": [
    {
     "data": {
      "text/plain": [
       "array([[1, 0, 0, 0, 0, 0, 0, 0, 0, 0],\n",
       "       [0, 0, 0, 0, 0, 0, 0, 0, 1, 0],\n",
       "       [0, 0, 0, 0, 0, 0, 0, 0, 1, 0],\n",
       "       [0, 0, 0, 0, 0, 0, 0, 0, 1, 0],\n",
       "       [0, 0, 0, 0, 0, 0, 0, 0, 1, 0],\n",
       "       [1, 0, 0, 0, 0, 0, 0, 0, 0, 0],\n",
       "       [0, 0, 0, 0, 0, 0, 0, 0, 0, 0],\n",
       "       [1, 0, 0, 0, 0, 0, 0, 0, 0, 0],\n",
       "       [0, 0, 0, 0, 0, 0, 0, 0, 0, 0],\n",
       "       [0, 0, 0, 0, 0, 0, 0, 0, 0, 0]])"
      ]
     },
     "execution_count": 169,
     "metadata": {},
     "output_type": "execute_result"
    }
   ],
   "source": [
    "pred"
   ]
  },
  {
   "cell_type": "code",
   "execution_count": 174,
   "id": "08f93f05-7c5d-4c8f-9637-72237c3f97a9",
   "metadata": {},
   "outputs": [
    {
     "data": {
      "text/plain": [
       "0.87"
      ]
     },
     "execution_count": 174,
     "metadata": {},
     "output_type": "execute_result"
    }
   ],
   "source": [
    "np.mean(pred == ytrain)"
   ]
  },
  {
   "cell_type": "code",
   "execution_count": 137,
   "id": "6ecfea00-0cb9-4c84-b1ec-cea7df87e222",
   "metadata": {},
   "outputs": [
    {
     "ename": "AttributeError",
     "evalue": "'NeuralNetwork' object has no attribute 'w'",
     "output_type": "error",
     "traceback": [
      "\u001b[1;31m---------------------------------------------------------------------------\u001b[0m",
      "\u001b[1;31mAttributeError\u001b[0m                            Traceback (most recent call last)",
      "Cell \u001b[1;32mIn[137], line 1\u001b[0m\n\u001b[1;32m----> 1\u001b[0m bole\u001b[38;5;241m.\u001b[39mpredict(xtrain, ytrain)\n",
      "File \u001b[1;32m~\\Desktop\\Freestyle\\GitHub\\ML\\logisticRegression_Numpy\\Logit.py:40\u001b[0m, in \u001b[0;36mLogit.predict\u001b[1;34m(self, x, y)\u001b[0m\n\u001b[0;32m     36\u001b[0m \u001b[38;5;250m\u001b[39m\u001b[38;5;124;03m\"\"\"Racuna binarne predikcije za ulazne podatke x.\u001b[39;00m\n\u001b[0;32m     37\u001b[0m \u001b[38;5;124;03mAko je prosleđen y, vraća dvojku (preciznost, predikcije).\"\"\"\u001b[39;00m\n\u001b[0;32m     39\u001b[0m \u001b[38;5;28;01mif\u001b[39;00m \u001b[38;5;28mself\u001b[39m\u001b[38;5;241m.\u001b[39maktivacija \u001b[38;5;241m==\u001b[39m \u001b[38;5;124m'\u001b[39m\u001b[38;5;124msigmoid\u001b[39m\u001b[38;5;124m'\u001b[39m:\n\u001b[1;32m---> 40\u001b[0m     p \u001b[38;5;241m=\u001b[39m \u001b[38;5;28mself\u001b[39m\u001b[38;5;241m.\u001b[39msigmoid(x)\n\u001b[0;32m     41\u001b[0m     pred \u001b[38;5;241m=\u001b[39m (p \u001b[38;5;241m>\u001b[39m \u001b[38;5;241m0.5\u001b[39m)\u001b[38;5;241m.\u001b[39mastype(\u001b[38;5;28mint\u001b[39m)\n\u001b[0;32m     42\u001b[0m     \u001b[38;5;28;01mif\u001b[39;00m y \u001b[38;5;129;01mis\u001b[39;00m \u001b[38;5;129;01mnot\u001b[39;00m \u001b[38;5;28;01mNone\u001b[39;00m:\n",
      "File \u001b[1;32m~\\Desktop\\Freestyle\\GitHub\\ML\\logisticRegression_Numpy\\Logit.py:21\u001b[0m, in \u001b[0;36mLogit.sigmoid\u001b[1;34m(self, x, w)\u001b[0m\n\u001b[0;32m     19\u001b[0m \u001b[38;5;28;01mdef\u001b[39;00m \u001b[38;5;21msigmoid\u001b[39m(\u001b[38;5;28mself\u001b[39m, x, w \u001b[38;5;241m=\u001b[39m \u001b[38;5;28;01mNone\u001b[39;00m):\n\u001b[0;32m     20\u001b[0m     \u001b[38;5;28;01mif\u001b[39;00m w \u001b[38;5;129;01mis\u001b[39;00m \u001b[38;5;28;01mNone\u001b[39;00m:\n\u001b[1;32m---> 21\u001b[0m         w \u001b[38;5;241m=\u001b[39m \u001b[38;5;28mself\u001b[39m\u001b[38;5;241m.\u001b[39mw\n\u001b[0;32m     22\u001b[0m     z \u001b[38;5;241m=\u001b[39m x \u001b[38;5;241m@\u001b[39m w\n\u001b[0;32m     23\u001b[0m     z \u001b[38;5;241m=\u001b[39m np\u001b[38;5;241m.\u001b[39mclip(z, \u001b[38;5;241m-\u001b[39m\u001b[38;5;241m500\u001b[39m, \u001b[38;5;241m500\u001b[39m)\n",
      "\u001b[1;31mAttributeError\u001b[0m: 'NeuralNetwork' object has no attribute 'w'"
     ]
    }
   ],
   "source": [
    "bole.predict(xtrain, ytrain)"
   ]
  },
  {
   "cell_type": "code",
   "execution_count": 109,
   "id": "37f4e62e-279f-46eb-af44-061ff49fe9da",
   "metadata": {},
   "outputs": [
    {
     "data": {
      "text/plain": [
       "3.8164283086942747"
      ]
     },
     "execution_count": 109,
     "metadata": {},
     "output_type": "execute_result"
    }
   ],
   "source": [
    "bole.trainStep(xtrain, ytrain)"
   ]
  },
  {
   "cell_type": "code",
   "execution_count": 115,
   "id": "5426d123-1612-4b40-a723-c2239fec5285",
   "metadata": {},
   "outputs": [
    {
     "name": "stdout",
     "output_type": "stream",
     "text": [
      "3.530601518379881\n",
      "3.3949619898002807\n",
      "3.264082606791425\n",
      "3.1379907248358543\n"
     ]
    },
    {
     "ename": "KeyboardInterrupt",
     "evalue": "",
     "output_type": "error",
     "traceback": [
      "\u001b[1;31m---------------------------------------------------------------------------\u001b[0m",
      "\u001b[1;31mKeyboardInterrupt\u001b[0m                         Traceback (most recent call last)",
      "Cell \u001b[1;32mIn[115], line 2\u001b[0m\n\u001b[0;32m      1\u001b[0m \u001b[38;5;28;01mfor\u001b[39;00m i \u001b[38;5;129;01min\u001b[39;00m \u001b[38;5;28mrange\u001b[39m(\u001b[38;5;241m10\u001b[39m):\n\u001b[1;32m----> 2\u001b[0m     \u001b[38;5;28mprint\u001b[39m(bole\u001b[38;5;241m.\u001b[39mtrainStep(xtrain,ytrain))\n",
      "Cell \u001b[1;32mIn[105], line 48\u001b[0m, in \u001b[0;36mNeuralNetwork.trainStep\u001b[1;34m(self, x, y, epsilon, learning_rate)\u001b[0m\n\u001b[0;32m     46\u001b[0m \u001b[38;5;28;01mdef\u001b[39;00m \u001b[38;5;21mtrainStep\u001b[39m(\u001b[38;5;28mself\u001b[39m, x, y, epsilon\u001b[38;5;241m=\u001b[39m\u001b[38;5;241m.00001\u001b[39m, learning_rate\u001b[38;5;241m=\u001b[39m\u001b[38;5;241m0.01\u001b[39m):\n\u001b[0;32m     47\u001b[0m     loss \u001b[38;5;241m=\u001b[39m \u001b[38;5;28mself\u001b[39m\u001b[38;5;241m.\u001b[39mforward(x, y)\n\u001b[1;32m---> 48\u001b[0m     grads \u001b[38;5;241m=\u001b[39m \u001b[38;5;28mself\u001b[39m\u001b[38;5;241m.\u001b[39mgradijenti(x, y, epsilon)\n\u001b[0;32m     49\u001b[0m     \u001b[38;5;28mself\u001b[39m\u001b[38;5;241m.\u001b[39mweights \u001b[38;5;241m=\u001b[39m [w \u001b[38;5;241m-\u001b[39m learning_rate \u001b[38;5;241m*\u001b[39m g \u001b[38;5;28;01mfor\u001b[39;00m w, g \u001b[38;5;129;01min\u001b[39;00m \u001b[38;5;28mzip\u001b[39m(\u001b[38;5;28mself\u001b[39m\u001b[38;5;241m.\u001b[39mweights, grads)]\n\u001b[0;32m     50\u001b[0m     \u001b[38;5;28;01mreturn\u001b[39;00m loss\n",
      "Cell \u001b[1;32mIn[105], line 37\u001b[0m, in \u001b[0;36mNeuralNetwork.gradijenti\u001b[1;34m(self, x, y, epsilon)\u001b[0m\n\u001b[0;32m     34\u001b[0m original \u001b[38;5;241m=\u001b[39m w[i, j]\n\u001b[0;32m     36\u001b[0m w[i, j] \u001b[38;5;241m=\u001b[39m original \u001b[38;5;241m+\u001b[39m epsilon\n\u001b[1;32m---> 37\u001b[0m fPlus \u001b[38;5;241m=\u001b[39m \u001b[38;5;28mself\u001b[39m\u001b[38;5;241m.\u001b[39mforward(x, y)\n\u001b[0;32m     39\u001b[0m w[i, j] \u001b[38;5;241m=\u001b[39m original \u001b[38;5;241m-\u001b[39m epsilon\n\u001b[0;32m     40\u001b[0m fMinus \u001b[38;5;241m=\u001b[39m \u001b[38;5;28mself\u001b[39m\u001b[38;5;241m.\u001b[39mforward(x, y)\n",
      "Cell \u001b[1;32mIn[105], line 13\u001b[0m, in \u001b[0;36mNeuralNetwork.forward\u001b[1;34m(self, x, y)\u001b[0m\n\u001b[0;32m     11\u001b[0m         aktivacija \u001b[38;5;241m=\u001b[39m \u001b[38;5;28mself\u001b[39m\u001b[38;5;241m.\u001b[39msoftmax(aktivacija, w)\n\u001b[0;32m     12\u001b[0m     \u001b[38;5;28;01melse\u001b[39;00m:\n\u001b[1;32m---> 13\u001b[0m         aktivacija \u001b[38;5;241m=\u001b[39m \u001b[38;5;28mself\u001b[39m\u001b[38;5;241m.\u001b[39msigmoid(aktivacija, w)\n\u001b[0;32m     15\u001b[0m loss \u001b[38;5;241m=\u001b[39m \u001b[38;5;241m-\u001b[39mnp\u001b[38;5;241m.\u001b[39msum(y \u001b[38;5;241m*\u001b[39m np\u001b[38;5;241m.\u001b[39mlog(aktivacija \u001b[38;5;241m+\u001b[39m \u001b[38;5;241m1e-6\u001b[39m)) \u001b[38;5;241m/\u001b[39m \u001b[38;5;28mlen\u001b[39m(x)\n\u001b[0;32m     17\u001b[0m \u001b[38;5;28;01mif\u001b[39;00m \u001b[38;5;28mself\u001b[39m\u001b[38;5;241m.\u001b[39mregularizacija\u001b[38;5;241m.\u001b[39mlower() \u001b[38;5;241m==\u001b[39m \u001b[38;5;124m'\u001b[39m\u001b[38;5;124ml2\u001b[39m\u001b[38;5;124m'\u001b[39m:\n",
      "File \u001b[1;32m~\\Desktop\\Freestyle\\GitHub\\ML\\logisticRegression_Numpy\\Logit.py:23\u001b[0m, in \u001b[0;36mLogit.sigmoid\u001b[1;34m(self, x, w)\u001b[0m\n\u001b[0;32m     21\u001b[0m     w \u001b[38;5;241m=\u001b[39m \u001b[38;5;28mself\u001b[39m\u001b[38;5;241m.\u001b[39mw\n\u001b[0;32m     22\u001b[0m z \u001b[38;5;241m=\u001b[39m x \u001b[38;5;241m@\u001b[39m w\n\u001b[1;32m---> 23\u001b[0m z \u001b[38;5;241m=\u001b[39m np\u001b[38;5;241m.\u001b[39mclip(z, \u001b[38;5;241m-\u001b[39m\u001b[38;5;241m500\u001b[39m, \u001b[38;5;241m500\u001b[39m)\n\u001b[0;32m     24\u001b[0m p \u001b[38;5;241m=\u001b[39m \u001b[38;5;241m1\u001b[39m \u001b[38;5;241m/\u001b[39m (\u001b[38;5;241m1\u001b[39m \u001b[38;5;241m+\u001b[39m np\u001b[38;5;241m.\u001b[39mexp(\u001b[38;5;241m-\u001b[39mz))\n\u001b[0;32m     25\u001b[0m \u001b[38;5;28;01mreturn\u001b[39;00m p\n",
      "File \u001b[1;32m~\\anaconda3\\Lib\\site-packages\\numpy\\core\\fromnumeric.py:2096\u001b[0m, in \u001b[0;36m_clip_dispatcher\u001b[1;34m(a, a_min, a_max, out, **kwargs)\u001b[0m\n\u001b[0;32m   2034\u001b[0m \u001b[38;5;250m    \u001b[39m\u001b[38;5;124;03m\"\"\"\u001b[39;00m\n\u001b[0;32m   2035\u001b[0m \u001b[38;5;124;03m    Return selected slices of an array along given axis.\u001b[39;00m\n\u001b[0;32m   2036\u001b[0m \n\u001b[1;32m   (...)\u001b[0m\n\u001b[0;32m   2091\u001b[0m \n\u001b[0;32m   2092\u001b[0m \u001b[38;5;124;03m    \"\"\"\u001b[39;00m\n\u001b[0;32m   2093\u001b[0m     \u001b[38;5;28;01mreturn\u001b[39;00m _wrapfunc(a, \u001b[38;5;124m'\u001b[39m\u001b[38;5;124mcompress\u001b[39m\u001b[38;5;124m'\u001b[39m, condition, axis\u001b[38;5;241m=\u001b[39maxis, out\u001b[38;5;241m=\u001b[39mout)\n\u001b[1;32m-> 2096\u001b[0m \u001b[38;5;28;01mdef\u001b[39;00m \u001b[38;5;21m_clip_dispatcher\u001b[39m(a, a_min, a_max, out\u001b[38;5;241m=\u001b[39m\u001b[38;5;28;01mNone\u001b[39;00m, \u001b[38;5;241m*\u001b[39m\u001b[38;5;241m*\u001b[39mkwargs):\n\u001b[0;32m   2097\u001b[0m     \u001b[38;5;28;01mreturn\u001b[39;00m (a, a_min, a_max)\n\u001b[0;32m   2100\u001b[0m \u001b[38;5;129m@array_function_dispatch\u001b[39m(_clip_dispatcher)\n\u001b[0;32m   2101\u001b[0m \u001b[38;5;28;01mdef\u001b[39;00m \u001b[38;5;21mclip\u001b[39m(a, a_min, a_max, out\u001b[38;5;241m=\u001b[39m\u001b[38;5;28;01mNone\u001b[39;00m, \u001b[38;5;241m*\u001b[39m\u001b[38;5;241m*\u001b[39mkwargs):\n",
      "\u001b[1;31mKeyboardInterrupt\u001b[0m: "
     ]
    }
   ],
   "source": [
    "for i in range(10):\n",
    "    print(bole.trainStep(xtrain,ytrain))"
   ]
  },
  {
   "cell_type": "code",
   "execution_count": 77,
   "id": "dc000cef-b82e-46e9-8293-20daac49fb2a",
   "metadata": {},
   "outputs": [],
   "source": [
    "dimenzijeSlojeva = [784,100, 10]"
   ]
  },
  {
   "cell_type": "code",
   "execution_count": 79,
   "id": "ea765016-a435-46c9-a7d5-8c948e9ad4c3",
   "metadata": {},
   "outputs": [],
   "source": [
    "b = [np.random.rand(dimenzijeSlojeva[i], dimenzijeSlojeva[i+1]) - 0.5 for i in range(len(dimenzijeSlojeva)-1)]"
   ]
  },
  {
   "cell_type": "code",
   "execution_count": 87,
   "id": "e42e026b-9ef1-402b-be2e-b97963ec2df1",
   "metadata": {},
   "outputs": [
    {
     "name": "stdout",
     "output_type": "stream",
     "text": [
      "(784, 100)\n",
      "(100, 10)\n"
     ]
    }
   ],
   "source": [
    "for i in range(len(b)):\n",
    "    print(b[i].shape)"
   ]
  },
  {
   "cell_type": "code",
   "execution_count": null,
   "id": "71914172-a511-45bc-a534-f3f9d45c1c3f",
   "metadata": {},
   "outputs": [],
   "source": []
  }
 ],
 "metadata": {
  "kernelspec": {
   "display_name": "Python 3 (ipykernel)",
   "language": "python",
   "name": "python3"
  },
  "language_info": {
   "codemirror_mode": {
    "name": "ipython",
    "version": 3
   },
   "file_extension": ".py",
   "mimetype": "text/x-python",
   "name": "python",
   "nbconvert_exporter": "python",
   "pygments_lexer": "ipython3",
   "version": "3.12.4"
  }
 },
 "nbformat": 4,
 "nbformat_minor": 5
}
