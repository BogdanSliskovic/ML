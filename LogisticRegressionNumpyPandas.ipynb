{
 "cells": [
  {
   "cell_type": "code",
   "execution_count": 1,
   "id": "4d81d2be-15e5-4f74-be8b-1238f3715ea1",
   "metadata": {},
   "outputs": [
    {
     "name": "stdout",
     "output_type": "stream",
     "text": [
      "['y', 'x1', 'x2', 'x3', 'x4', 'x5', 'x6', 'x7', 'x8', 'x9']\n"
     ]
    },
    {
     "name": "stderr",
     "output_type": "stream",
     "text": [
      "C:\\Users\\bogdan.sliskovic\\AppData\\Local\\Temp\\ipykernel_1000\\2556689033.py:19: FutureWarning: Setting an item of incompatible dtype is deprecated and will raise in a future error of pandas. Value '0        5\n",
      "1        0\n",
      "2        4\n",
      "3        1\n",
      "4        9\n",
      "        ..\n",
      "69995    2\n",
      "69996    3\n",
      "69997    4\n",
      "69998    5\n",
      "69999    6\n",
      "Name: y, Length: 70000, dtype: int64' has dtype incompatible with category, please explicitly cast to a compatible dtype first.\n",
      "  data.iloc[:, 0] = pd.to_numeric(data.iloc[:, 0])\n"
     ]
    },
    {
     "name": "stdout",
     "output_type": "stream",
     "text": [
      "70000\n"
     ]
    }
   ],
   "source": [
    "import numpy as np\n",
    "import pandas as pd\n",
    "from sklearn.datasets import fetch_openml\n",
    "\n",
    "data = fetch_openml('mnist_784', version=1, return_X_y=True, as_frame=True)\n",
    "\n",
    "data\n",
    "\n",
    "kolone = ['y']\n",
    "kolone.extend('x'+str(i+1) for i in range(784))\n",
    "\n",
    "print(kolone[:10])\n",
    "\n",
    "data = pd.concat((data[1], data[0]), axis = 1)\n",
    "\n",
    "data.columns = kolone\n",
    "\n",
    "data\n",
    "data.iloc[:, 0] = pd.to_numeric(data.iloc[:, 0])\n",
    "data.iloc[:, 0] = np.where(data.iloc[:,0] == 5, 1, 0)\n",
    "datatrain = data.sample(50000, random_state=42)\n",
    "datadev = data.drop(index = datatrain.index).sample(10000, random_state=42)\n",
    "datatest = data.drop(index = datatrain.index,).drop(index = datadev.index)\n",
    "print(len(set(datatrain.index) | set(datadev.index) | set(datatest.index)))"
   ]
  },
  {
   "cell_type": "code",
   "execution_count": 2,
   "id": "d2390ba4-7128-4673-8ebe-d0c145fcae35",
   "metadata": {},
   "outputs": [],
   "source": [
    "np.set_printoptions(suppress=True, precision=6)"
   ]
  },
  {
   "cell_type": "code",
   "execution_count": 3,
   "id": "7757ec08-6855-4b51-ab40-2b1c3d8ba86e",
   "metadata": {},
   "outputs": [
    {
     "data": {
      "text/plain": [
       "array([1, 0])"
      ]
     },
     "execution_count": 3,
     "metadata": {},
     "output_type": "execute_result"
    }
   ],
   "source": [
    "data.y.unique()"
   ]
  },
  {
   "cell_type": "code",
   "execution_count": null,
   "id": "ca277b56-9a04-4ec9-9f1c-9900f20f88ef",
   "metadata": {},
   "outputs": [],
   "source": [
    "def feature(df):\n",
    "    x = df.drop('y',axis = 1).values / 255\n",
    "    m = x.shape[0]\n",
    "    x = np.concatenate((np.ones((m,1)), x), axis = 1)\n",
    "    return x\n",
    "\n",
    "def target(data):\n",
    "    y = data.iloc[:,0].values.reshape(-1,1)\n",
    "    return y\n",
    "\n",
    "xtrain, xdev, xtest = tuple(feature(skup) for skup in [datatrain, datadev, datatest])\n",
    "\n",
    "ytrain, ydev, ytest = tuple(target(skup) for skup in [datatrain, datadev, datatest])"
   ]
  },
  {
   "cell_type": "code",
   "execution_count": 8,
   "id": "06d202c7-f741-4730-9cc0-68ce6c9fd0d3",
   "metadata": {},
   "outputs": [
    {
     "data": {
      "text/plain": [
       "np.float64(1.0)"
      ]
     },
     "execution_count": 8,
     "metadata": {},
     "output_type": "execute_result"
    }
   ],
   "source": [
    "xtrain.max()"
   ]
  },
  {
   "cell_type": "code",
   "execution_count": 9,
   "id": "aa882243-f151-433a-b640-38d506652fee",
   "metadata": {},
   "outputs": [
    {
     "data": {
      "text/plain": [
       "((50000, 785), (50000, 1), (10000, 785), (10000, 1), (10000, 785), (10000, 1))"
      ]
     },
     "execution_count": 9,
     "metadata": {},
     "output_type": "execute_result"
    }
   ],
   "source": [
    "xtrain.shape, ytrain.shape, xdev.shape, ydev.shape, xtest.shape, ytest.shape"
   ]
  },
  {
   "cell_type": "code",
   "execution_count": null,
   "id": "d84cf1a5-2ac1-452e-8e77-5831bdd80623",
   "metadata": {},
   "outputs": [],
   "source": [
    "m,n = xtrain.shape\n",
    "\n",
    "np.random.seed(42)\n",
    "w = np.random.rand(n,1) - .5\n",
    "\n",
    "z = xtrain @ w\n",
    "pred = 1 / (1 + np.exp(-z))\n",
    "pred"
   ]
  },
  {
   "cell_type": "code",
   "execution_count": 13,
   "id": "875dea74-1c0c-4d2f-b3d4-ae564f856957",
   "metadata": {},
   "outputs": [
    {
     "data": {
      "text/plain": [
       "np.float64(0.7199538548303979)"
      ]
     },
     "execution_count": 13,
     "metadata": {},
     "output_type": "execute_result"
    }
   ],
   "source": [
    "l = -(np.mean(ytrain * np.log(pred) + (1 - ytrain) * np.log(1 - pred)))\n",
    "l"
   ]
  },
  {
   "cell_type": "code",
   "execution_count": 14,
   "id": "3db33314-baf5-4915-a785-f3bf6a2033e6",
   "metadata": {},
   "outputs": [
    {
     "data": {
      "text/plain": [
       "array([[0.283753],\n",
       "       [0.      ],\n",
       "       [0.      ],\n",
       "       [0.      ],\n",
       "       [0.      ],\n",
       "       [0.      ],\n",
       "       [0.      ],\n",
       "       [0.      ],\n",
       "       [0.      ],\n",
       "       [0.      ],\n",
       "       [0.      ],\n",
       "       [0.      ],\n",
       "       [0.      ],\n",
       "       [0.      ],\n",
       "       [0.      ]])"
      ]
     },
     "execution_count": 14,
     "metadata": {},
     "output_type": "execute_result"
    }
   ],
   "source": [
    "gradijenti = (xtrain.T @ (pred - ytrain)) / m\n",
    "gradijenti[:15]"
   ]
  },
  {
   "cell_type": "code",
   "execution_count": 15,
   "id": "c1840d2a-be73-4b80-88e1-790b071978a8",
   "metadata": {},
   "outputs": [
    {
     "data": {
      "text/plain": [
       "np.float64(27.392207106705747)"
      ]
     },
     "execution_count": 15,
     "metadata": {},
     "output_type": "execute_result"
    }
   ],
   "source": [
    "gradijenti.sum()"
   ]
  },
  {
   "cell_type": "code",
   "execution_count": 16,
   "id": "01de0f11-238a-4fb4-8e8d-764f3696a245",
   "metadata": {},
   "outputs": [],
   "source": [
    "w -= .1 * gradijenti"
   ]
  },
  {
   "cell_type": "code",
   "execution_count": 17,
   "id": "0e91396c-706a-4d43-ab7c-5bfe34b3f722",
   "metadata": {},
   "outputs": [
    {
     "data": {
      "text/plain": [
       "array([[0.121145],\n",
       "       [0.147565],\n",
       "       [0.018718],\n",
       "       ...,\n",
       "       [0.166038],\n",
       "       [0.165289],\n",
       "       [0.147016]], shape=(50000, 1))"
      ]
     },
     "execution_count": 17,
     "metadata": {},
     "output_type": "execute_result"
    }
   ],
   "source": [
    "z = xtrain @ w\n",
    "pred = 1 / (1 + np.exp(-z))\n",
    "pred"
   ]
  },
  {
   "cell_type": "code",
   "execution_count": 18,
   "id": "a2682393-8c85-4a6d-a35f-0faa34c0a3b1",
   "metadata": {},
   "outputs": [
    {
     "data": {
      "text/plain": [
       "np.float64(9.887740495657864)"
      ]
     },
     "execution_count": 18,
     "metadata": {},
     "output_type": "execute_result"
    }
   ],
   "source": [
    "abs(z).max()"
   ]
  },
  {
   "cell_type": "code",
   "execution_count": 19,
   "id": "9cd0c974-176c-4c83-854a-501be3920d49",
   "metadata": {},
   "outputs": [
    {
     "data": {
      "text/plain": [
       "np.float64(0.5150179267013719)"
      ]
     },
     "execution_count": 19,
     "metadata": {},
     "output_type": "execute_result"
    }
   ],
   "source": [
    "l = -(np.mean(ytrain * np.log(pred) + (1 - ytrain) * np.log(1 - pred)))\n",
    "l"
   ]
  },
  {
   "cell_type": "code",
   "execution_count": 20,
   "id": "870ee18c-532e-4a1d-8ad3-e1d31b4ed907",
   "metadata": {},
   "outputs": [
    {
     "data": {
      "text/plain": [
       "array([[0.121145],\n",
       "       [0.147565],\n",
       "       [0.018718],\n",
       "       [0.104901],\n",
       "       [0.097001],\n",
       "       [0.051358],\n",
       "       [0.015987],\n",
       "       [0.342057],\n",
       "       [0.477761],\n",
       "       [0.230201]])"
      ]
     },
     "execution_count": 20,
     "metadata": {},
     "output_type": "execute_result"
    }
   ],
   "source": [
    "pred[:10]"
   ]
  },
  {
   "cell_type": "code",
   "execution_count": 21,
   "id": "4ac086a2-6b93-4f0f-a812-da448b52b92b",
   "metadata": {
    "scrolled": true
   },
   "outputs": [
    {
     "name": "stdout",
     "output_type": "stream",
     "text": [
      "Iteracija 0, loss: 0.5150178590786231, velicina gradijenta0.8618085200750397\n",
      "Iteracija 100, loss: 0.36724235054210164, velicina gradijenta0.21515314794410034\n",
      "Iteracija 200, loss: 0.32865985333862574, velicina gradijenta0.1810715465419959\n",
      "Iteracija 300, loss: 0.3000315268427778, velicina gradijenta0.15789102349460796\n",
      "Iteracija 400, loss: 0.2779587095750731, velicina gradijenta0.13969503216867554\n",
      "Iteracija 500, loss: 0.26045138492903097, velicina gradijenta0.1252704991099562\n",
      "Iteracija 600, loss: 0.24621195012873642, velicina gradijenta0.11363119239601499\n",
      "Iteracija 700, loss: 0.23438477695484453, velicina gradijenta0.10405109056089391\n",
      "Iteracija 800, loss: 0.2243909738150802, velicina gradijenta0.09601666855175857\n",
      "Iteracija 900, loss: 0.21582669434075288, velicina gradijenta0.08916718584249353\n",
      "Iteracija 1000, loss: 0.20840144660169402, velicina gradijenta0.083246726958684\n",
      "Iteracija 1100, loss: 0.20190031416872906, velicina gradijenta0.07807029081274815\n",
      "Iteracija 1200, loss: 0.1961603248079057, velicina gradijenta0.0735010555932208\n",
      "Iteracija 1300, loss: 0.19105526198846412, velicina gradijenta0.06943542817871898\n",
      "Iteracija 1400, loss: 0.18648561267404537, velicina gradijenta0.06579321677501701\n",
      "Iteracija 1500, loss: 0.1823717190334173, velicina gradijenta0.0625111009977009\n",
      "Iteracija 1600, loss: 0.17864898466598494, velicina gradijenta0.05953821572798974\n",
      "Iteracija 1700, loss: 0.17526443581224613, velicina gradijenta0.0568330989601931\n",
      "Iteracija 1800, loss: 0.17217420076175677, velicina gradijenta0.054361531873954656\n",
      "Iteracija 1900, loss: 0.16934162734731467, velicina gradijenta0.052094973498034075\n",
      "Iteracija 2000, loss: 0.16673585405694819, velicina gradijenta0.05000940047042929\n",
      "Iteracija 2100, loss: 0.1643307101540605, velicina gradijenta0.048084429495800836\n",
      "Iteracija 2200, loss: 0.16210385862691973, velicina gradijenta0.04630264191961561\n",
      "Iteracija 2300, loss: 0.16003612109186885, velicina gradijenta0.04464905614900893\n",
      "Iteracija 2400, loss: 0.15811094083970045, velicina gradijenta0.04311071044739882\n",
      "Iteracija 2500, loss: 0.15631395198150097, velicina gradijenta0.04167632956774826\n",
      "Iteracija 2600, loss: 0.1546326309261681, velicina gradijenta0.04033605598618923\n",
      "Iteracija 2700, loss: 0.15305601234405472, velicina gradijenta0.03908123149748612\n",
      "Iteracija 2800, loss: 0.15157445607292214, velicina gradijenta0.0379042184529061\n",
      "Iteracija 2900, loss: 0.15017945458746798, velicina gradijenta0.03679825245976\n"
     ]
    }
   ],
   "source": [
    "loss = []\n",
    "for i in range (3000):  \n",
    "    lr = 0.01\n",
    "    z = np.clip(xtrain @ w, -500, 500)\n",
    "    pred = 1 / (1 + np.exp(-z))\n",
    "    l = -(np.mean(ytrain * np.log(pred+.00000001) + (1 - ytrain) * np.log(1 - pred+.00000001)))\n",
    "    gradijenti = (xtrain.T @ (pred - ytrain)) / m\n",
    "    w -= lr * gradijenti\n",
    "    l2grad = np.linalg.norm(gradijenti)\n",
    "    if i % 500 == 0:\n",
    "        lr = lr *.5\n",
    "\n",
    "    if i % 100 == 0:\n",
    "        loss.append(l)\n",
    "        print(f\"Iteracija {i}, loss: {l}, velicina gradijenta{l2grad}\")\n",
    "\n",
    "    if l2grad < 0.005:\n",
    "        break"
   ]
  },
  {
   "cell_type": "code",
   "execution_count": 29,
   "id": "acf63d68-50cb-45df-8473-2422ae5ed99a",
   "metadata": {},
   "outputs": [],
   "source": [
    "z = np.clip(xtrain @ w,-500,500)\n",
    "pred = 1 / (1 + np.exp(-z))\n"
   ]
  },
  {
   "cell_type": "code",
   "execution_count": 30,
   "id": "3a2f205f-ffd4-4df4-b7d1-06a642e7dfbb",
   "metadata": {},
   "outputs": [],
   "source": [
    "predtrain = (pred > 0.5).astype(int)"
   ]
  },
  {
   "cell_type": "code",
   "execution_count": 31,
   "id": "bc78a44b-9fc1-4c42-b90f-c58ee0511dab",
   "metadata": {},
   "outputs": [
    {
     "name": "stdout",
     "output_type": "stream",
     "text": [
      "Accuracy na trening skupu: 0.94842\n"
     ]
    }
   ],
   "source": [
    "preciznost = np.mean(predtrain == ytrain)\n",
    "print(\"Accuracy na trening skupu:\", preciznost)"
   ]
  },
  {
   "cell_type": "code",
   "execution_count": 32,
   "id": "d4913073-f215-4b31-8dc9-46f9e202d1ba",
   "metadata": {},
   "outputs": [
    {
     "name": "stdout",
     "output_type": "stream",
     "text": [
      "Accuracy na dev skupu: 0.9496\n"
     ]
    }
   ],
   "source": [
    "zdev = np.clip(xdev @ w, -500, 500)\n",
    "pred = 1 / (1 + np.exp(-zdev))\n",
    "predicted_classes = (pred >= 0.5).astype(int)\n",
    "\n",
    "# Računaj tačnost poređenjem predviđenih klasa sa stvarnim oznakama\n",
    "accuracy = np.mean(predicted_classes == ydev)\n",
    "print(\"Accuracy na dev skupu:\", accuracy)"
   ]
  },
  {
   "cell_type": "code",
   "execution_count": 26,
   "id": "e3cc7687-29bc-4e20-bea2-b9c99b6dbdc1",
   "metadata": {},
   "outputs": [],
   "source": [
    "from sklearn.linear_model import LogisticRegression\n",
    "from sklearn.metrics import accuracy_score"
   ]
  },
  {
   "cell_type": "code",
   "execution_count": 27,
   "id": "7cf0a138-659a-4a77-b6de-e9aa35d87c0b",
   "metadata": {},
   "outputs": [
    {
     "name": "stdout",
     "output_type": "stream",
     "text": [
      "2065\n",
      "0.9782\n",
      "0.94842\n"
     ]
    },
    {
     "data": {
      "text/plain": [
       "((50000,), (10000, 1))"
      ]
     },
     "execution_count": 27,
     "metadata": {},
     "output_type": "execute_result"
    }
   ],
   "source": [
    "model = LogisticRegression(penalty = None,max_iter=1000)\n",
    "model.fit(xtrain, ytrain.reshape(-1,))\n",
    "\n",
    "ypredSklearn = model.predict(xtrain)\n",
    "\n",
    "print(abs(ypredSklearn - predtrain.reshape(-1,)).sum())\n",
    "\n",
    "print(accuracy_score(ypredSklearn, ytrain))\n",
    "\n",
    "print(accuracy_score(predtrain, ytrain))\n",
    "\n",
    "ypredSklearn.shape, pred.shape"
   ]
  },
  {
   "cell_type": "code",
   "execution_count": 28,
   "id": "92004212-60cd-4081-915f-565136ad76a2",
   "metadata": {},
   "outputs": [
    {
     "name": "stdout",
     "output_type": "stream",
     "text": [
      "0.9754\n"
     ]
    }
   ],
   "source": [
    "print(accuracy_score(model.predict(xdev), ydev))"
   ]
  },
  {
   "cell_type": "markdown",
   "id": "15308891-2c7d-4dac-9543-61c4791fb3d9",
   "metadata": {},
   "source": [
    "SA REGULARIZACIJOM"
   ]
  },
  {
   "cell_type": "code",
   "execution_count": 33,
   "id": "bb5be676-2309-4974-bdfb-ab389ccfd333",
   "metadata": {},
   "outputs": [
    {
     "data": {
      "text/plain": [
       "array([[0.377692],\n",
       "       [0.345481],\n",
       "       [0.045587],\n",
       "       ...,\n",
       "       [0.273751],\n",
       "       [0.377685],\n",
       "       [0.338272]], shape=(50000, 1))"
      ]
     },
     "execution_count": 33,
     "metadata": {},
     "output_type": "execute_result"
    }
   ],
   "source": [
    "np.random.seed(42)\n",
    "w = np.random.rand(n,1) - .5\n",
    "\n",
    "z = xtrain @ w\n",
    "pred = 1 / (1 + np.exp(-z))\n",
    "pred"
   ]
  },
  {
   "cell_type": "code",
   "execution_count": null,
   "id": "a6983341-c651-403b-b511-ff236734a449",
   "metadata": {},
   "outputs": [],
   "source": [
    "l = -(np.mean(ytrain * np.log(pred) + (1 - ytrain) * np.log(1 - pred)))\n",
    "l"
   ]
  }
 ],
 "metadata": {
  "kernelspec": {
   "display_name": "Python 3 (ipykernel)",
   "language": "python",
   "name": "python3"
  },
  "language_info": {
   "codemirror_mode": {
    "name": "ipython",
    "version": 3
   },
   "file_extension": ".py",
   "mimetype": "text/x-python",
   "name": "python",
   "nbconvert_exporter": "python",
   "pygments_lexer": "ipython3",
   "version": "3.13.1"
  }
 },
 "nbformat": 4,
 "nbformat_minor": 5
}
