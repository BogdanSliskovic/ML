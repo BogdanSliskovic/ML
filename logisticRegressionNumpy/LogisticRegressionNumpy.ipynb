{
 "cells": [
  {
   "cell_type": "code",
   "execution_count": 13,
   "id": "4d81d2be-15e5-4f74-be8b-1238f3715ea1",
   "metadata": {},
   "outputs": [
    {
     "name": "stdout",
     "output_type": "stream",
     "text": [
      "(50000, 785) (10000, 785) (10000, 785)\n",
      "1.0\n"
     ]
    },
    {
     "data": {
      "text/plain": [
       "((50000, 785), (10000, 785), (10000, 785), (50000, 1), (10000, 1), (10000, 1))"
      ]
     },
     "execution_count": 13,
     "metadata": {},
     "output_type": "execute_result"
    }
   ],
   "source": [
    "import numpy as np\n",
    "from sklearn.datasets import fetch_openml\n",
    "import joblib\n",
    "\n",
    "x, y = fetch_openml('mnist_784', version=1, return_X_y=True, as_frame= False)\n",
    "\n",
    "y = y.astype(int).reshape(-1,1)\n",
    "y = np.where(y == 5, 1, 0)\n",
    "\n",
    "y = y.reshape(-1,1)\n",
    "\n",
    "data = np.hstack((y, x))\n",
    "\n",
    "np.random.seed(42)\n",
    "np.random.shuffle(data)\n",
    "\n",
    "datatrain = data[:50000]\n",
    "datadev = data[50000:60000]\n",
    "datatest = data[60000:]\n",
    "\n",
    "print(datatrain.shape, datadev.shape, datatest.shape)\n",
    "\n",
    "def feature(df):\n",
    "    return np.hstack((np.ones((df.shape[0],1)), df[:,1:] / 255))\n",
    "\n",
    "def target(data):\n",
    "    y = data[:,0].reshape(-1,1)\n",
    "    return y\n",
    "\n",
    "xtrain, xdev, xtest = tuple(feature(skup) for skup in [datatrain, datadev, datatest])\n",
    "\n",
    "ytrain, ydev, ytest = tuple(target(skup) for skup in [datatrain, datadev, datatest])\n",
    "print(xtrain.max())\n",
    "xtrain.shape, xdev.shape, xtest.shape, ytrain.shape, ydev.shape, ytest.shape"
   ]
  },
  {
   "cell_type": "code",
   "execution_count": 14,
   "id": "5b4e381c-3c13-4cc0-9395-355c8660964a",
   "metadata": {},
   "outputs": [],
   "source": [
    "class Logit():\n",
    "    \n",
    "    def __init__(self, lr=0.1, regularizacija='', reg=0.01, maxIter=None, nIter = None):      \n",
    "        '''Za regularizaciju uneti string 'l1' ili 'l2'\n",
    "        reg je regularizacioni parametar lambda \n",
    "        learning rate: pocetna brzina ucenja (polovi se na svakih 1000 iteracija) '''\n",
    "        \n",
    "        self.lr = lr\n",
    "        self.regularizacija = regularizacija\n",
    "        self.reg = reg\n",
    "        self.maxIter = maxIter\n",
    "        self.preciznostTrain= None\n",
    "        self.preciznostDev = None\n",
    "        self.historyW = []\n",
    "\n",
    "    def predict(self, x, y =None):\n",
    "        \"\"\"Racuna binarne predikcije za ulazne podatke x.\n",
    "        Ako je prosleđen y, vraća dvojku (preciznost, predikcije).\"\"\"\n",
    "        \n",
    "        z = np.clip(x @ self.w, -500, 500)\n",
    "        p = 1 / (1 + np.exp(-z))\n",
    "        pred = (p > 0.5).astype(int)\n",
    "        if y is not None:\n",
    "            return (np.mean(pred == y.reshape(-1,1)), pred)\n",
    "        else:\n",
    "            return pred\n",
    "    def predictProba(self,x):\n",
    "        \"\"\"Vraca predikcije verovatnoca za ulazne podatke x. \"\"\"\n",
    "        \n",
    "        z = np.clip(x @ self.w, -500, 500)\n",
    "        return 1 / (1 + np.exp(-z))\n",
    "        \n",
    "    def fit(self, x, y, xdev, ydev, randomState = 42):\n",
    "        \"\"\"Treniranje modela koristeći grupni gradijentni spust (batch gradient descent).\n",
    "        Funkcija prati preciznost na trening i dev skupu.\n",
    "        Svakih 100 iteracija se čuvaju trenutne težine u self.historyW.\n",
    "        Ako preciznost na dev skupu opadne u odnosu na \n",
    "        4 evaluacije unazad, smatra se da je dostigao plato i\n",
    "        model se vraca na težine iz te iteracije i vraca\n",
    "        dvojku (preciznost na trening skupu, preciznost na dev skupu).\"\"\"\n",
    "        \n",
    "        m, n = x.shape\n",
    "        np.random.seed(randomState)\n",
    "        self.w = np.random.rand(n,1) - .5\n",
    "        trainscore = []\n",
    "        devscore = [0 for _ in range(4)]\n",
    "        i = 0\n",
    "        lr = self.lr\n",
    "        epsilon=.0000001\n",
    "        \n",
    "        while True:\n",
    "            z = np.clip(x @ self.w, -500, 500)\n",
    "            pred = 1 / (1 + np.exp(-z))\n",
    "            gradijenti = (x.T @ (pred - y.reshape(-1, 1))) / m\n",
    "            \n",
    "            \n",
    "            if self.regularizacija.lower() == 'l1':\n",
    "                l = -np.mean(y * np.log(pred + epsilon) + (1 - y) * np.log(1 - pred + epsilon)) + (self.reg / m) * np.sum(np.abs(self.w[1:]))\n",
    "                gradijenti[1:] += (self.reg / m) * np.sign(self.w[1:])\n",
    "            elif self.regularizacija.lower() == 'l2':\n",
    "                l = -np.mean(y * np.log(pred + epsilon) + (1 - y) * np.log(1 - pred + epsilon)) + (self.reg / (2 * m)) * np.sum(np.square(self.w[1:]))\n",
    "                gradijenti[1:] += (self.reg / m) * self.w[1:]\n",
    "               \n",
    "            else:\n",
    "                l = -np.mean(y * np.log(pred + epsilon) + (1 - y) * np.log(1 - pred + epsilon))\n",
    "\n",
    "            self.w -= lr * gradijenti\n",
    "            grad_norm = np.linalg.norm(gradijenti)\n",
    "            \n",
    "            if i % 100 == 0:\n",
    "                self.historyW.append(self.w.copy())\n",
    "                preciznostTrain, _ = self.predict(x,y)\n",
    "                trainscore.append(preciznostTrain)\n",
    "                \n",
    "                preciznostDev, _ = self.predict(xdev, ydev)\n",
    "                devscore.append(preciznostDev)\n",
    "            \n",
    "            if i > 300 and (devscore[-1] - devscore[-5]) <= 0:\n",
    "                print(f\"Optimalni parametri su iz {i-300} iteracije\")\n",
    "                self.w = self.historyW[-4]\n",
    "                break\n",
    "            \n",
    "            if self.maxIter is not None and i >= self.maxIter:\n",
    "                print(f\"Maksimalan broj iteracija ({self.maxIter}) dostignut.\")\n",
    "                break\n",
    "            \n",
    "            if i % 1000 == 0 and i > 0:\n",
    "                lr *= 0.5\n",
    "                print(f\"Learning rate: {lr}, iteracija {i}\")\n",
    "                \n",
    "\n",
    "            i += 1\n",
    "        self.nIter = i - 300\n",
    "        self.preciznostTrain, _ = self.predict(x,y)\n",
    "        print(\"Preciznost na trening setu:\", self.preciznostTrain)\n",
    "\n",
    "        self.preciznostDev, _ = self.predict(xdev,ydev)\n",
    "        print(\"Preciznost na dev setu:\", self.preciznostDev)\n",
    "        \n",
    "        return self.preciznostTrain, self.preciznostDev\n",
    "\n",
    "    \n",
    "    def fitReg(self, x, y, xdev, ydev, listaRegularizacije):\n",
    "        '''Fituje model za svaki parametar lambda iz liste, cuva rezultate na dev skupu\n",
    "        na kraju fituje model sa lokalno optimalnim lambda parametrom i vraca recnik\n",
    "        {lambda : rezultat na dev skupu}'''\n",
    "\n",
    "        rezultati = []\n",
    "        for i in range(len(listaRegularizacije)):\n",
    "            self.reg = listaRegularizacije[i]\n",
    "            _, devScore = self.fit(x, y, xdev, ydev)\n",
    "            rezultati.append(devScore)\n",
    "            \n",
    "        self.w = self.historyW[np.argmax(rezultati)]\n",
    "        self.reg = listaRegularizacije[np.argmax(rezultati)]\n",
    "        self.fit(x, y, xdev, ydev)\n",
    "        return {self.reg : rezultati[np.argmax(rezultati)]}"
   ]
  },
  {
   "cell_type": "markdown",
   "id": "ff598f47-a066-487b-a6d6-869170633cab",
   "metadata": {},
   "source": [
    "logit = Logit()"
   ]
  },
  {
   "cell_type": "markdown",
   "id": "0612e22b-8958-46e7-a444-2151f78ccbfc",
   "metadata": {},
   "source": [
    "logit.fit(xtrain, ytrain, xdev, ydev)"
   ]
  },
  {
   "cell_type": "markdown",
   "id": "245c1f78-aeaf-4d7a-afe0-4348b5785342",
   "metadata": {},
   "source": [
    "joblib.dump(logit, 'logitNumpy.pkl')"
   ]
  },
  {
   "cell_type": "markdown",
   "id": "dbeb8717-b31d-4d59-b99c-b0d219ea77f9",
   "metadata": {},
   "source": [
    "logitL1 = Logit(regularizacija = 'l1')"
   ]
  },
  {
   "cell_type": "markdown",
   "id": "b7398ab6-b99e-40a3-aade-cbd59ba339f6",
   "metadata": {},
   "source": [
    "regul = np.logspace(0,1.2,5)"
   ]
  },
  {
   "cell_type": "markdown",
   "id": "a573511b-19ac-4655-8dbb-ec30fecd5cfe",
   "metadata": {},
   "source": [
    "logitL1.fitReg(xtrain, ytrain, xdev, ydev, listaRegularizacije = regul)"
   ]
  },
  {
   "cell_type": "markdown",
   "id": "34cb6a2a-6a66-4a05-b478-aaca87e8f842",
   "metadata": {},
   "source": [
    "joblib.dump(logitL1, 'logitL1Numpy.pkl')"
   ]
  },
  {
   "cell_type": "markdown",
   "id": "a9df6467-a0ee-445b-9f3c-c4ea59d2ac8d",
   "metadata": {},
   "source": [
    "logitL2 = Logit(regularizacija = 'l2')"
   ]
  },
  {
   "cell_type": "markdown",
   "id": "a7e1b522-1ab7-425b-980a-1ab8b2d38f36",
   "metadata": {},
   "source": [
    "logitL2.fitReg(xtrain, ytrain, xdev, ydev, np.logspace(0,1.2,5))"
   ]
  },
  {
   "cell_type": "markdown",
   "id": "cbccc9e1-a006-490d-ad04-058590cd09e4",
   "metadata": {},
   "source": [
    "joblib.dump(logitL2,'logitL2Numpy.pkl')"
   ]
  },
  {
   "cell_type": "code",
   "execution_count": 15,
   "id": "20585e44-e893-4669-9028-d011064d7e13",
   "metadata": {},
   "outputs": [],
   "source": [
    "logit, logitL1, logitL2 = joblib.load('logitNumpy.pkl'), joblib.load('logitL1Numpy.pkl'), joblib.load('logitL2Numpy.pkl')"
   ]
  },
  {
   "cell_type": "code",
   "execution_count": 16,
   "id": "33a5b4c6-ed3c-465b-b9e8-01b6bd2256a3",
   "metadata": {},
   "outputs": [
    {
     "name": "stdout",
     "output_type": "stream",
     "text": [
      "2100 0.9628\n"
     ]
    }
   ],
   "source": [
    "print(logit.nIter, logit.preciznostDev)"
   ]
  },
  {
   "cell_type": "code",
   "execution_count": 17,
   "id": "ec16ba69-a8d4-44ac-a6c4-d1e1cafeee1e",
   "metadata": {},
   "outputs": [
    {
     "name": "stdout",
     "output_type": "stream",
     "text": [
      "3000 0.9634 l1 15.848931924611133\n"
     ]
    }
   ],
   "source": [
    "print(logitL1.nIter, logitL1.preciznostDev, logitL1.regularizacija, logitL1.reg)"
   ]
  },
  {
   "cell_type": "code",
   "execution_count": 18,
   "id": "8bf648ab-4de6-40f4-a81b-2feaed817425",
   "metadata": {},
   "outputs": [
    {
     "name": "stdout",
     "output_type": "stream",
     "text": [
      "2100 0.9629 l2 3.9810717055349722\n"
     ]
    }
   ],
   "source": [
    "print(logitL2.nIter, logitL2.preciznostDev, logitL2.regularizacija, logitL2.reg)"
   ]
  },
  {
   "cell_type": "code",
   "execution_count": 19,
   "id": "d121b1eb-91c9-4f39-b881-d2891d710e07",
   "metadata": {},
   "outputs": [
    {
     "name": "stdout",
     "output_type": "stream",
     "text": [
      "0.9628 0.9634 0.9629\n"
     ]
    }
   ],
   "source": [
    "print(logit.predict(xdev, ydev)[0],logitL1.predict(xdev, ydev)[0],logitL2.predict(xdev, ydev)[0])"
   ]
  },
  {
   "cell_type": "code",
   "execution_count": 20,
   "id": "c829d489-8d87-4c63-9667-0ca657ca2917",
   "metadata": {},
   "outputs": [
    {
     "name": "stdout",
     "output_type": "stream",
     "text": [
      "0.9626 0.9635 0.9625\n"
     ]
    }
   ],
   "source": [
    "print(logit.predict(xtest, ytest)[0],logitL1.predict(xtest, ytest)[0],logitL2.predict(xtest, ytest)[0])"
   ]
  },
  {
   "cell_type": "code",
   "execution_count": 21,
   "id": "039e3637-1f17-4a57-8436-a78f2e1a4c33",
   "metadata": {},
   "outputs": [
    {
     "data": {
      "text/plain": [
       "(2100, 3000, 2100)"
      ]
     },
     "execution_count": 21,
     "metadata": {},
     "output_type": "execute_result"
    }
   ],
   "source": [
    "logit.nIter, logitL1.nIter, logitL2.nIter"
   ]
  },
  {
   "cell_type": "code",
   "execution_count": 22,
   "id": "583e6f06-9d4d-4291-9a54-8e1bc7525951",
   "metadata": {},
   "outputs": [
    {
     "name": "stdout",
     "output_type": "stream",
     "text": [
      "2.2.3\n"
     ]
    }
   ],
   "source": [
    "print(np.__version__)"
   ]
  },
  {
   "cell_type": "code",
   "execution_count": 23,
   "id": "e3cc7687-29bc-4e20-bea2-b9c99b6dbdc1",
   "metadata": {},
   "outputs": [],
   "source": [
    "from sklearn.linear_model import LogisticRegression\n",
    "from sklearn.metrics import accuracy_score"
   ]
  },
  {
   "cell_type": "code",
   "execution_count": 24,
   "id": "7cf0a138-659a-4a77-b6de-e9aa35d87c0b",
   "metadata": {},
   "outputs": [
    {
     "name": "stdout",
     "output_type": "stream",
     "text": [
      "0.9782 0.97816 0.97754\n",
      "0.96416 0.96508 0.96412\n"
     ]
    }
   ],
   "source": [
    "model = LogisticRegression(penalty = None,max_iter=5000, random_state= 42)\n",
    "model.fit(xtrain, ytrain.reshape(-1,))\n",
    "modelL1 = LogisticRegression (solver=\"liblinear\",penalty = 'l1',max_iter=5000)\n",
    "modelL1.fit(xtrain, ytrain.reshape(-1,))\n",
    "modelL2 = LogisticRegression(penalty = 'l2',max_iter=5000, random_state= 42)\n",
    "modelL2.fit(xtrain, ytrain.reshape(-1,))\n",
    "ypredSklearn = model.predict(xtrain)\n",
    "ypredSklearnL1 = modelL1.predict(xtrain)\n",
    "ypredSklearnL2 = modelL2.predict(xtrain)\n",
    "\n",
    "print(accuracy_score(ypredSklearn, ytrain), accuracy_score(ypredSklearnL1, ytrain), accuracy_score(ypredSklearnL2,ytrain) )\n",
    "print(logit.preciznostTrain,logitL1.preciznostTrain,logitL2.preciznostTrain)\n",
    "\n"
   ]
  },
  {
   "cell_type": "code",
   "execution_count": 25,
   "id": "2269f172-b01b-4ce5-b8c7-639098321e78",
   "metadata": {},
   "outputs": [
    {
     "name": "stdout",
     "output_type": "stream",
     "text": [
      "0.9731 0.9732 0.9732\n",
      "0.9628 0.9634 0.9629\n"
     ]
    }
   ],
   "source": [
    "ypredSklearnDev = model.predict(xdev)\n",
    "ypredSklearnDevL1 = modelL1.predict(xdev)\n",
    "ypredSklearnDevL2 = modelL2.predict(xdev)\n",
    "print(accuracy_score(ypredSklearnDev, ydev), accuracy_score(ypredSklearnDevL1, ydev), accuracy_score(ypredSklearnDevL2, ydev))\n",
    "print(logit.preciznostDev,logitL1.preciznostDev,logitL2.preciznostDev)"
   ]
  },
  {
   "cell_type": "code",
   "execution_count": 27,
   "id": "95a90783-4f80-4f35-bda9-b6da38386375",
   "metadata": {},
   "outputs": [
    {
     "name": "stdout",
     "output_type": "stream",
     "text": [
      "0.9747 0.9752 0.9735\n",
      "0.9626 0.9635 0.9625\n"
     ]
    }
   ],
   "source": [
    "ypredSklearnTest = model.predict(xtest)\n",
    "ypredSklearnTestL1 = modelL1.predict(xtest)\n",
    "ypredSklearnTestL2 = modelL2.predict(xtest)\n",
    "print(accuracy_score(ypredSklearnTest, ytest),accuracy_score(ypredSklearnTestL1, ytest),accuracy_score(ypredSklearnTestL2, ytest))\n",
    "print(logit.predict(xtest,ytest)[0],logitL1.predict(xtest, ytest)[0], logitL2.predict(xtest, ytest)[0])"
   ]
  }
 ],
 "metadata": {
  "kernelspec": {
   "display_name": "Python 3.11 (venv)",
   "language": "python",
   "name": "venv"
  },
  "language_info": {
   "codemirror_mode": {
    "name": "ipython",
    "version": 3
   },
   "file_extension": ".py",
   "mimetype": "text/x-python",
   "name": "python",
   "nbconvert_exporter": "python",
   "pygments_lexer": "ipython3",
   "version": "3.11.8"
  }
 },
 "nbformat": 4,
 "nbformat_minor": 5
}
